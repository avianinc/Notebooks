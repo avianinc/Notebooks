import time
import subprocess
from watchdog.observers import Observer
from watchdog.events import FileSystemEventHandler
from apscheduler.schedulers.background import BackgroundScheduler

class ChangeHandler(FileSystemEventHandler):
    """Watch for changes in the vendorA.json file."""
    def __init__(self):
        self.file_changed = False

    def on_modified(self, event):
        if event.src_path == "vendorA.json":
            print(f"File {event.src_path} has been modified")
            self.file_changed = True

def run_notebook():
    """Run the notebook that pulls vendor API data."""
    subprocess.run(["jupyter", "nbconvert", "--to", "notebook", "--execute", "--inplace", "pull_vendor_api.ipynb"])
    print("Notebook executed to pull API data.")

def check_and_run_pipeline():
    """Check if the file was changed and run the Elyra pipeline."""
    if event_handler.file_changed:
        print("Change detected in JSON file, running the Elyra pipeline...")
        subprocess.run(["jupyter", "lab", "elyra-pipeline", "run", "update_box.pipeline"])
        event_handler.file_changed = False  # Reset the flag after running the pipeline
    else:
        print("No change detected in JSON file.")

if __name__ == "__main__":
    # Setup file monitoring
    path = ""
    event_handler = ChangeHandler()
    observer = Observer()
    observer.schedule(event_handler, path, recursive=False)
    observer.start()

    # Setup periodic tasks
    scheduler = BackgroundScheduler()
    scheduler.add_job(run_notebook, 'interval', minutes=30)  # Adjust interval as needed
    scheduler.add_job(check_and_run_pipeline, 'interval', minutes=31)  # Slightly offset from notebook run
    scheduler.start()

    try:
        # Keep the script running
        while True:
            time.sleep(1)
    except (KeyboardInterrupt, SystemExit):
        observer.stop()
        scheduler.shutdown()
    observer.join()
