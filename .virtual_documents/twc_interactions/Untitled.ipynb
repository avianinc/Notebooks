# Start a neo4j server 
# https://neo4j.com/docs/operations-manual/current/docker/introduction/
#!docker run --restart always --publish=7474:7474 --publish=7687:7687 --env NEO4J_AUTH=neo4j/admin1234 neo4j:5.19.0


# Install dependancies
#%pip install graphdatascience openai neo4j wikipedia langchain matplotlib networkx langchain_experimental json-repair


import os
import json
import networkx as nx
import matplotlib.pyplot as plt
from langchain import OpenAI
from langchain.docstore.document import Document
from langchain_experimental.graph_transformers.llm import LLMGraphTransformer
from langchain.graphs.neo4j_graph import Neo4jGraph
from neo4j import GraphDatabase


# Setting environment variables
os.environ["NEO4J_URI"] = "bolt://localhost:7687" #http://localhost:7474/browser/
os.environ["NEO4J_USERNAME"] = "neo4j"
os.environ["NEO4J_PASSWORD"] = "admin1234"

# Initialize OpenAI client
# Retrieve the OpenAI API key from environment variables
openai_api_key = os.getenv("OPENAI_API_KEY")


# Initialize OpenAI LLM and Graph Transformer
llm = OpenAI(temperature=0, model_name="gpt-4-0613")
llm_transformer = LLMGraphTransformer(llm=llm)


# Override the process_response method to handle plain strings
def custom_process_response(self, document):
    nodes_set = set()
    relationships = []

    # Use the LLM model to generate a graph schema
    raw_schema = self.chain.invoke({"input": document.page_content})
    parsed_json = json.loads(raw_schema)

    # Extract nodes and relationships
    for rel in parsed_json:
        head = rel.get("head", "")
        head_type = rel.get("head_type", "")
        tail = rel.get("tail", "")
        tail_type = rel.get("tail_type", "")
        relationship = rel.get("relationship", "")

        nodes_set.add((head, head_type))
        nodes_set.add((tail, tail_type))
        relationships.append({
            "start": head,
            "start_type": head_type,
            "end": tail,
            "end_type": tail_type,
            "type": relationship
        })

    # Convert to GraphDocument
    nodes = [{"name": node[0], "type": node[1]} for node in nodes_set]
    graph_document = {
        "nodes": nodes,
        "relationships": relationships
    }

    return graph_document


# Override the process_response method in the LLMGraphTransformer instance
llm_transformer.process_response = custom_process_response.__get__(llm_transformer)


# Sample documents to convert to graph documents (UAVs and weapons relationships)
documents = [
    Document(page_content="The MQ-9 Reaper UAV can carry up to 4 Hellfire missiles."),
    Document(page_content="The MQ-9 Reaper UAV can also carry up to 2 GBU-12 Paveway bombs."),
    Document(page_content="The RQ-4 Global Hawk UAV is used primarily for surveillance and carries no weapons."),
    Document(page_content="The MQ-1 Predator UAV can carry up to 2 Hellfire missiles."),
    Document(page_content="The X-47B UAV is a stealth aircraft and can carry up to 2 JDAM bombs."),
    Document(page_content="The MQ-20 Avenger UAV can carry up to 6 Hellfire missiles and 2 JDAM bombs."),
]


# Extract graph documents from the text
graph_documents = llm_transformer.convert_to_graph_documents(documents)


# Connect to Neo4j database
neo4j_graph = Neo4jGraph(
    url=os.environ["NEO4J_URI"],
    username=os.environ["NEO4J_USERNAME"],
    password=os.environ["NEO4J_PASSWORD"]
)

# ValueError: Could not use APOC procedures. Please ensure the APOC plugin is installed in Neo4j and that 'apoc.meta.data()' is allowed in Neo4j configuration 
# https://stackoverflow.com/questions/42740355/how-to-install-apoc-for-neo4j


# Add graph documents to Neo4j
neo4j_graph.add_graph_documents(
    graph_documents, 
    baseEntityLabel=True, 
    include_source=True
)


# Query the graph data for visualization
driver = GraphDatabase.driver(
    os.environ["NEO4J_URI"],
    auth=(os.environ["NEO4J_USERNAME"], os.environ["NEO4J_PASSWORD"])
)


def query_graph(tx):
    query = """
    MATCH (a)-[r]->(b)
    RETURN a.name AS from, b.name AS to, type(r) AS relationship
    """
    result = tx.run(query)
    return list(result)


with driver.session() as session:
    graph_data = session.read_transaction(query_graph)


# Create a NetworkX graph
G = nx.DiGraph()
for record in graph_data:
    G.add_edge(record["from"], record["to"], relationship=record["relationship"])


# Plot the graph using NetworkX and Matplotlib
pos = nx.spring_layout(G)
plt.figure(figsize=(10, 7))
nx.draw(G, pos, with_labels=True, node_color="lightblue", font_size=12, font_weight="bold", edge_color="gray")
edge_labels = nx.get_edge_attributes(G, "relationship")
nx.draw_networkx_edge_labels(G, pos, edge_labels=edge_labels)
plt.title("UAVs and Weapons Graph Visualization")
plt.show()


# Close Neo4j connection
driver.close()
