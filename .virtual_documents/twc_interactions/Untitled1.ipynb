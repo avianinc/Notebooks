cd "C:\Users\JohnDeHart\Documents\GitHub\Notebooks"
git add *
git commit -m "from a workflow"
git push



