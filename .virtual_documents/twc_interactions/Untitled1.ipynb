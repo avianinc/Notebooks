get_ipython().getoutput("elyra-pipeline run C:\Users\JohnDeHart\Documents\GitHub\Notebooks\twc_interactions\update_box.pipeline")



