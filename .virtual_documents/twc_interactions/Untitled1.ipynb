get_ipython().getoutput("chcp 65001")
get_ipython().getoutput("elyra-pipeline run C:\Users\JohnDeHart\Documents\GitHub\Notebooks\twc_interactions\update_box.pipeline")



