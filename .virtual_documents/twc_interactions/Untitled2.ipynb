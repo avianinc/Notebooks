import subprocess

# Define the command and parameters
command = [
    'elyra-pipeline', 'run', 
    'c:\\Users\\JohnDeHart\\Documents\\GitHub\\Notebooks\\twc_interactions\\update_box.pipeline'
]

# Try to run the subprocess command, catching exceptions
try:
    # Run the subprocess with UTF-8 encoding
    result = subprocess.run(command, capture_output=True, text=True, encoding='utf-8', check=True)
    # Print the standard output
    print("Output:", result.stdout)
except subprocess.CalledProcessError as e:
    # Print the standard error output that caused the failure
    print("Error output from the command:", e.stderr)



