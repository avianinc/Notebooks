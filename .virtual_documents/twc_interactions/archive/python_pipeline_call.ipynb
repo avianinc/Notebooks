import subprocess
import os

# Set environment variables for the subprocess
env = os.environ.copy()
env['PYTHONIOENCODING'] = 'utf-8'

command = [
    'elyra-pipeline', 'run',
    'c:\\Users\\JohnDeHart\\Documents\\GitHub\\Notebooks\\twc_interactions\\update_box.pipeline'
]

# Run the subprocess with the modified environment
try:
    result = subprocess.run(command, capture_output=True, text=True, encoding='utf-8', env=env, check=True)
    print("Output:", result.stdout)
except subprocess.CalledProcessError as e:
    print("Error output from the command:", e.stderr)



result = subprocess.run(command, text=True, encoding='utf-8', env=env)



get_ipython().getoutput("elyra-pipeline run c:\\Users\\JohnDeHart\\Documents\\GitHub\\Notebooks\\twc_interactions\\update_box.pipeline")



