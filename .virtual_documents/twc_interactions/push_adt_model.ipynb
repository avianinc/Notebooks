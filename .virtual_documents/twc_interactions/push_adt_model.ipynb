# A little set up
import json
import requests # performs the curl function in python
import ipywidgets as widgets
from ipywidgets import Dropdown
from IPython.display import display
import pandas as pd

import warnings
warnings.filterwarnings('ignore')

import time
from anytree import Node, RenderTree


# Load the model dataframe
# Reading from a JSON array
df_input = pd.read_json('vendorA.json')


# Lets get a list of workspaces from the teamworkcloud server
# API --> https://18.205.77.131:8111/osmc/swagger/?url=https%3A%2F%2F18.205.77.131%3A8111%2Fosmc%2Fmanual
#serverIp = '18.205.77.131' # Avian server
serverIp = '10.107.1.92' # ADT MA server
serverPort = '8111'
call = '/osmc/workspaces?includeBody=True'
# authId = "amRlaGFydDpqa2QyMjE0MDA=" # avian id
authId = "amRlaGFydDpSemhlZ3hoQ1RoWmY=" # ADT MA ID
url = f'https://{serverIp}:{serverPort}{call}'
headers={"accept":"application/ld+json","authorization":f"Basic {authId}"}
resp_ws = requests.get(url,headers=headers, verify=False) # turn of verification here since our server is not super secure
workspaces = resp_ws.json() # Convert the response content to a json format
#print(json.dumps(workspaces, indent=4))


# lets create a combobox to list the avalible workspaces
# Build arrays of the items
workspaceIds = {}
workspaceNames = {}

# Lets build a list of workspaces for selection
for i in range(len(workspaces["ldp:contains"])):
    workspaceIds[i] = workspaces["ldp:contains"][i][0]['@id']
    workspaceNames[i] = workspaces["ldp:contains"][i][1]["dcterms:title"]

# Fuction to monitor change of dropdown
def dropdown_eventhandler(change):
    print(change.new) # Write the selected item to the log

# Now create a dropdown list of the avalible workspaces
ws = widgets.Dropdown(options = workspaceNames.values(), description = 'Workspaces:')
ws.observe(dropdown_eventhandler, names='value')

# Displya the combobox
display(ws)


# Lets match up the id from the selected workspace (poor implementation)
wsIndex = list(filter(lambda x: workspaceNames[x] == ws.value, range(len(workspaceNames))))
workspaceId = workspaceIds[wsIndex[0]]
workspaceId = 'a2bf1c2f-03fb-4cbe-bb3d-4edce160916f' # hard set to Test_Projects


# Now lets list the models that are withing the selected workspace and place them in a dropbox
# Ok... lets continue and list all of the the projects by project UID in this workspace
call = f'/osmc/workspaces/{workspaceId}/resources'
url = f'https://{serverIp}:{serverPort}{call}'
resp_projects = requests.get(url,headers=headers, verify=False) # turn of verification here since our server is not super secure
projectsList = resp_projects.json()
projectsUidList = projectsList[1]['kerml:resources'] # Let just extract the UIDs for each project
projectsUidList


# Lets loop throug the projects and create a dictionary of the resource (or model) details
projectsData = {}
for i in range(len(projectsUidList)):
    resourceId = projectsUidList[i]['@id'] # select the values for each id in the projectList
    call = f'/osmc/workspaces/{workspaceId}/resources/{resourceId}'
    url = f'https://{serverIp}:{serverPort}{call}'
    resp_projects = requests.get(url,headers=headers, verify=False) # turn of verification here since our server is not super secure
    #projectsData = json.dumps(resp_projects.json(), indent=4)
    projectsData[i] = resp_projects.json()
#print(json.dumps(projectsData, indent=4))


# lets create a combobox to list the avalible projects (models) in this workspace
# Build arrays of the items
projectIds = {}
projectNames = {}

# Lets build a list of workspaces for selection
for i in range(len(projectsData)):
    projectIds[i] = projectsData[i]['@base'].split("/")[7]
    projectNames[i] = projectsData[i]['metadata']['name'].split(".")[0]

# Now create a dropdown list of the avalible projects
prj = widgets.Dropdown(options = projectNames.values(), description = 'Projects:')
prj.observe(dropdown_eventhandler, names='value')

# Displya the combobox
display(prj)


# Lets match up the id from the selected workspace (poor implementation)
prjIndex = list(filter(lambda x: projectNames[x] == prj.value, range(len(projectNames))))
projectId = projectIds[prjIndex[0]]
projectId = 'b5b69f4d-e1d0-4ddc-b514-d54b05d0a3b4' # hard set ADT_Model


# Ok so here is the wierd part... there is not direct way to extract the elements of a project (or model)
# So we have to perform a 'diff' between the elements of the initial commit and the latest revision. 

# So lets get the latest revision number (or max revision number)
# curl -X GET "https://18.205.77.131:8111/osmc/workspaces/bb95d8f4-fae4-490c-b764-4f83e3bba4f5/resources/272e28f2-45b7-45cb-a016-800ba747e716/revisions" -H "accept: application/json"
call = f'/osmc/workspaces/{workspaceId}/resources/{projectId}/revisions'
url = f'https://{serverIp}:{serverPort}{call}'
resp_revList = requests.get(url,headers=headers, verify=False) # turn of verification here since our server is not super secure
revisionList = resp_revList.json()
latestRevision = max(revisionList)
latestRevision


# Then to get the diff use the following to compair revision 1 to revision max... this is a little wierd... but it works
# I tought there would be a 'get' for all elements of a resource??? No... we must ask for the differential between the initial resource and its current version???
# curl -X GET "https://18.205.77.131:8111/osmc/workspaces/bb95d8f4-fae4-490c-b764-4f83e3bba4f5/resources/272e28f2-45b7-45cb-a016-800ba747e716/revisiondiff?source=1&target=44" -H "accept: application/json"
sourceRevision = 1
targetRevision = latestRevision
call = f'/osmc/workspaces/{workspaceId}/resources/{projectId}/revisiondiff?source={sourceRevision}&target={targetRevision}'
url = f'https://{serverIp}:{serverPort}{call}'
resp_elementList = requests.get(url,headers=headers, verify=False) # turn of verification here since our server is not super secure
elementList_json = resp_elementList.json()['added'] # just get the added (availibe items are removed, added, changed, and empty)
elementList = json.dumps(elementList_json) # push to flat string
elementList = elementList.replace('"','').replace("[","").replace("]","").replace(" ","") # remove the sting junk
#elementList_json
#elementList


# OK great.. now we have a list of elements from the selected model
# Lets no loop through these elements and build a json file of each elements specific information - This time we post :)
# curl -X POST "https://18.205.77.131:8111/osmc/resources/272e28f2-45b7-45cb-a016-800ba747e716/elements" -H "accept: application/ld+json" -H "Content-Type: text/plain" -d "aa4bdacf-c246-4865-bf50-cc9be2a16f16, 8a2153fc-ba11-4f9c-a2c0-2cb5114f2356 "
call = f'/osmc/resources/{projectId}/elements'
url = f'https://{serverIp}:{serverPort}{call}'
headers={"accept":"application/ld+json", "Content-Type":"text/plain", "authorization":f"Basic {authId}"}
resp_elementListData = requests.post(url,headers=headers, verify=False, data = elementList) # turn of verification here since our server is not super secure
elementListData = resp_elementListData.json() # just get the added (availibe items are removed, added, changed, and empty)
#elementListData


# Lets loop throug the selected projects elemetns and find the index of all literal real values
literalRealIndex = {}
for i in range(len(elementList_json)): # Where i is the uuid of the element in this case
    if elementListData[elementList_json[i]]['data'][0]['@type'] == ['ldp:DirectContainer', 'uml:LiteralReal']:
        literalRealIndex[i] = i # Add any key to the index that is a literal real
literalRealIndex
#elementList_json[4]
#elementListData['554e62c4-5bd6-46d5-97cc-900c35c46913']


# So this is getting invloved and about here is where recursion starts to rear its ugly head
# Lets just get through this for now and we can build a better mouse trap the next round

valueCells = {}
values = {}
elementIds = {}

#print("Here we can modkify the vendor model values if we like.")

# We can loop through the matched elements and the build widgets to edit them
for keys in literalRealIndex:
    try:
        owenersId = elementListData[elementList_json[keys]]['data'][1]['kerml:owner']['@id']
        ownersName = elementListData[owenersId]['data'][1]['kerml:name']
        currentValue = elementListData[elementList_json[keys]]['data'][1]["kerml:esiData"]["value"]
        elementIds[keys] = elementList_json[keys]
        values[keys] = (ownersName, currentValue)
        valueCells[keys] = widgets.Text(description=ownersName, value=currentValue); #display(valueCells[keys])
        #print(elementListData[elementList_json[keys]]['data'][1]['kerml:owner']['@id'], elementListData[elementList_json[keys]]['data'][1]["kerml:esiData"]["value"])    
    except:
        pass
valueCells


# This functuon is executed after pushing the button
def updateSystemModelVals():
    for cells in valueCells:
        # Create the payload
        dataValue = {"kerml:esiData":{"value":"0.0"}} # Build the data payload
        dataValue["kerml:esiData"]["value"] = valueCells[cells].value # Update the json string
        
        # Now build the api call
        call = f'/osmc/resources/{projectId}/elements/{elementIds[cells]}'
        url = f'https://{serverIp}:{serverPort}{call}'
        headers={"accept":"application/ld+json", "authorization":f"Basic {authId}", "Content-Type":"application/ld+json"}
        
        # Have to add a new header of content type
        resp_value = requests.patch(url, headers = headers, verify = False, json = dataValue) # turn of verification here since our server is not super secure
        print(url)
        resp_value.status_code
        # print(dataValue)
        print(resp_value.content)
        
# Update the values in valueCells based on df_input
for key, widget in valueCells.items():
    # Extract the part of the description following 'adt_' to match with df_input
    description_suffix = widget.description[4:]  # Remove the 'adt_' prefix
    # Find the row in df_input where the description matches description_suffix
    match = df_input[df_input['Description'] == description_suffix]
    if not match.empty:
        # Update the widget's value with the corresponding value from df_input
        new_value = str(float(match['Value'].iloc[0]))  # Convert to float then to string
        widget.value = new_value

# Display the updated widgets
for widget in valueCells.values():
    display(widget)
    
# Create a button to push for fun :)
btn = widgets.Button(description = "Update Model Values")
display(btn)
        
# The button callback
#btn.on_click(updateSystemModelVals)
updateSystemModelVals()
