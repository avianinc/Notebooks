import pandas as pd
import matplotlib.pyplot as plt


# File paths
source_file = 'C:/temp/modelOutput.csv'
local_file = 'data.csv'


# Read the source CSV file (assuming it always contains one line of new data)
new_data = pd.read_csv(source_file)


# Append the new data to the local CSV file, creating it if it does not exist
new_data.to_csv(local_file, mode='a', index=False, header=not pd.io.common.file_exists(local_file))


# Read the updated local CSV file
data = pd.read_csv(local_file)


# Plotting
plt.figure(figsize=(10, 5))
plt.plot(data['volMod.timestamp'], data['volume'], label='Volume')
plt.xlabel('Timestamp (seconds)')
plt.ylabel('Volume')
plt.title('VendorA Volume vs. Timestamp')
plt.legend()
plt.grid(True)
plt.show()



