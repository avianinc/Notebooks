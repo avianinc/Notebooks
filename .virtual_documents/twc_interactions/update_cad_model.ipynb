import cadquery as cq
import pandas as pd
import json


# Load the model dataframe
# Reading from a JSON array
df = pd.read_json('vendorA.json')


# Extract values for width, height, and length
width = df.loc[df['Description'] == 'width', 'Value'].values[0]
height = df.loc[df['Description'] == 'height', 'Value'].values[0]
length = df.loc[df['Description'] == 'length', 'Value'].values[0]

# Calculate the volume
volume = width * height * length

print("The volume is:", volume)


# Create a dictionary to be written into JSON
volume_data = {'volume': volume}

# Write the result to a JSON file
with open('volume_data.json', 'w') as json_file:
    json.dump(volume_data, json_file, default=str)

print("The volume has been written to 'volume_data.json'")


# Create a block using the dimensions
block = cq.Workplane("XY").box(length, width, height)

# Show the block
block


# Define the file path and name for the STL
stl_file_path = 'models/cad/VendorA.stl'

# Export the block as an STL file
block.val().exportStl(stl_file_path)

print(f"The block has been exported as an STL file to {stl_file_path}")
