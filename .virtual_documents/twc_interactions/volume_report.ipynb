import pandas as pd
import matplotlib.pyplot as plt


local_file = 'data.csv'


# Read the updated local CSV file
data = pd.read_csv(local_file)


# Plotting
plt.figure(figsize=(10, 5))
plt.plot(data['volMod.timestamp'], data['volume'], label='Volume')
plt.xlabel('Timestamp (seconds)')
plt.ylabel('Volume')
plt.title('VendorA Volume vs. Timestamp')
plt.legend()
plt.grid(True)
plt.show()



