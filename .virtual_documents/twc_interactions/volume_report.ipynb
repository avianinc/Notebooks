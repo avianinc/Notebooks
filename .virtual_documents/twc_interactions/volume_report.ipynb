import pandas as pd
import matplotlib.pyplot as plt
# This line makes matplotlib plots appear in the notebook
get_ipython().run_line_magic("matplotlib", " inline")


local_file = 'data.csv'


# Read the updated local CSV file
data = pd.read_csv(local_file)


# Plotting
plt.figure(figsize=(10, 5))
plt.plot(data['volMod.timestamp'], data['volume'], label='Volume')
plt.xlabel('Timestamp (seconds)')
plt.ylabel('Volume')
plt.title('VendorA Volume vs. Timestamp')
plt.legend()
plt.grid(True)
plt.show()


plt.figure(figsize=(10, 6))

# Plot each dimension
plt.plot(data['volMod.timestamp'], data['volMod.adt_length'], label='Length', marker='o')
plt.plot(data['volMod.timestamp'], data['volMod.adt_width'], label='Width', marker='x')
plt.plot(data['volMod.timestamp'], data['volMod.adt_height'], label='Height', marker='^')

# Adding labels and title
plt.xlabel('Timestamp (s)')
plt.ylabel('Dimensions')
plt.title('VendorA Length, Width, and Height Over Time')
plt.legend()

# Show a grid
plt.grid(True)

# Display the plot
plt.show()


data
