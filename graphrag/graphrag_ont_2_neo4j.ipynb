{
 "cells": [
  {
   "cell_type": "code",
   "execution_count": null,
   "id": "f6701f6d-ff49-4b3a-a76a-3e392daad01d",
   "metadata": {},
   "outputs": [],
   "source": [
    "# See --> https://blog.stackademic.com/using-neo4j-and-langchain-for-knowledge-graph-creation-a-detailed-guide-84e7a74495eb"
   ]
  },
  {
   "cell_type": "code",
   "execution_count": 22,
   "id": "e0b8a410-07a7-48c7-973f-6eea7e559e00",
   "metadata": {
    "tags": []
   },
   "outputs": [],
   "source": [
    "from dotenv import load_dotenv\n",
    "import os\n",
    "\n",
    "# Common data processing\n",
    "import textwrap\n",
    "\n",
    "# Langchain\n",
    "from langchain_community.graphs import Neo4jGraph\n",
    "from langchain_community.vectorstores import Neo4jVector\n",
    "from langchain.text_splitter import RecursiveCharacterTextSplitter\n",
    "from langchain.chains import RetrievalQAWithSourcesChain\n",
    "from langchain.llms import OpenAI\n",
    "from langchain.embeddings import OpenAIEmbeddings\n",
    "from langchain.document_loaders import PyPDFLoader"
   ]
  },
  {
   "cell_type": "code",
   "execution_count": 23,
   "id": "ef069075-5afa-4d28-af22-c47749ee649c",
   "metadata": {
    "tags": []
   },
   "outputs": [],
   "source": [
    "# Load PDF file\n",
    "loader = PyPDFLoader(\"data/MIL-STD-1289D.pdf\")\n",
    "pages = loader.load_and_split()"
   ]
  },
  {
   "cell_type": "code",
   "execution_count": 26,
   "id": "e661ec45-3b99-4d78-b862-dd282e3e269f",
   "metadata": {
    "tags": []
   },
   "outputs": [],
   "source": [
    "# Split pages into chunks\n",
    "text_splitter = RecursiveCharacterTextSplitter(chunk_size=1000, chunk_overlap=0)\n",
    "chunks = text_splitter.split_documents(pages)\n",
    "# chunks"
   ]
  },
  {
   "cell_type": "code",
   "execution_count": 27,
   "id": "76ac89a6-132f-49b0-9760-e8eff7f8c991",
   "metadata": {
    "tags": []
   },
   "outputs": [],
   "source": [
    "# Warning control\n",
    "import warnings\n",
    "warnings.filterwarnings(\"ignore\")\n",
    "\n",
    "# Set api key\n",
    "os.environ[\"OPENAI_API_KEY\"] = os.getenv('OPENAI_API_KEY')\n",
    "\n",
    "# Load from environment from the credentials file\n",
    "NEO4J_URI = \"bolt://10.16.0.100:7687\"\n",
    "NEO4J_USERNAME = \"neo4j\"\n",
    "NEO4J_PASSWORD = \"testpassword\"\n",
    "NEO4J_DATABASE = 'neo4j'\n",
    "\n",
    "# Global constants\n",
    "VECTOR_INDEX_NAME = 'pdf_chunks'\n",
    "VECTOR_NODE_LABEL = 'Chunk'\n",
    "VECTOR_SOURCE_PROPERTY = 'text'\n",
    "VECTOR_EMBEDDING_PROPERTY = 'textEmbedding'\n",
    "\n",
    "kg = Neo4jGraph(\n",
    "    url=NEO4J_URI, username=NEO4J_USERNAME, password=NEO4J_PASSWORD, database=NEO4J_DATABASE\n",
    ")"
   ]
  },
  {
   "cell_type": "code",
   "execution_count": 28,
   "id": "5038a388-7edf-43bd-9aee-ff328f370572",
   "metadata": {
    "tags": []
   },
   "outputs": [
    {
     "name": "stderr",
     "output_type": "stream",
     "text": [
      "INFO:httpx:HTTP Request: POST https://api.openai.com/v1/embeddings \"HTTP/1.1 200 OK\"\n",
      "INFO:httpx:HTTP Request: POST https://api.openai.com/v1/embeddings \"HTTP/1.1 200 OK\"\n"
     ]
    }
   ],
   "source": [
    "# Create Neo4j vector store\n",
    "neo4j_vector_store = Neo4jVector.from_documents(\n",
    "    embedding=OpenAIEmbeddings(),\n",
    "    documents=chunks,\n",
    "    url=NEO4J_URI,\n",
    "    username=NEO4J_USERNAME,\n",
    "    password=NEO4J_PASSWORD,\n",
    "    index_name=VECTOR_INDEX_NAME,\n",
    "    text_node_property=VECTOR_SOURCE_PROPERTY,\n",
    "    embedding_node_property=VECTOR_EMBEDDING_PROPERTY,\n",
    ")"
   ]
  },
  {
   "cell_type": "code",
   "execution_count": 29,
   "id": "c9aca373-c27b-4ef8-8771-9598f5575def",
   "metadata": {
    "tags": []
   },
   "outputs": [
    {
     "data": {
      "text/plain": [
       "[{'p': {'name': 'data/MIL-STD-1289D.pdf'}}]"
      ]
     },
     "execution_count": 29,
     "metadata": {},
     "output_type": "execute_result"
    }
   ],
   "source": [
    "# Construct Relationships: We establish relationships between the chunks within the graph, \n",
    "# indicating their sequential order and their association with the parent PDF document.\n",
    "\n",
    "# Create a PDF node\n",
    "cypher = \"\"\"\n",
    "MERGE (p:PDF {name: $pdfName})\n",
    "RETURN p\n",
    "\"\"\"\n",
    "kg.query(cypher, params={'pdfName': \"data/MIL-STD-1289D.pdf\"})"
   ]
  },
  {
   "cell_type": "code",
   "execution_count": 30,
   "id": "1f49c853-424d-4fba-bdaa-089869c5d638",
   "metadata": {
    "tags": []
   },
   "outputs": [
    {
     "data": {
      "text/plain": [
       "[{'count(newRelationship)': 84}]"
      ]
     },
     "execution_count": 30,
     "metadata": {},
     "output_type": "execute_result"
    }
   ],
   "source": [
    "# Connect chunks to their parent PDF with a PART_OF relationship\n",
    "cypher = \"\"\"\n",
    "MATCH (c:Chunk), (p:PDF)\n",
    "WHERE p.name = $pdfName\n",
    "MERGE (c)-[newRelationship:PART_OF]->(p)\n",
    "RETURN count(newRelationship)\n",
    "\"\"\"\n",
    "kg.query(cypher, params={'pdfName': \"data/MIL-STD-1289D.pdf\"})"
   ]
  },
  {
   "cell_type": "code",
   "execution_count": 31,
   "id": "5653e3ed-da61-4e66-91e3-92fa805dc623",
   "metadata": {
    "tags": []
   },
   "outputs": [
    {
     "data": {
      "text/plain": [
       "[{'count(r)': 0}]"
      ]
     },
     "execution_count": 31,
     "metadata": {},
     "output_type": "execute_result"
    }
   ],
   "source": [
    "# Create a NEXT relationship between subsequent chunks\n",
    "cypher = \"\"\"\n",
    "MATCH (c1:Chunk), (c2:Chunk)\n",
    "WHERE c1.chunkSeqId = c2.chunkSeqId - 1\n",
    "MERGE (c1)-[r:NEXT]->(c2)\n",
    "RETURN count(r)\n",
    "\"\"\"\n",
    "kg.query(cypher)"
   ]
  },
  {
   "cell_type": "code",
   "execution_count": 32,
   "id": "3a62509a-b360-4486-9ad3-8780691221dd",
   "metadata": {
    "tags": []
   },
   "outputs": [],
   "source": [
    "# Create a retriever from the vector store\n",
    "retriever = neo4j_vector_store.as_retriever()"
   ]
  },
  {
   "cell_type": "code",
   "execution_count": 33,
   "id": "264661b2-f3c3-43a3-b9e6-909f87f27877",
   "metadata": {
    "tags": []
   },
   "outputs": [],
   "source": [
    "# Create a chatbot Question & Answer chain from the retriever\n",
    "chain = RetrievalQAWithSourcesChain.from_chain_type(\n",
    "    OpenAI(temperature=0), \n",
    "    chain_type=\"stuff\",\n",
    "    retriever=retriever\n",
    ")"
   ]
  },
  {
   "cell_type": "code",
   "execution_count": 34,
   "id": "cd66d971-466c-4dda-9421-9916bf143f55",
   "metadata": {
    "tags": []
   },
   "outputs": [
    {
     "name": "stderr",
     "output_type": "stream",
     "text": [
      "INFO:httpx:HTTP Request: POST https://api.openai.com/v1/embeddings \"HTTP/1.1 200 OK\"\n",
      "INFO:httpx:HTTP Request: POST https://api.openai.com/v1/completions \"HTTP/1.1 200 OK\"\n"
     ]
    },
    {
     "name": "stdout",
     "output_type": "stream",
     "text": [
      " The main topic of this PDF document is MIL-STD-1289D, which is a\n",
      "standard for support equipment for aeronautical and airborne stores.\n"
     ]
    }
   ],
   "source": [
    "# Ask a question\n",
    "question = \"What is the main topic of this PDF document?\"\n",
    "answer = chain(\n",
    "    {\"question\": question},\n",
    "    return_only_outputs=True,\n",
    ")\n",
    "print(textwrap.fill(answer[\"answer\"]))"
   ]
  },
  {
   "cell_type": "code",
   "execution_count": 35,
   "id": "7be030e0-8a8a-4364-a9a4-f2faf0567b4b",
   "metadata": {
    "tags": []
   },
   "outputs": [
    {
     "data": {
      "text/plain": [
       "[{'nodeCount': 85}]"
      ]
     },
     "execution_count": 35,
     "metadata": {},
     "output_type": "execute_result"
    }
   ],
   "source": [
    "# Returns the node count\n",
    "kg.query(\"\"\"\n",
    "         MATCH (n)\n",
    "         RETURN count(n) as nodeCount\n",
    "         \"\"\")"
   ]
  },
  {
   "cell_type": "code",
   "execution_count": 36,
   "id": "b709fa29-bf62-4d94-807e-ee926c2d98d0",
   "metadata": {
    "tags": []
   },
   "outputs": [
    {
     "name": "stdout",
     "output_type": "stream",
     "text": [
      "Node properties:\n",
      "Chunk {source: STRING, text: STRING, textEmbedding: LIST, page: INTEGER, id: STRING, embedding: LIST}\n",
      "PDF {name: STRING}\n",
      "Relationship properties:\n",
      "\n",
      "The relationships:\n",
      "(:Chunk)-[:PART_OF]->(:PDF)\n"
     ]
    }
   ],
   "source": [
    "kg.refresh_schema()\n",
    "print(kg.schema)"
   ]
  },
  {
   "cell_type": "code",
   "execution_count": 37,
   "id": "fa8c0b06-c90c-40f7-9bdf-dd9a9519aefd",
   "metadata": {
    "tags": []
   },
   "outputs": [
    {
     "data": {
      "text/plain": [
       "[{'id': 4,\n",
       "  'name': 'constraint_1dc138a',\n",
       "  'state': 'ONLINE',\n",
       "  'populationPercent': 100.0,\n",
       "  'type': 'RANGE',\n",
       "  'entityType': 'NODE',\n",
       "  'labelsOrTypes': ['Chunk'],\n",
       "  'properties': ['id'],\n",
       "  'indexProvider': 'range-1.0',\n",
       "  'owningConstraint': 'constraint_1dc138a',\n",
       "  'lastRead': neo4j.time.DateTime(2024, 6, 12, 17, 32, 36, 226000000, tzinfo=<UTC>),\n",
       "  'readCount': 287},\n",
       " {'id': 1,\n",
       "  'name': 'index_343aff4e',\n",
       "  'state': 'ONLINE',\n",
       "  'populationPercent': 100.0,\n",
       "  'type': 'LOOKUP',\n",
       "  'entityType': 'NODE',\n",
       "  'labelsOrTypes': None,\n",
       "  'properties': None,\n",
       "  'indexProvider': 'token-lookup-1.0',\n",
       "  'owningConstraint': None,\n",
       "  'lastRead': neo4j.time.DateTime(2024, 6, 12, 17, 35, 49, 639000000, tzinfo=<UTC>),\n",
       "  'readCount': 592},\n",
       " {'id': 2,\n",
       "  'name': 'index_f7700477',\n",
       "  'state': 'ONLINE',\n",
       "  'populationPercent': 100.0,\n",
       "  'type': 'LOOKUP',\n",
       "  'entityType': 'RELATIONSHIP',\n",
       "  'labelsOrTypes': None,\n",
       "  'properties': None,\n",
       "  'indexProvider': 'token-lookup-1.0',\n",
       "  'owningConstraint': None,\n",
       "  'lastRead': neo4j.time.DateTime(2024, 6, 12, 16, 31, 52, 383000000, tzinfo=<UTC>),\n",
       "  'readCount': 28},\n",
       " {'id': 6,\n",
       "  'name': 'pdf_chunks',\n",
       "  'state': 'ONLINE',\n",
       "  'populationPercent': 100.0,\n",
       "  'type': 'VECTOR',\n",
       "  'entityType': 'NODE',\n",
       "  'labelsOrTypes': ['Chunk'],\n",
       "  'properties': ['textEmbedding'],\n",
       "  'indexProvider': 'vector-2.0',\n",
       "  'owningConstraint': None,\n",
       "  'lastRead': neo4j.time.DateTime(2024, 6, 12, 17, 35, 30, 383000000, tzinfo=<UTC>),\n",
       "  'readCount': 1},\n",
       " {'id': 3,\n",
       "  'name': 'vector',\n",
       "  'state': 'ONLINE',\n",
       "  'populationPercent': 100.0,\n",
       "  'type': 'VECTOR',\n",
       "  'entityType': 'NODE',\n",
       "  'labelsOrTypes': ['Chunk'],\n",
       "  'properties': ['embedding'],\n",
       "  'indexProvider': 'vector-2.0',\n",
       "  'owningConstraint': None,\n",
       "  'lastRead': neo4j.time.DateTime(2024, 6, 12, 16, 42, 41, 901000000, tzinfo=<UTC>),\n",
       "  'readCount': 3}]"
      ]
     },
     "execution_count": 37,
     "metadata": {},
     "output_type": "execute_result"
    }
   ],
   "source": [
    "# Show the indexes\n",
    "kg.query(\"SHOW INDEXES\")"
   ]
  },
  {
   "cell_type": "code",
   "execution_count": 38,
   "id": "539a040c-df5a-41fa-aca4-1d8f4880d0fa",
   "metadata": {
    "tags": []
   },
   "outputs": [
    {
     "name": "stderr",
     "output_type": "stream",
     "text": [
      "INFO:httpx:HTTP Request: POST https://api.openai.com/v1/embeddings \"HTTP/1.1 200 OK\"\n",
      "INFO:httpx:HTTP Request: POST https://api.openai.com/v1/completions \"HTTP/1.1 200 OK\"\n"
     ]
    },
    {
     "name": "stdout",
     "output_type": "stream",
     "text": [
      " Mission engineering is the process of ensuring that a system will\n",
      "perform according to the requirements of the entire test program. It\n",
      "involves testing for factors such as accessibility, alignment,\n",
      "armament compatibility, and electrical function. It is defined in MIL-\n",
      "STD-1289D, which can be accessed online or through SAE Customer\n",
      "Service.\n"
     ]
    }
   ],
   "source": [
    "# Ask a question\n",
    "question = \"What is mission engineering?\"\n",
    "answer = chain(\n",
    "    {\"question\": question},\n",
    "    return_only_outputs=True,\n",
    ")\n",
    "print(textwrap.fill(answer[\"answer\"]))"
   ]
  },
  {
   "cell_type": "code",
   "execution_count": 41,
   "id": "5c899480-2596-4acd-bd8d-3bf7c8247885",
   "metadata": {
    "tags": []
   },
   "outputs": [
    {
     "name": "stderr",
     "output_type": "stream",
     "text": [
      "INFO:httpx:HTTP Request: POST https://api.openai.com/v1/embeddings \"HTTP/1.1 200 OK\"\n",
      "INFO:httpx:HTTP Request: POST https://api.openai.com/v1/completions \"HTTP/1.1 200 OK\"\n"
     ]
    },
    {
     "name": "stdout",
     "output_type": "stream",
     "text": [
      " The steps to perform when doing missing engineering are: 1) Verify\n",
      "the currency of the information using the ASSIST Online database, 2)\n",
      "Ensure safety measures are in place to prevent inadvertent release or\n",
      "function of store, 3) Safely any parts that may work loose and create\n",
      "a hazard, 4) Contact reinforced area in accordance with MIL-A-8591, 5)\n",
      "Test the release system electrical devices and wiring to meet SAE-\n",
      "AS50881 and EMC/EMI criteria of MIL-STD-464, 6) Ensure no mechanical\n",
      "strain due to airstream forces exists, 7) Conduct satisfactory\n",
      "function tests of the complete system, 8) Conduct electrical function\n",
      "tests, 9) Conduct store functional tests, 10) Conduct armament control\n",
      "system tests, 11) Verify compatibility with armament weapons support\n",
      "equipment, 12) Ensure all necessary tools are available, and 13)\n",
      "Provide a common area for store cradling/handling.\n"
     ]
    }
   ],
   "source": [
    "# Ask a question\n",
    "question = \"List the steps do I need to perform when doing missing engineering and provide a refence page or table from the MIL-STD-1289D?\"\n",
    "answer = chain(\n",
    "    {\"question\": question},\n",
    "    return_only_outputs=True,\n",
    ")\n",
    "print(textwrap.fill(answer[\"answer\"]))"
   ]
  },
  {
   "cell_type": "code",
   "execution_count": null,
   "id": "61676e8b-a278-41f3-8900-130ea2678b5e",
   "metadata": {},
   "outputs": [],
   "source": []
  }
 ],
 "metadata": {
  "kernelspec": {
   "display_name": "Python 3 (ipykernel)",
   "language": "python",
   "name": "python3"
  },
  "language_info": {
   "codemirror_mode": {
    "name": "ipython",
    "version": 3
   },
   "file_extension": ".py",
   "mimetype": "text/x-python",
   "name": "python",
   "nbconvert_exporter": "python",
   "pygments_lexer": "ipython3",
   "version": "3.11.9"
  }
 },
 "nbformat": 4,
 "nbformat_minor": 5
}
