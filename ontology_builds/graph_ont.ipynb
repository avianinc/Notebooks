{
 "cells": [
  {
   "cell_type": "code",
   "execution_count": null,
   "id": "870ec49c-c448-4484-88ff-09e17f580307",
   "metadata": {},
   "outputs": [],
   "source": [
    "# Here we manually build an ontology and "
   ]
  },
  {
   "cell_type": "code",
   "execution_count": 7,
   "id": "930b2297-a561-449f-ab1d-b4bdddfb5d5d",
   "metadata": {
    "tags": []
   },
   "outputs": [],
   "source": [
    "#%pip install neo4j py2neo pandas networkx matplotlib pyvis"
   ]
  },
  {
   "cell_type": "code",
   "execution_count": 1,
   "id": "25634323-9df9-4048-a82c-a647fd5a32d8",
   "metadata": {
    "tags": []
   },
   "outputs": [],
   "source": [
    "from neo4j import GraphDatabase\n",
    "import pandas as pd\n",
    "\n",
    "# Neo4j connection details\n",
    "uri = \"bolt://192.168.86.30:7687\"\n",
    "username = \"neo4j\"\n",
    "password = \"testpassword\""
   ]
  },
  {
   "cell_type": "code",
   "execution_count": 2,
   "id": "05c9e144-f1a2-4633-91fa-74960f283d60",
   "metadata": {
    "tags": []
   },
   "outputs": [],
   "source": [
    "# Connect to Neo4j\n",
    "driver = GraphDatabase.driver(uri, auth=(username, password))"
   ]
  },
  {
   "cell_type": "code",
   "execution_count": 5,
   "id": "c3ba4024-7690-4cf7-87fd-fcf338151173",
   "metadata": {
    "tags": []
   },
   "outputs": [],
   "source": [
    "# Define the UAS ontology with several UAS types\n",
    "uas_ontology = [\n",
    "    {\"entity\": \"UAS\", \"attributes\": {\"name\": \"MQ-9 Reaper\", \"type\": \"Fixed-wing\", \"manufacturer\": \"General Atomics\", \"max_sensors\": 4, \"max_weapons\": 4, \"last_check\": \"2024-01-15\"}},\n",
    "    {\"entity\": \"UAS\", \"attributes\": {\"name\": \"RQ-4 Global Hawk\", \"type\": \"Fixed-wing\", \"manufacturer\": \"Northrop Grumman\", \"max_sensors\": 6, \"max_weapons\": 0}},\n",
    "    {\"entity\": \"UAS\", \"attributes\": {\"name\": \"MQ-1 Predator\", \"type\": \"Fixed-wing\", \"manufacturer\": \"General Atomics\", \"max_sensors\": 3, \"max_weapons\": 2}},\n",
    "    {\"entity\": \"Sensor\", \"attributes\": {\"type\": \"EO/IR\", \"model\": \"AN/DAS-1\", \"manufacturer\": \"Raytheon\"}},\n",
    "    {\"entity\": \"Sensor\", \"attributes\": {\"type\": \"Radar\", \"model\": \"AN/APY-8\", \"manufacturer\": \"Raytheon\"}},\n",
    "    {\"entity\": \"Sensor\", \"attributes\": {\"type\": \"SIGINT\", \"model\": \"AN/ALR-69\", \"manufacturer\": \"BAE Systems\"}},\n",
    "    {\"entity\": \"Payload\", \"attributes\": {\"type\": \"Munition\", \"model\": \"AGM-114 Hellfire\", \"weight\": \"49kg\"}},\n",
    "    {\"entity\": \"Payload\", \"attributes\": {\"type\": \"Munition\", \"model\": \"GBU-12 Paveway II\", \"weight\": \"230kg\"}},\n",
    "    {\"entity\": \"Payload\", \"attributes\": {\"type\": \"Munition\", \"model\": \"GBU-38 JDAM\", \"weight\": \"227kg\"}},\n",
    "    {\"entity\": \"Mission\", \"attributes\": {\"name\": \"ISR\", \"duration\": \"30 hours\"}},\n",
    "    {\"entity\": \"Mission\", \"attributes\": {\"name\": \"Close Air Support\", \"duration\": \"12 hours\"}},\n",
    "    {\"entity\": \"Operator\", \"attributes\": {\"name\": \"John Doe\", \"rank\": \"Captain\", \"certification\": \"Level 1\"}},\n",
    "    {\"entity\": \"GroundStation\", \"attributes\": {\"name\": \"GCS-3000\", \"location\": \"Nevada\"}},\n",
    "    {\"entity\": \"GroundStation\", \"attributes\": {\"name\": \"GCS-3100\", \"location\": \"New York\"}},\n",
    "    {\"entity\": \"Command\", \"attributes\": {\"name\": \"USAF\", \"base\": \"Creech AFB\"}},\n",
    "    {\"entity\": \"Maintenance\", \"attributes\": {\"type\": \"Routine Check\", \"interval\": \"100 flight hours\"}},\n",
    "]"
   ]
  },
  {
   "cell_type": "code",
   "execution_count": 7,
   "id": "57a5892e-abe8-4466-979e-c26b79ef106e",
   "metadata": {
    "tags": []
   },
   "outputs": [],
   "source": [
    "# Define relationships with allowable quantities\n",
    "uas_relationships = [\n",
    "    {\"start_node\": \"UAS\", \"relationship\": \"HAS_SENSOR\", \"end_node\": \"Sensor\", \"attributes\": {\"max_quantity\": 4, \"applicable_to\": \"MQ-9 Reaper\"}},\n",
    "    {\"start_node\": \"UAS\", \"relationship\": \"HAS_SENSOR\", \"end_node\": \"Sensor\", \"attributes\": {\"max_quantity\": 6, \"applicable_to\": \"RQ-4 Global Hawk\"}},\n",
    "    {\"start_node\": \"UAS\", \"relationship\": \"HAS_SENSOR\", \"end_node\": \"Sensor\", \"attributes\": {\"max_quantity\": 3, \"applicable_to\": \"MQ-1 Predator\"}},\n",
    "    {\"start_node\": \"UAS\", \"relationship\": \"CARRIES_PAYLOAD\", \"end_node\": \"Payload\", \"attributes\": {\"max_quantity\": 4, \"applicable_to\": \"MQ-9 Reaper\"}},\n",
    "    {\"start_node\": \"UAS\", \"relationship\": \"CARRIES_PAYLOAD\", \"end_node\": \"Payload\", \"attributes\": {\"max_quantity\": 2, \"applicable_to\": \"MQ-1 Predator\"}},\n",
    "    {\"start_node\": \"UAS\", \"relationship\": \"CARRIES_PAYLOAD\", \"end_node\": \"Payload\", \"attributes\": {\"max_quantity\": 0, \"applicable_to\": \"RQ-4 Global Hawk\"}},\n",
    "    {\"start_node\": \"UAS\", \"relationship\": \"PERFORMS_MISSION\", \"end_node\": \"Mission\", \"attributes\": {\"frequency\": \"Weekly\"}},\n",
    "    {\"start_node\": \"Operator\", \"relationship\": \"OPERATES\", \"end_node\": \"UAS\", \"attributes\": {\"since\": \"2022\"}},\n",
    "    {\"start_node\": \"GroundStation\", \"relationship\": \"CONTROLS\", \"end_node\": \"UAS\", \"attributes\": {\"frequency\": \"Continuous\"}},\n",
    "    {\"start_node\": \"Command\", \"relationship\": \"DEPLOYS\", \"end_node\": \"UAS\", \"attributes\": {\"deployment\": \"Global\"}},\n",
    "    {\"start_node\": \"Maintenance\", \"relationship\": \"APPLIES_TO\", \"end_node\": \"UAS\", \"attributes\": {\"last_check\": \"2024-01-15\"}}\n",
    "]"
   ]
  },
  {
   "cell_type": "code",
   "execution_count": 9,
   "id": "47b51211-de3f-4b1d-b496-3641dbad726f",
   "metadata": {
    "tags": []
   },
   "outputs": [],
   "source": [
    "# Function to create nodes\n",
    "def create_nodes(tx, nodes):\n",
    "    for node in nodes:\n",
    "        entity = node[\"entity\"]\n",
    "        attributes = node[\"attributes\"]\n",
    "        attrs = \", \".join([f\"{k}: '{v}'\" for k, v in attributes.items()])\n",
    "        query = f\"CREATE (n:{entity} {{{attrs}}})\"\n",
    "        tx.run(query)\n",
    "\n",
    "# Function to create relationships\n",
    "def create_relationships(tx, relationships):\n",
    "    for rel in relationships:\n",
    "        start_node = rel[\"start_node\"]\n",
    "        relationship = rel[\"relationship\"]\n",
    "        end_node = rel[\"end_node\"]\n",
    "        attributes = rel[\"attributes\"]\n",
    "        attrs = \", \".join([f\"{k}: '{v}'\" for k, v in attributes.items()])\n",
    "        query = (\n",
    "            f\"MATCH (a:{start_node}), (b:{end_node}) \"\n",
    "            f\"CREATE (a)-[r:{relationship} {{{attrs}}}]->(b)\"\n",
    "        )\n",
    "        tx.run(query)"
   ]
  },
  {
   "cell_type": "code",
   "execution_count": 11,
   "id": "fc8a74aa-f983-4ae0-9399-a68979ae019c",
   "metadata": {
    "tags": []
   },
   "outputs": [
    {
     "name": "stderr",
     "output_type": "stream",
     "text": [
      "C:\\Users\\JohnDeHart\\AppData\\Local\\Temp\\ipykernel_23004\\461741021.py:3: DeprecationWarning: write_transaction has been renamed to execute_write\n",
      "  session.write_transaction(create_nodes, uas_ontology)\n",
      "C:\\Users\\JohnDeHart\\AppData\\Local\\Temp\\ipykernel_23004\\461741021.py:4: DeprecationWarning: write_transaction has been renamed to execute_write\n",
      "  session.write_transaction(create_relationships, uas_relationships)\n"
     ]
    }
   ],
   "source": [
    "# Populate the Neo4j database\n",
    "with driver.session() as session:\n",
    "    session.write_transaction(create_nodes, uas_ontology)\n",
    "    session.write_transaction(create_relationships, uas_relationships)"
   ]
  },
  {
   "cell_type": "code",
   "execution_count": 13,
   "id": "37d6a9a9-2dcd-4967-b66d-18f5ecc1fdac",
   "metadata": {
    "tags": []
   },
   "outputs": [
    {
     "data": {
      "text/html": [
       "<div>\n",
       "<style scoped>\n",
       "    .dataframe tbody tr th:only-of-type {\n",
       "        vertical-align: middle;\n",
       "    }\n",
       "\n",
       "    .dataframe tbody tr th {\n",
       "        vertical-align: top;\n",
       "    }\n",
       "\n",
       "    .dataframe thead th {\n",
       "        text-align: right;\n",
       "    }\n",
       "</style>\n",
       "<table border=\"1\" class=\"dataframe\">\n",
       "  <thead>\n",
       "    <tr style=\"text-align: right;\">\n",
       "      <th></th>\n",
       "      <th>n</th>\n",
       "    </tr>\n",
       "  </thead>\n",
       "  <tbody>\n",
       "    <tr>\n",
       "      <th>0</th>\n",
       "      <td>(name, last_check, type, max_weapons, max_sens...</td>\n",
       "    </tr>\n",
       "    <tr>\n",
       "      <th>1</th>\n",
       "      <td>(name, type, max_weapons, manufacturer, max_se...</td>\n",
       "    </tr>\n",
       "    <tr>\n",
       "      <th>2</th>\n",
       "      <td>(name, type, max_weapons, manufacturer, max_se...</td>\n",
       "    </tr>\n",
       "    <tr>\n",
       "      <th>3</th>\n",
       "      <td>(model, type, manufacturer)</td>\n",
       "    </tr>\n",
       "    <tr>\n",
       "      <th>4</th>\n",
       "      <td>(model, type, manufacturer)</td>\n",
       "    </tr>\n",
       "  </tbody>\n",
       "</table>\n",
       "</div>"
      ],
      "text/plain": [
       "                                                   n\n",
       "0  (name, last_check, type, max_weapons, max_sens...\n",
       "1  (name, type, max_weapons, manufacturer, max_se...\n",
       "2  (name, type, max_weapons, manufacturer, max_se...\n",
       "3                        (model, type, manufacturer)\n",
       "4                        (model, type, manufacturer)"
      ]
     },
     "execution_count": 13,
     "metadata": {},
     "output_type": "execute_result"
    }
   ],
   "source": [
    "# Function to run a Cypher query and return the results as a DataFrame\n",
    "def run_query(query):\n",
    "    with driver.session() as session:\n",
    "        result = session.run(query)\n",
    "        return pd.DataFrame([dict(record) for record in result])\n",
    "\n",
    "# Example usage\n",
    "query = \"MATCH (n) RETURN n LIMIT 10\"\n",
    "df = run_query(query)\n",
    "df.head()"
   ]
  },
  {
   "cell_type": "code",
   "execution_count": 15,
   "id": "37aa147a-5b01-47af-ac5d-5a6fe0aa2c64",
   "metadata": {
    "tags": []
   },
   "outputs": [
    {
     "name": "stdout",
     "output_type": "stream",
     "text": [
      "           UAS_Name    UAS_Type      Manufacturer\n",
      "0       MQ-9 Reaper  Fixed-wing   General Atomics\n",
      "1  RQ-4 Global Hawk  Fixed-wing  Northrop Grumman\n",
      "2     MQ-1 Predator  Fixed-wing   General Atomics\n"
     ]
    }
   ],
   "source": [
    "# List All UAS Types:\n",
    "query = \"\"\"\n",
    "MATCH (u:UAS)\n",
    "RETURN u.name AS UAS_Name, u.type AS UAS_Type, u.manufacturer AS Manufacturer\n",
    "\"\"\"\n",
    "df = run_query(query)\n",
    "print(df)"
   ]
  },
  {
   "cell_type": "code",
   "execution_count": 17,
   "id": "d99e0c61-162e-42b3-b1c6-615170a7deb4",
   "metadata": {
    "tags": []
   },
   "outputs": [
    {
     "name": "stdout",
     "output_type": "stream",
     "text": [
      "  Sensor_Type      Model Manufacturer\n",
      "0       EO/IR   AN/DAS-1     Raytheon\n",
      "1       Radar   AN/APY-8     Raytheon\n",
      "2      SIGINT  AN/ALR-69  BAE Systems\n"
     ]
    }
   ],
   "source": [
    "# List Sensors and Their Manufacturers:\n",
    "query = \"\"\"\n",
    "MATCH (s:Sensor)\n",
    "RETURN s.type AS Sensor_Type, s.model AS Model, s.manufacturer AS Manufacturer\n",
    "\"\"\"\n",
    "df = run_query(query)\n",
    "print(df)"
   ]
  },
  {
   "cell_type": "code",
   "execution_count": 19,
   "id": "9e722f8c-6a38-4a18-a4c1-b7082c33dec2",
   "metadata": {
    "tags": []
   },
   "outputs": [
    {
     "name": "stdout",
     "output_type": "stream",
     "text": [
      "  Payload_Type              Model Weight\n",
      "0     Munition   AGM-114 Hellfire   49kg\n",
      "1     Munition  GBU-12 Paveway II  230kg\n",
      "2     Munition        GBU-38 JDAM  227kg\n"
     ]
    }
   ],
   "source": [
    "# List Payloads and Their Weights:\n",
    "query = \"\"\"\n",
    "MATCH (p:Payload)\n",
    "RETURN p.type AS Payload_Type, p.model AS Model, p.weight AS Weight\n",
    "\"\"\"\n",
    "df = run_query(query)\n",
    "print(df)"
   ]
  },
  {
   "cell_type": "code",
   "execution_count": 21,
   "id": "1ca035ff-9ff1-4b8f-b119-6bdc59998ef0",
   "metadata": {
    "tags": []
   },
   "outputs": [
    {
     "name": "stdout",
     "output_type": "stream",
     "text": [
      "            UAS_Name Sensor_Type Max_Quantity\n",
      "0   RQ-4 Global Hawk       EO/IR            3\n",
      "1      MQ-1 Predator       EO/IR            3\n",
      "2        MQ-9 Reaper       EO/IR            6\n",
      "3        MQ-9 Reaper       EO/IR            4\n",
      "4        MQ-9 Reaper       EO/IR            3\n",
      "5      MQ-1 Predator       EO/IR            4\n",
      "6      MQ-1 Predator       EO/IR            6\n",
      "7   RQ-4 Global Hawk       EO/IR            6\n",
      "8   RQ-4 Global Hawk       EO/IR            4\n",
      "9   RQ-4 Global Hawk       Radar            6\n",
      "10       MQ-9 Reaper       Radar            6\n",
      "11       MQ-9 Reaper       Radar            4\n",
      "12     MQ-1 Predator       Radar            4\n",
      "13     MQ-1 Predator       Radar            3\n",
      "14  RQ-4 Global Hawk       Radar            3\n",
      "15     MQ-1 Predator       Radar            6\n",
      "16       MQ-9 Reaper       Radar            3\n",
      "17  RQ-4 Global Hawk       Radar            4\n",
      "18     MQ-1 Predator      SIGINT            4\n",
      "19       MQ-9 Reaper      SIGINT            4\n",
      "20  RQ-4 Global Hawk      SIGINT            6\n",
      "21       MQ-9 Reaper      SIGINT            6\n",
      "22     MQ-1 Predator      SIGINT            6\n",
      "23  RQ-4 Global Hawk      SIGINT            3\n",
      "24     MQ-1 Predator      SIGINT            3\n",
      "25  RQ-4 Global Hawk      SIGINT            4\n",
      "26       MQ-9 Reaper      SIGINT            3\n"
     ]
    }
   ],
   "source": [
    "# Find UAS Types and Their Allowable Sensors:\n",
    "query = \"\"\"\n",
    "MATCH (u:UAS)-[r:HAS_SENSOR]->(s:Sensor)\n",
    "RETURN u.name AS UAS_Name, s.type AS Sensor_Type, r.max_quantity AS Max_Quantity\n",
    "\"\"\"\n",
    "df = run_query(query)\n",
    "print(df)"
   ]
  },
  {
   "cell_type": "code",
   "execution_count": 23,
   "id": "40bc81ce-31cf-452e-a4de-c7f16af038a9",
   "metadata": {
    "tags": []
   },
   "outputs": [
    {
     "name": "stdout",
     "output_type": "stream",
     "text": [
      "            UAS_Name Payload_Type              Model Max_Quantity\n",
      "0        MQ-9 Reaper     Munition   AGM-114 Hellfire            2\n",
      "1        MQ-9 Reaper     Munition  GBU-12 Paveway II            4\n",
      "2        MQ-9 Reaper     Munition  GBU-12 Paveway II            0\n",
      "3        MQ-9 Reaper     Munition        GBU-38 JDAM            0\n",
      "4        MQ-9 Reaper     Munition        GBU-38 JDAM            2\n",
      "5        MQ-9 Reaper     Munition        GBU-38 JDAM            4\n",
      "6        MQ-9 Reaper     Munition   AGM-114 Hellfire            0\n",
      "7        MQ-9 Reaper     Munition   AGM-114 Hellfire            4\n",
      "8        MQ-9 Reaper     Munition  GBU-12 Paveway II            2\n",
      "9   RQ-4 Global Hawk     Munition  GBU-12 Paveway II            2\n",
      "10  RQ-4 Global Hawk     Munition        GBU-38 JDAM            0\n",
      "11  RQ-4 Global Hawk     Munition   AGM-114 Hellfire            0\n",
      "12  RQ-4 Global Hawk     Munition        GBU-38 JDAM            4\n",
      "13  RQ-4 Global Hawk     Munition   AGM-114 Hellfire            4\n",
      "14  RQ-4 Global Hawk     Munition        GBU-38 JDAM            2\n",
      "15  RQ-4 Global Hawk     Munition   AGM-114 Hellfire            2\n",
      "16  RQ-4 Global Hawk     Munition  GBU-12 Paveway II            0\n",
      "17  RQ-4 Global Hawk     Munition  GBU-12 Paveway II            4\n",
      "18     MQ-1 Predator     Munition        GBU-38 JDAM            2\n",
      "19     MQ-1 Predator     Munition  GBU-12 Paveway II            4\n",
      "20     MQ-1 Predator     Munition   AGM-114 Hellfire            0\n",
      "21     MQ-1 Predator     Munition  GBU-12 Paveway II            0\n",
      "22     MQ-1 Predator     Munition        GBU-38 JDAM            0\n",
      "23     MQ-1 Predator     Munition   AGM-114 Hellfire            4\n",
      "24     MQ-1 Predator     Munition  GBU-12 Paveway II            2\n",
      "25     MQ-1 Predator     Munition   AGM-114 Hellfire            2\n",
      "26     MQ-1 Predator     Munition        GBU-38 JDAM            4\n"
     ]
    }
   ],
   "source": [
    "# Find UAS Types and Their Allowable Payloads:\n",
    "query = \"\"\"\n",
    "MATCH (u:UAS)-[r:CARRIES_PAYLOAD]->(p:Payload)\n",
    "RETURN u.name AS UAS_Name, p.type AS Payload_Type, p.model AS Model, r.max_quantity AS Max_Quantity\n",
    "\"\"\"\n",
    "df = run_query(query)\n",
    "print(df)"
   ]
  },
  {
   "cell_type": "code",
   "execution_count": 25,
   "id": "e56a321d-a81e-48f0-b7bf-cb22128b7baa",
   "metadata": {
    "tags": []
   },
   "outputs": [
    {
     "name": "stdout",
     "output_type": "stream",
     "text": [
      "           UAS_Name       Mission_Name  Duration\n",
      "0       MQ-9 Reaper                ISR  30 hours\n",
      "1       MQ-9 Reaper  Close Air Support  12 hours\n",
      "2  RQ-4 Global Hawk                ISR  30 hours\n",
      "3  RQ-4 Global Hawk  Close Air Support  12 hours\n",
      "4     MQ-1 Predator                ISR  30 hours\n",
      "5     MQ-1 Predator  Close Air Support  12 hours\n"
     ]
    }
   ],
   "source": [
    "# Find All Missions Performed by Each UAS Type:\n",
    "query = \"\"\"\n",
    "MATCH (u:UAS)-[:PERFORMS_MISSION]->(m:Mission)\n",
    "RETURN u.name AS UAS_Name, m.name AS Mission_Name, m.duration AS Duration\n",
    "\"\"\"\n",
    "df = run_query(query)\n",
    "print(df)"
   ]
  },
  {
   "cell_type": "code",
   "execution_count": 27,
   "id": "a159d57a-a298-4258-988a-9aa2ed38e73b",
   "metadata": {
    "tags": []
   },
   "outputs": [
    {
     "name": "stdout",
     "output_type": "stream",
     "text": [
      "  Operator_Name     Rank          UAS_Name Certification\n",
      "0      John Doe  Captain       MQ-9 Reaper       Level 1\n",
      "1      John Doe  Captain  RQ-4 Global Hawk       Level 1\n",
      "2      John Doe  Captain     MQ-1 Predator       Level 1\n"
     ]
    }
   ],
   "source": [
    "# List Operators and Their UAS Types:\n",
    "query = \"\"\"\n",
    "MATCH (o:Operator)-[:OPERATES]->(u:UAS)\n",
    "RETURN o.name AS Operator_Name, o.rank AS Rank, u.name AS UAS_Name, o.certification AS Certification\n",
    "\"\"\"\n",
    "df = run_query(query)\n",
    "print(df)"
   ]
  },
  {
   "cell_type": "code",
   "execution_count": 29,
   "id": "f5b50364-b3d0-4ff7-9e8d-72bfffd934f9",
   "metadata": {
    "tags": []
   },
   "outputs": [
    {
     "name": "stdout",
     "output_type": "stream",
     "text": [
      "  GroundStation_Name Location          UAS_Name\n",
      "0           GCS-3000   Nevada       MQ-9 Reaper\n",
      "1           GCS-3000   Nevada  RQ-4 Global Hawk\n",
      "2           GCS-3000   Nevada     MQ-1 Predator\n"
     ]
    }
   ],
   "source": [
    "# Find UAS Controlled by Ground Stations:\n",
    "query = \"\"\"\n",
    "MATCH (g:GroundStation)-[:CONTROLS]->(u:UAS)\n",
    "RETURN g.name AS GroundStation_Name, g.location AS Location, u.name AS UAS_Name\n",
    "\"\"\"\n",
    "df = run_query(query)\n",
    "print(df)"
   ]
  },
  {
   "cell_type": "code",
   "execution_count": 31,
   "id": "844ef978-7f95-4619-a1ff-21649ac3437e",
   "metadata": {
    "tags": []
   },
   "outputs": [
    {
     "name": "stdout",
     "output_type": "stream",
     "text": [
      "  Command_Name        Base          UAS_Name    UAS_Type\n",
      "0         USAF  Creech AFB       MQ-9 Reaper  Fixed-wing\n",
      "1         USAF  Creech AFB  RQ-4 Global Hawk  Fixed-wing\n",
      "2         USAF  Creech AFB     MQ-1 Predator  Fixed-wing\n"
     ]
    }
   ],
   "source": [
    "# List UAS Deployment Details by Command:\n",
    "query = \"\"\"\n",
    "MATCH (c:Command)-[:DEPLOYS]->(u:UAS)\n",
    "RETURN c.name AS Command_Name, c.base AS Base, u.name AS UAS_Name, u.type AS UAS_Type\n",
    "\"\"\"\n",
    "df = run_query(query)\n",
    "print(df)"
   ]
  },
  {
   "cell_type": "code",
   "execution_count": 33,
   "id": "868b0794-3cbc-4248-91e9-19116e9c600f",
   "metadata": {
    "tags": []
   },
   "outputs": [
    {
     "name": "stdout",
     "output_type": "stream",
     "text": [
      "           UAS_Name Maintenance_Type          Interval Last_Check\n",
      "0       MQ-9 Reaper    Routine Check  100 flight hours       None\n",
      "1  RQ-4 Global Hawk    Routine Check  100 flight hours       None\n",
      "2     MQ-1 Predator    Routine Check  100 flight hours       None\n"
     ]
    }
   ],
   "source": [
    "# List Maintenance Details for Each UAS:\n",
    "query = \"\"\"\n",
    "MATCH (m:Maintenance)-[:APPLIES_TO]->(u:UAS)\n",
    "RETURN u.name AS UAS_Name, m.type AS Maintenance_Type, m.interval AS Interval, m.last_check AS Last_Check\n",
    "\"\"\"\n",
    "df = run_query(query)\n",
    "print(df)"
   ]
  },
  {
   "cell_type": "code",
   "execution_count": 35,
   "id": "f590ea3f-1c66-4299-9c6f-f1eebc99d40f",
   "metadata": {
    "tags": []
   },
   "outputs": [],
   "source": [
    "# Close the driver connection\n",
    "driver.close()"
   ]
  },
  {
   "cell_type": "code",
   "execution_count": 37,
   "id": "53aaddfe-0ec3-4097-a4c8-ef07767513ca",
   "metadata": {
    "tags": []
   },
   "outputs": [],
   "source": [
    "# Query to clear the database\n",
    "#clear_db_query = \"MATCH (n) DETACH DELETE n\"\n",
    "#df = run_query(clear_db_query)"
   ]
  },
  {
   "cell_type": "code",
   "execution_count": 39,
   "id": "708dac19-541c-4f3d-ab54-2c444423b63d",
   "metadata": {
    "tags": []
   },
   "outputs": [],
   "source": [
    "from py2neo import Graph\n",
    "import pandas as pd\n",
    "import networkx as nx\n",
    "import matplotlib.pyplot as plt\n",
    "import os\n",
    "\n",
    "# lets build some plots\n",
    "# Connect to Neo4j\n",
    "graph = Graph(uri, auth=(username, password))\n",
    "\n",
    "# Query to get nodes and relationships\n",
    "nodes_query = \"\"\"\n",
    "MATCH (n)\n",
    "RETURN id(n) AS id, labels(n) AS labels, n.name AS name\n",
    "\"\"\"\n",
    "relationships_query = \"\"\"\n",
    "MATCH (n)-[r]->(m)\n",
    "RETURN id(n) AS source, type(r) AS relationship, id(m) AS target\n",
    "\"\"\"\n",
    "\n",
    "# Run the queries\n",
    "nodes = graph.run(nodes_query).data()\n",
    "relationships = graph.run(relationships_query).data()\n",
    "\n",
    "# Convert results to DataFrame\n",
    "nodes_df = pd.DataFrame(nodes)\n",
    "relationships_df = pd.DataFrame(relationships)"
   ]
  },
  {
   "cell_type": "code",
   "execution_count": 41,
   "id": "3b865afc-fceb-48a7-b974-271b398049b6",
   "metadata": {
    "tags": []
   },
   "outputs": [],
   "source": [
    "# Create a directed graph\n",
    "G = nx.DiGraph()\n",
    "\n",
    "# Add nodes\n",
    "for index, row in nodes_df.iterrows():\n",
    "    G.add_node(row['id'], label=row['labels'][0], name=row['name'])\n",
    "\n",
    "# Add edges\n",
    "for index, row in relationships_df.iterrows():\n",
    "    G.add_edge(row['source'], row['target'], relationship=row['relationship'])\n"
   ]
  },
  {
   "cell_type": "code",
   "execution_count": 43,
   "id": "a62dd509-b3e6-4414-9c16-6238ff0b1e36",
   "metadata": {
    "tags": []
   },
   "outputs": [
    {
     "data": {
      "image/png": "[encoded data removed]",
      "text/plain": [
       "<Figure size 640x480 with 1 Axes>"
      ]
     },
     "metadata": {},
     "output_type": "display_data"
    }
   ],
   "source": [
    "# Define a function to plot the graph\n",
    "def plot_graph(G):\n",
    "    pos = nx.spring_layout(G)  # positions for all nodes\n",
    "    labels = nx.get_node_attributes(G, 'name')\n",
    "    \n",
    "    # Draw nodes\n",
    "    nx.draw_networkx_nodes(G, pos, node_size=700, node_color='lightblue')\n",
    "    \n",
    "    # Draw edges\n",
    "    nx.draw_networkx_edges(G, pos, width=1.0, alpha=0.5, edge_color='black')\n",
    "    \n",
    "    # Draw labels\n",
    "    nx.draw_networkx_labels(G, pos, labels, font_size=10)\n",
    "    \n",
    "    plt.title('Graph Visualization of UAS Ontology')\n",
    "    plt.show()\n",
    "\n",
    "# Plot the graph\n",
    "plot_graph(G)\n"
   ]
  },
  {
   "cell_type": "code",
   "execution_count": 69,
   "id": "02fe0175-0971-48fa-a634-033a73c71294",
   "metadata": {
    "tags": []
   },
   "outputs": [],
   "source": [
    "from py2neo import Graph\n",
    "import pandas as pd\n",
    "from pyvis.network import Network\n",
    "\n",
    "# Connect to Neo4j\n",
    "graph = Graph(uri, auth=(username, password))\n",
    "\n",
    "# Query to get a small subset of nodes and relationships\n",
    "nodes_query = \"\"\"\n",
    "MATCH (n)\n",
    "RETURN id(n) AS id, labels(n) AS labels, n.name AS name\n",
    "LIMIT 10\n",
    "\"\"\"\n",
    "relationships_query = \"\"\"\n",
    "MATCH (n)-[r]->(m)\n",
    "WHERE id(n) IN [SELECTED_IDS] AND id(m) IN [SELECTED_IDS]\n",
    "RETURN id(n) AS source, type(r) AS relationship, id(m) AS target\n",
    "LIMIT 10\n",
    "\"\"\"\n",
    "\n",
    "# Run the queries\n",
    "nodes = graph.run(nodes_query).data()\n",
    "selected_ids = [node['id'] for node in nodes]  # Extract node IDs\n",
    "\n",
    "# Replace placeholder with actual IDs\n",
    "relationships_query = relationships_query.replace(\"[SELECTED_IDS]\", str(selected_ids))\n",
    "\n",
    "relationships = graph.run(relationships_query).data()\n",
    "\n",
    "# Convert results to DataFrame\n",
    "nodes_df = pd.DataFrame(nodes)\n",
    "relationships_df = pd.DataFrame(relationships)"
   ]
  },
  {
   "cell_type": "code",
   "execution_count": 71,
   "id": "b0b6c7a8-1ae2-4736-ad9e-08e9bc7043f5",
   "metadata": {
    "tags": []
   },
   "outputs": [],
   "source": [
    "import codecs\n",
    "from pyvis.network import Network\n",
    "\n",
    "# Create a pyvis Network object\n",
    "net = Network(notebook=True, height='750px', width='100%', cdn_resources='in_line')\n",
    "\n",
    "# Add nodes to the network\n",
    "for index, row in nodes_df.iterrows():\n",
    "    net.add_node(row['id'], label=row['name'], title=row['labels'][0])\n",
    "\n",
    "# Add edges to the network\n",
    "for index, row in relationships_df.iterrows():\n",
    "    if row['source'] in net.get_nodes() and row['target'] in net.get_nodes():\n",
    "        net.add_edge(row['source'], row['target'], title=row['relationship'])"
   ]
  },
  {
   "cell_type": "code",
   "execution_count": 73,
   "id": "0798bb34-611d-44b9-a771-6141e306263f",
   "metadata": {
    "tags": []
   },
   "outputs": [],
   "source": [
    "import os\n",
    "\n",
    "# Generate the HTML content\n",
    "html_content = net.generate_html(\"simple_uas_ontology.html\")\n",
    "\n",
    "# Write the HTML content to a file with UTF-8 encoding\n",
    "with codecs.open(\"simple_uas_ontology.html\", \"w\", encoding=\"utf-8\") as out_file:\n",
    "    out_file.write(html_content)"
   ]
  },
  {
   "cell_type": "code",
   "execution_count": 75,
   "id": "9397786f-81cf-4173-a284-a807825c621c",
   "metadata": {
    "tags": []
   },
   "outputs": [
    {
     "data": {
      "text/html": [
       "\n",
       "        <iframe\n",
       "            width=\"800\"\n",
       "            height=\"600\"\n",
       "            src=\"simple_uas_ontology.html\"\n",
       "            frameborder=\"0\"\n",
       "            allowfullscreen\n",
       "            \n",
       "        ></iframe>\n",
       "        "
      ],
      "text/plain": [
       "<IPython.lib.display.IFrame at 0x2b4e9cf0b50>"
      ]
     },
     "execution_count": 75,
     "metadata": {},
     "output_type": "execute_result"
    }
   ],
   "source": [
    "from IPython.display import IFrame\n",
    "\n",
    "# # Display the graph inline in Jupyter Notebook\n",
    "IFrame(src=\"simple_uas_ontology.html\", width=800, height=600)\n"
   ]
  },
  {
   "cell_type": "code",
   "execution_count": null,
   "id": "ae7b801b-68c9-4620-a71a-2bb8218f69e4",
   "metadata": {},
   "outputs": [],
   "source": []
  }
 ],
 "metadata": {
  "kernelspec": {
   "display_name": "Python 3 (ipykernel)",
   "language": "python",
   "name": "python3"
  },
  "language_info": {
   "codemirror_mode": {
    "name": "ipython",
    "version": 3
   },
   "file_extension": ".py",
   "mimetype": "text/x-python",
   "name": "python",
   "nbconvert_exporter": "python",
   "pygments_lexer": "ipython3",
   "version": "3.11.9"
  }
 },
 "nbformat": 4,
 "nbformat_minor": 5
}
