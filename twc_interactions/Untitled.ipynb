{
 "cells": [
  {
   "cell_type": "code",
   "execution_count": 17,
   "id": "4b5aa9e0-1a63-4466-9bf4-4dd59eef8fdd",
   "metadata": {
    "tags": []
   },
   "outputs": [
    {
     "name": "stdout",
     "output_type": "stream",
     "text": [
      "Active code page: 65001\n",
      "\n"
     ]
    }
   ],
   "source": [
    "chcp 65001\n",
    "set PYTHONIOENCODING=utf-8\n",
    "set PYTHONUTF8=1\n"
   ]
  },
  {
   "cell_type": "code",
   "execution_count": 18,
   "id": "3c7bd0c1-8bb9-47e7-92a8-315f809dca41",
   "metadata": {
    "tags": []
   },
   "outputs": [
    {
     "name": "stdout",
     "output_type": "stream",
     "text": [
      "\n",
      "Traceback (most recent call last):\n",
      "  File \"C:\\Users\\JohnDeHart\\anaconda3\\envs\\twc_api_interactions\\lib\\runpy.py\", line 196, in _run_module_as_main\n",
      "    return _run_code(code, main_globals, None,\n",
      "  File \"C:\\Users\\JohnDeHart\\anaconda3\\envs\\twc_api_interactions\\lib\\runpy.py\", line 86, in _run_code\n",
      "    exec(code, run_globals)\n",
      "  File \"C:\\Users\\JohnDeHart\\anaconda3\\envs\\twc_api_interactions\\Scripts\\elyra-pipeline.exe\\__main__.py\", line 7, in <module>\n",
      "  File \"C:\\Users\\JohnDeHart\\AppData\\Roaming\\Python\\Python310\\site-packages\\click\\core.py\", line 1157, in __call__\n",
      "    return self.main(*args, **kwargs)\n",
      "  File \"C:\\Users\\JohnDeHart\\AppData\\Roaming\\Python\\Python310\\site-packages\\click\\core.py\", line 1078, in main\n",
      "    rv = self.invoke(ctx)\n",
      "  File \"C:\\Users\\JohnDeHart\\AppData\\Roaming\\Python\\Python310\\site-packages\\click\\core.py\", line 1688, in invoke\n",
      "    return _process_result(sub_ctx.command.invoke(sub_ctx))\n",
      "  File \"C:\\Users\\JohnDeHart\\AppData\\Roaming\\Python\\Python310\\site-packages\\click\\core.py\", line 1434, in invoke\n",
      "    return ctx.invoke(self.callback, **ctx.params)\n",
      "  File \"C:\\Users\\JohnDeHart\\AppData\\Roaming\\Python\\Python310\\site-packages\\click\\core.py\", line 783, in invoke\n",
      "    return __callback(*args, **kwargs)\n",
      "  File \"C:\\Users\\JohnDeHart\\anaconda3\\envs\\twc_api_interactions\\lib\\site-packages\\elyra\\cli\\pipeline_app.py\", line 460, in run\n",
      "    print_banner(\"Elyra Pipeline Local Run\")\n",
      "  File \"C:\\Users\\JohnDeHart\\anaconda3\\envs\\twc_api_interactions\\lib\\site-packages\\elyra\\cli\\pipeline_app.py\", line 247, in print_banner\n",
      "    click.echo(Fore.CYAN + \"\\u2500\\u2500\\u2500\\u2500\\u2500\\u2500\\u2500\\u2500\\u2500\\u2500\\u2500\\u2500\\u2500\\u2500\\u2500\\u2500\\u2500\\u2500\\u2500\\u2500\\u2500\\u2500\\u2500\\u2500\\u2500\\u2500\\u2500\\u2500\\u2500\\u2500\\u2500\\u2500\\u2500\\u2500\\u2500\\u2500\\u2500\\u2500\\u2500\\u2500\\u2500\\u2500\\u2500\\u2500\\u2500\\u2500\\u2500\\u2500\\u2500\\u2500\\u2500\\u2500\\u2500\\u2500\\u2500\\u2500\\u2500\\u2500\\u2500\\u2500\\u2500\\u2500\\u2500\\u2500\" + Style.RESET_ALL)\n",
      "  File \"C:\\Users\\JohnDeHart\\AppData\\Roaming\\Python\\Python310\\site-packages\\click\\utils.py\", line 318, in echo\n",
      "    file.write(out)  # type: ignore\n",
      "  File \"C:\\Users\\JohnDeHart\\anaconda3\\envs\\twc_api_interactions\\lib\\site-packages\\colorama\\ansitowin32.py\", line 47, in write\n",
      "    self.__convertor.write(text)\n",
      "  File \"C:\\Users\\JohnDeHart\\anaconda3\\envs\\twc_api_interactions\\lib\\site-packages\\colorama\\ansitowin32.py\", line 177, in write\n",
      "    self.write_and_convert(text)\n",
      "  File \"C:\\Users\\JohnDeHart\\anaconda3\\envs\\twc_api_interactions\\lib\\site-packages\\colorama\\ansitowin32.py\", line 205, in write_and_convert\n",
      "    self.write_plain_text(text, cursor, len(text))\n",
      "  File \"C:\\Users\\JohnDeHart\\anaconda3\\envs\\twc_api_interactions\\lib\\site-packages\\colorama\\ansitowin32.py\", line 210, in write_plain_text\n",
      "    self.wrapped.write(text[start:end])\n",
      "  File \"C:\\Users\\JohnDeHart\\anaconda3\\envs\\twc_api_interactions\\lib\\encodings\\cp1252.py\", line 19, in encode\n",
      "    return codecs.charmap_encode(input,self.errors,encoding_table)[0]\n",
      "UnicodeEncodeError: 'charmap' codec can't encode characters in position 0-63: character maps to <undefined>\n",
      "\n"
     ]
    }
   ],
   "source": [
    "elyra-pipeline run \"c:\\Users\\JohnDeHart\\Documents\\GitHub\\Notebooks\\twc_interactions\\update_box.pipeline\""
   ]
  },
  {
   "cell_type": "code",
   "execution_count": null,
   "id": "3948145c-3c01-4444-92eb-67ee44f90108",
   "metadata": {},
   "outputs": [],
   "source": []
  }
 ],
 "metadata": {
  "kernelspec": {
   "display_name": "Calysto Bash",
   "language": "bash",
   "name": "calysto_bash"
  },
  "language_info": {
   "file_extension": ".sh",
   "help_links": [
    {
     "text": "MetaKernel Magics",
     "url": "https://metakernel.readthedocs.io/en/latest/source/README.html"
    }
   ],
   "mimetype": "text/x-sh",
   "name": "bash",
   "version": "0.2.2"
  }
 },
 "nbformat": 4,
 "nbformat_minor": 5
}
