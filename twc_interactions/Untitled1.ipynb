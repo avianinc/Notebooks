{
 "cells": [
  {
   "cell_type": "code",
   "execution_count": 2,
   "id": "82764b45-7bf3-47ef-a3ef-1e0473d9a5a5",
   "metadata": {
    "tags": []
   },
   "outputs": [
    {
     "name": "stdout",
     "output_type": "stream",
     "text": [
      "\n"
     ]
    },
    {
     "name": "stderr",
     "output_type": "stream",
     "text": [
      "Traceback (most recent call last):\n",
      "  File \"C:\\Users\\JohnDeHart\\anaconda3\\envs\\twc_api_interactions\\lib\\runpy.py\", line 196, in _run_module_as_main\n",
      "    return _run_code(code, main_globals, None,\n",
      "  File \"C:\\Users\\JohnDeHart\\anaconda3\\envs\\twc_api_interactions\\lib\\runpy.py\", line 86, in _run_code\n",
      "    exec(code, run_globals)\n",
      "  File \"C:\\Users\\JohnDeHart\\anaconda3\\envs\\twc_api_interactions\\Scripts\\elyra-pipeline.exe\\__main__.py\", line 7, in <module>\n",
      "  File \"C:\\Users\\JohnDeHart\\AppData\\Roaming\\Python\\Python310\\site-packages\\click\\core.py\", line 1157, in __call__\n",
      "    return self.main(*args, **kwargs)\n",
      "  File \"C:\\Users\\JohnDeHart\\AppData\\Roaming\\Python\\Python310\\site-packages\\click\\core.py\", line 1078, in main\n",
      "    rv = self.invoke(ctx)\n",
      "  File \"C:\\Users\\JohnDeHart\\AppData\\Roaming\\Python\\Python310\\site-packages\\click\\core.py\", line 1688, in invoke\n",
      "    return _process_result(sub_ctx.command.invoke(sub_ctx))\n",
      "  File \"C:\\Users\\JohnDeHart\\AppData\\Roaming\\Python\\Python310\\site-packages\\click\\core.py\", line 1434, in invoke\n",
      "    return ctx.invoke(self.callback, **ctx.params)\n",
      "  File \"C:\\Users\\JohnDeHart\\AppData\\Roaming\\Python\\Python310\\site-packages\\click\\core.py\", line 783, in invoke\n",
      "    return __callback(*args, **kwargs)\n",
      "  File \"C:\\Users\\JohnDeHart\\anaconda3\\envs\\twc_api_interactions\\lib\\site-packages\\elyra\\cli\\pipeline_app.py\", line 460, in run\n",
      "    print_banner(\"Elyra Pipeline Local Run\")\n",
      "  File \"C:\\Users\\JohnDeHart\\anaconda3\\envs\\twc_api_interactions\\lib\\site-packages\\elyra\\cli\\pipeline_app.py\", line 247, in print_banner\n",
      "    click.echo(Fore.CYAN + \"\\u2500\\u2500\\u2500\\u2500\\u2500\\u2500\\u2500\\u2500\\u2500\\u2500\\u2500\\u2500\\u2500\\u2500\\u2500\\u2500\\u2500\\u2500\\u2500\\u2500\\u2500\\u2500\\u2500\\u2500\\u2500\\u2500\\u2500\\u2500\\u2500\\u2500\\u2500\\u2500\\u2500\\u2500\\u2500\\u2500\\u2500\\u2500\\u2500\\u2500\\u2500\\u2500\\u2500\\u2500\\u2500\\u2500\\u2500\\u2500\\u2500\\u2500\\u2500\\u2500\\u2500\\u2500\\u2500\\u2500\\u2500\\u2500\\u2500\\u2500\\u2500\\u2500\\u2500\\u2500\" + Style.RESET_ALL)\n",
      "  File \"C:\\Users\\JohnDeHart\\AppData\\Roaming\\Python\\Python310\\site-packages\\click\\utils.py\", line 318, in echo\n",
      "    file.write(out)  # type: ignore\n",
      "  File \"C:\\Users\\JohnDeHart\\anaconda3\\envs\\twc_api_interactions\\lib\\site-packages\\colorama\\ansitowin32.py\", line 47, in write\n",
      "    self.__convertor.write(text)\n",
      "  File \"C:\\Users\\JohnDeHart\\anaconda3\\envs\\twc_api_interactions\\lib\\site-packages\\colorama\\ansitowin32.py\", line 177, in write\n",
      "    self.write_and_convert(text)\n",
      "  File \"C:\\Users\\JohnDeHart\\anaconda3\\envs\\twc_api_interactions\\lib\\site-packages\\colorama\\ansitowin32.py\", line 205, in write_and_convert\n",
      "    self.write_plain_text(text, cursor, len(text))\n",
      "  File \"C:\\Users\\JohnDeHart\\anaconda3\\envs\\twc_api_interactions\\lib\\site-packages\\colorama\\ansitowin32.py\", line 210, in write_plain_text\n",
      "    self.wrapped.write(text[start:end])\n",
      "  File \"C:\\Users\\JohnDeHart\\anaconda3\\envs\\twc_api_interactions\\lib\\encodings\\cp1252.py\", line 19, in encode\n",
      "    return codecs.charmap_encode(input,self.errors,encoding_table)[0]\n",
      "UnicodeEncodeError: 'charmap' codec can't encode characters in position 0-63: character maps to <undefined>\n"
     ]
    }
   ],
   "source": [
    "!elyra-pipeline run C:\\Users\\JohnDeHart\\Documents\\GitHub\\Notebooks\\twc_interactions\\update_box.pipeline"
   ]
  },
  {
   "cell_type": "code",
   "execution_count": null,
   "id": "de8c4a74-a91b-40f3-8421-96c4517d4e83",
   "metadata": {},
   "outputs": [],
   "source": []
  }
 ],
 "metadata": {
  "kernelspec": {
   "display_name": "Python 3 (ipykernel)",
   "language": "python",
   "name": "python3"
  },
  "language_info": {
   "codemirror_mode": {
    "name": "ipython",
    "version": 3
   },
   "file_extension": ".py",
   "mimetype": "text/x-python",
   "name": "python",
   "nbconvert_exporter": "python",
   "pygments_lexer": "ipython3",
   "version": "3.10.14"
  }
 },
 "nbformat": 4,
 "nbformat_minor": 5
}
