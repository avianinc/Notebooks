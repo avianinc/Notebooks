{
 "cells": [
  {
   "cell_type": "code",
   "execution_count": 15,
   "id": "1e5b34a7-e06d-4f17-9aa7-78b68e0b540c",
   "metadata": {
    "tags": []
   },
   "outputs": [
    {
     "name": "stdout",
     "output_type": "stream",
     "text": [
      "Error output from the command: Error: Pipeline validation FAILED. The pipeline was not run.\n",
      "\n"
     ]
    }
   ],
   "source": [
    "import subprocess\n",
    "\n",
    "# Define the command and parameters\n",
    "command = [\n",
    "    'elyra-pipeline', 'run', \n",
    "    'c:\\\\Users\\\\JohnDeHart\\\\Documents\\\\GitHub\\\\Notebooks\\\\twc_interactions\\\\update_box.pipeline'\n",
    "]\n",
    "\n",
    "# Try to run the subprocess command, catching exceptions\n",
    "try:\n",
    "    # Run the subprocess with UTF-8 encoding\n",
    "    result = subprocess.run(command, capture_output=True, text=True, encoding='utf-8', check=True)\n",
    "    # Print the standard output\n",
    "    print(\"Output:\", result.stdout)\n",
    "except subprocess.CalledProcessError as e:\n",
    "    # Print the standard error output that caused the failure\n",
    "    print(\"Error output from the command:\", e.stderr)\n"
   ]
  },
  {
   "cell_type": "code",
   "execution_count": null,
   "id": "f478d9f4-2c0f-411f-a5c7-5455754ea118",
   "metadata": {},
   "outputs": [],
   "source": []
  }
 ],
 "metadata": {
  "kernelspec": {
   "display_name": "Python 3 (ipykernel)",
   "language": "python",
   "name": "python3"
  },
  "language_info": {
   "codemirror_mode": {
    "name": "ipython",
    "version": 3
   },
   "file_extension": ".py",
   "mimetype": "text/x-python",
   "name": "python",
   "nbconvert_exporter": "python",
   "pygments_lexer": "ipython3",
   "version": "3.10.14"
  }
 },
 "nbformat": 4,
 "nbformat_minor": 5
}
