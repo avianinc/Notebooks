{
 "cells": [
  {
   "cell_type": "markdown",
   "id": "c0ffac4a-c195-42d6-a9d6-4a54cad57321",
   "metadata": {},
   "source": [
    "# An interesting knowledge graph + RAG implementation\n",
    "https://blog.langchain.dev/enhancing-rag-based-applications-accuracy-by-constructing-and-leveraging-knowledge-graphs/"
   ]
  },
  {
   "cell_type": "markdown",
   "id": "67192b15-eb88-429c-a234-c5d0e42893a1",
   "metadata": {},
   "source": [
    "Neo4j Environment Setup\n",
    "You can also set up a local instance of the Neo4j database by downloading the Neo4j Desktop application and creating a local database instance."
   ]
  },
  {
   "cell_type": "code",
   "execution_count": 1,
   "id": "447c6e3e-5884-4c7f-b543-084e66231b53",
   "metadata": {},
   "outputs": [],
   "source": [
    "# Start a neo4j server \n",
    "# https://neo4j.com/docs/operations-manual/current/docker/introduction/\n",
    "#!docker run --restart always --publish=7474:7474 --publish=7687:7687 --env NEO4J_AUTH=neo4j/admin1234 neo4j:5.19.0"
   ]
  },
  {
   "cell_type": "code",
   "execution_count": 2,
   "id": "dd2f0ee2-ea49-4e82-be74-ab8e5cced9a4",
   "metadata": {},
   "outputs": [],
   "source": [
    "# Install dependancies\n",
    "#!pip install graphdatascience openai neo4j wikipedia langchain matplotlib networkx langchain_experimental"
   ]
  },
  {
   "cell_type": "code",
   "execution_count": 3,
   "id": "94e9aa64-e159-46b3-bdce-45e04b8f583a",
   "metadata": {
    "tags": []
   },
   "outputs": [],
   "source": [
    "import os\n",
    "import neo4j\n",
    "from neo4j import GraphDatabase\n",
    "import openai\n",
    "\n",
    "# Setting environment variables\n",
    "os.environ[\"NEO4J_URI\"] = \"bolt://localhost:7687\" #http://localhost:7474/browser/\n",
    "os.environ[\"NEO4J_USERNAME\"] = \"neo4j\"\n",
    "os.environ[\"NEO4J_PASSWORD\"] = \"admin1234\"\n",
    "\n",
    "# Initialize OpenAI client\n",
    "# Retrieve the OpenAI API key from environment variables\n",
    "openai_api_key = os.getenv(\"OPENAI_API_KEY\")"
   ]
  },
  {
   "cell_type": "code",
   "execution_count": 4,
   "id": "e7aa9584-7bc8-4f4a-af8e-b5778a7335d5",
   "metadata": {
    "tags": []
   },
   "outputs": [
    {
     "ename": "NameError",
     "evalue": "name 'Neo4jGraph' is not defined",
     "output_type": "error",
     "traceback": [
      "\u001b[1;31m---------------------------------------------------------------------------\u001b[0m",
      "\u001b[1;31mNameError\u001b[0m                                 Traceback (most recent call last)",
      "Cell \u001b[1;32mIn[4], line 1\u001b[0m\n\u001b[1;32m----> 1\u001b[0m graph \u001b[38;5;241m=\u001b[39m \u001b[43mNeo4jGraph\u001b[49m()\n",
      "\u001b[1;31mNameError\u001b[0m: name 'Neo4jGraph' is not defined"
     ]
    }
   ],
   "source": [
    "graph = Neo4jGraph()"
   ]
  },
  {
   "cell_type": "markdown",
   "id": "9b9e66cc-96de-40b5-8383-a1d27fd0d0c5",
   "metadata": {},
   "source": [
    "For this demonstration, we will use Elizabeth I’s Wikipedia page. We can utilize LangChain loaders to fetch and split the documents from Wikipedia seamlessly."
   ]
  },
  {
   "cell_type": "code",
   "execution_count": 5,
   "id": "24dd6b17-3cb9-4e6e-a100-f06cf87d482e",
   "metadata": {
    "tags": []
   },
   "outputs": [
    {
     "ename": "NameError",
     "evalue": "name 'WikipediaLoader' is not defined",
     "output_type": "error",
     "traceback": [
      "\u001b[1;31m---------------------------------------------------------------------------\u001b[0m",
      "\u001b[1;31mNameError\u001b[0m                                 Traceback (most recent call last)",
      "Cell \u001b[1;32mIn[5], line 10\u001b[0m\n\u001b[0;32m      7\u001b[0m \u001b[38;5;28;01mfrom\u001b[39;00m \u001b[38;5;21;01mneo4j\u001b[39;00m \u001b[38;5;28;01mimport\u001b[39;00m GraphDatabase\n\u001b[0;32m      9\u001b[0m \u001b[38;5;66;03m# Read the wikipedia article\u001b[39;00m\n\u001b[1;32m---> 10\u001b[0m raw_documents \u001b[38;5;241m=\u001b[39m \u001b[43mWikipediaLoader\u001b[49m(query\u001b[38;5;241m=\u001b[39m\u001b[38;5;124m\"\u001b[39m\u001b[38;5;124mElizabeth I\u001b[39m\u001b[38;5;124m\"\u001b[39m)\u001b[38;5;241m.\u001b[39mload()\n\u001b[0;32m     12\u001b[0m \u001b[38;5;66;03m# Define chunking strategy\u001b[39;00m\n\u001b[0;32m     13\u001b[0m text_splitter \u001b[38;5;241m=\u001b[39m TokenTextSplitter(chunk_size\u001b[38;5;241m=\u001b[39m\u001b[38;5;241m512\u001b[39m, chunk_overlap\u001b[38;5;241m=\u001b[39m\u001b[38;5;241m24\u001b[39m)\n",
      "\u001b[1;31mNameError\u001b[0m: name 'WikipediaLoader' is not defined"
     ]
    }
   ],
   "source": [
    "import os\n",
    "import networkx as nx\n",
    "import matplotlib.pyplot as plt\n",
    "from langchain import OpenAI\n",
    "from langchain.graphs.neo4j_graph import Neo4jGraph\n",
    "from langchain_experimental.graph_transformers import LLMGraphTransformer\n",
    "from neo4j import GraphDatabase\n",
    "from langchain_community.document_loaders import WikipediaLoader\n",
    "\n",
    "\n",
    "# Read the wikipedia article\n",
    "raw_documents = WikipediaLoader(query=\"Elizabeth I\").load()\n",
    "\n",
    "# Define chunking strategy\n",
    "text_splitter = TokenTextSplitter(chunk_size=512, chunk_overlap=24)\n",
    "documents = text_splitter.split_documents(raw_documents[:3])"
   ]
  },
  {
   "cell_type": "markdown",
   "id": "b8e77f59-8393-4cae-bf73-e85f7b24207e",
   "metadata": {},
   "source": [
    "Now it’s time to construct a graph based on the retrieved documents. For this purpose, we have implemented an LLMGraphTransformermodule that significantly simplifies constructing and storing a knowledge graph in a graph database."
   ]
  },
  {
   "cell_type": "code",
   "execution_count": null,
   "id": "56946b51-0463-4029-978e-96be8f22a7f0",
   "metadata": {
    "tags": []
   },
   "outputs": [],
   "source": [
    "llm=ChatOpenAI(temperature=0, model_name=\"gpt-4-0125-preview\")\n",
    "llm_transformer = LLMGraphTransformer(llm=llm)\n",
    "\n",
    "# Extract graph data\n",
    "graph_documents = llm_transformer.convert_to_graph_documents(documents)\n",
    "\n",
    "# Store to neo4j\n",
    "graph.add_graph_documents(\n",
    "  graph_documents, \n",
    "  baseEntityLabel=True, \n",
    "  include_source=True\n",
    ")"
   ]
  },
  {
   "cell_type": "code",
   "execution_count": null,
   "id": "2b7cde76-912b-4e00-9e7b-ab5f0a40e8f8",
   "metadata": {
    "tags": []
   },
   "outputs": [],
   "source": [
    "# Connect to Neo4j database\n",
    "neo4j_graph = Neo4jGraph(\n",
    "    uri=os.environ[\"NEO4J_URI\"],\n",
    "    username=os.environ[\"NEO4J_USERNAME\"],\n",
    "    password=os.environ[\"NEO4J_PASSWORD\"]\n",
    ")\n",
    "\n",
    "# Add graph documents to Neo4j\n",
    "neo4j_graph.add_graph_documents(\n",
    "    graph_documents, \n",
    "    baseEntityLabel=True, \n",
    "    include_source=True\n",
    ")\n",
    "\n",
    "# Query the graph data for visualization\n",
    "driver = GraphDatabase.driver(\n",
    "    os.environ[\"NEO4J_URI\"],\n",
    "    auth=(os.environ[\"NEO4J_USERNAME\"], os.environ[\"NEO4J_PASSWORD\"])\n",
    ")\n",
    "\n",
    "def query_graph(tx):\n",
    "    query = \"\"\"\n",
    "    MATCH (a)-[r]->(b)\n",
    "    RETURN a.name AS from, b.name AS to, type(r) AS relationship\n",
    "    \"\"\"\n",
    "    result = tx.run(query)\n",
    "    return list(result)\n",
    "\n",
    "with driver.session() as session:\n",
    "    graph_data = session.read_transaction(query_graph)\n",
    "\n",
    "# Create a NetworkX graph\n",
    "G = nx.DiGraph()\n",
    "for record in graph_data:\n",
    "    G.add_edge(record[\"from\"], record[\"to\"], relationship=record[\"relationship\"])\n",
    "\n",
    "# Plot the graph using NetworkX and Matplotlib\n",
    "pos = nx.spring_layout(G)\n",
    "plt.figure(figsize=(10, 7))\n",
    "nx.draw(G, pos, with_labels=True, node_color=\"lightblue\", font_size=12, font_weight=\"bold\", edge_color=\"gray\")\n",
    "edge_labels = nx.get_edge_attributes(G, \"relationship\")\n",
    "nx.draw_networkx_edge_labels(G, pos, edge_labels=edge_labels)\n",
    "plt.title(\"Neo4j Graph Visualization\")\n",
    "plt.show()\n",
    "\n",
    "# Close Neo4j connection\n",
    "driver.close()"
   ]
  },
  {
   "cell_type": "code",
   "execution_count": null,
   "id": "94eb20fd-4b0b-48ad-abfc-2f3d34f974f8",
   "metadata": {},
   "outputs": [],
   "source": []
  }
 ],
 "metadata": {
  "kernelspec": {
   "display_name": "Python 3 (ipykernel)",
   "language": "python",
   "name": "python3"
  },
  "language_info": {
   "codemirror_mode": {
    "name": "ipython",
    "version": 3
   },
   "file_extension": ".py",
   "mimetype": "text/x-python",
   "name": "python",
   "nbconvert_exporter": "python",
   "pygments_lexer": "ipython3",
   "version": "3.10.14"
  }
 },
 "nbformat": 4,
 "nbformat_minor": 5
}
