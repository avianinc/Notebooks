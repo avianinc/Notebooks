{
 "cells": [
  {
   "cell_type": "markdown",
   "id": "84c1130b-00ac-4bf5-adc2-6440992818c3",
   "metadata": {},
   "source": [
    "## API Interaction - Push Dataframe to ADT Project\n",
    "In this example we log into a remote teamworkcloud instance and update a model with data from a local json file.\n",
    "\n",
    "Steps:\n",
    "1. Read in the Vendor data json\n",
    "2. Login to the TWC API Server\n",
    "3. Retrieve a list of the workspaces (called categories in the TWC GUI)\n",
    "4. Select the workspace to retrieve a list of projects\n",
    "5. Retrieve a list project from the defined workspace\n",
    "6. Select an ADT project to retrieve all elements (in memory json file)\n",
    "7. Retrieve Literal Reals with Names\n",
    "8. Match the ADT Values with the Vendor Values\n",
    "9. Update the ADT Model (just block for now) \n"
   ]
  },
  {
   "cell_type": "code",
   "execution_count": 1,
   "id": "4af5975a-9e49-419c-9f74-98dd6dd7dea6",
   "metadata": {},
   "outputs": [],
   "source": [
    "# A little set up\n",
    "import json\n",
    "import requests # performs the curl function in python\n",
    "import ipywidgets as widgets\n",
    "from ipywidgets import Dropdown\n",
    "from IPython.display import display\n",
    "import pandas as pd\n",
    "\n",
    "import warnings\n",
    "warnings.filterwarnings('ignore')\n",
    "\n",
    "import time\n",
    "from anytree import Node, RenderTree"
   ]
  },
  {
   "cell_type": "code",
   "execution_count": 2,
   "id": "eedcf80b-f265-49d2-be93-9138f67c5493",
   "metadata": {
    "tags": []
   },
   "outputs": [],
   "source": [
    "# Load the model dataframe\n",
    "# Reading from a JSON array\n",
    "df_input = pd.read_json('vendorA.json')"
   ]
  },
  {
   "cell_type": "code",
   "execution_count": 4,
   "id": "0edc622a-953e-4400-aab7-686add9ef200",
   "metadata": {},
   "outputs": [
    {
     "name": "stdout",
     "output_type": "stream",
     "text": [
      "{\n",
      "    \"@base\": \"https://10.107.1.92:8111/osmc/workspaces?includeBody=True\",\n",
      "    \"ldp:contains\": [\n",
      "        [\n",
      "            {\n",
      "                \"ldp:membershipResource\": {\n",
      "                    \"@id\": \"#432c4ed1-326c-42c3-969e-8709461f71ab\"\n",
      "                },\n",
      "                \"@type\": [\n",
      "                    \"ldp:DirectContainer\",\n",
      "                    \"kerml:Workspace\"\n",
      "                ],\n",
      "                \"ldp:contains\": [\n",
      "                    {\n",
      "                        \"@id\": \"35027dd8-cc27-4049-9019-8dc1f518a476\"\n",
      "                    },\n",
      "                    {\n",
      "                        \"@id\": \"4b3e742b-8eb7-44fb-8745-c9b8f2dfedc6\"\n",
      "                    }\n",
      "                ],\n",
      "                \"ldp:hasMemberRelation\": \"kerml:resources\",\n",
      "                \"@id\": \"432c4ed1-326c-42c3-969e-8709461f71ab\",\n",
      "                \"@context\": \"https://10.107.1.92:8111/osmc/schemas/workspaceContainer\"\n",
      "            },\n",
      "            {\n",
      "                \"@base\": \"https://10.107.1.92:8111/workspaces/432c4ed1-326c-42c3-969e-8709461f71ab/resources\",\n",
      "                \"createdDate\": 1616698645,\n",
      "                \"@type\": [\n",
      "                    \"kerml:Workspace\"\n",
      "                ],\n",
      "                \"modifiedDate\": 1618242936,\n",
      "                \"dcterms:description\": \"\",\n",
      "                \"dcterms:title\": \"Test\",\n",
      "                \"@id\": \"#432c4ed1-326c-42c3-969e-8709461f71ab\",\n",
      "                \"kerml:resources\": [\n",
      "                    {\n",
      "                        \"@id\": \"35027dd8-cc27-4049-9019-8dc1f518a476\"\n",
      "                    },\n",
      "                    {\n",
      "                        \"@id\": \"4b3e742b-8eb7-44fb-8745-c9b8f2dfedc6\"\n",
      "                    }\n",
      "                ],\n",
      "                \"@context\": \"https://10.107.1.92:8111/osmc/schemas/workspace\"\n",
      "            }\n",
      "        ],\n",
      "        [\n",
      "            {\n",
      "                \"ldp:membershipResource\": {\n",
      "                    \"@id\": \"#9f233fc7-2c2e-4d78-a777-b4b4c19b39b1\"\n",
      "                },\n",
      "                \"@type\": [\n",
      "                    \"ldp:DirectContainer\",\n",
      "                    \"kerml:Workspace\"\n",
      "                ],\n",
      "                \"ldp:contains\": [\n",
      "                    {\n",
      "                        \"@id\": \"be6b6945-db87-4e35-933a-d0d7e3a25e12\"\n",
      "                    }\n",
      "                ],\n",
      "                \"ldp:hasMemberRelation\": \"kerml:resources\",\n",
      "                \"@id\": \"9f233fc7-2c2e-4d78-a777-b4b4c19b39b1\",\n",
      "                \"@context\": \"https://10.107.1.92:8111/osmc/schemas/workspaceContainer\"\n",
      "            },\n",
      "            {\n",
      "                \"@base\": \"https://10.107.1.92:8111/workspaces/9f233fc7-2c2e-4d78-a777-b4b4c19b39b1/resources\",\n",
      "                \"createdDate\": 1714405289,\n",
      "                \"@type\": [\n",
      "                    \"kerml:Workspace\"\n",
      "                ],\n",
      "                \"modifiedDate\": 1714405485,\n",
      "                \"dcterms:description\": \"\",\n",
      "                \"dcterms:title\": \"Vendor_Workspaces\",\n",
      "                \"@id\": \"#9f233fc7-2c2e-4d78-a777-b4b4c19b39b1\",\n",
      "                \"kerml:resources\": [\n",
      "                    {\n",
      "                        \"@id\": \"be6b6945-db87-4e35-933a-d0d7e3a25e12\"\n",
      "                    }\n",
      "                ],\n",
      "                \"@context\": \"https://10.107.1.92:8111/osmc/schemas/workspace\"\n",
      "            }\n",
      "        ],\n",
      "        [\n",
      "            {\n",
      "                \"ldp:membershipResource\": {\n",
      "                    \"@id\": \"#4d6ce495-1273-452c-a548-36fcd922184e\"\n",
      "                },\n",
      "                \"@type\": [\n",
      "                    \"ldp:DirectContainer\",\n",
      "                    \"kerml:Workspace\"\n",
      "                ],\n",
      "                \"ldp:contains\": [\n",
      "                    {\n",
      "                        \"@id\": \"f2a7e00c-4f4b-4e5d-993b-c62304b2a5f2\"\n",
      "                    },\n",
      "                    {\n",
      "                        \"@id\": \"37623397-27ae-434e-bfaf-aca36d82ff8d\"\n",
      "                    }\n",
      "                ],\n",
      "                \"ldp:hasMemberRelation\": \"kerml:resources\",\n",
      "                \"@id\": \"4d6ce495-1273-452c-a548-36fcd922184e\",\n",
      "                \"@context\": \"https://10.107.1.92:8111/osmc/schemas/workspaceContainer\"\n",
      "            },\n",
      "            {\n",
      "                \"@base\": \"https://10.107.1.92:8111/workspaces/4d6ce495-1273-452c-a548-36fcd922184e/resources\",\n",
      "                \"createdDate\": 1714488342,\n",
      "                \"@type\": [\n",
      "                    \"kerml:Workspace\"\n",
      "                ],\n",
      "                \"modifiedDate\": 1714488342,\n",
      "                \"dcterms:description\": \"Uncategorized\",\n",
      "                \"dcterms:title\": \"Uncategorized\",\n",
      "                \"@id\": \"#4d6ce495-1273-452c-a548-36fcd922184e\",\n",
      "                \"kerml:resources\": [\n",
      "                    {\n",
      "                        \"@id\": \"f2a7e00c-4f4b-4e5d-993b-c62304b2a5f2\"\n",
      "                    },\n",
      "                    {\n",
      "                        \"@id\": \"37623397-27ae-434e-bfaf-aca36d82ff8d\"\n",
      "                    }\n",
      "                ],\n",
      "                \"@context\": \"https://10.107.1.92:8111/osmc/schemas/workspace\"\n",
      "            }\n",
      "        ]\n",
      "    ],\n",
      "    \"@type\": [\n",
      "        \"ldp:Container\",\n",
      "        \"ldp:BasicContainer\"\n",
      "    ],\n",
      "    \"@id\": \"\",\n",
      "    \"@context\": \"https://10.107.1.92:8111/osmc/schemas/workspaces\"\n",
      "}\n"
     ]
    }
   ],
   "source": [
    "# Lets get a list of workspaces from the teamworkcloud server\n",
    "# API --> https://18.205.77.131:8111/osmc/swagger/?url=https%3A%2F%2F18.205.77.131%3A8111%2Fosmc%2Fmanual\n",
    "#serverIp = '18.205.77.131' # Avian server\n",
    "serverIp = '10.107.1.92' # Avian server\n",
    "serverPort = '8111'\n",
    "call = '/osmc/workspaces?includeBody=True'\n",
    "#authId = \"amRlaGFydDpqa2QyMjE0MDA=\"\n",
    "authId = \"amRlaGFydDpSemhlZ3hoQ1RoWmY=\"\n",
    "url = f'https://{serverIp}:{serverPort}{call}'\n",
    "headers={\"accept\":\"application/ld+json\",\"authorization\":f\"Basic {authId}\"}\n",
    "resp_ws = requests.get(url,headers=headers, verify=False) # turn of verification here since our server is not super secure\n",
    "workspaces = resp_ws.json() # Convert the response content to a json format\n",
    "print(json.dumps(workspaces, indent=4))"
   ]
  },
  {
   "cell_type": "code",
   "execution_count": 169,
   "id": "987ff411-4b07-4894-b2a8-95e74dc71d1a",
   "metadata": {},
   "outputs": [
    {
     "data": {
      "application/vnd.jupyter.widget-view+json": {
       "model_id": "62bf028b8feb4c0cb5f074985f133b15",
       "version_major": 2,
       "version_minor": 0
      },
      "text/plain": [
       "Dropdown(description='Workspaces:', options=('API Testing', 'Training Models', 'Resources', 'vendorA workspace…"
      ]
     },
     "metadata": {},
     "output_type": "display_data"
    }
   ],
   "source": [
    "# lets create a combobox to list the avalible workspaces\n",
    "# Build arrays of the items\n",
    "workspaceIds = {}\n",
    "workspaceNames = {}\n",
    "\n",
    "# Lets build a list of workspaces for selection\n",
    "for i in range(len(workspaces[\"ldp:contains\"])):\n",
    "    workspaceIds[i] = workspaces[\"ldp:contains\"][i][0]['@id']\n",
    "    workspaceNames[i] = workspaces[\"ldp:contains\"][i][1][\"dcterms:title\"]\n",
    "\n",
    "# Fuction to monitor change of dropdown\n",
    "def dropdown_eventhandler(change):\n",
    "    print(change.new) # Write the selected item to the log\n",
    "\n",
    "# Now create a dropdown list of the avalible workspaces\n",
    "ws = widgets.Dropdown(options = workspaceNames.values(), description = 'Workspaces:')\n",
    "ws.observe(dropdown_eventhandler, names='value')\n",
    "\n",
    "# Displya the combobox\n",
    "display(ws)"
   ]
  },
  {
   "cell_type": "code",
   "execution_count": 170,
   "id": "4331c729-96fe-4b63-8d65-028a63adb28f",
   "metadata": {},
   "outputs": [
    {
     "data": {
      "text/plain": [
       "'d56ad3f1-ded3-4745-ab60-4e20c6202f9f'"
      ]
     },
     "execution_count": 170,
     "metadata": {},
     "output_type": "execute_result"
    }
   ],
   "source": [
    "# Lets match up the id from the selected workspace (poor implementation)\n",
    "wsIndex = list(filter(lambda x: workspaceNames[x] == ws.value, range(len(workspaceNames))))\n",
    "workspaceId = workspaceIds[wsIndex[0]]\n",
    "workspaceId"
   ]
  },
  {
   "cell_type": "code",
   "execution_count": 171,
   "id": "1350666b-8109-4633-94e0-2fa7b38c5862",
   "metadata": {},
   "outputs": [
    {
     "data": {
      "text/plain": [
       "[{'@id': '311d8a89-bc15-475d-8f25-efe36d00f966'}]"
      ]
     },
     "execution_count": 171,
     "metadata": {},
     "output_type": "execute_result"
    }
   ],
   "source": [
    "# Now lets list the models that are withing the selected workspace and place them in a dropbox\n",
    "# Ok... lets continue and list all of the the projects by project UID in this workspace\n",
    "call = f'/osmc/workspaces/{workspaceId}/resources'\n",
    "url = f'https://{serverIp}:{serverPort}{call}'\n",
    "resp_projects = requests.get(url,headers=headers, verify=False) # turn of verification here since our server is not super secure\n",
    "projectsList = resp_projects.json()\n",
    "projectsUidList = projectsList[1]['kerml:resources'] # Let just extract the UIDs for each project\n",
    "projectsUidList"
   ]
  },
  {
   "cell_type": "markdown",
   "id": "cad3a9b1-e45e-4f36-a583-8ee1b7c2bf78",
   "metadata": {},
   "source": [
    "## So you can see we show the ADT model uuid"
   ]
  },
  {
   "cell_type": "code",
   "execution_count": 172,
   "id": "a6fe0c52-9982-4e2d-859e-cd9ddc7f4026",
   "metadata": {},
   "outputs": [],
   "source": [
    "# Lets loop throug the projects and create a dictionary of the resource (or model) details\n",
    "projectsData = {}\n",
    "for i in range(len(projectsUidList)):\n",
    "    resourceId = projectsUidList[i]['@id'] # select the values for each id in the projectList\n",
    "    call = f'/osmc/workspaces/{workspaceId}/resources/{resourceId}'\n",
    "    url = f'https://{serverIp}:{serverPort}{call}'\n",
    "    resp_projects = requests.get(url,headers=headers, verify=False) # turn of verification here since our server is not super secure\n",
    "    #projectsData = json.dumps(resp_projects.json(), indent=4)\n",
    "    projectsData[i] = resp_projects.json()\n",
    "#print(json.dumps(projectsData, indent=4))"
   ]
  },
  {
   "cell_type": "code",
   "execution_count": 173,
   "id": "230ddde7-297f-47b6-a3bf-cac8be7b75fa",
   "metadata": {},
   "outputs": [
    {
     "data": {
      "application/vnd.jupyter.widget-view+json": {
       "model_id": "f2242681af56448086f5c82020359e6d",
       "version_major": 2,
       "version_minor": 0
      },
      "text/plain": [
       "Dropdown(description='Projects:', options=('ADT_Model',), value='ADT_Model')"
      ]
     },
     "metadata": {},
     "output_type": "display_data"
    }
   ],
   "source": [
    "# lets create a combobox to list the avalible projects (models) in this workspace\n",
    "# Build arrays of the items\n",
    "projectIds = {}\n",
    "projectNames = {}\n",
    "\n",
    "# Lets build a list of workspaces for selection\n",
    "for i in range(len(projectsData)):\n",
    "    projectIds[i] = projectsData[i]['@base'].split(\"/\")[7]\n",
    "    projectNames[i] = projectsData[i]['metadata']['name'].split(\".\")[0]\n",
    "\n",
    "# Now create a dropdown list of the avalible projects\n",
    "prj = widgets.Dropdown(options = projectNames.values(), description = 'Projects:')\n",
    "prj.observe(dropdown_eventhandler, names='value')\n",
    "\n",
    "# Displya the combobox\n",
    "display(prj)"
   ]
  },
  {
   "cell_type": "code",
   "execution_count": 174,
   "id": "200a5f0d-5994-42ea-942e-05a0f8412633",
   "metadata": {},
   "outputs": [
    {
     "data": {
      "text/plain": [
       "'311d8a89-bc15-475d-8f25-efe36d00f966'"
      ]
     },
     "execution_count": 174,
     "metadata": {},
     "output_type": "execute_result"
    }
   ],
   "source": [
    "# Lets match up the id from the selected workspace (poor implementation)\n",
    "prjIndex = list(filter(lambda x: projectNames[x] == prj.value, range(len(projectNames))))\n",
    "projectId = projectIds[prjIndex[0]]\n",
    "projectId"
   ]
  },
  {
   "cell_type": "code",
   "execution_count": 175,
   "id": "a2b00f38-1ed4-49ca-8d95-1274fea2398f",
   "metadata": {},
   "outputs": [
    {
     "data": {
      "text/plain": [
       "9"
      ]
     },
     "execution_count": 175,
     "metadata": {},
     "output_type": "execute_result"
    }
   ],
   "source": [
    "# Ok so here is the wierd part... there is not direct way to extract the elements of a project (or model)\n",
    "# So we have to perform a 'diff' between the elements of the initial commit and the latest revision. \n",
    "\n",
    "# So lets get the latest revision number (or max revision number)\n",
    "# curl -X GET \"https://18.205.77.131:8111/osmc/workspaces/bb95d8f4-fae4-490c-b764-4f83e3bba4f5/resources/272e28f2-45b7-45cb-a016-800ba747e716/revisions\" -H \"accept: application/json\"\n",
    "call = f'/osmc/workspaces/{workspaceId}/resources/{projectId}/revisions'\n",
    "url = f'https://{serverIp}:{serverPort}{call}'\n",
    "resp_revList = requests.get(url,headers=headers, verify=False) # turn of verification here since our server is not super secure\n",
    "revisionList = resp_revList.json()\n",
    "latestRevision = max(revisionList)\n",
    "latestRevision"
   ]
  },
  {
   "cell_type": "code",
   "execution_count": 176,
   "id": "fbd61a9f-661a-43f6-8f4b-1cdf11214e4b",
   "metadata": {},
   "outputs": [],
   "source": [
    "# Then to get the diff use the following to compair revision 1 to revision max... this is a little wierd... but it works\n",
    "# I tought there would be a 'get' for all elements of a resource??? No... we must ask for the differential between the initial resource and its current version???\n",
    "# curl -X GET \"https://18.205.77.131:8111/osmc/workspaces/bb95d8f4-fae4-490c-b764-4f83e3bba4f5/resources/272e28f2-45b7-45cb-a016-800ba747e716/revisiondiff?source=1&target=44\" -H \"accept: application/json\"\n",
    "sourceRevision = 1\n",
    "targetRevision = latestRevision\n",
    "call = f'/osmc/workspaces/{workspaceId}/resources/{projectId}/revisiondiff?source={sourceRevision}&target={targetRevision}'\n",
    "url = f'https://{serverIp}:{serverPort}{call}'\n",
    "resp_elementList = requests.get(url,headers=headers, verify=False) # turn of verification here since our server is not super secure\n",
    "elementList_json = resp_elementList.json()['added'] # just get the added (availibe items are removed, added, changed, and empty)\n",
    "elementList = json.dumps(elementList_json) # push to flat string\n",
    "elementList = elementList.replace('\"','').replace(\"[\",\"\").replace(\"]\",\"\").replace(\" \",\"\") # remove the sting junk\n",
    "#elementList_json\n",
    "#elementList"
   ]
  },
  {
   "cell_type": "code",
   "execution_count": 177,
   "id": "3a1ff0ab-be19-4c9e-a93b-bccde278f2e1",
   "metadata": {},
   "outputs": [],
   "source": [
    "# OK great.. now we have a list of elements from the selected model\n",
    "# Lets no loop through these elements and build a json file of each elements specific information - This time we post :)\n",
    "# curl -X POST \"https://18.205.77.131:8111/osmc/resources/272e28f2-45b7-45cb-a016-800ba747e716/elements\" -H \"accept: application/ld+json\" -H \"Content-Type: text/plain\" -d \"aa4bdacf-c246-4865-bf50-cc9be2a16f16, 8a2153fc-ba11-4f9c-a2c0-2cb5114f2356 \"\n",
    "call = f'/osmc/resources/{projectId}/elements'\n",
    "url = f'https://{serverIp}:{serverPort}{call}'\n",
    "headers={\"accept\":\"application/ld+json\", \"Content-Type\":\"text/plain\", \"authorization\":f\"Basic {authId}\"}\n",
    "resp_elementListData = requests.post(url,headers=headers, verify=False, data = elementList) # turn of verification here since our server is not super secure\n",
    "elementListData = resp_elementListData.json() # just get the added (availibe items are removed, added, changed, and empty)\n",
    "#elementListData"
   ]
  },
  {
   "cell_type": "code",
   "execution_count": 178,
   "id": "7acc5d6c-590c-4827-b1eb-96bf18e73f79",
   "metadata": {},
   "outputs": [
    {
     "data": {
      "text/plain": [
       "{20: 20, 30: 30, 45: 45, 54: 54}"
      ]
     },
     "execution_count": 178,
     "metadata": {},
     "output_type": "execute_result"
    }
   ],
   "source": [
    "# Lets loop throug the selected projects elemetns and find the index of all literal real values\n",
    "literalRealIndex = {}\n",
    "for i in range(len(elementList_json)): # Where i is the uuid of the element in this case\n",
    "    if elementListData[elementList_json[i]]['data'][0]['@type'] == ['ldp:DirectContainer', 'uml:LiteralReal']:\n",
    "        literalRealIndex[i] = i # Add any key to the index that is a literal real\n",
    "literalRealIndex\n",
    "#elementList_json[4]\n",
    "#elementListData['554e62c4-5bd6-46d5-97cc-900c35c46913']"
   ]
  },
  {
   "cell_type": "code",
   "execution_count": 179,
   "id": "8cc0963a-94bf-4b3c-865f-d619212fad8b",
   "metadata": {},
   "outputs": [
    {
     "data": {
      "text/plain": [
       "{20: Text(value='0.0', description='adt_height'),\n",
       " 30: Text(value='0.0', description='adt_length'),\n",
       " 45: Text(value='0.0', description='adt_volume'),\n",
       " 54: Text(value='0.0', description='adt_width')}"
      ]
     },
     "execution_count": 179,
     "metadata": {},
     "output_type": "execute_result"
    }
   ],
   "source": [
    "# So this is getting invloved and about here is where recursion starts to rear its ugly head\n",
    "# Lets just get through this for now and we can build a better mouse trap the next round\n",
    "\n",
    "valueCells = {}\n",
    "values = {}\n",
    "elementIds = {}\n",
    "\n",
    "#print(\"Here we can modkify the vendor model values if we like.\")\n",
    "\n",
    "# We can loop through the matched elements and the build widgets to edit them\n",
    "for keys in literalRealIndex:\n",
    "    try:\n",
    "        owenersId = elementListData[elementList_json[keys]]['data'][1]['kerml:owner']['@id']\n",
    "        ownersName = elementListData[owenersId]['data'][1]['kerml:name']\n",
    "        currentValue = elementListData[elementList_json[keys]]['data'][1][\"kerml:esiData\"][\"value\"]\n",
    "        elementIds[keys] = elementList_json[keys]\n",
    "        values[keys] = (ownersName, currentValue)\n",
    "        valueCells[keys] = widgets.Text(description=ownersName, value=currentValue); #display(valueCells[keys])\n",
    "        #print(elementListData[elementList_json[keys]]['data'][1]['kerml:owner']['@id'], elementListData[elementList_json[keys]]['data'][1][\"kerml:esiData\"][\"value\"])    \n",
    "    except:\n",
    "        pass\n",
    "valueCells"
   ]
  },
  {
   "cell_type": "code",
   "execution_count": 180,
   "id": "25803d2b-3ef5-4c8a-93f8-782e316ffbe7",
   "metadata": {
    "tags": []
   },
   "outputs": [
    {
     "data": {
      "application/vnd.jupyter.widget-view+json": {
       "model_id": "d46a8df6ca5146b5874bc3ecf4b2cbc2",
       "version_major": 2,
       "version_minor": 0
      },
      "text/plain": [
       "Text(value='1.0', description='adt_height')"
      ]
     },
     "metadata": {},
     "output_type": "display_data"
    },
    {
     "data": {
      "application/vnd.jupyter.widget-view+json": {
       "model_id": "2c7b7cba4a8448539b8883d3667ce027",
       "version_major": 2,
       "version_minor": 0
      },
      "text/plain": [
       "Text(value='1.0', description='adt_length')"
      ]
     },
     "metadata": {},
     "output_type": "display_data"
    },
    {
     "data": {
      "application/vnd.jupyter.widget-view+json": {
       "model_id": "977d99f7950e44e08c9d4daf6c314830",
       "version_major": 2,
       "version_minor": 0
      },
      "text/plain": [
       "Text(value='0.0', description='adt_volume')"
      ]
     },
     "metadata": {},
     "output_type": "display_data"
    },
    {
     "data": {
      "application/vnd.jupyter.widget-view+json": {
       "model_id": "32935cf1edbc42d799f70def6b4bad2a",
       "version_major": 2,
       "version_minor": 0
      },
      "text/plain": [
       "Text(value='2.0', description='adt_width')"
      ]
     },
     "metadata": {},
     "output_type": "display_data"
    },
    {
     "data": {
      "application/vnd.jupyter.widget-view+json": {
       "model_id": "7c11e413d60c45db8e02c8d565e72481",
       "version_major": 2,
       "version_minor": 0
      },
      "text/plain": [
       "Button(description='Update Model Values', style=ButtonStyle())"
      ]
     },
     "metadata": {},
     "output_type": "display_data"
    }
   ],
   "source": [
    "# This functuon is executed after pushing the button\n",
    "def updateSystemModelVals(b):\n",
    "    for cells in valueCells:\n",
    "        # Create the payload\n",
    "        dataValue = {\"kerml:esiData\":{\"value\":\"0.0\"}} # Build the data payload\n",
    "        dataValue[\"kerml:esiData\"][\"value\"] = valueCells[cells].value # Update the json string\n",
    "        \n",
    "        # Now build the api call\n",
    "        call = f'/osmc/resources/{projectId}/elements/{elementIds[cells]}'\n",
    "        url = f'https://{serverIp}:{serverPort}{call}'\n",
    "        headers={\"accept\":\"application/ld+json\", \"authorization\":f\"Basic {authId}\", \"Content-Type\":\"application/ld+json\"}\n",
    "        \n",
    "        # Have to add a new header of content type\n",
    "        resp_value = requests.patch(url, headers = headers, verify = False, json = dataValue) # turn of verification here since our server is not super secure\n",
    "        print(url)\n",
    "        resp_value.status_code\n",
    "        # print(dataValue)\n",
    "        print(resp_value.content)\n",
    "        \n",
    "# Update the values in valueCells based on df_input\n",
    "for key, widget in valueCells.items():\n",
    "    # Extract the part of the description following 'adt_' to match with df_input\n",
    "    description_suffix = widget.description[4:]  # Remove the 'adt_' prefix\n",
    "    # Find the row in df_input where the description matches description_suffix\n",
    "    match = df_input[df_input['Description'] == description_suffix]\n",
    "    if not match.empty:\n",
    "        # Update the widget's value with the corresponding value from df_input\n",
    "        new_value = str(float(match['Value'].iloc[0]))  # Convert to float then to string\n",
    "        widget.value = new_value\n",
    "\n",
    "# Display the updated widgets\n",
    "for widget in valueCells.values():\n",
    "    display(widget)\n",
    "    \n",
    "# Create a button to push for fun :)\n",
    "btn = widgets.Button(description = \"Update Model Values\")\n",
    "display(btn)\n",
    "\n",
    "# This functuon is executed after pushing the button\n",
    "def updateSystemModelVals(b):\n",
    "    for cells in valueCells:\n",
    "        # Create the payload\n",
    "        dataValue = {\"kerml:esiData\":{\"value\":\"0.0\"}} # Build the data payload\n",
    "        dataValue[\"kerml:esiData\"][\"value\"] = valueCells[cells].value # Update the json string\n",
    "        \n",
    "        # Now build the api call\n",
    "        call = f'/osmc/resources/{projectId}/elements/{elementIds[cells]}'\n",
    "        url = f'https://{serverIp}:{serverPort}{call}'\n",
    "        headers={\"accept\":\"application/ld+json\", \"authorization\":f\"Basic {authId}\", \"Content-Type\":\"application/ld+json\"}\n",
    "        \n",
    "        # Have to add a new header of content type\n",
    "        resp_value = requests.patch(url, headers = headers, verify = False, json = dataValue) # turn of verification here since our server is not super secure\n",
    "        print(url)\n",
    "        resp_value.status_code\n",
    "        # print(dataValue)\n",
    "        print(resp_value.content)\n",
    "        \n",
    "# The button callback\n",
    "btn.on_click(updateSystemModelVals)"
   ]
  },
  {
   "cell_type": "markdown",
   "id": "760a8ec5-501a-4fac-bf1c-909f03090aa1",
   "metadata": {
    "tags": []
   },
   "source": [
    "# I cant force the update of the block volume attribute at this time.\n",
    "\n",
    "A couple of notes:\n",
    "1. This can fully automated and you should be able to see that we can use complex methods in between the pull and push\n",
    "2. I cant execute the volume update with this setup (we dont want to update blocks but instances...)\n",
    "3. Matching the ADT value to the Vendor value can be performed by looking up an ICD \n",
    "3. I'll build out an instance updater tommorow :)"
   ]
  },
  {
   "cell_type": "code",
   "execution_count": null,
   "id": "20240dc6-8cbd-4bbf-8535-698ec9bb69f0",
   "metadata": {},
   "outputs": [],
   "source": []
  }
 ],
 "metadata": {
  "kernelspec": {
   "display_name": "Python 3 (ipykernel)",
   "language": "python",
   "name": "python3"
  },
  "language_info": {
   "codemirror_mode": {
    "name": "ipython",
    "version": 3
   },
   "file_extension": ".py",
   "mimetype": "text/x-python",
   "name": "python",
   "nbconvert_exporter": "python",
   "pygments_lexer": "ipython3",
   "version": "3.10.14"
  }
 },
 "nbformat": 4,
 "nbformat_minor": 5
}
