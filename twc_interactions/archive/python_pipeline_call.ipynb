{
 "cells": [
  {
   "cell_type": "code",
   "execution_count": 1,
   "id": "c7e9ccaf-c0eb-4eab-b2fc-a71b3c453475",
   "metadata": {
    "tags": []
   },
   "outputs": [
    {
     "name": "stdout",
     "output_type": "stream",
     "text": [
      "Error output from the command: Error: Pipeline validation FAILED. The pipeline was not run.\n",
      "\n"
     ]
    }
   ],
   "source": [
    "import subprocess\n",
    "import os\n",
    "\n",
    "# Set environment variables for the subprocess\n",
    "env = os.environ.copy()\n",
    "env['PYTHONIOENCODING'] = 'utf-8'\n",
    "\n",
    "command = [\n",
    "    'elyra-pipeline', 'run',\n",
    "    'c:\\\\Users\\\\JohnDeHart\\\\Documents\\\\GitHub\\\\Notebooks\\\\twc_interactions\\\\update_box.pipeline'\n",
    "]\n",
    "\n",
    "# Run the subprocess with the modified environment\n",
    "try:\n",
    "    result = subprocess.run(command, capture_output=True, text=True, encoding='utf-8', env=env, check=True)\n",
    "    print(\"Output:\", result.stdout)\n",
    "except subprocess.CalledProcessError as e:\n",
    "    print(\"Error output from the command:\", e.stderr)\n"
   ]
  },
  {
   "cell_type": "code",
   "execution_count": 10,
   "id": "0b71bfda-eb71-42e4-a683-c526edc8c660",
   "metadata": {
    "tags": []
   },
   "outputs": [],
   "source": [
    "result = subprocess.run(command, text=True, encoding='utf-8', env=env)\n"
   ]
  },
  {
   "cell_type": "code",
   "execution_count": 12,
   "id": "d7819f87-966d-48cd-9551-fe4c769253c7",
   "metadata": {},
   "outputs": [
    {
     "name": "stdout",
     "output_type": "stream",
     "text": [
      "\n"
     ]
    },
    {
     "name": "stderr",
     "output_type": "stream",
     "text": [
      "Traceback (most recent call last):\n",
      "  File \"C:\\Users\\JohnDeHart\\anaconda3\\envs\\twc_api_interactions\\Scripts\\elyra-pipeline-script.py\", line 9, in <module>\n",
      "    sys.exit(pipeline())\n",
      "  File \"C:\\Users\\JohnDeHart\\AppData\\Roaming\\Python\\Python310\\site-packages\\click\\core.py\", line 1157, in __call__\n",
      "    return self.main(*args, **kwargs)\n",
      "  File \"C:\\Users\\JohnDeHart\\AppData\\Roaming\\Python\\Python310\\site-packages\\click\\core.py\", line 1078, in main\n",
      "    rv = self.invoke(ctx)\n",
      "  File \"C:\\Users\\JohnDeHart\\AppData\\Roaming\\Python\\Python310\\site-packages\\click\\core.py\", line 1688, in invoke\n",
      "    return _process_result(sub_ctx.command.invoke(sub_ctx))\n",
      "  File \"C:\\Users\\JohnDeHart\\AppData\\Roaming\\Python\\Python310\\site-packages\\click\\core.py\", line 1434, in invoke\n",
      "    return ctx.invoke(self.callback, **ctx.params)\n",
      "  File \"C:\\Users\\JohnDeHart\\AppData\\Roaming\\Python\\Python310\\site-packages\\click\\core.py\", line 783, in invoke\n",
      "    return __callback(*args, **kwargs)\n",
      "  File \"C:\\Users\\JohnDeHart\\anaconda3\\envs\\twc_api_interactions\\lib\\site-packages\\elyra\\cli\\pipeline_app.py\", line 460, in run\n",
      "    print_banner(\"Elyra Pipeline Local Run\")\n",
      "  File \"C:\\Users\\JohnDeHart\\anaconda3\\envs\\twc_api_interactions\\lib\\site-packages\\elyra\\cli\\pipeline_app.py\", line 247, in print_banner\n",
      "    click.echo(Fore.CYAN + \"\\u2500\\u2500\\u2500\\u2500\\u2500\\u2500\\u2500\\u2500\\u2500\\u2500\\u2500\\u2500\\u2500\\u2500\\u2500\\u2500\\u2500\\u2500\\u2500\\u2500\\u2500\\u2500\\u2500\\u2500\\u2500\\u2500\\u2500\\u2500\\u2500\\u2500\\u2500\\u2500\\u2500\\u2500\\u2500\\u2500\\u2500\\u2500\\u2500\\u2500\\u2500\\u2500\\u2500\\u2500\\u2500\\u2500\\u2500\\u2500\\u2500\\u2500\\u2500\\u2500\\u2500\\u2500\\u2500\\u2500\\u2500\\u2500\\u2500\\u2500\\u2500\\u2500\\u2500\\u2500\" + Style.RESET_ALL)\n",
      "  File \"C:\\Users\\JohnDeHart\\AppData\\Roaming\\Python\\Python310\\site-packages\\click\\utils.py\", line 318, in echo\n",
      "    file.write(out)  # type: ignore\n",
      "  File \"C:\\Users\\JohnDeHart\\anaconda3\\envs\\twc_api_interactions\\lib\\site-packages\\colorama\\ansitowin32.py\", line 47, in write\n",
      "    self.__convertor.write(text)\n",
      "  File \"C:\\Users\\JohnDeHart\\anaconda3\\envs\\twc_api_interactions\\lib\\site-packages\\colorama\\ansitowin32.py\", line 177, in write\n",
      "    self.write_and_convert(text)\n",
      "  File \"C:\\Users\\JohnDeHart\\anaconda3\\envs\\twc_api_interactions\\lib\\site-packages\\colorama\\ansitowin32.py\", line 205, in write_and_convert\n",
      "    self.write_plain_text(text, cursor, len(text))\n",
      "  File \"C:\\Users\\JohnDeHart\\anaconda3\\envs\\twc_api_interactions\\lib\\site-packages\\colorama\\ansitowin32.py\", line 210, in write_plain_text\n",
      "    self.wrapped.write(text[start:end])\n",
      "  File \"C:\\Users\\JohnDeHart\\anaconda3\\envs\\twc_api_interactions\\lib\\encodings\\cp1252.py\", line 19, in encode\n",
      "    return codecs.charmap_encode(input,self.errors,encoding_table)[0]\n",
      "UnicodeEncodeError: 'charmap' codec can't encode characters in position 0-63: character maps to <undefined>\n"
     ]
    }
   ],
   "source": [
    "!elyra-pipeline run c:\\\\Users\\\\JohnDeHart\\\\Documents\\\\GitHub\\\\Notebooks\\\\twc_interactions\\\\update_box.pipeline"
   ]
  },
  {
   "cell_type": "code",
   "execution_count": null,
   "id": "4c8fd80d-6dd9-4bb7-b669-a3fde2339527",
   "metadata": {},
   "outputs": [],
   "source": []
  }
 ],
 "metadata": {
  "kernelspec": {
   "display_name": "Python 3 (ipykernel)",
   "language": "python",
   "name": "python3"
  },
  "language_info": {
   "codemirror_mode": {
    "name": "ipython",
    "version": 3
   },
   "file_extension": ".py",
   "mimetype": "text/x-python",
   "name": "python",
   "nbconvert_exporter": "python",
   "pygments_lexer": "ipython3",
   "version": "3.10.14"
  }
 },
 "nbformat": 4,
 "nbformat_minor": 5
}
