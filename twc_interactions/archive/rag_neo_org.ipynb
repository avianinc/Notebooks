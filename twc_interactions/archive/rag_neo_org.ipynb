{
 "cells": [
  {
   "cell_type": "code",
   "execution_count": 1,
   "id": "3306c32d-9bf1-486c-bbc1-a300aa4e3cfc",
   "metadata": {
    "tags": []
   },
   "outputs": [],
   "source": [
    "# Start a neo4j server \n",
    "# https://neo4j.com/docs/operations-manual/current/docker/introduction/\n",
    "#!docker run --restart always --publish=7474:7474 --publish=7687:7687 --env NEO4J_AUTH=neo4j/admin1234 neo4j:5.19.0"
   ]
  },
  {
   "cell_type": "code",
   "execution_count": 53,
   "id": "6efb5ec7-5109-4e2c-941e-c60653670901",
   "metadata": {
    "tags": []
   },
   "outputs": [
    {
     "name": "stdout",
     "output_type": "stream",
     "text": [
      "Requirement already satisfied: graphdatascience in c:\\users\\johndehart\\anaconda3\\envs\\twc_api_interactions\\lib\\site-packages (1.10)\n",
      "Requirement already satisfied: openai in c:\\users\\johndehart\\anaconda3\\envs\\twc_api_interactions\\lib\\site-packages (0.28.0)\n",
      "Requirement already satisfied: neo4j in c:\\users\\johndehart\\anaconda3\\envs\\twc_api_interactions\\lib\\site-packages (5.20.0)\n",
      "Requirement already satisfied: wikipedia in c:\\users\\johndehart\\anaconda3\\envs\\twc_api_interactions\\lib\\site-packages (1.4.0)\n",
      "Requirement already satisfied: langchain in c:\\users\\johndehart\\anaconda3\\envs\\twc_api_interactions\\lib\\site-packages (0.1.19)\n",
      "Requirement already satisfied: matplotlib in c:\\users\\johndehart\\anaconda3\\envs\\twc_api_interactions\\lib\\site-packages (3.8.4)\n",
      "Requirement already satisfied: networkx in c:\\users\\johndehart\\appdata\\roaming\\python\\python310\\site-packages (3.2.1)\n",
      "Requirement already satisfied: langchain_experimental in c:\\users\\johndehart\\anaconda3\\envs\\twc_api_interactions\\lib\\site-packages (0.0.58)\n",
      "Requirement already satisfied: json-repair in c:\\users\\johndehart\\anaconda3\\envs\\twc_api_interactions\\lib\\site-packages (0.18.0)\n",
      "Requirement already satisfied: langchain-community in c:\\users\\johndehart\\anaconda3\\envs\\twc_api_interactions\\lib\\site-packages (0.0.38)\n",
      "Requirement already satisfied: multimethod<2.0,>=1.0 in c:\\users\\johndehart\\anaconda3\\envs\\twc_api_interactions\\lib\\site-packages (from graphdatascience) (1.11.2)\n",
      "Requirement already satisfied: pandas<3.0,>=1.0 in c:\\users\\johndehart\\anaconda3\\envs\\twc_api_interactions\\lib\\site-packages (from graphdatascience) (2.2.2)\n",
      "Requirement already satisfied: pyarrow<16.0,>=11.0 in c:\\users\\johndehart\\anaconda3\\envs\\twc_api_interactions\\lib\\site-packages (from graphdatascience) (15.0.2)\n",
      "Requirement already satisfied: textdistance<5.0,>=4.0 in c:\\users\\johndehart\\anaconda3\\envs\\twc_api_interactions\\lib\\site-packages (from graphdatascience) (4.6.2)\n",
      "Requirement already satisfied: tqdm<5.0,>=4.0 in c:\\users\\johndehart\\appdata\\roaming\\python\\python310\\site-packages (from graphdatascience) (4.66.2)\n",
      "Requirement already satisfied: typing-extensions<5.0,>=4.0 in c:\\users\\johndehart\\appdata\\roaming\\python\\python310\\site-packages (from graphdatascience) (4.10.0)\n",
      "Requirement already satisfied: requests in c:\\users\\johndehart\\appdata\\roaming\\python\\python310\\site-packages (from graphdatascience) (2.31.0)\n",
      "Requirement already satisfied: aiohttp in c:\\users\\johndehart\\appdata\\roaming\\python\\python310\\site-packages (from openai) (3.9.3)\n",
      "Requirement already satisfied: pytz in c:\\users\\johndehart\\anaconda3\\envs\\twc_api_interactions\\lib\\site-packages (from neo4j) (2024.1)\n",
      "Requirement already satisfied: beautifulsoup4 in c:\\users\\johndehart\\anaconda3\\envs\\twc_api_interactions\\lib\\site-packages (from wikipedia) (4.12.2)\n",
      "Requirement already satisfied: PyYAML>=5.3 in c:\\users\\johndehart\\appdata\\roaming\\python\\python310\\site-packages (from langchain) (6.0.1)\n",
      "Requirement already satisfied: SQLAlchemy<3,>=1.4 in c:\\users\\johndehart\\appdata\\roaming\\python\\python310\\site-packages (from langchain) (2.0.28)\n",
      "Requirement already satisfied: async-timeout<5.0.0,>=4.0.0 in c:\\users\\johndehart\\appdata\\roaming\\python\\python310\\site-packages (from langchain) (4.0.3)\n",
      "Requirement already satisfied: dataclasses-json<0.7,>=0.5.7 in c:\\users\\johndehart\\appdata\\roaming\\python\\python310\\site-packages (from langchain) (0.6.4)\n",
      "Requirement already satisfied: langchain-core<0.2.0,>=0.1.52 in c:\\users\\johndehart\\anaconda3\\envs\\twc_api_interactions\\lib\\site-packages (from langchain) (0.1.52)\n",
      "Requirement already satisfied: langchain-text-splitters<0.1,>=0.0.1 in c:\\users\\johndehart\\appdata\\roaming\\python\\python310\\site-packages (from langchain) (0.0.1)\n",
      "Requirement already satisfied: langsmith<0.2.0,>=0.1.17 in c:\\users\\johndehart\\appdata\\roaming\\python\\python310\\site-packages (from langchain) (0.1.23)\n",
      "Requirement already satisfied: numpy<2,>=1 in c:\\users\\johndehart\\appdata\\roaming\\python\\python310\\site-packages (from langchain) (1.26.4)\n",
      "Requirement already satisfied: pydantic<3,>=1 in c:\\users\\johndehart\\anaconda3\\envs\\twc_api_interactions\\lib\\site-packages (from langchain) (1.10.15)\n",
      "Requirement already satisfied: tenacity<9.0.0,>=8.1.0 in c:\\users\\johndehart\\appdata\\roaming\\python\\python310\\site-packages (from langchain) (8.2.3)\n",
      "Requirement already satisfied: contourpy>=1.0.1 in c:\\users\\johndehart\\anaconda3\\envs\\twc_api_interactions\\lib\\site-packages (from matplotlib) (1.2.1)\n",
      "Requirement already satisfied: cycler>=0.10 in c:\\users\\johndehart\\anaconda3\\envs\\twc_api_interactions\\lib\\site-packages (from matplotlib) (0.12.1)\n",
      "Requirement already satisfied: fonttools>=4.22.0 in c:\\users\\johndehart\\anaconda3\\envs\\twc_api_interactions\\lib\\site-packages (from matplotlib) (4.51.0)\n",
      "Requirement already satisfied: kiwisolver>=1.3.1 in c:\\users\\johndehart\\anaconda3\\envs\\twc_api_interactions\\lib\\site-packages (from matplotlib) (1.4.5)\n",
      "Requirement already satisfied: packaging>=20.0 in c:\\users\\johndehart\\appdata\\roaming\\python\\python310\\site-packages (from matplotlib) (23.2)\n",
      "Requirement already satisfied: pillow>=8 in c:\\users\\johndehart\\appdata\\roaming\\python\\python310\\site-packages (from matplotlib) (10.2.0)\n",
      "Requirement already satisfied: pyparsing>=2.3.1 in c:\\users\\johndehart\\anaconda3\\envs\\twc_api_interactions\\lib\\site-packages (from matplotlib) (3.1.2)\n",
      "Requirement already satisfied: python-dateutil>=2.7 in c:\\users\\johndehart\\anaconda3\\envs\\twc_api_interactions\\lib\\site-packages (from matplotlib) (2.8.2)\n",
      "Requirement already satisfied: aiosignal>=1.1.2 in c:\\users\\johndehart\\appdata\\roaming\\python\\python310\\site-packages (from aiohttp->openai) (1.3.1)\n",
      "Requirement already satisfied: attrs>=17.3.0 in c:\\users\\johndehart\\appdata\\roaming\\python\\python310\\site-packages (from aiohttp->openai) (23.2.0)\n",
      "Requirement already satisfied: frozenlist>=1.1.1 in c:\\users\\johndehart\\appdata\\roaming\\python\\python310\\site-packages (from aiohttp->openai) (1.4.1)\n",
      "Requirement already satisfied: multidict<7.0,>=4.5 in c:\\users\\johndehart\\appdata\\roaming\\python\\python310\\site-packages (from aiohttp->openai) (6.0.5)\n",
      "Requirement already satisfied: yarl<2.0,>=1.0 in c:\\users\\johndehart\\appdata\\roaming\\python\\python310\\site-packages (from aiohttp->openai) (1.9.4)\n",
      "Requirement already satisfied: marshmallow<4.0.0,>=3.18.0 in c:\\users\\johndehart\\appdata\\roaming\\python\\python310\\site-packages (from dataclasses-json<0.7,>=0.5.7->langchain) (3.21.1)\n",
      "Requirement already satisfied: typing-inspect<1,>=0.4.0 in c:\\users\\johndehart\\appdata\\roaming\\python\\python310\\site-packages (from dataclasses-json<0.7,>=0.5.7->langchain) (0.9.0)\n",
      "Requirement already satisfied: jsonpatch<2.0,>=1.33 in c:\\users\\johndehart\\appdata\\roaming\\python\\python310\\site-packages (from langchain-core<0.2.0,>=0.1.52->langchain) (1.33)\n",
      "Requirement already satisfied: orjson<4.0.0,>=3.9.14 in c:\\users\\johndehart\\appdata\\roaming\\python\\python310\\site-packages (from langsmith<0.2.0,>=0.1.17->langchain) (3.9.15)\n",
      "Requirement already satisfied: tzdata>=2022.7 in c:\\users\\johndehart\\anaconda3\\envs\\twc_api_interactions\\lib\\site-packages (from pandas<3.0,>=1.0->graphdatascience) (2024.1)\n",
      "Requirement already satisfied: six>=1.5 in c:\\users\\johndehart\\anaconda3\\envs\\twc_api_interactions\\lib\\site-packages (from python-dateutil>=2.7->matplotlib) (1.16.0)\n",
      "Requirement already satisfied: charset-normalizer<4,>=2 in c:\\users\\johndehart\\appdata\\roaming\\python\\python310\\site-packages (from requests->graphdatascience) (3.3.2)\n",
      "Requirement already satisfied: idna<4,>=2.5 in c:\\users\\johndehart\\appdata\\roaming\\python\\python310\\site-packages (from requests->graphdatascience) (3.6)\n",
      "Requirement already satisfied: urllib3<3,>=1.21.1 in c:\\users\\johndehart\\anaconda3\\envs\\twc_api_interactions\\lib\\site-packages (from requests->graphdatascience) (1.26.18)\n",
      "Requirement already satisfied: certifi>=2017.4.17 in c:\\users\\johndehart\\appdata\\roaming\\python\\python310\\site-packages (from requests->graphdatascience) (2024.2.2)\n",
      "Requirement already satisfied: greenlet!=0.4.17 in c:\\users\\johndehart\\appdata\\roaming\\python\\python310\\site-packages (from SQLAlchemy<3,>=1.4->langchain) (3.0.3)\n",
      "Requirement already satisfied: colorama in c:\\users\\johndehart\\anaconda3\\envs\\twc_api_interactions\\lib\\site-packages (from tqdm<5.0,>=4.0->graphdatascience) (0.4.6)\n",
      "Requirement already satisfied: soupsieve>1.2 in c:\\users\\johndehart\\anaconda3\\envs\\twc_api_interactions\\lib\\site-packages (from beautifulsoup4->wikipedia) (2.5)\n",
      "Requirement already satisfied: jsonpointer>=1.9 in c:\\users\\johndehart\\appdata\\roaming\\python\\python310\\site-packages (from jsonpatch<2.0,>=1.33->langchain-core<0.2.0,>=0.1.52->langchain) (2.4)\n",
      "Requirement already satisfied: mypy-extensions>=0.3.0 in c:\\users\\johndehart\\appdata\\roaming\\python\\python310\\site-packages (from typing-inspect<1,>=0.4.0->dataclasses-json<0.7,>=0.5.7->langchain) (1.0.0)\n",
      "Note: you may need to restart the kernel to use updated packages.\n"
     ]
    }
   ],
   "source": [
    "# Install dependancies\n",
    "#%pip install graphdatascience openai neo4j wikipedia langchain matplotlib networkx langchain_experimental json-repair langchain-community"
   ]
  },
  {
   "cell_type": "code",
   "execution_count": 75,
   "id": "cf825c93-c8ee-478c-a676-4a3d5be6cd3b",
   "metadata": {
    "tags": []
   },
   "outputs": [],
   "source": [
    "import os\n",
    "import json\n",
    "import uuid\n",
    "import networkx as nx\n",
    "import matplotlib.pyplot as plt\n",
    "from langchain import OpenAI\n",
    "from langchain.docstore.document import Document\n",
    "from langchain_experimental.graph_transformers.llm import LLMGraphTransformer\n",
    "from langchain_community.graphs.neo4j_graph import Neo4jGraph, GraphDocument\n",
    "from pydantic import BaseModel\n",
    "from neo4j import GraphDatabase\n",
    "import logging"
   ]
  },
  {
   "cell_type": "code",
   "execution_count": 76,
   "id": "c8816752-be08-466d-8aac-d03164804e31",
   "metadata": {
    "tags": []
   },
   "outputs": [],
   "source": [
    "# Set up logging\n",
    "logging.basicConfig(level=logging.INFO)\n",
    "logger = logging.getLogger(__name__)"
   ]
  },
  {
   "cell_type": "code",
   "execution_count": 77,
   "id": "c23de559-c63f-4bb7-b60a-b09df2bc8def",
   "metadata": {
    "tags": []
   },
   "outputs": [],
   "source": [
    "# Setting environment variables\n",
    "os.environ[\"NEO4J_URI\"] = \"bolt://localhost:7687\" #http://localhost:7474/browser/\n",
    "os.environ[\"NEO4J_USERNAME\"] = \"neo4j\"\n",
    "os.environ[\"NEO4J_PASSWORD\"] = \"admin1234\"\n",
    "\n",
    "# Initialize OpenAI client\n",
    "# Retrieve the OpenAI API key from environment variables\n",
    "openai_api_key = os.getenv(\"OPENAI_API_KEY\")"
   ]
  },
  {
   "cell_type": "code",
   "execution_count": 78,
   "id": "a764b06a-0348-41e4-a6db-1ffeed6c16b0",
   "metadata": {
    "tags": []
   },
   "outputs": [
    {
     "name": "stderr",
     "output_type": "stream",
     "text": [
      "C:\\Users\\JohnDeHart\\anaconda3\\envs\\twc_api_interactions\\lib\\site-packages\\langchain_community\\llms\\openai.py:249: UserWarning: You are trying to use a chat model. This way of initializing it is no longer supported. Instead, please use: `from langchain_community.chat_models import ChatOpenAI`\n",
      "  warnings.warn(\n",
      "C:\\Users\\JohnDeHart\\anaconda3\\envs\\twc_api_interactions\\lib\\site-packages\\langchain_community\\llms\\openai.py:1070: UserWarning: You are trying to use a chat model. This way of initializing it is no longer supported. Instead, please use: `from langchain_community.chat_models import ChatOpenAI`\n",
      "  warnings.warn(\n"
     ]
    }
   ],
   "source": [
    "# Initialize OpenAI LLM and Graph Transformer\n",
    "llm = OpenAI(temperature=0, model_name=\"gpt-4-0613\")\n",
    "llm_transformer = LLMGraphTransformer(llm=llm)"
   ]
  },
  {
   "cell_type": "code",
   "execution_count": 79,
   "id": "ba0fccc0-f01a-4af5-aecd-ed5f9969d19f",
   "metadata": {
    "tags": []
   },
   "outputs": [],
   "source": [
    "# Define Node and Relationship Models\n",
    "class Node(BaseModel):\n",
    "    id: str\n",
    "    name: str = \"\"\n",
    "    type: str = \"\""
   ]
  },
  {
   "cell_type": "code",
   "execution_count": 80,
   "id": "b3caebd5-af3a-4542-9741-7e3c458ff0ee",
   "metadata": {
    "tags": []
   },
   "outputs": [],
   "source": [
    "class Relationship(BaseModel):\n",
    "    source: Node\n",
    "    target: Node\n",
    "    type: str = \"RELATION\""
   ]
  },
  {
   "cell_type": "code",
   "execution_count": 81,
   "id": "a4bf72a9-44e9-46c4-b00d-9c03108c175c",
   "metadata": {
    "tags": []
   },
   "outputs": [],
   "source": [
    "# Override the process_response method to handle plain strings\n",
    "def custom_process_response(self, document):\n",
    "    nodes_set = {}\n",
    "    relationships = []\n",
    "\n",
    "    # Use the LLM model to generate a graph schema\n",
    "    raw_schema = self.chain.invoke({\"input\": document.page_content})\n",
    "    parsed_json = json.loads(raw_schema)\n",
    "\n",
    "    # Extract nodes and relationships\n",
    "    for rel in parsed_json:\n",
    "        head = rel.get(\"head\", \"\")\n",
    "        head_type = rel.get(\"head_type\", \"\")\n",
    "        tail = rel.get(\"tail\", \"\")\n",
    "        tail_type = rel.get(\"tail_type\", \"\")\n",
    "        relationship_type = rel.get(\"relationship\", \"\").replace(\" \", \"_\").upper()\n",
    "\n",
    "        # Ensure each node has a unique identifier\n",
    "        if head not in nodes_set:\n",
    "            nodes_set[head] = Node(id=str(uuid.uuid4()), name=head, type=head_type)\n",
    "        if tail not in nodes_set:\n",
    "            nodes_set[tail] = Node(id=str(uuid.uuid4()), name=tail, type=tail_type)\n",
    "\n",
    "        # Assign a default relationship type if not available\n",
    "        if not relationship_type:\n",
    "            relationship_type = \"RELATION\"\n",
    "\n",
    "        relationships.append(Relationship(\n",
    "            source=nodes_set[head],\n",
    "            target=nodes_set[tail],\n",
    "            type=relationship_type\n",
    "        ))\n",
    "\n",
    "    # Convert to GraphDocument\n",
    "    graph_document = GraphDocument(\n",
    "        nodes=list(nodes_set.values()),\n",
    "        relationships=relationships,\n",
    "        source=Document(page_content=document.page_content, metadata={\"id\": document.page_content})\n",
    "    )\n",
    "\n",
    "    return graph_document"
   ]
  },
  {
   "cell_type": "code",
   "execution_count": 82,
   "id": "472a50f3-2707-40a8-90b4-e16cc296a435",
   "metadata": {
    "tags": []
   },
   "outputs": [],
   "source": [
    "# Override the process_response method in the LLMGraphTransformer instance\n",
    "llm_transformer.process_response = custom_process_response.__get__(llm_transformer)"
   ]
  },
  {
   "cell_type": "code",
   "execution_count": 83,
   "id": "27ab04fa-82cd-4aea-a01b-37cff0349ad7",
   "metadata": {
    "tags": []
   },
   "outputs": [],
   "source": [
    "# Sample documents to convert to graph documents (UAVs and weapons relationships)\n",
    "documents = [\n",
    "    Document(page_content=\"The MQ-9 Reaper UAV can carry up to 4 Hellfire missiles.\"),\n",
    "    Document(page_content=\"The MQ-9 Reaper UAV can also carry up to 2 GBU-12 Paveway bombs.\"),\n",
    "    Document(page_content=\"The RQ-4 Global Hawk UAV is used primarily for surveillance and carries no weapons.\"),\n",
    "    Document(page_content=\"The MQ-1 Predator UAV can carry up to 2 Hellfire missiles.\"),\n",
    "    Document(page_content=\"The X-47B UAV is a stealth aircraft and can carry up to 2 JDAM bombs.\"),\n",
    "    Document(page_content=\"The MQ-20 Avenger UAV can carry up to 6 Hellfire missiles and 2 JDAM bombs.\"),\n",
    "]"
   ]
  },
  {
   "cell_type": "code",
   "execution_count": 84,
   "id": "a506f14b-9e1d-4788-aa23-e51d8916bf52",
   "metadata": {
    "tags": []
   },
   "outputs": [],
   "source": [
    "# Extract graph documents from the text\n",
    "graph_documents = llm_transformer.convert_to_graph_documents(documents)"
   ]
  },
  {
   "cell_type": "code",
   "execution_count": 85,
   "id": "ac0770b4-c0e4-4427-918e-fadc4491df8d",
   "metadata": {
    "tags": []
   },
   "outputs": [
    {
     "data": {
      "text/plain": [
       "[GraphDocument(nodes=[Node(id='f33d7750-ca58-4fd6-ac8e-7c1a35078674', type='Product'), Node(id='731bd6c5-c5e5-4329-b136-2595edba7c5e', type='Product')], relationships=[Relationship(source=Node(id='f33d7750-ca58-4fd6-ac8e-7c1a35078674', type='Product'), target=Node(id='731bd6c5-c5e5-4329-b136-2595edba7c5e', type='Product'), type='RELATION')], source=Document(page_content='The MQ-9 Reaper UAV can carry up to 4 Hellfire missiles.', metadata={'id': 'The MQ-9 Reaper UAV can carry up to 4 Hellfire missiles.'})),\n",
       " GraphDocument(nodes=[Node(id='b4f2fee0-3a57-4789-8fbc-5e9f45118de6', type='Product'), Node(id='e733cf7a-1abe-491d-884c-0aeca875bf55', type='Product')], relationships=[Relationship(source=Node(id='b4f2fee0-3a57-4789-8fbc-5e9f45118de6', type='Product'), target=Node(id='e733cf7a-1abe-491d-884c-0aeca875bf55', type='Product'), type='RELATION')], source=Document(page_content='The MQ-9 Reaper UAV can also carry up to 2 GBU-12 Paveway bombs.', metadata={'id': 'The MQ-9 Reaper UAV can also carry up to 2 GBU-12 Paveway bombs.'})),\n",
       " GraphDocument(nodes=[Node(id='ca83368c-abf5-4fcb-8b16-8b2b5449a32d', type='Product'), Node(id='f5eea2cf-0781-4094-b7a9-699e2d362246', type='Purpose'), Node(id='5d0625f3-09a9-4df4-a99d-2224fca2557e', type='Characteristic')], relationships=[Relationship(source=Node(id='ca83368c-abf5-4fcb-8b16-8b2b5449a32d', type='Product'), target=Node(id='f5eea2cf-0781-4094-b7a9-699e2d362246', type='Purpose'), type='RELATION'), Relationship(source=Node(id='ca83368c-abf5-4fcb-8b16-8b2b5449a32d', type='Product'), target=Node(id='5d0625f3-09a9-4df4-a99d-2224fca2557e', type='Characteristic'), type='RELATION')], source=Document(page_content='The RQ-4 Global Hawk UAV is used primarily for surveillance and carries no weapons.', metadata={'id': 'The RQ-4 Global Hawk UAV is used primarily for surveillance and carries no weapons.'})),\n",
       " GraphDocument(nodes=[Node(id='5ba99b3a-77a0-42ee-a1be-078878a0a9f6', type='Product'), Node(id='dce25c25-6132-453f-956c-be3d1c48fad7', type='Product')], relationships=[Relationship(source=Node(id='5ba99b3a-77a0-42ee-a1be-078878a0a9f6', type='Product'), target=Node(id='dce25c25-6132-453f-956c-be3d1c48fad7', type='Product'), type='RELATION')], source=Document(page_content='The MQ-1 Predator UAV can carry up to 2 Hellfire missiles.', metadata={'id': 'The MQ-1 Predator UAV can carry up to 2 Hellfire missiles.'})),\n",
       " GraphDocument(nodes=[Node(id='a59787e1-a536-4819-ab1f-9659d27c8e85', type='Product'), Node(id='c70fbcde-3bb1-4682-8dca-e00d6b471a80', type='Characteristic'), Node(id='4c947ced-6bd3-49ba-a1e6-cb02e7f1e660', type='Product')], relationships=[Relationship(source=Node(id='a59787e1-a536-4819-ab1f-9659d27c8e85', type='Product'), target=Node(id='c70fbcde-3bb1-4682-8dca-e00d6b471a80', type='Characteristic'), type='RELATION'), Relationship(source=Node(id='a59787e1-a536-4819-ab1f-9659d27c8e85', type='Product'), target=Node(id='4c947ced-6bd3-49ba-a1e6-cb02e7f1e660', type='Product'), type='RELATION')], source=Document(page_content='The X-47B UAV is a stealth aircraft and can carry up to 2 JDAM bombs.', metadata={'id': 'The X-47B UAV is a stealth aircraft and can carry up to 2 JDAM bombs.'})),\n",
       " GraphDocument(nodes=[Node(id='66fed34b-d940-4d9f-a19c-da1f4021bb30', type='Product'), Node(id='8288bdee-49f8-49e7-a178-48cf6d6b2fbe', type='Characteristic'), Node(id='31568f3e-70c4-4239-9a02-dc6ade688471', type='Characteristic')], relationships=[Relationship(source=Node(id='66fed34b-d940-4d9f-a19c-da1f4021bb30', type='Product'), target=Node(id='8288bdee-49f8-49e7-a178-48cf6d6b2fbe', type='Characteristic'), type='RELATION'), Relationship(source=Node(id='66fed34b-d940-4d9f-a19c-da1f4021bb30', type='Product'), target=Node(id='31568f3e-70c4-4239-9a02-dc6ade688471', type='Characteristic'), type='RELATION')], source=Document(page_content='The MQ-20 Avenger UAV can carry up to 6 Hellfire missiles and 2 JDAM bombs.', metadata={'id': 'The MQ-20 Avenger UAV can carry up to 6 Hellfire missiles and 2 JDAM bombs.'}))]"
      ]
     },
     "execution_count": 85,
     "metadata": {},
     "output_type": "execute_result"
    }
   ],
   "source": [
    "graph_documents"
   ]
  },
  {
   "cell_type": "code",
   "execution_count": 86,
   "id": "d3e58eaf-86c2-4212-aee2-1faa74ab665b",
   "metadata": {
    "tags": []
   },
   "outputs": [],
   "source": [
    "# Connect to Neo4j database\n",
    "neo4j_graph = Neo4jGraph(\n",
    "    url=os.environ[\"NEO4J_URI\"],\n",
    "    username=os.environ[\"NEO4J_USERNAME\"],\n",
    "    password=os.environ[\"NEO4J_PASSWORD\"]\n",
    ")\n",
    "\n",
    "# ValueError: Could not use APOC procedures. Please ensure the APOC plugin is installed in Neo4j and that 'apoc.meta.data()' is allowed in Neo4j configuration \n",
    "# https://stackoverflow.com/questions/42740355/how-to-install-apoc-for-neo4j\n",
    "#sudo cp /var/lib/neo4j/labs/apoc-4.3.0.3-core.jar /var/lib/neo4j/plugins/\n",
    "#sudo chown neo4j:neo4j /var/lib/neo4j/plugins/apoc-4.3.0.3-core.jar\n",
    "#sudo systemctl restart neo4j\n",
    "\n",
    "# ClientError: {code: Neo.ClientError.Procedure.ProcedureRegistrationFailed} {message: apoc.meta.data is unavailable because it is sandboxed and has dependencies outside of the sandbox. Sandboxing is controlled by the dbms.security.procedures.unrestricted setting. Only unrestrict procedures you can trust with access to database internals.}\n",
    "# https://stackoverflow.com/questions/48773505/neo4j-install-apoc-and-graph-algorithms-neo-clienterror-procedure-procedureregis\n",
    "# edit /var/lib/neo4j/conf/neo4j.conf\n",
    "## dbms.security.procedures.unrestricted=algo.*,apoc.*"
   ]
  },
  {
   "cell_type": "code",
   "execution_count": 93,
   "id": "42eab358-96cc-47ae-bf85-4b39d5c2aa3c",
   "metadata": {
    "tags": []
   },
   "outputs": [],
   "source": [
    "# Add graph documents to Neo4j\n",
    "neo4j_graph.add_graph_documents(\n",
    "    graph_documents,\n",
    "    baseEntityLabel=True,\n",
    "    include_source=True\n",
    ")"
   ]
  },
  {
   "cell_type": "code",
   "execution_count": 94,
   "id": "3c97a00e-ad89-4f41-867e-55deab1890df",
   "metadata": {
    "tags": []
   },
   "outputs": [],
   "source": [
    "# Query the graph data for visualization\n",
    "driver = GraphDatabase.driver(\n",
    "    os.environ[\"NEO4J_URI\"],\n",
    "    auth=(os.environ[\"NEO4J_USERNAME\"], os.environ[\"NEO4J_PASSWORD\"])\n",
    ")"
   ]
  },
  {
   "cell_type": "code",
   "execution_count": 95,
   "id": "6137a833-5748-4451-98fd-473a7097650e",
   "metadata": {
    "tags": []
   },
   "outputs": [],
   "source": [
    "def query_graph(tx):\n",
    "    query = \"\"\"\n",
    "    MATCH (a)-[r]->(b)\n",
    "    WHERE a.name IS NOT NULL AND b.name IS NOT NULL\n",
    "    RETURN a.name AS from, b.name AS to, type(r) AS relationship\n",
    "    \"\"\"\n",
    "    result = tx.run(query)\n",
    "    return list(result)"
   ]
  },
  {
   "cell_type": "code",
   "execution_count": 96,
   "id": "e1932046-be1e-4fb4-93d6-5d0521d5729f",
   "metadata": {
    "tags": []
   },
   "outputs": [
    {
     "name": "stderr",
     "output_type": "stream",
     "text": [
      "C:\\Users\\JohnDeHart\\AppData\\Local\\Temp\\ipykernel_30100\\3898468172.py:2: DeprecationWarning: read_transaction has been renamed to execute_read\n",
      "  graph_data = session.read_transaction(query_graph)\n"
     ]
    }
   ],
   "source": [
    "with driver.session() as session:\n",
    "    graph_data = session.read_transaction(query_graph)"
   ]
  },
  {
   "cell_type": "code",
   "execution_count": 97,
   "id": "f6b48787-d4c5-496a-a589-55e42e80a86e",
   "metadata": {
    "tags": []
   },
   "outputs": [],
   "source": [
    "# Create NetworkX graph with error checking\n",
    "G = nx.DiGraph()\n",
    "for record in graph_data:\n",
    "    if record[\"from\"] and record[\"to\"]:\n",
    "        G.add_edge(record[\"from\"], record[\"to\"], relationship=record[\"relationship\"])\n",
    "    else:\n",
    "        logger.error(f\"Invalid record: {record}\")"
   ]
  },
  {
   "cell_type": "code",
   "execution_count": 98,
   "id": "fc173b87-fa37-46ee-bd3f-e84cf85efa60",
   "metadata": {
    "tags": []
   },
   "outputs": [
    {
     "data": {
      "image/png": "[encoded data removed]",
      "text/plain": [
       "<Figure size 1000x700 with 1 Axes>"
      ]
     },
     "metadata": {},
     "output_type": "display_data"
    }
   ],
   "source": [
    "# Plot the graph using NetworkX and Matplotlib\n",
    "pos = nx.spring_layout(G)\n",
    "plt.figure(figsize=(10, 7))\n",
    "nx.draw(G, pos, with_labels=True, node_color=\"lightblue\", font_size=12, font_weight=\"bold\", edge_color=\"gray\")\n",
    "edge_labels = nx.get_edge_attributes(G, \"relationship\")\n",
    "nx.draw_networkx_edge_labels(G, pos, edge_labels=edge_labels)\n",
    "plt.title(\"UAVs and Weapons Graph Visualization\")\n",
    "plt.show()"
   ]
  },
  {
   "cell_type": "code",
   "execution_count": null,
   "id": "3cc6e87c-09c0-4a6f-b1ac-5bbc58951c1c",
   "metadata": {},
   "outputs": [],
   "source": [
    "# Close Neo4j connection\n",
    "driver.close()"
   ]
  }
 ],
 "metadata": {
  "kernelspec": {
   "display_name": "Python 3 (ipykernel)",
   "language": "python",
   "name": "python3"
  },
  "language_info": {
   "codemirror_mode": {
    "name": "ipython",
    "version": 3
   },
   "file_extension": ".py",
   "mimetype": "text/x-python",
   "name": "python",
   "nbconvert_exporter": "python",
   "pygments_lexer": "ipython3",
   "version": "3.10.14"
  }
 },
 "nbformat": 4,
 "nbformat_minor": 5
}
