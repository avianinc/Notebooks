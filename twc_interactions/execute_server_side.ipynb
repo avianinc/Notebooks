{
 "cells": [
  {
   "cell_type": "markdown",
   "id": "5e95e72a-47b8-4189-8def-35eabce64569",
   "metadata": {
    "papermill": {
     "duration": 0.002013,
     "end_time": "2024-05-14T18:58:41.371191",
     "exception": false,
     "start_time": "2024-05-14T18:58:41.369178",
     "status": "completed"
    },
    "tags": []
   },
   "source": [
    "For local runs set the java version the the CSMVErsion"
   ]
  },
  {
   "cell_type": "code",
   "execution_count": 1,
   "id": "7ad5cb60-152f-48f0-98b3-bb40538dceac",
   "metadata": {
    "execution": {
     "iopub.execute_input": "2024-05-14T18:58:41.381696Z",
     "iopub.status.busy": "2024-05-14T18:58:41.380693Z",
     "iopub.status.idle": "2024-05-14T18:58:41.434426Z",
     "shell.execute_reply": "2024-05-14T18:58:41.433425Z"
    },
    "papermill": {
     "duration": 0.059238,
     "end_time": "2024-05-14T18:58:41.434426",
     "exception": false,
     "start_time": "2024-05-14T18:58:41.375188",
     "status": "completed"
    },
    "tags": []
   },
   "outputs": [
    {
     "name": "stdout",
     "output_type": "stream",
     "text": [
      "\r\n",
      "\n"
     ]
    }
   ],
   "source": [
    "$env:JAVA_HOME = \"C:\\NoMagic\\CSM190SP4\\jre\\bin\""
   ]
  },
  {
   "cell_type": "code",
   "execution_count": 2,
   "id": "0d59a668-f6dd-4124-b16a-fbecbc69de87",
   "metadata": {
    "execution": {
     "iopub.execute_input": "2024-05-14T18:58:41.440936Z",
     "iopub.status.busy": "2024-05-14T18:58:41.440936Z",
     "iopub.status.idle": "2024-05-14T18:58:41.496810Z",
     "shell.execute_reply": "2024-05-14T18:58:41.496810Z"
    },
    "papermill": {
     "duration": 0.060383,
     "end_time": "2024-05-14T18:58:41.496810",
     "exception": false,
     "start_time": "2024-05-14T18:58:41.436427",
     "status": "completed"
    },
    "tags": []
   },
   "outputs": [
    {
     "name": "stdout",
     "output_type": "stream",
     "text": [
      "\r\n",
      "\n"
     ]
    }
   ],
   "source": [
    "$env:PATH = \"$env:JAVA_HOME;$env:PATH\""
   ]
  },
  {
   "cell_type": "code",
   "execution_count": 3,
   "id": "f5aefc47-442a-4912-98eb-60eac77a8207",
   "metadata": {
    "execution": {
     "iopub.execute_input": "2024-05-14T18:58:41.507429Z",
     "iopub.status.busy": "2024-05-14T18:58:41.506400Z",
     "iopub.status.idle": "2024-05-14T18:58:41.668538Z",
     "shell.execute_reply": "2024-05-14T18:58:41.666905Z"
    },
    "papermill": {
     "duration": 0.168201,
     "end_time": "2024-05-14T18:58:41.668538",
     "exception": false,
     "start_time": "2024-05-14T18:58:41.500337",
     "status": "completed"
    },
    "tags": []
   },
   "outputs": [
    {
     "name": "stdout",
     "output_type": "stream",
     "text": [
      "java version \"1.8.0_202\"\r\n",
      "Java(TM) SE Runtime Environment (build 1.8.0_202-b08)\r\n",
      "Java HotSpot(TM) 64-Bit Server VM (build 25.202-b08, mixed mode)\r\n",
      "\r\n",
      "\n"
     ]
    }
   ],
   "source": [
    "java -version"
   ]
  },
  {
   "cell_type": "code",
   "execution_count": 4,
   "id": "31abafda-0073-4c8f-a457-3994be5da57a",
   "metadata": {
    "execution": {
     "iopub.execute_input": "2024-05-14T18:58:41.676441Z",
     "iopub.status.busy": "2024-05-14T18:58:41.675434Z",
     "iopub.status.idle": "2024-05-14T18:58:41.762237Z",
     "shell.execute_reply": "2024-05-14T18:58:41.761238Z"
    },
    "papermill": {
     "duration": 0.091797,
     "end_time": "2024-05-14T18:58:41.762237",
     "exception": false,
     "start_time": "2024-05-14T18:58:41.670440",
     "status": "completed"
    },
    "tags": []
   },
   "outputs": [
    {
     "name": "stdout",
     "output_type": "stream",
     "text": [
      "\r\n",
      "\n"
     ]
    }
   ],
   "source": [
    "cd C:\\NoMagic\\CSM190SP4\\plugins\\com.nomagic.magicdraw.simulation"
   ]
  },
  {
   "cell_type": "code",
   "execution_count": 5,
   "id": "42fd3172-e06e-469e-9ded-5331be1cce04",
   "metadata": {
    "execution": {
     "iopub.execute_input": "2024-05-14T18:58:41.769931Z",
     "iopub.status.busy": "2024-05-14T18:58:41.769931Z",
     "iopub.status.idle": "2024-05-14T19:00:01.255785Z",
     "shell.execute_reply": "2024-05-14T19:00:01.254779Z"
    },
    "papermill": {
     "duration": 79.491539,
     "end_time": "2024-05-14T19:00:01.255785",
     "exception": false,
     "start_time": "2024-05-14T18:58:41.764246",
     "status": "completed"
    },
    "tags": []
   },
   "outputs": [
    {
     "name": "stdout",
     "output_type": "stream",
     "text": [
      "-project ADT_Model -config calculatedVolume -servertype twcloud -server 10.107.1.92 -login jdehart -password RzhegxhCThZf -ssl false\r\n",
      "log4j:WARN No appenders could be found for logger (SIMULATION).\r\n",
      "log4j:WARN Please initialize the log4j system properly.\r\n",
      "Starting MagicDraw...\r\n",
      "log4j:WARN No appenders could be found for logger (GENERAL).\r\n",
      "log4j:WARN Please initialize the log4j system properly.\r\n",
      "May 14, 2024 2:58:47 PM java.util.jar.Attributes read\r\n",
      "WARNING: Duplicate name in Manifest: Created-By.\n",
      "Ensure that the manifest does not have duplicate entries, and\n",
      "that blank lines separate individual sections in both your\n",
      "manifest and in the META-INF/MANIFEST.MF entry in the jar file.\r\n",
      "May 14, 2024 2:58:47 PM java.util.jar.Attributes read\r\n",
      "WARNING: Duplicate name in Manifest: Created-By.\n",
      "Ensure that the manifest does not have duplicate entries, and\n",
      "that blank lines separate individual sections in both your\n",
      "manifest and in the META-INF/MANIFEST.MF entry in the jar file.\r\n",
      "May 14, 2024 2:58:47 PM java.util.jar.Attributes read\r\n",
      "WARNING: Duplicate name in Manifest: Created-By.\n",
      "Ensure that the manifest does not have duplicate entries, and\n",
      "that blank lines separate individual sections in both your\n",
      "manifest and in the META-INF/MANIFEST.MF entry in the jar file.\r\n",
      "log4j:WARN No appenders could be found for logger (GENERAL).\r\n",
      "log4j:WARN Please initialize the log4j system properly.\r\n",
      "Connecting to Teamwork Cloud...\r\n",
      "Simulation config: SimConfig::calculatedVolume is loaded.\r\n",
      "Started executing SimConfig::calculatedVolume\r\n",
      "Finished executing SimConfig::calculatedVolume\r\n",
      "\n"
     ]
    }
   ],
   "source": [
    " .\\simulate -project \"ADT_Model\" -config \"calculatedVolume\" -servertype \"twcloud\" -server \"10.107.1.92\" -login \"jdehart\" -password \"RzhegxhCThZf\" -ssl \"false\""
   ]
  },
  {
   "cell_type": "code",
   "execution_count": null,
   "id": "faee258e-4244-4c08-a724-4d33e234559c",
   "metadata": {
    "papermill": {
     "duration": 0.004,
     "end_time": "2024-05-14T19:00:01.265300",
     "exception": false,
     "start_time": "2024-05-14T19:00:01.261300",
     "status": "completed"
    },
    "tags": []
   },
   "outputs": [],
   "source": []
  }
 ],
 "metadata": {
  "kernelspec": {
   "display_name": "Calysto Bash",
   "language": "bash",
   "name": "calysto_bash"
  },
  "language_info": {
   "file_extension": ".sh",
   "help_links": [
    {
     "text": "MetaKernel Magics",
     "url": "https://metakernel.readthedocs.io/en/latest/source/README.html"
    }
   ],
   "mimetype": "text/x-sh",
   "name": "bash",
   "version": "0.2.2"
  },
  "papermill": {
   "default_parameters": {},
   "duration": 82.080264,
   "end_time": "2024-05-14T19:00:01.519675",
   "environment_variables": {},
   "exception": null,
   "input_path": "C:\\Users\\JohnDeHart\\Documents\\GitHub\\Notebooks\\twc_interactions\\execute_server_side.ipynb",
   "output_path": "C:\\Users\\JohnDeHart\\Documents\\GitHub\\Notebooks\\twc_interactions\\execute_server_side.ipynb",
   "parameters": {},
   "start_time": "2024-05-14T18:58:39.439411",
   "version": "2.6.0"
  }
 },
 "nbformat": 4,
 "nbformat_minor": 5
}