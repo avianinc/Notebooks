{
 "cells": [
  {
   "cell_type": "markdown",
   "id": "5e95e72a-47b8-4189-8def-35eabce64569",
   "metadata": {
    "papermill": {
     "duration": 0.002025,
     "end_time": "2024-05-15T14:57:04.112861",
     "exception": false,
     "start_time": "2024-05-15T14:57:04.110836",
     "status": "completed"
    },
    "tags": []
   },
   "source": [
    "For local runs set the java version the the CSMVErsion"
   ]
  },
  {
   "cell_type": "code",
   "execution_count": 1,
   "id": "7ad5cb60-152f-48f0-98b3-bb40538dceac",
   "metadata": {
    "execution": {
     "iopub.execute_input": "2024-05-15T14:57:04.118134Z",
     "iopub.status.busy": "2024-05-15T14:57:04.118134Z",
     "iopub.status.idle": "2024-05-15T14:57:04.175614Z",
     "shell.execute_reply": "2024-05-15T14:57:04.173603Z"
    },
    "papermill": {
     "duration": 0.064506,
     "end_time": "2024-05-15T14:57:04.179611",
     "exception": false,
     "start_time": "2024-05-15T14:57:04.115105",
     "status": "completed"
    },
    "tags": []
   },
   "outputs": [
    {
     "name": "stdout",
     "output_type": "stream",
     "text": [
      "\r\n",
      "\n"
     ]
    }
   ],
   "source": [
    "$env:JAVA_HOME = \"C:\\NoMagic\\CSM190SP4\\jre\\bin\""
   ]
  },
  {
   "cell_type": "code",
   "execution_count": 2,
   "id": "0d59a668-f6dd-4124-b16a-fbecbc69de87",
   "metadata": {
    "execution": {
     "iopub.execute_input": "2024-05-15T14:57:04.184617Z",
     "iopub.status.busy": "2024-05-15T14:57:04.184617Z",
     "iopub.status.idle": "2024-05-15T14:57:04.237587Z",
     "shell.execute_reply": "2024-05-15T14:57:04.235680Z"
    },
    "papermill": {
     "duration": 0.05796,
     "end_time": "2024-05-15T14:57:04.239577",
     "exception": false,
     "start_time": "2024-05-15T14:57:04.181617",
     "status": "completed"
    },
    "tags": []
   },
   "outputs": [
    {
     "name": "stdout",
     "output_type": "stream",
     "text": [
      "\r\n",
      "\n"
     ]
    }
   ],
   "source": [
    "$env:PATH = \"$env:JAVA_HOME;$env:PATH\""
   ]
  },
  {
   "cell_type": "code",
   "execution_count": 3,
   "id": "f5aefc47-442a-4912-98eb-60eac77a8207",
   "metadata": {
    "execution": {
     "iopub.execute_input": "2024-05-15T14:57:04.243993Z",
     "iopub.status.busy": "2024-05-15T14:57:04.243993Z",
     "iopub.status.idle": "2024-05-15T14:57:04.392596Z",
     "shell.execute_reply": "2024-05-15T14:57:04.390598Z"
    },
    "papermill": {
     "duration": 0.152601,
     "end_time": "2024-05-15T14:57:04.394595",
     "exception": false,
     "start_time": "2024-05-15T14:57:04.241994",
     "status": "completed"
    },
    "tags": []
   },
   "outputs": [
    {
     "name": "stdout",
     "output_type": "stream",
     "text": [
      "java version \"1.8.0_202\"\r\n",
      "Java(TM) SE Runtime Environment (build 1.8.0_202-b08)\r\n",
      "Java HotSpot(TM) 64-Bit Server VM (build 25.202-b08, mixed mode)\r\n",
      "\r\n",
      "\n"
     ]
    }
   ],
   "source": [
    "java -version"
   ]
  },
  {
   "cell_type": "code",
   "execution_count": 4,
   "id": "31abafda-0073-4c8f-a457-3994be5da57a",
   "metadata": {
    "execution": {
     "iopub.execute_input": "2024-05-15T14:57:04.400143Z",
     "iopub.status.busy": "2024-05-15T14:57:04.399122Z",
     "iopub.status.idle": "2024-05-15T14:57:04.487656Z",
     "shell.execute_reply": "2024-05-15T14:57:04.485589Z"
    },
    "papermill": {
     "duration": 0.093546,
     "end_time": "2024-05-15T14:57:04.489675",
     "exception": false,
     "start_time": "2024-05-15T14:57:04.396129",
     "status": "completed"
    },
    "tags": []
   },
   "outputs": [
    {
     "name": "stdout",
     "output_type": "stream",
     "text": [
      "\r\n",
      "\n"
     ]
    }
   ],
   "source": [
    "cd C:\\NoMagic\\CSM190SP4\\plugins\\com.nomagic.magicdraw.simulation"
   ]
  },
  {
   "cell_type": "code",
   "execution_count": null,
   "id": "42fd3172-e06e-469e-9ded-5331be1cce04",
   "metadata": {
    "execution": {
     "iopub.execute_input": "2024-05-15T14:47:36.975186Z",
     "iopub.status.busy": "2024-05-15T14:47:36.975186Z",
     "iopub.status.idle": "2024-05-15T14:48:26.120018Z",
     "shell.execute_reply": "2024-05-15T14:48:26.117915Z"
    },
    "papermill": {
     "duration": null,
     "end_time": null,
     "exception": false,
     "start_time": "2024-05-15T14:57:04.491681",
     "status": "running"
    },
    "tags": []
   },
   "outputs": [],
   "source": [
    " .\\simulate -project \"ADT_Model\" -config \"calculatedVolume\" -servertype \"twcloud\" -server \"10.107.1.92\" -login \"jdehart\" -password \"RzhegxhCThZf\" -ssl \"false\""
   ]
  },
  {
   "cell_type": "code",
   "execution_count": null,
   "id": "faee258e-4244-4c08-a724-4d33e234559c",
   "metadata": {
    "papermill": {
     "duration": null,
     "end_time": null,
     "exception": null,
     "start_time": null,
     "status": "pending"
    },
    "tags": []
   },
   "outputs": [],
   "source": []
  }
 ],
 "metadata": {
  "kernelspec": {
   "display_name": "Calysto Bash",
   "language": "bash",
   "name": "calysto_bash"
  },
  "language_info": {
   "file_extension": ".sh",
   "help_links": [
    {
     "text": "MetaKernel Magics",
     "url": "https://metakernel.readthedocs.io/en/latest/source/README.html"
    }
   ],
   "mimetype": "text/x-sh",
   "name": "bash",
   "version": "0.2.2"
  },
  "papermill": {
   "default_parameters": {},
   "duration": null,
   "end_time": null,
   "environment_variables": {},
   "exception": null,
   "input_path": "C:\\Users\\JohnDeHart\\Documents\\GitHub\\Notebooks\\twc_interactions\\execute_server_side.ipynb",
   "output_path": "C:\\Users\\JohnDeHart\\Documents\\GitHub\\Notebooks\\twc_interactions\\execute_server_side.ipynb",
   "parameters": {},
   "start_time": "2024-05-15T14:57:02.349450",
   "version": "2.6.0"
  }
 },
 "nbformat": 4,
 "nbformat_minor": 5
}