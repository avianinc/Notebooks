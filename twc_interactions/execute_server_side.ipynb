{
 "cells": [
  {
   "cell_type": "markdown",
   "id": "5e95e72a-47b8-4189-8def-35eabce64569",
   "metadata": {
    "papermill": {
     "duration": 0.002038,
     "end_time": "2024-05-15T14:38:08.037225",
     "exception": false,
     "start_time": "2024-05-15T14:38:08.035187",
     "status": "completed"
    },
    "tags": []
   },
   "source": [
    "For local runs set the java version the the CSMVErsion"
   ]
  },
  {
   "cell_type": "code",
   "execution_count": 1,
   "id": "7ad5cb60-152f-48f0-98b3-bb40538dceac",
   "metadata": {
    "execution": {
     "iopub.execute_input": "2024-05-15T14:38:08.044193Z",
     "iopub.status.busy": "2024-05-15T14:38:08.044193Z",
     "iopub.status.idle": "2024-05-15T14:38:08.098867Z",
     "shell.execute_reply": "2024-05-15T14:38:08.098867Z"
    },
    "papermill": {
     "duration": 0.059691,
     "end_time": "2024-05-15T14:38:08.098867",
     "exception": false,
     "start_time": "2024-05-15T14:38:08.039176",
     "status": "completed"
    },
    "tags": []
   },
   "outputs": [
    {
     "name": "stdout",
     "output_type": "stream",
     "text": [
      "\r\n",
      "\n"
     ]
    }
   ],
   "source": [
    "$env:JAVA_HOME = \"C:\\NoMagic\\CSM190SP4\\jre\\bin\""
   ]
  },
  {
   "cell_type": "code",
   "execution_count": 2,
   "id": "0d59a668-f6dd-4124-b16a-fbecbc69de87",
   "metadata": {
    "execution": {
     "iopub.execute_input": "2024-05-15T14:38:08.105857Z",
     "iopub.status.busy": "2024-05-15T14:38:08.105857Z",
     "iopub.status.idle": "2024-05-15T14:38:08.162048Z",
     "shell.execute_reply": "2024-05-15T14:38:08.162048Z"
    },
    "papermill": {
     "duration": 0.061183,
     "end_time": "2024-05-15T14:38:08.162048",
     "exception": false,
     "start_time": "2024-05-15T14:38:08.100865",
     "status": "completed"
    },
    "tags": []
   },
   "outputs": [
    {
     "name": "stdout",
     "output_type": "stream",
     "text": [
      "\r\n",
      "\n"
     ]
    }
   ],
   "source": [
    "$env:PATH = \"$env:JAVA_HOME;$env:PATH\""
   ]
  },
  {
   "cell_type": "code",
   "execution_count": 3,
   "id": "f5aefc47-442a-4912-98eb-60eac77a8207",
   "metadata": {
    "execution": {
     "iopub.execute_input": "2024-05-15T14:38:08.169009Z",
     "iopub.status.busy": "2024-05-15T14:38:08.169009Z",
     "iopub.status.idle": "2024-05-15T14:38:08.320076Z",
     "shell.execute_reply": "2024-05-15T14:38:08.320076Z"
    },
    "papermill": {
     "duration": 0.155963,
     "end_time": "2024-05-15T14:38:08.320076",
     "exception": false,
     "start_time": "2024-05-15T14:38:08.164113",
     "status": "completed"
    },
    "tags": []
   },
   "outputs": [
    {
     "name": "stdout",
     "output_type": "stream",
     "text": [
      "java version \"1.8.0_202\"\r\n",
      "Java(TM) SE Runtime Environment (build 1.8.0_202-b08)\r\n",
      "Java HotSpot(TM) 64-Bit Server VM (build 25.202-b08, mixed mode)\r\n",
      "\r\n",
      "\n"
     ]
    }
   ],
   "source": [
    "java -version"
   ]
  },
  {
   "cell_type": "code",
   "execution_count": 4,
   "id": "31abafda-0073-4c8f-a457-3994be5da57a",
   "metadata": {
    "execution": {
     "iopub.execute_input": "2024-05-15T14:38:08.328553Z",
     "iopub.status.busy": "2024-05-15T14:38:08.327533Z",
     "iopub.status.idle": "2024-05-15T14:38:08.411630Z",
     "shell.execute_reply": "2024-05-15T14:38:08.411630Z"
    },
    "papermill": {
     "duration": 0.089543,
     "end_time": "2024-05-15T14:38:08.411630",
     "exception": false,
     "start_time": "2024-05-15T14:38:08.322087",
     "status": "completed"
    },
    "tags": []
   },
   "outputs": [
    {
     "name": "stdout",
     "output_type": "stream",
     "text": [
      "\r\n",
      "\n"
     ]
    }
   ],
   "source": [
    "cd C:\\NoMagic\\CSM190SP4\\plugins\\com.nomagic.magicdraw.simulation"
   ]
  },
  {
   "cell_type": "code",
   "execution_count": 5,
   "id": "42fd3172-e06e-469e-9ded-5331be1cce04",
   "metadata": {
    "execution": {
     "iopub.execute_input": "2024-05-15T14:38:08.418482Z",
     "iopub.status.busy": "2024-05-15T14:38:08.418482Z",
     "iopub.status.idle": "2024-05-15T14:39:18.054947Z",
     "shell.execute_reply": "2024-05-15T14:39:18.054947Z"
    },
    "papermill": {
     "duration": 69.641246,
     "end_time": "2024-05-15T14:39:18.054947",
     "exception": false,
     "start_time": "2024-05-15T14:38:08.413701",
     "status": "completed"
    },
    "tags": []
   },
   "outputs": [
    {
     "name": "stdout",
     "output_type": "stream",
     "text": [
      "-project ADT_Model -config calculatedVolume -servertype twcloud -server 10.107.1.92 -login jdehart -password RzhegxhCThZf -ssl false\r\n",
      "log4j:WARN No appenders could be found for logger (SIMULATION).\r\n",
      "log4j:WARN Please initialize the log4j system properly.\r\n",
      "Starting MagicDraw...\r\n",
      "log4j:WARN No appenders could be found for logger (GENERAL).\r\n",
      "log4j:WARN Please initialize the log4j system properly.\r\n",
      "May 15, 2024 10:38:13 AM java.util.jar.Attributes read\r\n",
      "WARNING: Duplicate name in Manifest: Created-By.\n",
      "Ensure that the manifest does not have duplicate entries, and\n",
      "that blank lines separate individual sections in both your\n",
      "manifest and in the META-INF/MANIFEST.MF entry in the jar file.\r\n",
      "May 15, 2024 10:38:13 AM java.util.jar.Attributes read\r\n",
      "WARNING: Duplicate name in Manifest: Created-By.\n",
      "Ensure that the manifest does not have duplicate entries, and\n",
      "that blank lines separate individual sections in both your\n",
      "manifest and in the META-INF/MANIFEST.MF entry in the jar file.\r\n",
      "May 15, 2024 10:38:13 AM java.util.jar.Attributes read\r\n",
      "WARNING: Duplicate name in Manifest: Created-By.\n",
      "Ensure that the manifest does not have duplicate entries, and\n",
      "that blank lines separate individual sections in both your\n",
      "manifest and in the META-INF/MANIFEST.MF entry in the jar file.\r\n",
      "log4j:WARN No appenders could be found for logger (GENERAL).\r\n",
      "log4j:WARN Please initialize the log4j system properly.\r\n",
      "Connecting to Teamwork Cloud...\r\n",
      "Simulation config: SimConfig::calculatedVolume is loaded.\r\n",
      "Started executing SimConfig::calculatedVolume\r\n",
      "Finished executing SimConfig::calculatedVolume\r\n",
      "\n"
     ]
    }
   ],
   "source": [
    " .\\simulate -project \"ADT_Model\" -config \"calculatedVolume\" -servertype \"twcloud\" -server \"10.107.1.92\" -login \"jdehart\" -password \"RzhegxhCThZf\" -ssl \"false\""
   ]
  },
  {
   "cell_type": "code",
   "execution_count": null,
   "id": "faee258e-4244-4c08-a724-4d33e234559c",
   "metadata": {
    "papermill": {
     "duration": 0.002007,
     "end_time": "2024-05-15T14:39:18.059951",
     "exception": false,
     "start_time": "2024-05-15T14:39:18.057944",
     "status": "completed"
    },
    "tags": []
   },
   "outputs": [],
   "source": []
  }
 ],
 "metadata": {
  "kernelspec": {
   "display_name": "Calysto Bash",
   "language": "bash",
   "name": "calysto_bash"
  },
  "language_info": {
   "file_extension": ".sh",
   "help_links": [
    {
     "text": "MetaKernel Magics",
     "url": "https://metakernel.readthedocs.io/en/latest/source/README.html"
    }
   ],
   "mimetype": "text/x-sh",
   "name": "bash",
   "version": "0.2.2"
  },
  "papermill": {
   "default_parameters": {},
   "duration": 74.939086,
   "end_time": "2024-05-15T14:39:21.176378",
   "environment_variables": {},
   "exception": null,
   "input_path": "C:\\Users\\JohnDeHart\\Documents\\GitHub\\Notebooks\\twc_interactions\\execute_server_side.ipynb",
   "output_path": "C:\\Users\\JohnDeHart\\Documents\\GitHub\\Notebooks\\twc_interactions\\execute_server_side.ipynb",
   "parameters": {},
   "start_time": "2024-05-15T14:38:06.237292",
   "version": "2.6.0"
  }
 },
 "nbformat": 4,
 "nbformat_minor": 5
}