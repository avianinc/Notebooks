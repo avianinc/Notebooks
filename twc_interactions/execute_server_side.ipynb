{
 "cells": [
  {
   "cell_type": "markdown",
   "id": "5e95e72a-47b8-4189-8def-35eabce64569",
   "metadata": {
    "papermill": {
     "duration": 0.001994,
     "end_time": "2024-05-15T15:21:27.033810",
     "exception": false,
     "start_time": "2024-05-15T15:21:27.031816",
     "status": "completed"
    },
    "tags": []
   },
   "source": [
    "For local runs set the java version the the CSMVErsion"
   ]
  },
  {
   "cell_type": "code",
   "execution_count": 1,
   "id": "7ad5cb60-152f-48f0-98b3-bb40538dceac",
   "metadata": {
    "execution": {
     "iopub.execute_input": "2024-05-15T15:21:27.038808Z",
     "iopub.status.busy": "2024-05-15T15:21:27.038808Z",
     "iopub.status.idle": "2024-05-15T15:21:27.098868Z",
     "shell.execute_reply": "2024-05-15T15:21:27.095876Z"
    },
    "papermill": {
     "duration": 0.065058,
     "end_time": "2024-05-15T15:21:27.100868",
     "exception": false,
     "start_time": "2024-05-15T15:21:27.035810",
     "status": "completed"
    },
    "tags": []
   },
   "outputs": [
    {
     "name": "stdout",
     "output_type": "stream",
     "text": [
      "\r\n",
      "\n"
     ]
    }
   ],
   "source": [
    "$env:JAVA_HOME = \"C:\\NoMagic\\CSM190SP4\\jre\\bin\""
   ]
  },
  {
   "cell_type": "code",
   "execution_count": 2,
   "id": "0d59a668-f6dd-4124-b16a-fbecbc69de87",
   "metadata": {
    "execution": {
     "iopub.execute_input": "2024-05-15T15:21:27.106867Z",
     "iopub.status.busy": "2024-05-15T15:21:27.105867Z",
     "iopub.status.idle": "2024-05-15T15:21:27.160419Z",
     "shell.execute_reply": "2024-05-15T15:21:27.159419Z"
    },
    "papermill": {
     "duration": 0.059554,
     "end_time": "2024-05-15T15:21:27.162421",
     "exception": false,
     "start_time": "2024-05-15T15:21:27.102867",
     "status": "completed"
    },
    "tags": []
   },
   "outputs": [
    {
     "name": "stdout",
     "output_type": "stream",
     "text": [
      "\r\n",
      "\n"
     ]
    }
   ],
   "source": [
    "$env:PATH = \"$env:JAVA_HOME;$env:PATH\""
   ]
  },
  {
   "cell_type": "code",
   "execution_count": 3,
   "id": "f5aefc47-442a-4912-98eb-60eac77a8207",
   "metadata": {
    "execution": {
     "iopub.execute_input": "2024-05-15T15:21:27.167412Z",
     "iopub.status.busy": "2024-05-15T15:21:27.167412Z",
     "iopub.status.idle": "2024-05-15T15:21:27.319739Z",
     "shell.execute_reply": "2024-05-15T15:21:27.317729Z"
    },
    "papermill": {
     "duration": 0.157313,
     "end_time": "2024-05-15T15:21:27.321735",
     "exception": false,
     "start_time": "2024-05-15T15:21:27.164422",
     "status": "completed"
    },
    "tags": []
   },
   "outputs": [
    {
     "name": "stdout",
     "output_type": "stream",
     "text": [
      "java version \"1.8.0_202\"\r\n",
      "Java(TM) SE Runtime Environment (build 1.8.0_202-b08)\r\n",
      "Java HotSpot(TM) 64-Bit Server VM (build 25.202-b08, mixed mode)\r\n",
      "\r\n",
      "\n"
     ]
    }
   ],
   "source": [
    "java -version"
   ]
  },
  {
   "cell_type": "code",
   "execution_count": 4,
   "id": "31abafda-0073-4c8f-a457-3994be5da57a",
   "metadata": {
    "execution": {
     "iopub.execute_input": "2024-05-15T15:21:27.328730Z",
     "iopub.status.busy": "2024-05-15T15:21:27.328730Z",
     "iopub.status.idle": "2024-05-15T15:21:27.414460Z",
     "shell.execute_reply": "2024-05-15T15:21:27.413459Z"
    },
    "papermill": {
     "duration": 0.092721,
     "end_time": "2024-05-15T15:21:27.416459",
     "exception": false,
     "start_time": "2024-05-15T15:21:27.323738",
     "status": "completed"
    },
    "tags": []
   },
   "outputs": [
    {
     "name": "stdout",
     "output_type": "stream",
     "text": [
      "\r\n",
      "\n"
     ]
    }
   ],
   "source": [
    "cd C:\\NoMagic\\CSM190SP4\\plugins\\com.nomagic.magicdraw.simulation"
   ]
  },
  {
   "cell_type": "code",
   "execution_count": 5,
   "id": "42fd3172-e06e-469e-9ded-5331be1cce04",
   "metadata": {
    "execution": {
     "iopub.execute_input": "2024-05-15T15:21:27.421457Z",
     "iopub.status.busy": "2024-05-15T15:21:27.421457Z",
     "iopub.status.idle": "2024-05-15T15:22:32.719470Z",
     "shell.execute_reply": "2024-05-15T15:22:32.717354Z"
    },
    "papermill": {
     "duration": 65.303021,
     "end_time": "2024-05-15T15:22:32.721480",
     "exception": false,
     "start_time": "2024-05-15T15:21:27.418459",
     "status": "completed"
    },
    "tags": []
   },
   "outputs": [
    {
     "name": "stdout",
     "output_type": "stream",
     "text": [
      "-project ADT_Model -config calculatedVolume -servertype twcloud -server 10.107.1.92 -login jdehart -password RzhegxhCThZf -ssl false\r\n",
      "log4j:WARN No appenders could be found for logger (SIMULATION).\r\n",
      "log4j:WARN Please initialize the log4j system properly.\r\n",
      "Starting MagicDraw...\r\n",
      "log4j:WARN No appenders could be found for logger (GENERAL).\r\n",
      "log4j:WARN Please initialize the log4j system properly.\r\n",
      "May 15, 2024 11:21:32 AM java.util.jar.Attributes read\r\n",
      "WARNING: Duplicate name in Manifest: Created-By.\n",
      "Ensure that the manifest does not have duplicate entries, and\n",
      "that blank lines separate individual sections in both your\n",
      "manifest and in the META-INF/MANIFEST.MF entry in the jar file.\r\n",
      "May 15, 2024 11:21:32 AM java.util.jar.Attributes read\r\n",
      "WARNING: Duplicate name in Manifest: Created-By.\n",
      "Ensure that the manifest does not have duplicate entries, and\n",
      "that blank lines separate individual sections in both your\n",
      "manifest and in the META-INF/MANIFEST.MF entry in the jar file.\r\n",
      "May 15, 2024 11:21:32 AM java.util.jar.Attributes read\r\n",
      "WARNING: Duplicate name in Manifest: Created-By.\n",
      "Ensure that the manifest does not have duplicate entries, and\n",
      "that blank lines separate individual sections in both your\n",
      "manifest and in the META-INF/MANIFEST.MF entry in the jar file.\r\n",
      "log4j:WARN No appenders could be found for logger (GENERAL).\r\n",
      "log4j:WARN Please initialize the log4j system properly.\r\n",
      "Connecting to Teamwork Cloud...\r\n",
      "Simulation config: SimConfig::calculatedVolume is loaded.\r\n",
      "Started executing SimConfig::calculatedVolume\r\n",
      "Finished executing SimConfig::calculatedVolume\r\n",
      "\r\n",
      "\n"
     ]
    }
   ],
   "source": [
    " .\\simulate -project \"ADT_Model\" -config \"calculatedVolume\" -servertype \"twcloud\" -server \"10.107.1.92\" -login \"jdehart\" -password \"RzhegxhCThZf\" -ssl \"false\""
   ]
  },
  {
   "cell_type": "code",
   "execution_count": null,
   "id": "faee258e-4244-4c08-a724-4d33e234559c",
   "metadata": {
    "papermill": {
     "duration": 0.002,
     "end_time": "2024-05-15T15:22:32.726471",
     "exception": false,
     "start_time": "2024-05-15T15:22:32.724471",
     "status": "completed"
    },
    "tags": []
   },
   "outputs": [],
   "source": []
  }
 ],
 "metadata": {
  "kernelspec": {
   "display_name": "Calysto Bash",
   "language": "bash",
   "name": "calysto_bash"
  },
  "language_info": {
   "file_extension": ".sh",
   "help_links": [
    {
     "text": "MetaKernel Magics",
     "url": "https://metakernel.readthedocs.io/en/latest/source/README.html"
    }
   ],
   "mimetype": "text/x-sh",
   "name": "bash",
   "version": "0.2.2"
  },
  "papermill": {
   "default_parameters": {},
   "duration": 70.710807,
   "end_time": "2024-05-15T15:22:36.044408",
   "environment_variables": {},
   "exception": null,
   "input_path": "C:\\Users\\JohnDeHart\\Documents\\GitHub\\Notebooks\\twc_interactions\\execute_server_side.ipynb",
   "output_path": "C:\\Users\\JohnDeHart\\Documents\\GitHub\\Notebooks\\twc_interactions\\execute_server_side.ipynb",
   "parameters": {},
   "start_time": "2024-05-15T15:21:25.333601",
   "version": "2.6.0"
  }
 },
 "nbformat": 4,
 "nbformat_minor": 5
}