{
 "cells": [
  {
   "cell_type": "markdown",
   "id": "5e95e72a-47b8-4189-8def-35eabce64569",
   "metadata": {
    "papermill": {
     "duration": 0.002002,
     "end_time": "2024-05-15T16:13:23.960182",
     "exception": false,
     "start_time": "2024-05-15T16:13:23.958180",
     "status": "completed"
    },
    "tags": []
   },
   "source": [
    "For local runs set the java version the the CSMVErsion"
   ]
  },
  {
   "cell_type": "code",
   "execution_count": 1,
   "id": "7ad5cb60-152f-48f0-98b3-bb40538dceac",
   "metadata": {
    "execution": {
     "iopub.execute_input": "2024-05-15T16:13:23.966176Z",
     "iopub.status.busy": "2024-05-15T16:13:23.966176Z",
     "iopub.status.idle": "2024-05-15T16:13:24.022209Z",
     "shell.execute_reply": "2024-05-15T16:13:24.021207Z"
    },
    "papermill": {
     "duration": 0.063034,
     "end_time": "2024-05-15T16:13:24.025214",
     "exception": false,
     "start_time": "2024-05-15T16:13:23.962180",
     "status": "completed"
    },
    "tags": []
   },
   "outputs": [
    {
     "name": "stdout",
     "output_type": "stream",
     "text": [
      "\r\n",
      "\n"
     ]
    }
   ],
   "source": [
    "$env:JAVA_HOME = \"C:\\NoMagic\\CSM190SP4\\jre\\bin\""
   ]
  },
  {
   "cell_type": "code",
   "execution_count": 2,
   "id": "0d59a668-f6dd-4124-b16a-fbecbc69de87",
   "metadata": {
    "execution": {
     "iopub.execute_input": "2024-05-15T16:13:24.030226Z",
     "iopub.status.busy": "2024-05-15T16:13:24.030226Z",
     "iopub.status.idle": "2024-05-15T16:13:24.086183Z",
     "shell.execute_reply": "2024-05-15T16:13:24.085183Z"
    },
    "papermill": {
     "duration": 0.061969,
     "end_time": "2024-05-15T16:13:24.089182",
     "exception": false,
     "start_time": "2024-05-15T16:13:24.027213",
     "status": "completed"
    },
    "tags": []
   },
   "outputs": [
    {
     "name": "stdout",
     "output_type": "stream",
     "text": [
      "\r\n",
      "\n"
     ]
    }
   ],
   "source": [
    "$env:PATH = \"$env:JAVA_HOME;$env:PATH\""
   ]
  },
  {
   "cell_type": "code",
   "execution_count": 3,
   "id": "f5aefc47-442a-4912-98eb-60eac77a8207",
   "metadata": {
    "execution": {
     "iopub.execute_input": "2024-05-15T16:13:24.096181Z",
     "iopub.status.busy": "2024-05-15T16:13:24.096181Z",
     "iopub.status.idle": "2024-05-15T16:13:24.244272Z",
     "shell.execute_reply": "2024-05-15T16:13:24.243268Z"
    },
    "papermill": {
     "duration": 0.156086,
     "end_time": "2024-05-15T16:13:24.247268",
     "exception": false,
     "start_time": "2024-05-15T16:13:24.091182",
     "status": "completed"
    },
    "tags": []
   },
   "outputs": [
    {
     "name": "stdout",
     "output_type": "stream",
     "text": [
      "java version \"1.8.0_202\"\r\n",
      "Java(TM) SE Runtime Environment (build 1.8.0_202-b08)\r\n",
      "Java HotSpot(TM) 64-Bit Server VM (build 25.202-b08, mixed mode)\r\n",
      "\r\n",
      "\n"
     ]
    }
   ],
   "source": [
    "java -version"
   ]
  },
  {
   "cell_type": "code",
   "execution_count": 4,
   "id": "31abafda-0073-4c8f-a457-3994be5da57a",
   "metadata": {
    "execution": {
     "iopub.execute_input": "2024-05-15T16:13:24.254262Z",
     "iopub.status.busy": "2024-05-15T16:13:24.253262Z",
     "iopub.status.idle": "2024-05-15T16:13:24.338265Z",
     "shell.execute_reply": "2024-05-15T16:13:24.337249Z"
    },
    "papermill": {
     "duration": 0.090998,
     "end_time": "2024-05-15T16:13:24.340266",
     "exception": false,
     "start_time": "2024-05-15T16:13:24.249268",
     "status": "completed"
    },
    "tags": []
   },
   "outputs": [
    {
     "name": "stdout",
     "output_type": "stream",
     "text": [
      "\r\n",
      "\n"
     ]
    }
   ],
   "source": [
    "cd C:\\NoMagic\\CSM190SP4\\plugins\\com.nomagic.magicdraw.simulation"
   ]
  },
  {
   "cell_type": "code",
   "execution_count": 5,
   "id": "42fd3172-e06e-469e-9ded-5331be1cce04",
   "metadata": {
    "execution": {
     "iopub.execute_input": "2024-05-15T16:13:24.346261Z",
     "iopub.status.busy": "2024-05-15T16:13:24.345260Z",
     "iopub.status.idle": "2024-05-15T16:15:39.491649Z",
     "shell.execute_reply": "2024-05-15T16:15:39.490644Z"
    },
    "papermill": {
     "duration": 135.150382,
     "end_time": "2024-05-15T16:15:39.493647",
     "exception": false,
     "start_time": "2024-05-15T16:13:24.343265",
     "status": "completed"
    },
    "tags": []
   },
   "outputs": [
    {
     "name": "stdout",
     "output_type": "stream",
     "text": [
      "-project ADT_Model -config calculatedVolume -servertype twcloud -server 10.107.1.92 -login jdehart -password RzhegxhCThZf -ssl false\r\n",
      "log4j:WARN No appenders could be found for logger (SIMULATION).\r\n",
      "log4j:WARN Please initialize the log4j system properly.\r\n",
      "Starting MagicDraw...\r\n",
      "log4j:WARN No appenders could be found for logger (GENERAL).\r\n",
      "log4j:WARN Please initialize the log4j system properly.\r\n",
      "May 15, 2024 12:13:29 PM java.util.jar.Attributes read\r\n",
      "WARNING: Duplicate name in Manifest: Created-By.\n",
      "Ensure that the manifest does not have duplicate entries, and\n",
      "that blank lines separate individual sections in both your\n",
      "manifest and in the META-INF/MANIFEST.MF entry in the jar file.\r\n",
      "May 15, 2024 12:13:29 PM java.util.jar.Attributes read\r\n",
      "WARNING: Duplicate name in Manifest: Created-By.\n",
      "Ensure that the manifest does not have duplicate entries, and\n",
      "that blank lines separate individual sections in both your\n",
      "manifest and in the META-INF/MANIFEST.MF entry in the jar file.\r\n",
      "May 15, 2024 12:13:29 PM java.util.jar.Attributes read\r\n",
      "WARNING: Duplicate name in Manifest: Created-By.\n",
      "Ensure that the manifest does not have duplicate entries, and\n",
      "that blank lines separate individual sections in both your\n",
      "manifest and in the META-INF/MANIFEST.MF entry in the jar file.\r\n",
      "log4j:WARN No appenders could be found for logger (GENERAL).\r\n",
      "log4j:WARN Please initialize the log4j system properly.\r\n",
      "Connecting to Teamwork Cloud...\r\n",
      "Simulation config: SimConfig::calculatedVolume is loaded.\r\n",
      "Started executing SimConfig::calculatedVolume\r\n",
      "Finished executing SimConfig::calculatedVolume\r\n",
      "\r\n",
      "\n"
     ]
    }
   ],
   "source": [
    " .\\simulate -project \"ADT_Model\" -config \"calculatedVolume\" -servertype \"twcloud\" -server \"10.107.1.92\" -login \"jdehart\" -password \"RzhegxhCThZf\" -ssl \"false\""
   ]
  },
  {
   "cell_type": "code",
   "execution_count": null,
   "id": "faee258e-4244-4c08-a724-4d33e234559c",
   "metadata": {
    "papermill": {
     "duration": 0.001992,
     "end_time": "2024-05-15T16:15:39.498647",
     "exception": false,
     "start_time": "2024-05-15T16:15:39.496655",
     "status": "completed"
    },
    "tags": []
   },
   "outputs": [],
   "source": []
  }
 ],
 "metadata": {
  "kernelspec": {
   "display_name": "Calysto Bash",
   "language": "bash",
   "name": "calysto_bash"
  },
  "language_info": {
   "file_extension": ".sh",
   "help_links": [
    {
     "text": "MetaKernel Magics",
     "url": "https://metakernel.readthedocs.io/en/latest/source/README.html"
    }
   ],
   "mimetype": "text/x-sh",
   "name": "bash",
   "version": "0.2.2"
  },
  "papermill": {
   "default_parameters": {},
   "duration": 137.660345,
   "end_time": "2024-05-15T16:15:39.747434",
   "environment_variables": {},
   "exception": null,
   "input_path": "C:\\Users\\JohnDeHart\\Documents\\GitHub\\Notebooks\\twc_interactions\\execute_server_side.ipynb",
   "output_path": "C:\\Users\\JohnDeHart\\Documents\\GitHub\\Notebooks\\twc_interactions\\execute_server_side.ipynb",
   "parameters": {},
   "start_time": "2024-05-15T16:13:22.087089",
   "version": "2.6.0"
  }
 },
 "nbformat": 4,
 "nbformat_minor": 5
}