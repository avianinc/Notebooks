{
 "cells": [
  {
   "cell_type": "markdown",
   "id": "5e95e72a-47b8-4189-8def-35eabce64569",
   "metadata": {
    "papermill": {
     "duration": 0.002077,
     "end_time": "2024-05-15T15:52:14.823336",
     "exception": false,
     "start_time": "2024-05-15T15:52:14.821259",
     "status": "completed"
    },
    "tags": []
   },
   "source": [
    "For local runs set the java version the the CSMVErsion"
   ]
  },
  {
   "cell_type": "code",
   "execution_count": 1,
   "id": "7ad5cb60-152f-48f0-98b3-bb40538dceac",
   "metadata": {
    "execution": {
     "iopub.execute_input": "2024-05-15T15:52:14.828986Z",
     "iopub.status.busy": "2024-05-15T15:52:14.827884Z",
     "iopub.status.idle": "2024-05-15T15:52:14.868869Z",
     "shell.execute_reply": "2024-05-15T15:52:14.866852Z"
    },
    "papermill": {
     "duration": 0.046079,
     "end_time": "2024-05-15T15:52:14.871957",
     "exception": false,
     "start_time": "2024-05-15T15:52:14.825878",
     "status": "completed"
    },
    "tags": []
   },
   "outputs": [
    {
     "name": "stdout",
     "output_type": "stream",
     "text": [
      "\r\n",
      "\n"
     ]
    }
   ],
   "source": [
    "$env:JAVA_HOME = \"C:\\NoMagic\\CSM190SP4\\jre\\bin\""
   ]
  },
  {
   "cell_type": "code",
   "execution_count": 2,
   "id": "0d59a668-f6dd-4124-b16a-fbecbc69de87",
   "metadata": {
    "execution": {
     "iopub.execute_input": "2024-05-15T15:52:14.877765Z",
     "iopub.status.busy": "2024-05-15T15:52:14.876649Z",
     "iopub.status.idle": "2024-05-15T15:52:14.931024Z",
     "shell.execute_reply": "2024-05-15T15:52:14.929103Z"
    },
    "papermill": {
     "duration": 0.059126,
     "end_time": "2024-05-15T15:52:14.933066",
     "exception": false,
     "start_time": "2024-05-15T15:52:14.873940",
     "status": "completed"
    },
    "tags": []
   },
   "outputs": [
    {
     "name": "stdout",
     "output_type": "stream",
     "text": [
      "\r\n",
      "\n"
     ]
    }
   ],
   "source": [
    "$env:PATH = \"$env:JAVA_HOME;$env:PATH\""
   ]
  },
  {
   "cell_type": "code",
   "execution_count": 3,
   "id": "f5aefc47-442a-4912-98eb-60eac77a8207",
   "metadata": {
    "execution": {
     "iopub.execute_input": "2024-05-15T15:52:14.938527Z",
     "iopub.status.busy": "2024-05-15T15:52:14.938527Z",
     "iopub.status.idle": "2024-05-15T15:52:15.069840Z",
     "shell.execute_reply": "2024-05-15T15:52:15.069336Z"
    },
    "papermill": {
     "duration": 0.136756,
     "end_time": "2024-05-15T15:52:15.071845",
     "exception": false,
     "start_time": "2024-05-15T15:52:14.935089",
     "status": "completed"
    },
    "tags": []
   },
   "outputs": [
    {
     "name": "stdout",
     "output_type": "stream",
     "text": [
      "java version \"1.8.0_202\"\r\n",
      "Java(TM) SE Runtime Environment (build 1.8.0_202-b08)\r\n",
      "Java HotSpot(TM) 64-Bit Server VM (build 25.202-b08, mixed mode)\r\n",
      "\r\n",
      "\n"
     ]
    }
   ],
   "source": [
    "java -version"
   ]
  },
  {
   "cell_type": "code",
   "execution_count": 4,
   "id": "31abafda-0073-4c8f-a457-3994be5da57a",
   "metadata": {
    "execution": {
     "iopub.execute_input": "2024-05-15T15:52:15.078845Z",
     "iopub.status.busy": "2024-05-15T15:52:15.077846Z",
     "iopub.status.idle": "2024-05-15T15:52:15.150001Z",
     "shell.execute_reply": "2024-05-15T15:52:15.148026Z"
    },
    "papermill": {
     "duration": 0.078151,
     "end_time": "2024-05-15T15:52:15.152003",
     "exception": false,
     "start_time": "2024-05-15T15:52:15.073852",
     "status": "completed"
    },
    "tags": []
   },
   "outputs": [
    {
     "name": "stdout",
     "output_type": "stream",
     "text": [
      "\r\n",
      "\n"
     ]
    }
   ],
   "source": [
    "cd C:\\NoMagic\\CSM190SP4\\plugins\\com.nomagic.magicdraw.simulation"
   ]
  },
  {
   "cell_type": "code",
   "execution_count": 5,
   "id": "42fd3172-e06e-469e-9ded-5331be1cce04",
   "metadata": {
    "execution": {
     "iopub.execute_input": "2024-05-15T15:52:15.157167Z",
     "iopub.status.busy": "2024-05-15T15:52:15.157167Z",
     "iopub.status.idle": "2024-05-15T15:53:08.266096Z",
     "shell.execute_reply": "2024-05-15T15:53:08.264083Z"
    },
    "papermill": {
     "duration": 53.11308,
     "end_time": "2024-05-15T15:53:08.267083",
     "exception": false,
     "start_time": "2024-05-15T15:52:15.154003",
     "status": "completed"
    },
    "tags": []
   },
   "outputs": [
    {
     "name": "stdout",
     "output_type": "stream",
     "text": [
      "-project ADT_Model -config calculatedVolume -servertype twcloud -server 10.107.1.92 -login jdehart -password RzhegxhCThZf -ssl false\r\n",
      "log4j:WARN No appenders could be found for logger (SIMULATION).\r\n",
      "log4j:WARN Please initialize the log4j system properly.\r\n",
      "Starting MagicDraw...\r\n",
      "log4j:WARN No appenders could be found for logger (GENERAL).\r\n",
      "log4j:WARN Please initialize the log4j system properly.\r\n",
      "May 15, 2024 11:52:16 AM java.util.jar.Attributes read\r\n",
      "WARNING: Duplicate name in Manifest: Created-By.\n",
      "Ensure that the manifest does not have duplicate entries, and\n",
      "that blank lines separate individual sections in both your\n",
      "manifest and in the META-INF/MANIFEST.MF entry in the jar file.\r\n",
      "May 15, 2024 11:52:16 AM java.util.jar.Attributes read\r\n",
      "WARNING: Duplicate name in Manifest: Created-By.\n",
      "Ensure that the manifest does not have duplicate entries, and\n",
      "that blank lines separate individual sections in both your\n",
      "manifest and in the META-INF/MANIFEST.MF entry in the jar file.\r\n",
      "May 15, 2024 11:52:16 AM java.util.jar.Attributes read\r\n",
      "WARNING: Duplicate name in Manifest: Created-By.\n",
      "Ensure that the manifest does not have duplicate entries, and\n",
      "that blank lines separate individual sections in both your\n",
      "manifest and in the META-INF/MANIFEST.MF entry in the jar file.\r\n",
      "log4j:WARN No appenders could be found for logger (GENERAL).\r\n",
      "log4j:WARN Please initialize the log4j system properly.\r\n",
      "Connecting to Teamwork Cloud...\r\n",
      "Simulation config: SimConfig::calculatedVolume is loaded.\r\n",
      "Started executing SimConfig::calculatedVolume\r\n",
      "Finished executing SimConfig::calculatedVolume\r\n",
      "\r\n",
      "\n"
     ]
    }
   ],
   "source": [
    " .\\simulate -project \"ADT_Model\" -config \"calculatedVolume\" -servertype \"twcloud\" -server \"10.107.1.92\" -login \"jdehart\" -password \"RzhegxhCThZf\" -ssl \"false\""
   ]
  },
  {
   "cell_type": "code",
   "execution_count": null,
   "id": "faee258e-4244-4c08-a724-4d33e234559c",
   "metadata": {
    "papermill": {
     "duration": 0.004001,
     "end_time": "2024-05-15T15:53:08.274086",
     "exception": false,
     "start_time": "2024-05-15T15:53:08.270085",
     "status": "completed"
    },
    "tags": []
   },
   "outputs": [],
   "source": []
  }
 ],
 "metadata": {
  "kernelspec": {
   "display_name": "Calysto Bash",
   "language": "bash",
   "name": "calysto_bash"
  },
  "language_info": {
   "file_extension": ".sh",
   "help_links": [
    {
     "text": "MetaKernel Magics",
     "url": "https://metakernel.readthedocs.io/en/latest/source/README.html"
    }
   ],
   "mimetype": "text/x-sh",
   "name": "bash",
   "version": "0.2.2"
  },
  "papermill": {
   "default_parameters": {},
   "duration": 58.639927,
   "end_time": "2024-05-15T15:53:11.778721",
   "environment_variables": {},
   "exception": null,
   "input_path": "C:\\Users\\JohnDeHart\\Documents\\GitHub\\Notebooks\\twc_interactions\\execute_server_side.ipynb",
   "output_path": "C:\\Users\\JohnDeHart\\Documents\\GitHub\\Notebooks\\twc_interactions\\execute_server_side.ipynb",
   "parameters": {},
   "start_time": "2024-05-15T15:52:13.138794",
   "version": "2.6.0"
  }
 },
 "nbformat": 4,
 "nbformat_minor": 5
}