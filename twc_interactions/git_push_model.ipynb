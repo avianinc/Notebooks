{
 "cells": [
  {
   "cell_type": "code",
   "execution_count": 1,
   "id": "f6a9ff77-9391-44ef-a27a-db5cc290e787",
   "metadata": {
    "execution": {
     "iopub.execute_input": "2024-05-15T14:47:28.364892Z",
     "iopub.status.busy": "2024-05-15T14:47:28.364892Z",
     "iopub.status.idle": "2024-05-15T14:47:28.441575Z",
     "shell.execute_reply": "2024-05-15T14:47:28.439551Z"
    },
    "papermill": {
     "duration": 0.082593,
     "end_time": "2024-05-15T14:47:28.443490",
     "exception": false,
     "start_time": "2024-05-15T14:47:28.360897",
     "status": "completed"
    },
    "tags": []
   },
   "outputs": [
    {
     "name": "stdout",
     "output_type": "stream",
     "text": [
      "\r\n",
      "\n"
     ]
    }
   ],
   "source": [
    "cd C:\\Users\\JohnDeHart\\Documents\\GitHub\\Notebooks"
   ]
  },
  {
   "cell_type": "code",
   "execution_count": null,
   "id": "f3ab0460-9299-44b2-a061-0a8910b79f78",
   "metadata": {
    "execution": {
     "iopub.execute_input": "2024-05-15T14:38:00.936169Z",
     "iopub.status.busy": "2024-05-15T14:38:00.936169Z",
     "iopub.status.idle": "2024-05-15T14:38:01.069717Z",
     "shell.execute_reply": "2024-05-15T14:38:01.069717Z"
    },
    "papermill": {
     "duration": null,
     "end_time": null,
     "exception": false,
     "start_time": "2024-05-15T14:47:28.445490",
     "status": "running"
    },
    "tags": []
   },
   "outputs": [],
   "source": [
    "git add *"
   ]
  },
  {
   "cell_type": "code",
   "execution_count": null,
   "id": "c6589a4c-974a-426f-8764-6196db689c90",
   "metadata": {
    "execution": {
     "iopub.execute_input": "2024-05-15T14:38:01.076715Z",
     "iopub.status.busy": "2024-05-15T14:38:01.076715Z",
     "iopub.status.idle": "2024-05-15T14:38:01.244779Z",
     "shell.execute_reply": "2024-05-15T14:38:01.244779Z"
    },
    "papermill": {
     "duration": null,
     "end_time": null,
     "exception": null,
     "start_time": null,
     "status": "pending"
    },
    "tags": []
   },
   "outputs": [],
   "source": [
    "git commit -m \"updated model\""
   ]
  },
  {
   "cell_type": "code",
   "execution_count": null,
   "id": "b7660502-c21e-4b97-96fa-c01ea7c866cf",
   "metadata": {
    "execution": {
     "iopub.execute_input": "2024-05-15T14:38:01.252772Z",
     "iopub.status.busy": "2024-05-15T14:38:01.252772Z",
     "iopub.status.idle": "2024-05-15T14:38:03.471335Z",
     "shell.execute_reply": "2024-05-15T14:38:03.471335Z"
    },
    "papermill": {
     "duration": null,
     "end_time": null,
     "exception": null,
     "start_time": null,
     "status": "pending"
    },
    "tags": []
   },
   "outputs": [],
   "source": [
    "git push"
   ]
  },
  {
   "cell_type": "code",
   "execution_count": null,
   "id": "7f9ba313-0b0d-41d3-9b58-88e326d64403",
   "metadata": {
    "papermill": {
     "duration": null,
     "end_time": null,
     "exception": null,
     "start_time": null,
     "status": "pending"
    },
    "tags": []
   },
   "outputs": [],
   "source": []
  }
 ],
 "metadata": {
  "kernelspec": {
   "display_name": "Calysto Bash",
   "language": "bash",
   "name": "calysto_bash"
  },
  "language_info": {
   "file_extension": ".sh",
   "help_links": [
    {
     "text": "MetaKernel Magics",
     "url": "https://metakernel.readthedocs.io/en/latest/source/README.html"
    }
   ],
   "mimetype": "text/x-sh",
   "name": "bash",
   "version": "0.2.2"
  },
  "papermill": {
   "default_parameters": {},
   "duration": null,
   "end_time": null,
   "environment_variables": {},
   "exception": null,
   "input_path": "C:\\Users\\JohnDeHart\\Documents\\GitHub\\Notebooks\\twc_interactions\\git_push_model.ipynb",
   "output_path": "C:\\Users\\JohnDeHart\\Documents\\GitHub\\Notebooks\\twc_interactions\\git_push_model.ipynb",
   "parameters": {},
   "start_time": "2024-05-15T14:47:26.507570",
   "version": "2.6.0"
  }
 },
 "nbformat": 4,
 "nbformat_minor": 5
}