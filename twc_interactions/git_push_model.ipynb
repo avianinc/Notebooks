{
 "cells": [
  {
   "cell_type": "code",
   "execution_count": 1,
   "id": "f6a9ff77-9391-44ef-a27a-db5cc290e787",
   "metadata": {
    "execution": {
     "iopub.execute_input": "2024-05-14T21:34:44.874179Z",
     "iopub.status.busy": "2024-05-14T21:34:44.873186Z",
     "iopub.status.idle": "2024-05-14T21:34:44.948583Z",
     "shell.execute_reply": "2024-05-14T21:34:44.947582Z"
    },
    "papermill": {
     "duration": 0.081388,
     "end_time": "2024-05-14T21:34:44.950573",
     "exception": false,
     "start_time": "2024-05-14T21:34:44.869185",
     "status": "completed"
    },
    "tags": []
   },
   "outputs": [
    {
     "name": "stdout",
     "output_type": "stream",
     "text": [
      "\r\n",
      "\n"
     ]
    }
   ],
   "source": [
    "cd C:\\Users\\JohnDeHart\\Documents\\GitHub\\Notebooks"
   ]
  },
  {
   "cell_type": "code",
   "execution_count": null,
   "id": "f3ab0460-9299-44b2-a061-0a8910b79f78",
   "metadata": {
    "execution": {
     "iopub.execute_input": "2024-05-14T20:11:02.183211Z",
     "iopub.status.busy": "2024-05-14T20:11:02.182210Z",
     "iopub.status.idle": "2024-05-14T20:11:02.318307Z",
     "shell.execute_reply": "2024-05-14T20:11:02.317307Z"
    },
    "papermill": {
     "duration": null,
     "end_time": null,
     "exception": false,
     "start_time": "2024-05-14T21:34:44.952580",
     "status": "running"
    },
    "tags": []
   },
   "outputs": [],
   "source": [
    "git add *"
   ]
  },
  {
   "cell_type": "code",
   "execution_count": null,
   "id": "c6589a4c-974a-426f-8764-6196db689c90",
   "metadata": {
    "execution": {
     "iopub.execute_input": "2024-05-14T20:11:02.326321Z",
     "iopub.status.busy": "2024-05-14T20:11:02.326321Z",
     "iopub.status.idle": "2024-05-14T20:11:02.490585Z",
     "shell.execute_reply": "2024-05-14T20:11:02.489587Z"
    },
    "papermill": {
     "duration": null,
     "end_time": null,
     "exception": null,
     "start_time": null,
     "status": "pending"
    },
    "tags": []
   },
   "outputs": [],
   "source": [
    "git commit -m \"updated model\""
   ]
  },
  {
   "cell_type": "code",
   "execution_count": null,
   "id": "b7660502-c21e-4b97-96fa-c01ea7c866cf",
   "metadata": {
    "execution": {
     "iopub.execute_input": "2024-05-14T20:11:02.498574Z",
     "iopub.status.busy": "2024-05-14T20:11:02.498574Z",
     "iopub.status.idle": "2024-05-14T20:11:05.477648Z",
     "shell.execute_reply": "2024-05-14T20:11:05.477648Z"
    },
    "papermill": {
     "duration": null,
     "end_time": null,
     "exception": null,
     "start_time": null,
     "status": "pending"
    },
    "tags": []
   },
   "outputs": [],
   "source": [
    "git push"
   ]
  },
  {
   "cell_type": "code",
   "execution_count": null,
   "id": "7f9ba313-0b0d-41d3-9b58-88e326d64403",
   "metadata": {
    "papermill": {
     "duration": null,
     "end_time": null,
     "exception": null,
     "start_time": null,
     "status": "pending"
    },
    "tags": []
   },
   "outputs": [],
   "source": []
  }
 ],
 "metadata": {
  "kernelspec": {
   "display_name": "Calysto Bash",
   "language": "bash",
   "name": "calysto_bash"
  },
  "language_info": {
   "file_extension": ".sh",
   "help_links": [
    {
     "text": "MetaKernel Magics",
     "url": "https://metakernel.readthedocs.io/en/latest/source/README.html"
    }
   ],
   "mimetype": "text/x-sh",
   "name": "bash",
   "version": "0.2.2"
  },
  "papermill": {
   "default_parameters": {},
   "duration": null,
   "end_time": null,
   "environment_variables": {},
   "exception": null,
   "input_path": "C:\\Users\\JohnDeHart\\Documents\\GitHub\\Notebooks\\twc_interactions\\git_push_model.ipynb",
   "output_path": "C:\\Users\\JohnDeHart\\Documents\\GitHub\\Notebooks\\twc_interactions\\git_push_model.ipynb",
   "parameters": {},
   "start_time": "2024-05-14T21:34:42.955270",
   "version": "2.6.0"
  }
 },
 "nbformat": 4,
 "nbformat_minor": 5
}