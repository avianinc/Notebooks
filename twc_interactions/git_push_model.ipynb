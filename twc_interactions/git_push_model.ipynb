{
 "cells": [
  {
   "cell_type": "code",
   "execution_count": 1,
   "id": "f6a9ff77-9391-44ef-a27a-db5cc290e787",
   "metadata": {
    "execution": {
     "iopub.execute_input": "2024-05-15T14:38:00.853777Z",
     "iopub.status.busy": "2024-05-15T14:38:00.852777Z",
     "iopub.status.idle": "2024-05-15T14:38:00.928177Z",
     "shell.execute_reply": "2024-05-15T14:38:00.927187Z"
    },
    "papermill": {
     "duration": 0.0804,
     "end_time": "2024-05-15T14:38:00.928177",
     "exception": false,
     "start_time": "2024-05-15T14:38:00.847777",
     "status": "completed"
    },
    "tags": []
   },
   "outputs": [
    {
     "name": "stdout",
     "output_type": "stream",
     "text": [
      "\r\n",
      "\n"
     ]
    }
   ],
   "source": [
    "cd C:\\Users\\JohnDeHart\\Documents\\GitHub\\Notebooks"
   ]
  },
  {
   "cell_type": "code",
   "execution_count": null,
   "id": "f3ab0460-9299-44b2-a061-0a8910b79f78",
   "metadata": {
    "execution": {
     "iopub.execute_input": "2024-05-15T13:37:54.067910Z",
     "iopub.status.busy": "2024-05-15T13:37:54.067910Z",
     "iopub.status.idle": "2024-05-15T13:37:54.217380Z",
     "shell.execute_reply": "2024-05-15T13:37:54.217380Z"
    },
    "papermill": {
     "duration": null,
     "end_time": null,
     "exception": false,
     "start_time": "2024-05-15T14:38:00.930174",
     "status": "running"
    },
    "tags": []
   },
   "outputs": [],
   "source": [
    "git add *"
   ]
  },
  {
   "cell_type": "code",
   "execution_count": null,
   "id": "c6589a4c-974a-426f-8764-6196db689c90",
   "metadata": {
    "execution": {
     "iopub.execute_input": "2024-05-15T13:37:54.224711Z",
     "iopub.status.busy": "2024-05-15T13:37:54.224711Z",
     "iopub.status.idle": "2024-05-15T13:37:54.389558Z",
     "shell.execute_reply": "2024-05-15T13:37:54.389558Z"
    },
    "papermill": {
     "duration": null,
     "end_time": null,
     "exception": null,
     "start_time": null,
     "status": "pending"
    },
    "tags": []
   },
   "outputs": [],
   "source": [
    "git commit -m \"updated model\""
   ]
  },
  {
   "cell_type": "code",
   "execution_count": null,
   "id": "b7660502-c21e-4b97-96fa-c01ea7c866cf",
   "metadata": {
    "execution": {
     "iopub.execute_input": "2024-05-15T13:37:54.395567Z",
     "iopub.status.busy": "2024-05-15T13:37:54.395567Z",
     "iopub.status.idle": "2024-05-15T13:37:56.776453Z",
     "shell.execute_reply": "2024-05-15T13:37:56.776453Z"
    },
    "papermill": {
     "duration": null,
     "end_time": null,
     "exception": null,
     "start_time": null,
     "status": "pending"
    },
    "tags": []
   },
   "outputs": [],
   "source": [
    "git push"
   ]
  },
  {
   "cell_type": "code",
   "execution_count": null,
   "id": "7f9ba313-0b0d-41d3-9b58-88e326d64403",
   "metadata": {
    "papermill": {
     "duration": null,
     "end_time": null,
     "exception": null,
     "start_time": null,
     "status": "pending"
    },
    "tags": []
   },
   "outputs": [],
   "source": []
  }
 ],
 "metadata": {
  "kernelspec": {
   "display_name": "Calysto Bash",
   "language": "bash",
   "name": "calysto_bash"
  },
  "language_info": {
   "file_extension": ".sh",
   "help_links": [
    {
     "text": "MetaKernel Magics",
     "url": "https://metakernel.readthedocs.io/en/latest/source/README.html"
    }
   ],
   "mimetype": "text/x-sh",
   "name": "bash",
   "version": "0.2.2"
  },
  "papermill": {
   "default_parameters": {},
   "duration": null,
   "end_time": null,
   "environment_variables": {},
   "exception": null,
   "input_path": "C:\\Users\\JohnDeHart\\Documents\\GitHub\\Notebooks\\twc_interactions\\git_push_model.ipynb",
   "output_path": "C:\\Users\\JohnDeHart\\Documents\\GitHub\\Notebooks\\twc_interactions\\git_push_model.ipynb",
   "parameters": {},
   "start_time": "2024-05-15T14:37:59.108429",
   "version": "2.6.0"
  }
 },
 "nbformat": 4,
 "nbformat_minor": 5
}