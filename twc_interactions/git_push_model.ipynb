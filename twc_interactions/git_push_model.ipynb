{
 "cells": [
  {
   "cell_type": "code",
   "execution_count": 1,
   "id": "f6a9ff77-9391-44ef-a27a-db5cc290e787",
   "metadata": {
    "execution": {
     "iopub.execute_input": "2024-05-14T20:11:02.100044Z",
     "iopub.status.busy": "2024-05-14T20:11:02.100044Z",
     "iopub.status.idle": "2024-05-14T20:11:02.175212Z",
     "shell.execute_reply": "2024-05-14T20:11:02.175212Z"
    },
    "papermill": {
     "duration": 0.082169,
     "end_time": "2024-05-14T20:11:02.176210",
     "exception": false,
     "start_time": "2024-05-14T20:11:02.094041",
     "status": "completed"
    },
    "tags": []
   },
   "outputs": [
    {
     "name": "stdout",
     "output_type": "stream",
     "text": [
      "\r\n",
      "\n"
     ]
    }
   ],
   "source": [
    "cd C:\\Users\\JohnDeHart\\Documents\\GitHub\\Notebooks"
   ]
  },
  {
   "cell_type": "code",
   "execution_count": 2,
   "id": "f3ab0460-9299-44b2-a061-0a8910b79f78",
   "metadata": {
    "execution": {
     "iopub.execute_input": "2024-05-14T20:11:02.183211Z",
     "iopub.status.busy": "2024-05-14T20:11:02.182210Z",
     "iopub.status.idle": "2024-05-14T20:11:02.318307Z",
     "shell.execute_reply": "2024-05-14T20:11:02.317307Z"
    },
    "papermill": {
     "duration": 0.140097,
     "end_time": "2024-05-14T20:11:02.318307",
     "exception": false,
     "start_time": "2024-05-14T20:11:02.178210",
     "status": "completed"
    },
    "tags": []
   },
   "outputs": [
    {
     "name": "stdout",
     "output_type": "stream",
     "text": [
      "warning: in the working copy of 'twc_interactions/volume_report.ipynb', LF will be replaced by CRLF the next time Git touches it\n",
      "\r\n",
      "\n"
     ]
    }
   ],
   "source": [
    "git add *"
   ]
  },
  {
   "cell_type": "code",
   "execution_count": 3,
   "id": "c6589a4c-974a-426f-8764-6196db689c90",
   "metadata": {
    "execution": {
     "iopub.execute_input": "2024-05-14T20:11:02.326321Z",
     "iopub.status.busy": "2024-05-14T20:11:02.326321Z",
     "iopub.status.idle": "2024-05-14T20:11:02.490585Z",
     "shell.execute_reply": "2024-05-14T20:11:02.489587Z"
    },
    "papermill": {
     "duration": 0.170277,
     "end_time": "2024-05-14T20:11:02.490585",
     "exception": false,
     "start_time": "2024-05-14T20:11:02.320308",
     "status": "completed"
    },
    "tags": []
   },
   "outputs": [
    {
     "name": "stdout",
     "output_type": "stream",
     "text": [
      "[main 645cf9f] updated model\n",
      " 16 files changed, 1140 insertions(+), 1550 deletions(-)\n",
      " delete mode 100644 .virtual_documents/twc_interactions/Untitled.ipynb\n",
      " delete mode 100644 .virtual_documents/twc_interactions/push_adt_model.ipynb\n",
      " delete mode 100644 .virtual_documents/twc_interactions/rag-graph-map/rag_neo.ipynb\n",
      " delete mode 100644 .virtual_documents/twc_interactions/store_plot_volume.ipynb\n",
      " delete mode 100644 .virtual_documents/twc_interactions/update_cad_model.ipynb\n",
      "\r\n",
      "\n"
     ]
    }
   ],
   "source": [
    "git commit -m \"updated model\""
   ]
  },
  {
   "cell_type": "code",
   "execution_count": 4,
   "id": "b7660502-c21e-4b97-96fa-c01ea7c866cf",
   "metadata": {
    "execution": {
     "iopub.execute_input": "2024-05-14T20:11:02.498574Z",
     "iopub.status.busy": "2024-05-14T20:11:02.498574Z",
     "iopub.status.idle": "2024-05-14T20:11:05.477648Z",
     "shell.execute_reply": "2024-05-14T20:11:05.477648Z"
    },
    "papermill": {
     "duration": 2.985074,
     "end_time": "2024-05-14T20:11:05.477648",
     "exception": false,
     "start_time": "2024-05-14T20:11:02.492574",
     "status": "completed"
    },
    "tags": []
   },
   "outputs": [
    {
     "name": "stdout",
     "output_type": "stream",
     "text": [
      "warning: ----------------- SECURITY WARNING ----------------\n",
      "warning: | TLS certificate verification has been disabled! |\n",
      "warning: ---------------------------------------------------\n",
      "warning: HTTPS connections may not be secure. See https://aka.ms/gcm/tlsverify for more information.\n",
      "warning: ----------------- SECURITY WARNING ----------------\n",
      "warning: | TLS certificate verification has been disabled! |\n",
      "warning: ---------------------------------------------------\n",
      "warning: HTTPS connections may not be secure. See https://aka.ms/gcm/tlsverify for more information.\n",
      "To https://github.com/avianinc/Notebooks.git\n",
      "   05cfb97..645cf9f  main -> main\n",
      "\n"
     ]
    }
   ],
   "source": [
    "git push"
   ]
  },
  {
   "cell_type": "code",
   "execution_count": null,
   "id": "7f9ba313-0b0d-41d3-9b58-88e326d64403",
   "metadata": {
    "papermill": {
     "duration": 0.002061,
     "end_time": "2024-05-14T20:11:05.481707",
     "exception": false,
     "start_time": "2024-05-14T20:11:05.479646",
     "status": "completed"
    },
    "tags": []
   },
   "outputs": [],
   "source": []
  }
 ],
 "metadata": {
  "kernelspec": {
   "display_name": "Calysto Bash",
   "language": "bash",
   "name": "calysto_bash"
  },
  "language_info": {
   "file_extension": ".sh",
   "help_links": [
    {
     "text": "MetaKernel Magics",
     "url": "https://metakernel.readthedocs.io/en/latest/source/README.html"
    }
   ],
   "mimetype": "text/x-sh",
   "name": "bash",
   "version": "0.2.2"
  },
  "papermill": {
   "default_parameters": {},
   "duration": 8.145678,
   "end_time": "2024-05-14T20:11:08.296507",
   "environment_variables": {},
   "exception": null,
   "input_path": "C:\\Users\\JohnDeHart\\Documents\\GitHub\\Notebooks\\twc_interactions\\git_push_model.ipynb",
   "output_path": "C:\\Users\\JohnDeHart\\Documents\\GitHub\\Notebooks\\twc_interactions\\git_push_model.ipynb",
   "parameters": {},
   "start_time": "2024-05-14T20:11:00.150829",
   "version": "2.6.0"
  }
 },
 "nbformat": 4,
 "nbformat_minor": 5
}