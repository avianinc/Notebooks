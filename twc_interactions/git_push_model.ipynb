{
 "cells": [
  {
   "cell_type": "code",
   "execution_count": 1,
   "id": "f6a9ff77-9391-44ef-a27a-db5cc290e787",
   "metadata": {
    "execution": {
     "iopub.execute_input": "2024-05-15T16:13:15.790907Z",
     "iopub.status.busy": "2024-05-15T16:13:15.789814Z",
     "iopub.status.idle": "2024-05-15T16:13:15.867607Z",
     "shell.execute_reply": "2024-05-15T16:13:15.866566Z"
    },
    "papermill": {
     "duration": 0.082297,
     "end_time": "2024-05-15T16:13:15.869581",
     "exception": false,
     "start_time": "2024-05-15T16:13:15.787284",
     "status": "completed"
    },
    "tags": []
   },
   "outputs": [
    {
     "name": "stdout",
     "output_type": "stream",
     "text": [
      "\r\n",
      "\n"
     ]
    }
   ],
   "source": [
    "cd C:\\Users\\JohnDeHart\\Documents\\GitHub\\Notebooks"
   ]
  },
  {
   "cell_type": "code",
   "execution_count": null,
   "id": "f3ab0460-9299-44b2-a061-0a8910b79f78",
   "metadata": {
    "execution": {
     "iopub.execute_input": "2024-05-15T15:52:07.934421Z",
     "iopub.status.busy": "2024-05-15T15:52:07.934421Z",
     "iopub.status.idle": "2024-05-15T15:52:08.052587Z",
     "shell.execute_reply": "2024-05-15T15:52:08.051593Z"
    },
    "papermill": {
     "duration": null,
     "end_time": null,
     "exception": false,
     "start_time": "2024-05-15T16:13:15.871579",
     "status": "running"
    },
    "tags": []
   },
   "outputs": [],
   "source": [
    "git add *"
   ]
  },
  {
   "cell_type": "code",
   "execution_count": null,
   "id": "c6589a4c-974a-426f-8764-6196db689c90",
   "metadata": {
    "execution": {
     "iopub.execute_input": "2024-05-15T15:52:08.061586Z",
     "iopub.status.busy": "2024-05-15T15:52:08.061586Z",
     "iopub.status.idle": "2024-05-15T15:52:08.196076Z",
     "shell.execute_reply": "2024-05-15T15:52:08.195073Z"
    },
    "papermill": {
     "duration": null,
     "end_time": null,
     "exception": null,
     "start_time": null,
     "status": "pending"
    },
    "tags": []
   },
   "outputs": [],
   "source": [
    "git commit -m \"updated model\""
   ]
  },
  {
   "cell_type": "code",
   "execution_count": null,
   "id": "b7660502-c21e-4b97-96fa-c01ea7c866cf",
   "metadata": {
    "execution": {
     "iopub.execute_input": "2024-05-15T15:52:08.206086Z",
     "iopub.status.busy": "2024-05-15T15:52:08.205075Z",
     "iopub.status.idle": "2024-05-15T15:52:10.402802Z",
     "shell.execute_reply": "2024-05-15T15:52:10.401789Z"
    },
    "papermill": {
     "duration": null,
     "end_time": null,
     "exception": null,
     "start_time": null,
     "status": "pending"
    },
    "tags": []
   },
   "outputs": [],
   "source": [
    "git push"
   ]
  },
  {
   "cell_type": "code",
   "execution_count": null,
   "id": "7f9ba313-0b0d-41d3-9b58-88e326d64403",
   "metadata": {
    "papermill": {
     "duration": null,
     "end_time": null,
     "exception": null,
     "start_time": null,
     "status": "pending"
    },
    "tags": []
   },
   "outputs": [],
   "source": []
  }
 ],
 "metadata": {
  "kernelspec": {
   "display_name": "Calysto Bash",
   "language": "bash",
   "name": "calysto_bash"
  },
  "language_info": {
   "file_extension": ".sh",
   "help_links": [
    {
     "text": "MetaKernel Magics",
     "url": "https://metakernel.readthedocs.io/en/latest/source/README.html"
    }
   ],
   "mimetype": "text/x-sh",
   "name": "bash",
   "version": "0.2.2"
  },
  "papermill": {
   "default_parameters": {},
   "duration": null,
   "end_time": null,
   "environment_variables": {},
   "exception": null,
   "input_path": "C:\\Users\\JohnDeHart\\Documents\\GitHub\\Notebooks\\twc_interactions\\git_push_model.ipynb",
   "output_path": "C:\\Users\\JohnDeHart\\Documents\\GitHub\\Notebooks\\twc_interactions\\git_push_model.ipynb",
   "parameters": {},
   "start_time": "2024-05-15T16:13:13.945244",
   "version": "2.6.0"
  }
 },
 "nbformat": 4,
 "nbformat_minor": 5
}