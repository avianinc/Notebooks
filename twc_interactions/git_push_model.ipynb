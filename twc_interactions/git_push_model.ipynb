{
 "cells": [
  {
   "cell_type": "code",
   "execution_count": 1,
   "id": "f6a9ff77-9391-44ef-a27a-db5cc290e787",
   "metadata": {
    "execution": {
     "iopub.execute_input": "2024-05-15T20:40:41.506642Z",
     "iopub.status.busy": "2024-05-15T20:40:41.506642Z",
     "iopub.status.idle": "2024-05-15T20:40:41.614069Z",
     "shell.execute_reply": "2024-05-15T20:40:41.612068Z"
    },
    "papermill": {
     "duration": 0.113427,
     "end_time": "2024-05-15T20:40:41.616068",
     "exception": false,
     "start_time": "2024-05-15T20:40:41.502641",
     "status": "completed"
    },
    "tags": []
   },
   "outputs": [
    {
     "name": "stdout",
     "output_type": "stream",
     "text": [
      "\r\n",
      "\n"
     ]
    }
   ],
   "source": [
    "cd C:\\Users\\JohnDeHart\\Documents\\GitHub\\Notebooks"
   ]
  },
  {
   "cell_type": "code",
   "execution_count": 2,
   "id": "f3ab0460-9299-44b2-a061-0a8910b79f78",
   "metadata": {
    "execution": {
     "iopub.execute_input": "2024-05-15T20:40:41.621072Z",
     "iopub.status.busy": "2024-05-15T20:40:41.621072Z",
     "iopub.status.idle": "2024-05-15T20:40:41.755371Z",
     "shell.execute_reply": "2024-05-15T20:40:41.753452Z"
    },
    "papermill": {
     "duration": 0.139376,
     "end_time": "2024-05-15T20:40:41.757445",
     "exception": false,
     "start_time": "2024-05-15T20:40:41.618069",
     "status": "completed"
    },
    "tags": []
   },
   "outputs": [
    {
     "name": "stdout",
     "output_type": "stream",
     "text": [
      "\r\n",
      "\n"
     ]
    }
   ],
   "source": [
    "git add *"
   ]
  },
  {
   "cell_type": "code",
   "execution_count": 3,
   "id": "c6589a4c-974a-426f-8764-6196db689c90",
   "metadata": {
    "execution": {
     "iopub.execute_input": "2024-05-15T20:40:41.763378Z",
     "iopub.status.busy": "2024-05-15T20:40:41.762382Z",
     "iopub.status.idle": "2024-05-15T20:40:41.912943Z",
     "shell.execute_reply": "2024-05-15T20:40:41.911938Z"
    },
    "papermill": {
     "duration": 0.15557,
     "end_time": "2024-05-15T20:40:41.914941",
     "exception": false,
     "start_time": "2024-05-15T20:40:41.759371",
     "status": "completed"
    },
    "tags": []
   },
   "outputs": [
    {
     "name": "stdout",
     "output_type": "stream",
     "text": [
      "[main 1fcce16] updated model\n",
      " 9 files changed, 823 insertions(+), 823 deletions(-)\n",
      "\r\n",
      "\n"
     ]
    }
   ],
   "source": [
    "git commit -m \"updated model\""
   ]
  },
  {
   "cell_type": "code",
   "execution_count": 4,
   "id": "b7660502-c21e-4b97-96fa-c01ea7c866cf",
   "metadata": {
    "execution": {
     "iopub.execute_input": "2024-05-15T20:40:41.920253Z",
     "iopub.status.busy": "2024-05-15T20:40:41.919230Z",
     "iopub.status.idle": "2024-05-15T20:40:44.222609Z",
     "shell.execute_reply": "2024-05-15T20:40:44.221637Z"
    },
    "papermill": {
     "duration": 2.308844,
     "end_time": "2024-05-15T20:40:44.225676",
     "exception": false,
     "start_time": "2024-05-15T20:40:41.916832",
     "status": "completed"
    },
    "tags": []
   },
   "outputs": [
    {
     "name": "stdout",
     "output_type": "stream",
     "text": [
      "warning: ----------------- SECURITY WARNING ----------------\n",
      "warning: | TLS certificate verification has been disabled! |\n",
      "warning: ---------------------------------------------------\n",
      "warning: HTTPS connections may not be secure. See https://aka.ms/gcm/tlsverify for more information.\n",
      "warning: ----------------- SECURITY WARNING ----------------\n",
      "warning: | TLS certificate verification has been disabled! |\n",
      "warning: ---------------------------------------------------\n",
      "warning: HTTPS connections may not be secure. See https://aka.ms/gcm/tlsverify for more information.\n",
      "To https://github.com/avianinc/Notebooks.git\n",
      "   44aa1c8..1fcce16  main -> main\n",
      "\r\n",
      "\n"
     ]
    }
   ],
   "source": [
    "git push"
   ]
  },
  {
   "cell_type": "code",
   "execution_count": null,
   "id": "7f9ba313-0b0d-41d3-9b58-88e326d64403",
   "metadata": {
    "papermill": {
     "duration": 0.001979,
     "end_time": "2024-05-15T20:40:44.228659",
     "exception": false,
     "start_time": "2024-05-15T20:40:44.226680",
     "status": "completed"
    },
    "tags": []
   },
   "outputs": [],
   "source": []
  }
 ],
 "metadata": {
  "kernelspec": {
   "display_name": "Calysto Bash",
   "language": "bash",
   "name": "calysto_bash"
  },
  "language_info": {
   "file_extension": ".sh",
   "help_links": [
    {
     "text": "MetaKernel Magics",
     "url": "https://metakernel.readthedocs.io/en/latest/source/README.html"
    }
   ],
   "mimetype": "text/x-sh",
   "name": "bash",
   "version": "0.2.2"
  },
  "papermill": {
   "default_parameters": {},
   "duration": 8.146964,
   "end_time": "2024-05-15T20:40:47.574028",
   "environment_variables": {},
   "exception": null,
   "input_path": "C:\\Users\\JohnDeHart\\Documents\\GitHub\\Notebooks\\twc_interactions\\git_push_model.ipynb",
   "output_path": "C:\\Users\\JohnDeHart\\Documents\\GitHub\\Notebooks\\twc_interactions\\git_push_model.ipynb",
   "parameters": {},
   "start_time": "2024-05-15T20:40:39.427064",
   "version": "2.6.0"
  }
 },
 "nbformat": 4,
 "nbformat_minor": 5
}