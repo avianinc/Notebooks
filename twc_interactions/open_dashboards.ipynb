{
 "cells": [
  {
   "cell_type": "markdown",
   "id": "082a9e42-8c68-4588-8308-af56c4debbea",
   "metadata": {},
   "source": [
    "## Start up all of the dashboards"
   ]
  },
  {
   "cell_type": "code",
   "execution_count": 1,
   "id": "42cdd76a-568b-4a66-8cf6-a9c5b4025d29",
   "metadata": {},
   "outputs": [
    {
     "name": "stdout",
     "output_type": "stream",
     "text": [
      "\n"
     ]
    }
   ],
   "source": [
    "cd C:\\Users\\JohnDeHart\\Documents\\GitHub\\Notebooks\\twc_interactions"
   ]
  },
  {
   "cell_type": "code",
   "execution_count": null,
   "id": "e51c8634-b221-41c6-acf7-f5b15807ee9d",
   "metadata": {
    "tags": []
   },
   "outputs": [],
   "source": [
    "voila update_cad_model.ipynb"
   ]
  },
  {
   "cell_type": "code",
   "execution_count": null,
   "id": "54e8fafb-0082-4829-915c-2cb3d3816af8",
   "metadata": {},
   "outputs": [],
   "source": []
  }
 ],
 "metadata": {
  "kernelspec": {
   "display_name": "Calysto Bash",
   "language": "bash",
   "name": "calysto_bash"
  },
  "language_info": {
   "file_extension": ".sh",
   "help_links": [
    {
     "text": "MetaKernel Magics",
     "url": "https://metakernel.readthedocs.io/en/latest/source/README.html"
    }
   ],
   "mimetype": "text/x-sh",
   "name": "bash",
   "version": "0.2.2"
  }
 },
 "nbformat": 4,
 "nbformat_minor": 5
}
