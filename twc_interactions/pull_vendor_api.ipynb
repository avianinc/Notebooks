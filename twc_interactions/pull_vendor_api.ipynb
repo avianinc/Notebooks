{
 "cells": [
  {
   "cell_type": "markdown",
   "id": "84c1130b-00ac-4bf5-adc2-6440992818c3",
   "metadata": {
    "papermill": {
     "duration": 0.00701,
     "end_time": "2024-05-15T16:51:51.835867",
     "exception": false,
     "start_time": "2024-05-15T16:51:51.828857",
     "status": "completed"
    },
    "tags": []
   },
   "source": [
    "## API Interaction - Pull Vendor Model\n",
    "In this example we log into a remote teamworkcloud instance and retrieve all literal reals descriptions and values.\n",
    "\n",
    "Steps:\n",
    "1. Login to the TWC API Server\n",
    "2. Retrieve a list of the workspaces (called categories in the TWC GUI)\n",
    "3. Select the workspace to retrieve a list of projects\n",
    "4. Retrieve a list project from the defined workspace\n",
    "5. Select a project to retrieve all elements (in memory json file)\n",
    "6. Loop though the json file and retrieve the index of any Literal Real (['ldp:DirectContainer', 'uml:LiteralReal'])\n",
    "7. Convert the list to a Description:Value dataframe\n",
    "8. Write the dataframe to a file"
   ]
  },
  {
   "cell_type": "code",
   "execution_count": 1,
   "id": "4af5975a-9e49-419c-9f74-98dd6dd7dea6",
   "metadata": {
    "execution": {
     "iopub.execute_input": "2024-05-15T16:52:28.741922Z",
     "iopub.status.busy": "2024-05-15T16:52:28.741922Z",
     "iopub.status.idle": "2024-05-15T16:52:29.309962Z",
     "shell.execute_reply": "2024-05-15T16:52:29.308721Z"
    },
    "papermill": {
     "duration": 0.65263,
     "end_time": "2024-05-15T16:51:52.494495",
     "exception": false,
     "start_time": "2024-05-15T16:51:51.841865",
     "status": "completed"
    },
    "tags": []
   },
   "outputs": [],
   "source": [
    "# A little set up\n",
    "import json\n",
    "import requests # performs the curl function in python\n",
    "import ipywidgets as widgets\n",
    "from ipywidgets import Dropdown\n",
    "from IPython.display import display\n",
    "import pandas as pd\n",
    "\n",
    "import warnings\n",
    "warnings.filterwarnings('ignore')\n",
    "\n",
    "import time\n",
    "from anytree import Node, RenderTree"
   ]
  },
  {
   "cell_type": "code",
   "execution_count": 2,
   "id": "0edc622a-953e-4400-aab7-686add9ef200",
   "metadata": {
    "execution": {
     "iopub.execute_input": "2024-05-15T16:52:29.312972Z",
     "iopub.status.busy": "2024-05-15T16:52:29.312972Z",
     "iopub.status.idle": "2024-05-15T16:52:31.642662Z",
     "shell.execute_reply": "2024-05-15T16:52:31.641669Z"
    },
    "papermill": {
     "duration": 0.530081,
     "end_time": "2024-05-15T16:51:53.030591",
     "exception": false,
     "start_time": "2024-05-15T16:51:52.500510",
     "status": "completed"
    },
    "tags": []
   },
   "outputs": [],
   "source": [
    "# Lets get a list of workspaces from the teamworkcloud server\n",
    "# API --> https://18.205.77.131:8111/osmc/swagger/?url=https%3A%2F%2F18.205.77.131%3A8111%2Fosmc%2Fmanual\n",
    "#serverIp = '18.205.77.131' # Avian server\n",
    "serverIp = '10.107.1.92' # ADT MA server\n",
    "serverPort = '8111'\n",
    "call = '/osmc/workspaces?includeBody=True'\n",
    "# authId = \"amRlaGFydDpqa2QyMjE0MDA=\" # avian id\n",
    "authId = \"amRlaGFydDpSemhlZ3hoQ1RoWmY=\" # ADT MA ID\n",
    "url = f'https://{serverIp}:{serverPort}{call}'\n",
    "headers={\"accept\":\"application/ld+json\",\"authorization\":f\"Basic {authId}\"}\n",
    "resp_ws = requests.get(url,headers=headers, verify=False) # turn of verification here since our server is not super secure\n",
    "workspaces = resp_ws.json() # Convert the response content to a json format\n",
    "#print(json.dumps(workspaces, indent=4))"
   ]
  },
  {
   "cell_type": "code",
   "execution_count": 3,
   "id": "987ff411-4b07-4894-b2a8-95e74dc71d1a",
   "metadata": {
    "execution": {
     "iopub.execute_input": "2024-05-15T16:52:31.647197Z",
     "iopub.status.busy": "2024-05-15T16:52:31.647197Z",
     "iopub.status.idle": "2024-05-15T16:52:31.658189Z",
     "shell.execute_reply": "2024-05-15T16:52:31.657191Z"
    },
    "papermill": {
     "duration": 0.022986,
     "end_time": "2024-05-15T16:51:53.060590",
     "exception": false,
     "start_time": "2024-05-15T16:51:53.037604",
     "status": "completed"
    },
    "tags": []
   },
   "outputs": [
    {
     "data": {
      "application/vnd.jupyter.widget-view+json": {
       "model_id": "cb485074c8b5494b8a16d18c470d8cbb",
       "version_major": 2,
       "version_minor": 0
      },
      "text/plain": [
       "Dropdown(description='Workspaces:', options=('ADT_Projects', 'Test_Projects', 'Project_Templates', 'Uncategori…"
      ]
     },
     "metadata": {},
     "output_type": "display_data"
    }
   ],
   "source": [
    "# lets create a combobox to list the avalible workspaces\n",
    "# Build arrays of the items\n",
    "workspaceIds = {}\n",
    "workspaceNames = {}\n",
    "\n",
    "# Lets build a list of workspaces for selection\n",
    "for i in range(len(workspaces[\"ldp:contains\"])):\n",
    "    workspaceIds[i] = workspaces[\"ldp:contains\"][i][0]['@id']\n",
    "    workspaceNames[i] = workspaces[\"ldp:contains\"][i][1][\"dcterms:title\"]\n",
    "\n",
    "# Fuction to monitor change of dropdown\n",
    "def dropdown_eventhandler(change):\n",
    "    print(change.new) # Write the selected item to the log\n",
    "\n",
    "# Now create a dropdown list of the avalible workspaces\n",
    "ws = widgets.Dropdown(options = workspaceNames.values(), description = 'Workspaces:')\n",
    "ws.observe(dropdown_eventhandler, names='value')\n",
    "\n",
    "# Displya the combobox\n",
    "display(ws)"
   ]
  },
  {
   "cell_type": "code",
   "execution_count": 4,
   "id": "4331c729-96fe-4b63-8d65-028a63adb28f",
   "metadata": {
    "execution": {
     "iopub.execute_input": "2024-05-15T16:52:31.660189Z",
     "iopub.status.busy": "2024-05-15T16:52:31.660189Z",
     "iopub.status.idle": "2024-05-15T16:52:31.674137Z",
     "shell.execute_reply": "2024-05-15T16:52:31.672625Z"
    },
    "papermill": {
     "duration": 0.025989,
     "end_time": "2024-05-15T16:51:53.092591",
     "exception": false,
     "start_time": "2024-05-15T16:51:53.066602",
     "status": "completed"
    },
    "tags": []
   },
   "outputs": [],
   "source": [
    "# Lets match up the id from the selected workspace (poor implementation)\n",
    "wsIndex = list(filter(lambda x: workspaceNames[x] == ws.value, range(len(workspaceNames))))\n",
    "workspaceId = workspaceIds[wsIndex[0]]\n",
    "workspaceId = \"a2bf1c2f-03fb-4cbe-bb3d-4edce160916f\" # hard set Test_Projects"
   ]
  },
  {
   "cell_type": "code",
   "execution_count": 5,
   "id": "1350666b-8109-4633-94e0-2fa7b38c5862",
   "metadata": {
    "execution": {
     "iopub.execute_input": "2024-05-15T16:52:31.677108Z",
     "iopub.status.busy": "2024-05-15T16:52:31.677108Z",
     "iopub.status.idle": "2024-05-15T16:52:33.579173Z",
     "shell.execute_reply": "2024-05-15T16:52:33.578180Z"
    },
    "papermill": {
     "duration": 0.556063,
     "end_time": "2024-05-15T16:51:53.654665",
     "exception": false,
     "start_time": "2024-05-15T16:51:53.098602",
     "status": "completed"
    },
    "tags": []
   },
   "outputs": [
    {
     "data": {
      "text/plain": [
       "[{'@id': '050dbf5b-f690-4494-81ee-18740b88d86c'},\n",
       " {'@id': '5cb74688-9804-44b1-badb-4f09c5cb861e'},\n",
       " {'@id': '4eb3de65-53f4-4d59-aca2-62de8351e81b'},\n",
       " {'@id': 'ef9e7f30-2fc1-4677-a170-ec7035ed6b0e'},\n",
       " {'@id': 'b5b69f4d-e1d0-4ddc-b514-d54b05d0a3b4'}]"
      ]
     },
     "execution_count": 5,
     "metadata": {},
     "output_type": "execute_result"
    }
   ],
   "source": [
    "# Now lets list the models that are withing the selected workspace and place them in a dropbox\n",
    "# Ok... lets continue and list all of the the projects by project UID in this workspace\n",
    "call = f'/osmc/workspaces/{workspaceId}/resources'\n",
    "url = f'https://{serverIp}:{serverPort}{call}'\n",
    "resp_projects = requests.get(url,headers=headers, verify=False) # turn of verification here since our server is not super secure\n",
    "projectsList = resp_projects.json()\n",
    "projectsUidList = projectsList[1]['kerml:resources'] # Let just extract the UIDs for each project\n",
    "projectsUidList"
   ]
  },
  {
   "cell_type": "markdown",
   "id": "cad3a9b1-e45e-4f36-a583-8ee1b7c2bf78",
   "metadata": {
    "papermill": {
     "duration": 0.005984,
     "end_time": "2024-05-15T16:51:53.667666",
     "exception": false,
     "start_time": "2024-05-15T16:51:53.661682",
     "status": "completed"
    },
    "tags": []
   },
   "source": [
    "## So now we can see all of the projects contained in the workspace"
   ]
  },
  {
   "cell_type": "code",
   "execution_count": 6,
   "id": "a6fe0c52-9982-4e2d-859e-cd9ddc7f4026",
   "metadata": {
    "execution": {
     "iopub.execute_input": "2024-05-15T16:52:33.583175Z",
     "iopub.status.busy": "2024-05-15T16:52:33.583175Z",
     "iopub.status.idle": "2024-05-15T16:52:46.344213Z",
     "shell.execute_reply": "2024-05-15T16:52:46.342288Z"
    },
    "papermill": {
     "duration": null,
     "end_time": null,
     "exception": false,
     "start_time": "2024-05-15T16:51:53.673668",
     "status": "running"
    },
    "tags": []
   },
   "outputs": [],
   "source": [
    "# Lets loop throug the projects and create a dictionary of the resource (or model) details\n",
    "projectsData = {}\n",
    "for i in range(len(projectsUidList)):\n",
    "    resourceId = projectsUidList[i]['@id'] # select the values for each id in the projectList\n",
    "    call = f'/osmc/workspaces/{workspaceId}/resources/{resourceId}'\n",
    "    url = f'https://{serverIp}:{serverPort}{call}'\n",
    "    resp_projects = requests.get(url,headers=headers, verify=False) # turn of verification here since our server is not super secure\n",
    "    #projectsData = json.dumps(resp_projects.json(), indent=4)\n",
    "    projectsData[i] = resp_projects.json()\n",
    "#print(json.dumps(projectsData, indent=4))"
   ]
  },
  {
   "cell_type": "code",
   "execution_count": 7,
   "id": "230ddde7-297f-47b6-a3bf-cac8be7b75fa",
   "metadata": {
    "execution": {
     "iopub.execute_input": "2024-05-15T16:52:46.348214Z",
     "iopub.status.busy": "2024-05-15T16:52:46.348214Z",
     "iopub.status.idle": "2024-05-15T16:52:46.358732Z",
     "shell.execute_reply": "2024-05-15T16:52:46.357730Z"
    },
    "papermill": {
     "duration": null,
     "end_time": null,
     "exception": null,
     "start_time": null,
     "status": "pending"
    },
    "tags": []
   },
   "outputs": [
    {
     "data": {
      "application/vnd.jupyter.widget-view+json": {
       "model_id": "298d1497a6ed4b7091a6d457fcc53fb8",
       "version_major": 2,
       "version_minor": 0
      },
      "text/plain": [
       "Dropdown(description='Projects:', options=('ADT_Model2', 'VendorA', 'TestVerdictKind', 'MacroEngine_Profile', …"
      ]
     },
     "metadata": {},
     "output_type": "display_data"
    }
   ],
   "source": [
    "# lets create a combobox to list the avalible projects (models) in this workspace\n",
    "# Build arrays of the items\n",
    "projectIds = {}\n",
    "projectNames = {}\n",
    "\n",
    "# Lets build a list of workspaces for selection\n",
    "for i in range(len(projectsData)):\n",
    "    projectIds[i] = projectsData[i]['@base'].split(\"/\")[7]\n",
    "    projectNames[i] = projectsData[i]['metadata']['name'].split(\".\")[0]\n",
    "\n",
    "# Now create a dropdown list of the avalible projects\n",
    "prj = widgets.Dropdown(options = projectNames.values(), description = 'Projects:')\n",
    "prj.observe(dropdown_eventhandler, names='value')\n",
    "\n",
    "# Displya the combobox\n",
    "display(prj)"
   ]
  },
  {
   "cell_type": "code",
   "execution_count": 8,
   "id": "200a5f0d-5994-42ea-942e-05a0f8412633",
   "metadata": {
    "execution": {
     "iopub.execute_input": "2024-05-15T16:52:46.362732Z",
     "iopub.status.busy": "2024-05-15T16:52:46.361732Z",
     "iopub.status.idle": "2024-05-15T16:52:46.374734Z",
     "shell.execute_reply": "2024-05-15T16:52:46.373732Z"
    },
    "papermill": {
     "duration": null,
     "end_time": null,
     "exception": null,
     "start_time": null,
     "status": "pending"
    },
    "tags": []
   },
   "outputs": [],
   "source": [
    "# Lets match up the id from the selected workspace (poor implementation)\n",
    "prjIndex = list(filter(lambda x: projectNames[x] == prj.value, range(len(projectNames))))\n",
    "projectId = projectIds[prjIndex[0]]\n",
    "projectId = \"5cb74688-9804-44b1-badb-4f09c5cb861e\" # hard set VendorA"
   ]
  },
  {
   "cell_type": "code",
   "execution_count": 9,
   "id": "a2b00f38-1ed4-49ca-8d95-1274fea2398f",
   "metadata": {
    "execution": {
     "iopub.execute_input": "2024-05-15T16:52:46.378732Z",
     "iopub.status.busy": "2024-05-15T16:52:46.378732Z",
     "iopub.status.idle": "2024-05-15T16:52:49.732156Z",
     "shell.execute_reply": "2024-05-15T16:52:49.731156Z"
    },
    "papermill": {
     "duration": null,
     "end_time": null,
     "exception": null,
     "start_time": null,
     "status": "pending"
    },
    "tags": []
   },
   "outputs": [
    {
     "data": {
      "text/plain": [
       "31"
      ]
     },
     "execution_count": 9,
     "metadata": {},
     "output_type": "execute_result"
    }
   ],
   "source": [
    "# Ok so here is the wierd part... there is not direct way to extract the elements of a project (or model)\n",
    "# So we have to perform a 'diff' between the elements of the initial commit and the latest revision. \n",
    "\n",
    "# So lets get the latest revision number (or max revision number)\n",
    "# curl -X GET \"https://18.205.77.131:8111/osmc/workspaces/bb95d8f4-fae4-490c-b764-4f83e3bba4f5/resources/272e28f2-45b7-45cb-a016-800ba747e716/revisions\" -H \"accept: application/json\"\n",
    "call = f'/osmc/workspaces/{workspaceId}/resources/{projectId}/revisions'\n",
    "url = f'https://{serverIp}:{serverPort}{call}'\n",
    "resp_revList = requests.get(url,headers=headers, verify=False) # turn of verification here since our server is not super secure\n",
    "revisionList = resp_revList.json()\n",
    "latestRevision = max(revisionList)\n",
    "latestRevision"
   ]
  },
  {
   "cell_type": "code",
   "execution_count": 10,
   "id": "fbd61a9f-661a-43f6-8f4b-1cdf11214e4b",
   "metadata": {
    "execution": {
     "iopub.execute_input": "2024-05-15T16:52:49.735156Z",
     "iopub.status.busy": "2024-05-15T16:52:49.735156Z",
     "iopub.status.idle": "2024-05-15T16:52:54.051933Z",
     "shell.execute_reply": "2024-05-15T16:52:54.050929Z"
    },
    "papermill": {
     "duration": null,
     "end_time": null,
     "exception": null,
     "start_time": null,
     "status": "pending"
    },
    "tags": []
   },
   "outputs": [],
   "source": [
    "# Then to get the diff use the following to compair revision 1 to revision max... this is a little wierd... but it works\n",
    "# I tought there would be a 'get' for all elements of a resource??? No... we must ask for the differential between the initial resource and its current version???\n",
    "# curl -X GET \"https://18.205.77.131:8111/osmc/workspaces/bb95d8f4-fae4-490c-b764-4f83e3bba4f5/resources/272e28f2-45b7-45cb-a016-800ba747e716/revisiondiff?source=1&target=44\" -H \"accept: application/json\"\n",
    "sourceRevision = 1\n",
    "targetRevision = latestRevision\n",
    "call = f'/osmc/workspaces/{workspaceId}/resources/{projectId}/revisiondiff?source={sourceRevision}&target={targetRevision}'\n",
    "url = f'https://{serverIp}:{serverPort}{call}'\n",
    "resp_elementList = requests.get(url,headers=headers, verify=False) # turn of verification here since our server is not super secure\n",
    "elementList_json = resp_elementList.json()['added'] # just get the added (availibe items are removed, added, changed, and empty)\n",
    "elementList = json.dumps(elementList_json) # push to flat string\n",
    "elementList = elementList.replace('\"','').replace(\"[\",\"\").replace(\"]\",\"\").replace(\" \",\"\") # remove the sting junk\n",
    "#elementList_json\n",
    "#elementList"
   ]
  },
  {
   "cell_type": "code",
   "execution_count": 11,
   "id": "3a1ff0ab-be19-4c9e-a93b-bccde278f2e1",
   "metadata": {
    "execution": {
     "iopub.execute_input": "2024-05-15T16:52:54.054925Z",
     "iopub.status.busy": "2024-05-15T16:52:54.054925Z",
     "iopub.status.idle": "2024-05-15T16:52:58.271156Z",
     "shell.execute_reply": "2024-05-15T16:52:58.270161Z"
    },
    "papermill": {
     "duration": null,
     "end_time": null,
     "exception": null,
     "start_time": null,
     "status": "pending"
    },
    "tags": []
   },
   "outputs": [],
   "source": [
    "# OK great.. now we have a list of elements from the selected model\n",
    "# Lets no loop through these elements and build a json file of each elements specific information - This time we post :)\n",
    "# curl -X POST \"https://18.205.77.131:8111/osmc/resources/272e28f2-45b7-45cb-a016-800ba747e716/elements\" -H \"accept: application/ld+json\" -H \"Content-Type: text/plain\" -d \"aa4bdacf-c246-4865-bf50-cc9be2a16f16, 8a2153fc-ba11-4f9c-a2c0-2cb5114f2356 \"\n",
    "call = f'/osmc/resources/{projectId}/elements'\n",
    "url = f'https://{serverIp}:{serverPort}{call}'\n",
    "headers={\"accept\":\"application/ld+json\", \"Content-Type\":\"text/plain\", \"authorization\":f\"Basic {authId}\"}\n",
    "resp_elementListData = requests.post(url,headers=headers, verify=False, data = elementList) # turn of verification here since our server is not super secure\n",
    "elementListData = resp_elementListData.json() # just get the added (availibe items are removed, added, changed, and empty)\n",
    "#elementListData"
   ]
  },
  {
   "cell_type": "code",
   "execution_count": 12,
   "id": "7acc5d6c-590c-4827-b1eb-96bf18e73f79",
   "metadata": {
    "execution": {
     "iopub.execute_input": "2024-05-15T16:52:58.275158Z",
     "iopub.status.busy": "2024-05-15T16:52:58.274170Z",
     "iopub.status.idle": "2024-05-15T16:52:58.286257Z",
     "shell.execute_reply": "2024-05-15T16:52:58.285256Z"
    },
    "papermill": {
     "duration": null,
     "end_time": null,
     "exception": null,
     "start_time": null,
     "status": "pending"
    },
    "tags": []
   },
   "outputs": [
    {
     "data": {
      "text/plain": [
       "{11: 11, 24: 24, 25: 25, 31: 31}"
      ]
     },
     "execution_count": 12,
     "metadata": {},
     "output_type": "execute_result"
    }
   ],
   "source": [
    "# Lets loop throug the selected projects elemetns and find the index of all literal real values\n",
    "literalRealIndex = {}\n",
    "for i in range(len(elementList_json)): # Where i is the uuid of the element in this case\n",
    "    if elementListData[elementList_json[i]]['data'][0]['@type'] == ['ldp:DirectContainer', 'uml:LiteralReal']:\n",
    "        literalRealIndex[i] = i # Add any key to the index that is a literal real\n",
    "literalRealIndex\n",
    "#elementList_json[4]\n",
    "#elementListData['554e62c4-5bd6-46d5-97cc-900c35c46913']"
   ]
  },
  {
   "cell_type": "code",
   "execution_count": 13,
   "id": "8cc0963a-94bf-4b3c-865f-d619212fad8b",
   "metadata": {
    "execution": {
     "iopub.execute_input": "2024-05-15T16:52:58.289267Z",
     "iopub.status.busy": "2024-05-15T16:52:58.289267Z",
     "iopub.status.idle": "2024-05-15T16:52:58.301263Z",
     "shell.execute_reply": "2024-05-15T16:52:58.301263Z"
    },
    "papermill": {
     "duration": null,
     "end_time": null,
     "exception": null,
     "start_time": null,
     "status": "pending"
    },
    "tags": []
   },
   "outputs": [
    {
     "data": {
      "text/plain": [
       "{11: ('length', '6.667'),\n",
       " 24: ('height', '14.0'),\n",
       " 25: ('width', '6.25'),\n",
       " 31: ('dateTime', '1.0')}"
      ]
     },
     "execution_count": 13,
     "metadata": {},
     "output_type": "execute_result"
    }
   ],
   "source": [
    "# So this is getting invloved and about here is where recursion starts to rear its ugly head\n",
    "# Lets just get through this for now and we can build a better mouse trap the next round\n",
    "\n",
    "valueCells = {}\n",
    "values = {}\n",
    "elementIds = {}\n",
    "\n",
    "#print(\"Here we can modkify the vendor model values if we like.\")\n",
    "\n",
    "# We can loop through the matched elements and the build widgets to edit them\n",
    "for keys in literalRealIndex:\n",
    "    owenersId = elementListData[elementList_json[keys]]['data'][1]['kerml:owner']['@id']\n",
    "    ownersName = elementListData[owenersId]['data'][1]['kerml:name']\n",
    "    currentValue = elementListData[elementList_json[keys]]['data'][1][\"kerml:esiData\"][\"value\"]\n",
    "    elementIds[keys] = elementList_json[keys]\n",
    "    values[keys] = (ownersName, currentValue)\n",
    "    valueCells[keys] = widgets.Text(description=ownersName, value=currentValue); #display(valueCells[keys])\n",
    "    #print(elementListData[elementList_json[keys]]['data'][1]['kerml:owner']['@id'], elementListData[elementList_json[keys]]['data'][1][\"kerml:esiData\"][\"value\"])    \n",
    "\n",
    "# # Create a button to push for fun :)\n",
    "# btn = widgets.Button(description = \"Update Model Values\")\n",
    "# display(btn)\n",
    "\n",
    "# # This functuon is executed after pushing the button\n",
    "# def updateSystemModelVals(b):\n",
    "#     for cells in valueCells:\n",
    "#         # Create the payload\n",
    "#         dataValue = {\"kerml:esiData\":{\"value\":\"0.0\"}} # Build the data payload\n",
    "#         dataValue[\"kerml:esiData\"][\"value\"] = valueCells[cells].value # Update the json string\n",
    "        \n",
    "#         # Now build the api call\n",
    "#         call = f'/osmc/resources/{projectId}/elements/{elementIds[cells]}'\n",
    "#         url = f'https://{serverIp}:{serverPort}{call}'\n",
    "#         headers={\"accept\":\"application/ld+json\", \"authorization\":f\"Basic {authId}\", \"Content-Type\":\"application/ld+json\"}\n",
    "        \n",
    "#         # Have to add a new header of content type\n",
    "#         resp_value = requests.patch(url, headers = headers, verify = False, json = dataValue) # turn of verification here since our server is not super secure\n",
    "#         print(url)\n",
    "#         resp_value.status_code\n",
    "#         # print(dataValue)\n",
    "#         print(resp_value.content)\n",
    "        \n",
    "# # The button callback\n",
    "# btn.on_click(updateSystemModelVals)\n",
    "values"
   ]
  },
  {
   "cell_type": "code",
   "execution_count": 14,
   "id": "e255095d-9620-4e8e-914f-9803528554df",
   "metadata": {
    "execution": {
     "iopub.execute_input": "2024-05-15T16:52:58.306259Z",
     "iopub.status.busy": "2024-05-15T16:52:58.306259Z",
     "iopub.status.idle": "2024-05-15T16:52:58.318260Z",
     "shell.execute_reply": "2024-05-15T16:52:58.317258Z"
    },
    "papermill": {
     "duration": null,
     "end_time": null,
     "exception": null,
     "start_time": null,
     "status": "pending"
    },
    "tags": []
   },
   "outputs": [
    {
     "name": "stdout",
     "output_type": "stream",
     "text": [
      "  Description  Value\n",
      "0      length  6.667\n",
      "1      height   14.0\n",
      "2       width   6.25\n",
      "3    dateTime    1.0\n"
     ]
    }
   ],
   "source": [
    "# Creating a list of dictionaries, each containing the description and value\n",
    "data = [{'Description': desc_value[0], 'Value': desc_value[1]} for desc_value in values.values()]\n",
    "\n",
    "# Creating a DataFrame from the list of dictionaries\n",
    "df = pd.DataFrame(data)\n",
    "\n",
    "# Display the DataFrame\n",
    "print(df)"
   ]
  },
  {
   "cell_type": "code",
   "execution_count": 15,
   "id": "89ff243c-ee9c-44c1-ac3d-6b0eb35662d4",
   "metadata": {
    "execution": {
     "iopub.execute_input": "2024-05-15T16:52:58.321259Z",
     "iopub.status.busy": "2024-05-15T16:52:58.320260Z",
     "iopub.status.idle": "2024-05-15T16:52:58.334272Z",
     "shell.execute_reply": "2024-05-15T16:52:58.333256Z"
    },
    "papermill": {
     "duration": null,
     "end_time": null,
     "exception": null,
     "start_time": null,
     "status": "pending"
    },
    "tags": []
   },
   "outputs": [
    {
     "name": "stdout",
     "output_type": "stream",
     "text": [
      "Value of width: 6.25\n"
     ]
    }
   ],
   "source": [
    "value_of_width = df[df['Description'] == 'width']['Value'].iloc[0]\n",
    "print(\"Value of width:\", value_of_width)"
   ]
  },
  {
   "cell_type": "code",
   "execution_count": 16,
   "id": "63906ed1-df56-4c92-8fa0-1ab28fc367e2",
   "metadata": {
    "execution": {
     "iopub.execute_input": "2024-05-15T16:52:58.338256Z",
     "iopub.status.busy": "2024-05-15T16:52:58.337258Z",
     "iopub.status.idle": "2024-05-15T16:52:58.350275Z",
     "shell.execute_reply": "2024-05-15T16:52:58.349279Z"
    },
    "papermill": {
     "duration": null,
     "end_time": null,
     "exception": null,
     "start_time": null,
     "status": "pending"
    },
    "tags": []
   },
   "outputs": [
    {
     "name": "stdout",
     "output_type": "stream",
     "text": [
      "length: 6.667\n",
      "height: 14.0\n",
      "width: 6.25\n",
      "dateTime: 1.0\n"
     ]
    }
   ],
   "source": [
    "for index, row in df.iterrows():\n",
    "    print(f\"{row['Description']}: {row['Value']}\")"
   ]
  },
  {
   "cell_type": "markdown",
   "id": "f08d1a0c-88a8-42a3-a73d-771419e75686",
   "metadata": {
    "papermill": {
     "duration": null,
     "end_time": null,
     "exception": null,
     "start_time": null,
     "status": "pending"
    },
    "tags": []
   },
   "source": [
    "## Notes:\n",
    "- We are not using FQNs and this is an artifact of SysMLV1.x (intrinsic in v2)\n",
    "- Here we have three  attributes of the VendorA model\n",
    "- Now lets push these to the ADT model and solve for the volume\n",
    "- In the next version we can pull/push from instances which again are not fun in V1.x due to the slots not haveing names just owners so we have to drill down a little further. I have this completed as a part of the Dassault model last year. "
   ]
  },
  {
   "cell_type": "code",
   "execution_count": 17,
   "id": "fa5e1c26-e850-4844-a147-cea88fae18e1",
   "metadata": {
    "execution": {
     "iopub.execute_input": "2024-05-15T16:52:58.354271Z",
     "iopub.status.busy": "2024-05-15T16:52:58.354271Z",
     "iopub.status.idle": "2024-05-15T16:52:58.366574Z",
     "shell.execute_reply": "2024-05-15T16:52:58.364581Z"
    },
    "papermill": {
     "duration": null,
     "end_time": null,
     "exception": null,
     "start_time": null,
     "status": "pending"
    },
    "tags": []
   },
   "outputs": [],
   "source": [
    "# Lets write the data to a file that will be used to update the ADT Model\n",
    "#df.to_json('vendorA.json', orient='records', lines=True)\n",
    "df.to_json('vendorA.json', orient='records')"
   ]
  }
 ],
 "metadata": {
  "kernelspec": {
   "display_name": "Python 3 (ipykernel)",
   "language": "python",
   "name": "python3"
  },
  "language_info": {
   "codemirror_mode": {
    "name": "ipython",
    "version": 3
   },
   "file_extension": ".py",
   "mimetype": "text/x-python",
   "name": "python",
   "nbconvert_exporter": "python",
   "pygments_lexer": "ipython3",
   "version": "3.10.14"
  },
  "papermill": {
   "default_parameters": {},
   "duration": null,
   "end_time": null,
   "environment_variables": {},
   "exception": null,
   "input_path": "C:\\Users\\JohnDeHart\\Documents\\GitHub\\Notebooks\\twc_interactions\\pull_vendor_api.ipynb",
   "output_path": "C:\\Users\\JohnDeHart\\Documents\\GitHub\\Notebooks\\twc_interactions\\pull_vendor_api.ipynb",
   "parameters": {},
   "start_time": "2024-05-15T16:51:49.480880",
   "version": "2.6.0"
  },
  "widgets": {
   "application/vnd.jupyter.widget-state+json": {
    "state": {
     "298d1497a6ed4b7091a6d457fcc53fb8": {
      "model_module": "@jupyter-widgets/controls",
      "model_module_version": "2.0.0",
      "model_name": "DropdownModel",
      "state": {
       "_dom_classes": [],
       "_model_module": "@jupyter-widgets/controls",
       "_model_module_version": "2.0.0",
       "_model_name": "DropdownModel",
       "_options_labels": [
        "ADT_Model2",
        "VendorA",
        "TestVerdictKind",
        "MacroEngine_Profile",
        "ADT_Model"
       ],
       "_view_count": null,
       "_view_module": "@jupyter-widgets/controls",
       "_view_module_version": "2.0.0",
       "_view_name": "DropdownView",
       "description": "Projects:",
       "description_allow_html": false,
       "disabled": false,
       "index": 0,
       "layout": "IPY_MODEL_2affc86a8d094827a6a484c6098c115a",
       "style": "IPY_MODEL_8c6f3192ccfc42c98d5c4559aa7a7d28",
       "tabbable": null,
       "tooltip": null
      }
     },
     "2affc86a8d094827a6a484c6098c115a": {
      "model_module": "@jupyter-widgets/base",
      "model_module_version": "2.0.0",
      "model_name": "LayoutModel",
      "state": {
       "_model_module": "@jupyter-widgets/base",
       "_model_module_version": "2.0.0",
       "_model_name": "LayoutModel",
       "_view_count": null,
       "_view_module": "@jupyter-widgets/base",
       "_view_module_version": "2.0.0",
       "_view_name": "LayoutView",
       "align_content": null,
       "align_items": null,
       "align_self": null,
       "border_bottom": null,
       "border_left": null,
       "border_right": null,
       "border_top": null,
       "bottom": null,
       "display": null,
       "flex": null,
       "flex_flow": null,
       "grid_area": null,
       "grid_auto_columns": null,
       "grid_auto_flow": null,
       "grid_auto_rows": null,
       "grid_column": null,
       "grid_gap": null,
       "grid_row": null,
       "grid_template_areas": null,
       "grid_template_columns": null,
       "grid_template_rows": null,
       "height": null,
       "justify_content": null,
       "justify_items": null,
       "left": null,
       "margin": null,
       "max_height": null,
       "max_width": null,
       "min_height": null,
       "min_width": null,
       "object_fit": null,
       "object_position": null,
       "order": null,
       "overflow": null,
       "padding": null,
       "right": null,
       "top": null,
       "visibility": null,
       "width": null
      }
     },
     "5df459996d004054889e5266073330ed": {
      "model_module": "@jupyter-widgets/controls",
      "model_module_version": "2.0.0",
      "model_name": "TextStyleModel",
      "state": {
       "_model_module": "@jupyter-widgets/controls",
       "_model_module_version": "2.0.0",
       "_model_name": "TextStyleModel",
       "_view_count": null,
       "_view_module": "@jupyter-widgets/base",
       "_view_module_version": "2.0.0",
       "_view_name": "StyleView",
       "background": null,
       "description_width": "",
       "font_size": null,
       "text_color": null
      }
     },
     "620814cbd12b41f4897127339b8a4707": {
      "model_module": "@jupyter-widgets/controls",
      "model_module_version": "2.0.0",
      "model_name": "TextModel",
      "state": {
       "_dom_classes": [],
       "_model_module": "@jupyter-widgets/controls",
       "_model_module_version": "2.0.0",
       "_model_name": "TextModel",
       "_view_count": null,
       "_view_module": "@jupyter-widgets/controls",
       "_view_module_version": "2.0.0",
       "_view_name": "TextView",
       "continuous_update": true,
       "description": "dateTime",
       "description_allow_html": false,
       "disabled": false,
       "layout": "IPY_MODEL_7b160062c20d4162acfac92b3f17ad07",
       "placeholder": "​",
       "style": "IPY_MODEL_5df459996d004054889e5266073330ed",
       "tabbable": null,
       "tooltip": null,
       "value": "1.0"
      }
     },
     "75c133dbeb084aad979560a2360bd3c8": {
      "model_module": "@jupyter-widgets/base",
      "model_module_version": "2.0.0",
      "model_name": "LayoutModel",
      "state": {
       "_model_module": "@jupyter-widgets/base",
       "_model_module_version": "2.0.0",
       "_model_name": "LayoutModel",
       "_view_count": null,
       "_view_module": "@jupyter-widgets/base",
       "_view_module_version": "2.0.0",
       "_view_name": "LayoutView",
       "align_content": null,
       "align_items": null,
       "align_self": null,
       "border_bottom": null,
       "border_left": null,
       "border_right": null,
       "border_top": null,
       "bottom": null,
       "display": null,
       "flex": null,
       "flex_flow": null,
       "grid_area": null,
       "grid_auto_columns": null,
       "grid_auto_flow": null,
       "grid_auto_rows": null,
       "grid_column": null,
       "grid_gap": null,
       "grid_row": null,
       "grid_template_areas": null,
       "grid_template_columns": null,
       "grid_template_rows": null,
       "height": null,
       "justify_content": null,
       "justify_items": null,
       "left": null,
       "margin": null,
       "max_height": null,
       "max_width": null,
       "min_height": null,
       "min_width": null,
       "object_fit": null,
       "object_position": null,
       "order": null,
       "overflow": null,
       "padding": null,
       "right": null,
       "top": null,
       "visibility": null,
       "width": null
      }
     },
     "7b160062c20d4162acfac92b3f17ad07": {
      "model_module": "@jupyter-widgets/base",
      "model_module_version": "2.0.0",
      "model_name": "LayoutModel",
      "state": {
       "_model_module": "@jupyter-widgets/base",
       "_model_module_version": "2.0.0",
       "_model_name": "LayoutModel",
       "_view_count": null,
       "_view_module": "@jupyter-widgets/base",
       "_view_module_version": "2.0.0",
       "_view_name": "LayoutView",
       "align_content": null,
       "align_items": null,
       "align_self": null,
       "border_bottom": null,
       "border_left": null,
       "border_right": null,
       "border_top": null,
       "bottom": null,
       "display": null,
       "flex": null,
       "flex_flow": null,
       "grid_area": null,
       "grid_auto_columns": null,
       "grid_auto_flow": null,
       "grid_auto_rows": null,
       "grid_column": null,
       "grid_gap": null,
       "grid_row": null,
       "grid_template_areas": null,
       "grid_template_columns": null,
       "grid_template_rows": null,
       "height": null,
       "justify_content": null,
       "justify_items": null,
       "left": null,
       "margin": null,
       "max_height": null,
       "max_width": null,
       "min_height": null,
       "min_width": null,
       "object_fit": null,
       "object_position": null,
       "order": null,
       "overflow": null,
       "padding": null,
       "right": null,
       "top": null,
       "visibility": null,
       "width": null
      }
     },
     "8c6f3192ccfc42c98d5c4559aa7a7d28": {
      "model_module": "@jupyter-widgets/controls",
      "model_module_version": "2.0.0",
      "model_name": "DescriptionStyleModel",
      "state": {
       "_model_module": "@jupyter-widgets/controls",
       "_model_module_version": "2.0.0",
       "_model_name": "DescriptionStyleModel",
       "_view_count": null,
       "_view_module": "@jupyter-widgets/base",
       "_view_module_version": "2.0.0",
       "_view_name": "StyleView",
       "description_width": ""
      }
     },
     "8ded6b88b92d401e9c036dcd5d35f5af": {
      "model_module": "@jupyter-widgets/base",
      "model_module_version": "2.0.0",
      "model_name": "LayoutModel",
      "state": {
       "_model_module": "@jupyter-widgets/base",
       "_model_module_version": "2.0.0",
       "_model_name": "LayoutModel",
       "_view_count": null,
       "_view_module": "@jupyter-widgets/base",
       "_view_module_version": "2.0.0",
       "_view_name": "LayoutView",
       "align_content": null,
       "align_items": null,
       "align_self": null,
       "border_bottom": null,
       "border_left": null,
       "border_right": null,
       "border_top": null,
       "bottom": null,
       "display": null,
       "flex": null,
       "flex_flow": null,
       "grid_area": null,
       "grid_auto_columns": null,
       "grid_auto_flow": null,
       "grid_auto_rows": null,
       "grid_column": null,
       "grid_gap": null,
       "grid_row": null,
       "grid_template_areas": null,
       "grid_template_columns": null,
       "grid_template_rows": null,
       "height": null,
       "justify_content": null,
       "justify_items": null,
       "left": null,
       "margin": null,
       "max_height": null,
       "max_width": null,
       "min_height": null,
       "min_width": null,
       "object_fit": null,
       "object_position": null,
       "order": null,
       "overflow": null,
       "padding": null,
       "right": null,
       "top": null,
       "visibility": null,
       "width": null
      }
     },
     "a40fa462e5d64efb96be56e57a2954d5": {
      "model_module": "@jupyter-widgets/base",
      "model_module_version": "2.0.0",
      "model_name": "LayoutModel",
      "state": {
       "_model_module": "@jupyter-widgets/base",
       "_model_module_version": "2.0.0",
       "_model_name": "LayoutModel",
       "_view_count": null,
       "_view_module": "@jupyter-widgets/base",
       "_view_module_version": "2.0.0",
       "_view_name": "LayoutView",
       "align_content": null,
       "align_items": null,
       "align_self": null,
       "border_bottom": null,
       "border_left": null,
       "border_right": null,
       "border_top": null,
       "bottom": null,
       "display": null,
       "flex": null,
       "flex_flow": null,
       "grid_area": null,
       "grid_auto_columns": null,
       "grid_auto_flow": null,
       "grid_auto_rows": null,
       "grid_column": null,
       "grid_gap": null,
       "grid_row": null,
       "grid_template_areas": null,
       "grid_template_columns": null,
       "grid_template_rows": null,
       "height": null,
       "justify_content": null,
       "justify_items": null,
       "left": null,
       "margin": null,
       "max_height": null,
       "max_width": null,
       "min_height": null,
       "min_width": null,
       "object_fit": null,
       "object_position": null,
       "order": null,
       "overflow": null,
       "padding": null,
       "right": null,
       "top": null,
       "visibility": null,
       "width": null
      }
     },
     "a6eb199e507143e28b9ad80f392bd99a": {
      "model_module": "@jupyter-widgets/controls",
      "model_module_version": "2.0.0",
      "model_name": "TextStyleModel",
      "state": {
       "_model_module": "@jupyter-widgets/controls",
       "_model_module_version": "2.0.0",
       "_model_name": "TextStyleModel",
       "_view_count": null,
       "_view_module": "@jupyter-widgets/base",
       "_view_module_version": "2.0.0",
       "_view_name": "StyleView",
       "background": null,
       "description_width": "",
       "font_size": null,
       "text_color": null
      }
     },
     "b1d034e7fa51404e8b954034a99952b4": {
      "model_module": "@jupyter-widgets/controls",
      "model_module_version": "2.0.0",
      "model_name": "TextModel",
      "state": {
       "_dom_classes": [],
       "_model_module": "@jupyter-widgets/controls",
       "_model_module_version": "2.0.0",
       "_model_name": "TextModel",
       "_view_count": null,
       "_view_module": "@jupyter-widgets/controls",
       "_view_module_version": "2.0.0",
       "_view_name": "TextView",
       "continuous_update": true,
       "description": "length",
       "description_allow_html": false,
       "disabled": false,
       "layout": "IPY_MODEL_a40fa462e5d64efb96be56e57a2954d5",
       "placeholder": "​",
       "style": "IPY_MODEL_c4e06a98d729419baf7e883d3a8033ed",
       "tabbable": null,
       "tooltip": null,
       "value": "6.667"
      }
     },
     "bfc7bb76afae4287b201a2b40dbeb97d": {
      "model_module": "@jupyter-widgets/controls",
      "model_module_version": "2.0.0",
      "model_name": "TextStyleModel",
      "state": {
       "_model_module": "@jupyter-widgets/controls",
       "_model_module_version": "2.0.0",
       "_model_name": "TextStyleModel",
       "_view_count": null,
       "_view_module": "@jupyter-widgets/base",
       "_view_module_version": "2.0.0",
       "_view_name": "StyleView",
       "background": null,
       "description_width": "",
       "font_size": null,
       "text_color": null
      }
     },
     "c4e06a98d729419baf7e883d3a8033ed": {
      "model_module": "@jupyter-widgets/controls",
      "model_module_version": "2.0.0",
      "model_name": "TextStyleModel",
      "state": {
       "_model_module": "@jupyter-widgets/controls",
       "_model_module_version": "2.0.0",
       "_model_name": "TextStyleModel",
       "_view_count": null,
       "_view_module": "@jupyter-widgets/base",
       "_view_module_version": "2.0.0",
       "_view_name": "StyleView",
       "background": null,
       "description_width": "",
       "font_size": null,
       "text_color": null
      }
     },
     "c8679966999743af9c8b2fae5f66fe13": {
      "model_module": "@jupyter-widgets/base",
      "model_module_version": "2.0.0",
      "model_name": "LayoutModel",
      "state": {
       "_model_module": "@jupyter-widgets/base",
       "_model_module_version": "2.0.0",
       "_model_name": "LayoutModel",
       "_view_count": null,
       "_view_module": "@jupyter-widgets/base",
       "_view_module_version": "2.0.0",
       "_view_name": "LayoutView",
       "align_content": null,
       "align_items": null,
       "align_self": null,
       "border_bottom": null,
       "border_left": null,
       "border_right": null,
       "border_top": null,
       "bottom": null,
       "display": null,
       "flex": null,
       "flex_flow": null,
       "grid_area": null,
       "grid_auto_columns": null,
       "grid_auto_flow": null,
       "grid_auto_rows": null,
       "grid_column": null,
       "grid_gap": null,
       "grid_row": null,
       "grid_template_areas": null,
       "grid_template_columns": null,
       "grid_template_rows": null,
       "height": null,
       "justify_content": null,
       "justify_items": null,
       "left": null,
       "margin": null,
       "max_height": null,
       "max_width": null,
       "min_height": null,
       "min_width": null,
       "object_fit": null,
       "object_position": null,
       "order": null,
       "overflow": null,
       "padding": null,
       "right": null,
       "top": null,
       "visibility": null,
       "width": null
      }
     },
     "cb485074c8b5494b8a16d18c470d8cbb": {
      "model_module": "@jupyter-widgets/controls",
      "model_module_version": "2.0.0",
      "model_name": "DropdownModel",
      "state": {
       "_dom_classes": [],
       "_model_module": "@jupyter-widgets/controls",
       "_model_module_version": "2.0.0",
       "_model_name": "DropdownModel",
       "_options_labels": [
        "ADT_Projects",
        "Test_Projects",
        "Project_Templates",
        "Uncategorized"
       ],
       "_view_count": null,
       "_view_module": "@jupyter-widgets/controls",
       "_view_module_version": "2.0.0",
       "_view_name": "DropdownView",
       "description": "Workspaces:",
       "description_allow_html": false,
       "disabled": false,
       "index": 0,
       "layout": "IPY_MODEL_75c133dbeb084aad979560a2360bd3c8",
       "style": "IPY_MODEL_d58b1417d2d64e929ad5b90cab061097",
       "tabbable": null,
       "tooltip": null
      }
     },
     "d58b1417d2d64e929ad5b90cab061097": {
      "model_module": "@jupyter-widgets/controls",
      "model_module_version": "2.0.0",
      "model_name": "DescriptionStyleModel",
      "state": {
       "_model_module": "@jupyter-widgets/controls",
       "_model_module_version": "2.0.0",
       "_model_name": "DescriptionStyleModel",
       "_view_count": null,
       "_view_module": "@jupyter-widgets/base",
       "_view_module_version": "2.0.0",
       "_view_name": "StyleView",
       "description_width": ""
      }
     },
     "d86855732ab143d0b961b53b2bea1e6a": {
      "model_module": "@jupyter-widgets/controls",
      "model_module_version": "2.0.0",
      "model_name": "TextModel",
      "state": {
       "_dom_classes": [],
       "_model_module": "@jupyter-widgets/controls",
       "_model_module_version": "2.0.0",
       "_model_name": "TextModel",
       "_view_count": null,
       "_view_module": "@jupyter-widgets/controls",
       "_view_module_version": "2.0.0",
       "_view_name": "TextView",
       "continuous_update": true,
       "description": "height",
       "description_allow_html": false,
       "disabled": false,
       "layout": "IPY_MODEL_c8679966999743af9c8b2fae5f66fe13",
       "placeholder": "​",
       "style": "IPY_MODEL_bfc7bb76afae4287b201a2b40dbeb97d",
       "tabbable": null,
       "tooltip": null,
       "value": "14.0"
      }
     },
     "fa75bfbb65204ac0a01a10aa95a74dac": {
      "model_module": "@jupyter-widgets/controls",
      "model_module_version": "2.0.0",
      "model_name": "TextModel",
      "state": {
       "_dom_classes": [],
       "_model_module": "@jupyter-widgets/controls",
       "_model_module_version": "2.0.0",
       "_model_name": "TextModel",
       "_view_count": null,
       "_view_module": "@jupyter-widgets/controls",
       "_view_module_version": "2.0.0",
       "_view_name": "TextView",
       "continuous_update": true,
       "description": "width",
       "description_allow_html": false,
       "disabled": false,
       "layout": "IPY_MODEL_8ded6b88b92d401e9c036dcd5d35f5af",
       "placeholder": "​",
       "style": "IPY_MODEL_a6eb199e507143e28b9ad80f392bd99a",
       "tabbable": null,
       "tooltip": null,
       "value": "6.25"
      }
     }
    },
    "version_major": 2,
    "version_minor": 0
   }
  }
 },
 "nbformat": 4,
 "nbformat_minor": 5
}
