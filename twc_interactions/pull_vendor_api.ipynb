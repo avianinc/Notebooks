{
 "cells": [
  {
   "cell_type": "markdown",
   "id": "84c1130b-00ac-4bf5-adc2-6440992818c3",
   "metadata": {
    "papermill": {
     "duration": 0.007071,
     "end_time": "2024-05-15T14:46:56.769396",
     "exception": false,
     "start_time": "2024-05-15T14:46:56.762325",
     "status": "completed"
    },
    "tags": []
   },
   "source": [
    "## API Interaction - Pull Vendor Model\n",
    "In this example we log into a remote teamworkcloud instance and retrieve all literal reals descriptions and values.\n",
    "\n",
    "Steps:\n",
    "1. Login to the TWC API Server\n",
    "2. Retrieve a list of the workspaces (called categories in the TWC GUI)\n",
    "3. Select the workspace to retrieve a list of projects\n",
    "4. Retrieve a list project from the defined workspace\n",
    "5. Select a project to retrieve all elements (in memory json file)\n",
    "6. Loop though the json file and retrieve the index of any Literal Real (['ldp:DirectContainer', 'uml:LiteralReal'])\n",
    "7. Convert the list to a Description:Value dataframe\n",
    "8. Write the dataframe to a file"
   ]
  },
  {
   "cell_type": "code",
   "execution_count": 1,
   "id": "4af5975a-9e49-419c-9f74-98dd6dd7dea6",
   "metadata": {
    "execution": {
     "iopub.execute_input": "2024-05-15T14:46:56.784409Z",
     "iopub.status.busy": "2024-05-15T14:46:56.784409Z",
     "iopub.status.idle": "2024-05-15T14:46:57.348243Z",
     "shell.execute_reply": "2024-05-15T14:46:57.347172Z"
    },
    "papermill": {
     "duration": 0.57483,
     "end_time": "2024-05-15T14:46:57.350247",
     "exception": false,
     "start_time": "2024-05-15T14:46:56.775417",
     "status": "completed"
    },
    "tags": []
   },
   "outputs": [],
   "source": [
    "# A little set up\n",
    "import json\n",
    "import requests # performs the curl function in python\n",
    "import ipywidgets as widgets\n",
    "from ipywidgets import Dropdown\n",
    "from IPython.display import display\n",
    "import pandas as pd\n",
    "\n",
    "import warnings\n",
    "warnings.filterwarnings('ignore')\n",
    "\n",
    "import time\n",
    "from anytree import Node, RenderTree"
   ]
  },
  {
   "cell_type": "code",
   "execution_count": 2,
   "id": "0edc622a-953e-4400-aab7-686add9ef200",
   "metadata": {
    "execution": {
     "iopub.execute_input": "2024-05-15T14:46:57.363704Z",
     "iopub.status.busy": "2024-05-15T14:46:57.362707Z",
     "iopub.status.idle": "2024-05-15T14:46:57.924058Z",
     "shell.execute_reply": "2024-05-15T14:46:57.923182Z"
    },
    "papermill": {
     "duration": 0.570942,
     "end_time": "2024-05-15T14:46:57.927123",
     "exception": false,
     "start_time": "2024-05-15T14:46:57.356181",
     "status": "completed"
    },
    "tags": []
   },
   "outputs": [],
   "source": [
    "# Lets get a list of workspaces from the teamworkcloud server\n",
    "# API --> https://18.205.77.131:8111/osmc/swagger/?url=https%3A%2F%2F18.205.77.131%3A8111%2Fosmc%2Fmanual\n",
    "#serverIp = '18.205.77.131' # Avian server\n",
    "serverIp = '10.107.1.92' # ADT MA server\n",
    "serverPort = '8111'\n",
    "call = '/osmc/workspaces?includeBody=True'\n",
    "# authId = \"amRlaGFydDpqa2QyMjE0MDA=\" # avian id\n",
    "authId = \"amRlaGFydDpSemhlZ3hoQ1RoWmY=\" # ADT MA ID\n",
    "url = f'https://{serverIp}:{serverPort}{call}'\n",
    "headers={\"accept\":\"application/ld+json\",\"authorization\":f\"Basic {authId}\"}\n",
    "resp_ws = requests.get(url,headers=headers, verify=False) # turn of verification here since our server is not super secure\n",
    "workspaces = resp_ws.json() # Convert the response content to a json format\n",
    "#print(json.dumps(workspaces, indent=4))"
   ]
  },
  {
   "cell_type": "code",
   "execution_count": 3,
   "id": "987ff411-4b07-4894-b2a8-95e74dc71d1a",
   "metadata": {
    "execution": {
     "iopub.execute_input": "2024-05-15T14:46:57.939064Z",
     "iopub.status.busy": "2024-05-15T14:46:57.939064Z",
     "iopub.status.idle": "2024-05-15T14:46:57.956765Z",
     "shell.execute_reply": "2024-05-15T14:46:57.954736Z"
    },
    "papermill": {
     "duration": 0.025698,
     "end_time": "2024-05-15T14:46:57.957815",
     "exception": false,
     "start_time": "2024-05-15T14:46:57.932117",
     "status": "completed"
    },
    "tags": []
   },
   "outputs": [
    {
     "data": {
      "application/vnd.jupyter.widget-view+json": {
       "model_id": "52e217620ca04512996cfd2562b8ad47",
       "version_major": 2,
       "version_minor": 0
      },
      "text/plain": [
       "Dropdown(description='Workspaces:', options=('ADT_Projects', 'Test_Projects', 'Project_Templates', 'Uncategori…"
      ]
     },
     "metadata": {},
     "output_type": "display_data"
    }
   ],
   "source": [
    "# lets create a combobox to list the avalible workspaces\n",
    "# Build arrays of the items\n",
    "workspaceIds = {}\n",
    "workspaceNames = {}\n",
    "\n",
    "# Lets build a list of workspaces for selection\n",
    "for i in range(len(workspaces[\"ldp:contains\"])):\n",
    "    workspaceIds[i] = workspaces[\"ldp:contains\"][i][0]['@id']\n",
    "    workspaceNames[i] = workspaces[\"ldp:contains\"][i][1][\"dcterms:title\"]\n",
    "\n",
    "# Fuction to monitor change of dropdown\n",
    "def dropdown_eventhandler(change):\n",
    "    print(change.new) # Write the selected item to the log\n",
    "\n",
    "# Now create a dropdown list of the avalible workspaces\n",
    "ws = widgets.Dropdown(options = workspaceNames.values(), description = 'Workspaces:')\n",
    "ws.observe(dropdown_eventhandler, names='value')\n",
    "\n",
    "# Displya the combobox\n",
    "display(ws)"
   ]
  },
  {
   "cell_type": "code",
   "execution_count": 4,
   "id": "4331c729-96fe-4b63-8d65-028a63adb28f",
   "metadata": {
    "execution": {
     "iopub.execute_input": "2024-05-15T14:46:57.969496Z",
     "iopub.status.busy": "2024-05-15T14:46:57.968484Z",
     "iopub.status.idle": "2024-05-15T14:46:57.986946Z",
     "shell.execute_reply": "2024-05-15T14:46:57.985920Z"
    },
    "papermill": {
     "duration": 0.026622,
     "end_time": "2024-05-15T14:46:57.989027",
     "exception": false,
     "start_time": "2024-05-15T14:46:57.962405",
     "status": "completed"
    },
    "tags": []
   },
   "outputs": [],
   "source": [
    "# Lets match up the id from the selected workspace (poor implementation)\n",
    "wsIndex = list(filter(lambda x: workspaceNames[x] == ws.value, range(len(workspaceNames))))\n",
    "workspaceId = workspaceIds[wsIndex[0]]\n",
    "workspaceId = \"a2bf1c2f-03fb-4cbe-bb3d-4edce160916f\" # hard set Test_Projects"
   ]
  },
  {
   "cell_type": "code",
   "execution_count": 5,
   "id": "1350666b-8109-4633-94e0-2fa7b38c5862",
   "metadata": {
    "execution": {
     "iopub.execute_input": "2024-05-15T14:46:57.999716Z",
     "iopub.status.busy": "2024-05-15T14:46:57.999716Z",
     "iopub.status.idle": "2024-05-15T14:46:58.518964Z",
     "shell.execute_reply": "2024-05-15T14:46:58.517951Z"
    },
    "papermill": {
     "duration": 0.526957,
     "end_time": "2024-05-15T14:46:58.520970",
     "exception": false,
     "start_time": "2024-05-15T14:46:57.994013",
     "status": "completed"
    },
    "tags": []
   },
   "outputs": [
    {
     "data": {
      "text/plain": [
       "[{'@id': '050dbf5b-f690-4494-81ee-18740b88d86c'},\n",
       " {'@id': '4eb3de65-53f4-4d59-aca2-62de8351e81b'},\n",
       " {'@id': 'b5b69f4d-e1d0-4ddc-b514-d54b05d0a3b4'},\n",
       " {'@id': 'ef9e7f30-2fc1-4677-a170-ec7035ed6b0e'},\n",
       " {'@id': '5cb74688-9804-44b1-badb-4f09c5cb861e'}]"
      ]
     },
     "execution_count": 5,
     "metadata": {},
     "output_type": "execute_result"
    }
   ],
   "source": [
    "# Now lets list the models that are withing the selected workspace and place them in a dropbox\n",
    "# Ok... lets continue and list all of the the projects by project UID in this workspace\n",
    "call = f'/osmc/workspaces/{workspaceId}/resources'\n",
    "url = f'https://{serverIp}:{serverPort}{call}'\n",
    "resp_projects = requests.get(url,headers=headers, verify=False) # turn of verification here since our server is not super secure\n",
    "projectsList = resp_projects.json()\n",
    "projectsUidList = projectsList[1]['kerml:resources'] # Let just extract the UIDs for each project\n",
    "projectsUidList"
   ]
  },
  {
   "cell_type": "markdown",
   "id": "cad3a9b1-e45e-4f36-a583-8ee1b7c2bf78",
   "metadata": {
    "papermill": {
     "duration": 0.006001,
     "end_time": "2024-05-15T14:46:58.533888",
     "exception": false,
     "start_time": "2024-05-15T14:46:58.527887",
     "status": "completed"
    },
    "tags": []
   },
   "source": [
    "## So now we can see all of the projects contained in the workspace"
   ]
  },
  {
   "cell_type": "code",
   "execution_count": 6,
   "id": "a6fe0c52-9982-4e2d-859e-cd9ddc7f4026",
   "metadata": {
    "execution": {
     "iopub.execute_input": "2024-05-15T14:46:58.546899Z",
     "iopub.status.busy": "2024-05-15T14:46:58.546899Z",
     "iopub.status.idle": "2024-05-15T14:47:01.160522Z",
     "shell.execute_reply": "2024-05-15T14:47:01.158568Z"
    },
    "papermill": {
     "duration": 2.62263,
     "end_time": "2024-05-15T14:47:01.162512",
     "exception": false,
     "start_time": "2024-05-15T14:46:58.539882",
     "status": "completed"
    },
    "tags": []
   },
   "outputs": [],
   "source": [
    "# Lets loop throug the projects and create a dictionary of the resource (or model) details\n",
    "projectsData = {}\n",
    "for i in range(len(projectsUidList)):\n",
    "    resourceId = projectsUidList[i]['@id'] # select the values for each id in the projectList\n",
    "    call = f'/osmc/workspaces/{workspaceId}/resources/{resourceId}'\n",
    "    url = f'https://{serverIp}:{serverPort}{call}'\n",
    "    resp_projects = requests.get(url,headers=headers, verify=False) # turn of verification here since our server is not super secure\n",
    "    #projectsData = json.dumps(resp_projects.json(), indent=4)\n",
    "    projectsData[i] = resp_projects.json()\n",
    "#print(json.dumps(projectsData, indent=4))"
   ]
  },
  {
   "cell_type": "code",
   "execution_count": 7,
   "id": "230ddde7-297f-47b6-a3bf-cac8be7b75fa",
   "metadata": {
    "execution": {
     "iopub.execute_input": "2024-05-15T14:47:01.177044Z",
     "iopub.status.busy": "2024-05-15T14:47:01.176038Z",
     "iopub.status.idle": "2024-05-15T14:47:01.190761Z",
     "shell.execute_reply": "2024-05-15T14:47:01.190044Z"
    },
    "papermill": {
     "duration": 0.024726,
     "end_time": "2024-05-15T14:47:01.193768",
     "exception": false,
     "start_time": "2024-05-15T14:47:01.169042",
     "status": "completed"
    },
    "tags": []
   },
   "outputs": [
    {
     "data": {
      "application/vnd.jupyter.widget-view+json": {
       "model_id": "ca634de41ea04ed5932c178977b4c536",
       "version_major": 2,
       "version_minor": 0
      },
      "text/plain": [
       "Dropdown(description='Projects:', options=('ADT_Model2', 'TestVerdictKind', 'ADT_Model', 'MacroEngine_Profile'…"
      ]
     },
     "metadata": {},
     "output_type": "display_data"
    }
   ],
   "source": [
    "# lets create a combobox to list the avalible projects (models) in this workspace\n",
    "# Build arrays of the items\n",
    "projectIds = {}\n",
    "projectNames = {}\n",
    "\n",
    "# Lets build a list of workspaces for selection\n",
    "for i in range(len(projectsData)):\n",
    "    projectIds[i] = projectsData[i]['@base'].split(\"/\")[7]\n",
    "    projectNames[i] = projectsData[i]['metadata']['name'].split(\".\")[0]\n",
    "\n",
    "# Now create a dropdown list of the avalible projects\n",
    "prj = widgets.Dropdown(options = projectNames.values(), description = 'Projects:')\n",
    "prj.observe(dropdown_eventhandler, names='value')\n",
    "\n",
    "# Displya the combobox\n",
    "display(prj)"
   ]
  },
  {
   "cell_type": "code",
   "execution_count": 8,
   "id": "200a5f0d-5994-42ea-942e-05a0f8412633",
   "metadata": {
    "execution": {
     "iopub.execute_input": "2024-05-15T14:47:01.205774Z",
     "iopub.status.busy": "2024-05-15T14:47:01.204770Z",
     "iopub.status.idle": "2024-05-15T14:47:01.222767Z",
     "shell.execute_reply": "2024-05-15T14:47:01.221829Z"
    },
    "papermill": {
     "duration": 0.025993,
     "end_time": "2024-05-15T14:47:01.224776",
     "exception": false,
     "start_time": "2024-05-15T14:47:01.198783",
     "status": "completed"
    },
    "tags": []
   },
   "outputs": [],
   "source": [
    "# Lets match up the id from the selected workspace (poor implementation)\n",
    "prjIndex = list(filter(lambda x: projectNames[x] == prj.value, range(len(projectNames))))\n",
    "projectId = projectIds[prjIndex[0]]\n",
    "projectId = \"5cb74688-9804-44b1-badb-4f09c5cb861e\" # hard set VendorA"
   ]
  },
  {
   "cell_type": "code",
   "execution_count": 9,
   "id": "a2b00f38-1ed4-49ca-8d95-1274fea2398f",
   "metadata": {
    "execution": {
     "iopub.execute_input": "2024-05-15T14:47:01.238768Z",
     "iopub.status.busy": "2024-05-15T14:47:01.238768Z",
     "iopub.status.idle": "2024-05-15T14:47:01.786874Z",
     "shell.execute_reply": "2024-05-15T14:47:01.785287Z"
    },
    "papermill": {
     "duration": 0.557183,
     "end_time": "2024-05-15T14:47:01.787957",
     "exception": false,
     "start_time": "2024-05-15T14:47:01.230774",
     "status": "completed"
    },
    "tags": []
   },
   "outputs": [
    {
     "data": {
      "text/plain": [
       "25"
      ]
     },
     "execution_count": 9,
     "metadata": {},
     "output_type": "execute_result"
    }
   ],
   "source": [
    "# Ok so here is the wierd part... there is not direct way to extract the elements of a project (or model)\n",
    "# So we have to perform a 'diff' between the elements of the initial commit and the latest revision. \n",
    "\n",
    "# So lets get the latest revision number (or max revision number)\n",
    "# curl -X GET \"https://18.205.77.131:8111/osmc/workspaces/bb95d8f4-fae4-490c-b764-4f83e3bba4f5/resources/272e28f2-45b7-45cb-a016-800ba747e716/revisions\" -H \"accept: application/json\"\n",
    "call = f'/osmc/workspaces/{workspaceId}/resources/{projectId}/revisions'\n",
    "url = f'https://{serverIp}:{serverPort}{call}'\n",
    "resp_revList = requests.get(url,headers=headers, verify=False) # turn of verification here since our server is not super secure\n",
    "revisionList = resp_revList.json()\n",
    "latestRevision = max(revisionList)\n",
    "latestRevision"
   ]
  },
  {
   "cell_type": "code",
   "execution_count": 10,
   "id": "fbd61a9f-661a-43f6-8f4b-1cdf11214e4b",
   "metadata": {
    "execution": {
     "iopub.execute_input": "2024-05-15T14:47:01.801049Z",
     "iopub.status.busy": "2024-05-15T14:47:01.801049Z",
     "iopub.status.idle": "2024-05-15T14:47:02.383637Z",
     "shell.execute_reply": "2024-05-15T14:47:02.381637Z"
    },
    "papermill": {
     "duration": 0.591756,
     "end_time": "2024-05-15T14:47:02.385715",
     "exception": false,
     "start_time": "2024-05-15T14:47:01.793959",
     "status": "completed"
    },
    "tags": []
   },
   "outputs": [],
   "source": [
    "# Then to get the diff use the following to compair revision 1 to revision max... this is a little wierd... but it works\n",
    "# I tought there would be a 'get' for all elements of a resource??? No... we must ask for the differential between the initial resource and its current version???\n",
    "# curl -X GET \"https://18.205.77.131:8111/osmc/workspaces/bb95d8f4-fae4-490c-b764-4f83e3bba4f5/resources/272e28f2-45b7-45cb-a016-800ba747e716/revisiondiff?source=1&target=44\" -H \"accept: application/json\"\n",
    "sourceRevision = 1\n",
    "targetRevision = latestRevision\n",
    "call = f'/osmc/workspaces/{workspaceId}/resources/{projectId}/revisiondiff?source={sourceRevision}&target={targetRevision}'\n",
    "url = f'https://{serverIp}:{serverPort}{call}'\n",
    "resp_elementList = requests.get(url,headers=headers, verify=False) # turn of verification here since our server is not super secure\n",
    "elementList_json = resp_elementList.json()['added'] # just get the added (availibe items are removed, added, changed, and empty)\n",
    "elementList = json.dumps(elementList_json) # push to flat string\n",
    "elementList = elementList.replace('\"','').replace(\"[\",\"\").replace(\"]\",\"\").replace(\" \",\"\") # remove the sting junk\n",
    "#elementList_json\n",
    "#elementList"
   ]
  },
  {
   "cell_type": "code",
   "execution_count": 11,
   "id": "3a1ff0ab-be19-4c9e-a93b-bccde278f2e1",
   "metadata": {
    "execution": {
     "iopub.execute_input": "2024-05-15T14:47:02.401715Z",
     "iopub.status.busy": "2024-05-15T14:47:02.401715Z",
     "iopub.status.idle": "2024-05-15T14:47:03.188169Z",
     "shell.execute_reply": "2024-05-15T14:47:03.187153Z"
    },
    "papermill": {
     "duration": 0.798434,
     "end_time": "2024-05-15T14:47:03.190153",
     "exception": false,
     "start_time": "2024-05-15T14:47:02.391719",
     "status": "completed"
    },
    "tags": []
   },
   "outputs": [],
   "source": [
    "# OK great.. now we have a list of elements from the selected model\n",
    "# Lets no loop through these elements and build a json file of each elements specific information - This time we post :)\n",
    "# curl -X POST \"https://18.205.77.131:8111/osmc/resources/272e28f2-45b7-45cb-a016-800ba747e716/elements\" -H \"accept: application/ld+json\" -H \"Content-Type: text/plain\" -d \"aa4bdacf-c246-4865-bf50-cc9be2a16f16, 8a2153fc-ba11-4f9c-a2c0-2cb5114f2356 \"\n",
    "call = f'/osmc/resources/{projectId}/elements'\n",
    "url = f'https://{serverIp}:{serverPort}{call}'\n",
    "headers={\"accept\":\"application/ld+json\", \"Content-Type\":\"text/plain\", \"authorization\":f\"Basic {authId}\"}\n",
    "resp_elementListData = requests.post(url,headers=headers, verify=False, data = elementList) # turn of verification here since our server is not super secure\n",
    "elementListData = resp_elementListData.json() # just get the added (availibe items are removed, added, changed, and empty)\n",
    "#elementListData"
   ]
  },
  {
   "cell_type": "code",
   "execution_count": 12,
   "id": "7acc5d6c-590c-4827-b1eb-96bf18e73f79",
   "metadata": {
    "execution": {
     "iopub.execute_input": "2024-05-15T14:47:03.205146Z",
     "iopub.status.busy": "2024-05-15T14:47:03.205146Z",
     "iopub.status.idle": "2024-05-15T14:47:03.220016Z",
     "shell.execute_reply": "2024-05-15T14:47:03.218996Z"
    },
    "papermill": {
     "duration": 0.024953,
     "end_time": "2024-05-15T14:47:03.222099",
     "exception": false,
     "start_time": "2024-05-15T14:47:03.197146",
     "status": "completed"
    },
    "tags": []
   },
   "outputs": [
    {
     "data": {
      "text/plain": [
       "{11: 11, 24: 24, 25: 25, 31: 31}"
      ]
     },
     "execution_count": 12,
     "metadata": {},
     "output_type": "execute_result"
    }
   ],
   "source": [
    "# Lets loop throug the selected projects elemetns and find the index of all literal real values\n",
    "literalRealIndex = {}\n",
    "for i in range(len(elementList_json)): # Where i is the uuid of the element in this case\n",
    "    if elementListData[elementList_json[i]]['data'][0]['@type'] == ['ldp:DirectContainer', 'uml:LiteralReal']:\n",
    "        literalRealIndex[i] = i # Add any key to the index that is a literal real\n",
    "literalRealIndex\n",
    "#elementList_json[4]\n",
    "#elementListData['554e62c4-5bd6-46d5-97cc-900c35c46913']"
   ]
  },
  {
   "cell_type": "code",
   "execution_count": 13,
   "id": "8cc0963a-94bf-4b3c-865f-d619212fad8b",
   "metadata": {
    "execution": {
     "iopub.execute_input": "2024-05-15T14:47:03.235013Z",
     "iopub.status.busy": "2024-05-15T14:47:03.234013Z",
     "iopub.status.idle": "2024-05-15T14:47:03.250552Z",
     "shell.execute_reply": "2024-05-15T14:47:03.249723Z"
    },
    "papermill": {
     "duration": 0.023545,
     "end_time": "2024-05-15T14:47:03.251573",
     "exception": false,
     "start_time": "2024-05-15T14:47:03.228028",
     "status": "completed"
    },
    "tags": []
   },
   "outputs": [
    {
     "data": {
      "text/plain": [
       "{11: ('length', '6.6'),\n",
       " 24: ('height', '4.0'),\n",
       " 25: ('width', '5.0'),\n",
       " 31: ('dateTime', '1.0')}"
      ]
     },
     "execution_count": 13,
     "metadata": {},
     "output_type": "execute_result"
    }
   ],
   "source": [
    "# So this is getting invloved and about here is where recursion starts to rear its ugly head\n",
    "# Lets just get through this for now and we can build a better mouse trap the next round\n",
    "\n",
    "valueCells = {}\n",
    "values = {}\n",
    "elementIds = {}\n",
    "\n",
    "#print(\"Here we can modkify the vendor model values if we like.\")\n",
    "\n",
    "# We can loop through the matched elements and the build widgets to edit them\n",
    "for keys in literalRealIndex:\n",
    "    owenersId = elementListData[elementList_json[keys]]['data'][1]['kerml:owner']['@id']\n",
    "    ownersName = elementListData[owenersId]['data'][1]['kerml:name']\n",
    "    currentValue = elementListData[elementList_json[keys]]['data'][1][\"kerml:esiData\"][\"value\"]\n",
    "    elementIds[keys] = elementList_json[keys]\n",
    "    values[keys] = (ownersName, currentValue)\n",
    "    valueCells[keys] = widgets.Text(description=ownersName, value=currentValue); #display(valueCells[keys])\n",
    "    #print(elementListData[elementList_json[keys]]['data'][1]['kerml:owner']['@id'], elementListData[elementList_json[keys]]['data'][1][\"kerml:esiData\"][\"value\"])    \n",
    "\n",
    "# # Create a button to push for fun :)\n",
    "# btn = widgets.Button(description = \"Update Model Values\")\n",
    "# display(btn)\n",
    "\n",
    "# # This functuon is executed after pushing the button\n",
    "# def updateSystemModelVals(b):\n",
    "#     for cells in valueCells:\n",
    "#         # Create the payload\n",
    "#         dataValue = {\"kerml:esiData\":{\"value\":\"0.0\"}} # Build the data payload\n",
    "#         dataValue[\"kerml:esiData\"][\"value\"] = valueCells[cells].value # Update the json string\n",
    "        \n",
    "#         # Now build the api call\n",
    "#         call = f'/osmc/resources/{projectId}/elements/{elementIds[cells]}'\n",
    "#         url = f'https://{serverIp}:{serverPort}{call}'\n",
    "#         headers={\"accept\":\"application/ld+json\", \"authorization\":f\"Basic {authId}\", \"Content-Type\":\"application/ld+json\"}\n",
    "        \n",
    "#         # Have to add a new header of content type\n",
    "#         resp_value = requests.patch(url, headers = headers, verify = False, json = dataValue) # turn of verification here since our server is not super secure\n",
    "#         print(url)\n",
    "#         resp_value.status_code\n",
    "#         # print(dataValue)\n",
    "#         print(resp_value.content)\n",
    "        \n",
    "# # The button callback\n",
    "# btn.on_click(updateSystemModelVals)\n",
    "values"
   ]
  },
  {
   "cell_type": "code",
   "execution_count": 14,
   "id": "e255095d-9620-4e8e-914f-9803528554df",
   "metadata": {
    "execution": {
     "iopub.execute_input": "2024-05-15T14:47:03.263571Z",
     "iopub.status.busy": "2024-05-15T14:47:03.263571Z",
     "iopub.status.idle": "2024-05-15T14:47:03.282283Z",
     "shell.execute_reply": "2024-05-15T14:47:03.281202Z"
    },
    "papermill": {
     "duration": 0.026732,
     "end_time": "2024-05-15T14:47:03.284302",
     "exception": false,
     "start_time": "2024-05-15T14:47:03.257570",
     "status": "completed"
    },
    "tags": []
   },
   "outputs": [
    {
     "name": "stdout",
     "output_type": "stream",
     "text": [
      "  Description Value\n",
      "0      length   6.6\n",
      "1      height   4.0\n",
      "2       width   5.0\n",
      "3    dateTime   1.0\n"
     ]
    }
   ],
   "source": [
    "# Creating a list of dictionaries, each containing the description and value\n",
    "data = [{'Description': desc_value[0], 'Value': desc_value[1]} for desc_value in values.values()]\n",
    "\n",
    "# Creating a DataFrame from the list of dictionaries\n",
    "df = pd.DataFrame(data)\n",
    "\n",
    "# Display the DataFrame\n",
    "print(df)"
   ]
  },
  {
   "cell_type": "code",
   "execution_count": 15,
   "id": "89ff243c-ee9c-44c1-ac3d-6b0eb35662d4",
   "metadata": {
    "execution": {
     "iopub.execute_input": "2024-05-15T14:47:03.296213Z",
     "iopub.status.busy": "2024-05-15T14:47:03.296213Z",
     "iopub.status.idle": "2024-05-15T14:47:03.313644Z",
     "shell.execute_reply": "2024-05-15T14:47:03.311641Z"
    },
    "papermill": {
     "duration": 0.026448,
     "end_time": "2024-05-15T14:47:03.315715",
     "exception": false,
     "start_time": "2024-05-15T14:47:03.289267",
     "status": "completed"
    },
    "tags": []
   },
   "outputs": [
    {
     "name": "stdout",
     "output_type": "stream",
     "text": [
      "Value of width: 5.0\n"
     ]
    }
   ],
   "source": [
    "value_of_width = df[df['Description'] == 'width']['Value'].iloc[0]\n",
    "print(\"Value of width:\", value_of_width)"
   ]
  },
  {
   "cell_type": "code",
   "execution_count": 16,
   "id": "63906ed1-df56-4c92-8fa0-1ab28fc367e2",
   "metadata": {
    "execution": {
     "iopub.execute_input": "2024-05-15T14:47:03.329712Z",
     "iopub.status.busy": "2024-05-15T14:47:03.329712Z",
     "iopub.status.idle": "2024-05-15T14:47:03.345090Z",
     "shell.execute_reply": "2024-05-15T14:47:03.343062Z"
    },
    "papermill": {
     "duration": 0.024396,
     "end_time": "2024-05-15T14:47:03.347090",
     "exception": false,
     "start_time": "2024-05-15T14:47:03.322694",
     "status": "completed"
    },
    "tags": []
   },
   "outputs": [
    {
     "name": "stdout",
     "output_type": "stream",
     "text": [
      "length: 6.6\n",
      "height: 4.0\n",
      "width: 5.0\n",
      "dateTime: 1.0\n"
     ]
    }
   ],
   "source": [
    "for index, row in df.iterrows():\n",
    "    print(f\"{row['Description']}: {row['Value']}\")"
   ]
  },
  {
   "cell_type": "markdown",
   "id": "f08d1a0c-88a8-42a3-a73d-771419e75686",
   "metadata": {
    "papermill": {
     "duration": 0.006167,
     "end_time": "2024-05-15T14:47:03.358255",
     "exception": false,
     "start_time": "2024-05-15T14:47:03.352088",
     "status": "completed"
    },
    "tags": []
   },
   "source": [
    "## Notes:\n",
    "- We are not using FQNs and this is an artifact of SysMLV1.x (intrinsic in v2)\n",
    "- Here we have three  attributes of the VendorA model\n",
    "- Now lets push these to the ADT model and solve for the volume\n",
    "- In the next version we can pull/push from instances which again are not fun in V1.x due to the slots not haveing names just owners so we have to drill down a little further. I have this completed as a part of the Dassault model last year. "
   ]
  },
  {
   "cell_type": "code",
   "execution_count": 17,
   "id": "fa5e1c26-e850-4844-a147-cea88fae18e1",
   "metadata": {
    "execution": {
     "iopub.execute_input": "2024-05-15T14:47:03.369556Z",
     "iopub.status.busy": "2024-05-15T14:47:03.369556Z",
     "iopub.status.idle": "2024-05-15T14:47:03.390508Z",
     "shell.execute_reply": "2024-05-15T14:47:03.389172Z"
    },
    "papermill": {
     "duration": 0.028313,
     "end_time": "2024-05-15T14:47:03.391565",
     "exception": false,
     "start_time": "2024-05-15T14:47:03.363252",
     "status": "completed"
    },
    "tags": []
   },
   "outputs": [],
   "source": [
    "# Lets write the data to a file that will be used to update the ADT Model\n",
    "#df.to_json('vendorA.json', orient='records', lines=True)\n",
    "df.to_json('vendorA.json', orient='records')"
   ]
  }
 ],
 "metadata": {
  "kernelspec": {
   "display_name": "Python 3 (ipykernel)",
   "language": "python",
   "name": "python3"
  },
  "language_info": {
   "codemirror_mode": {
    "name": "ipython",
    "version": 3
   },
   "file_extension": ".py",
   "mimetype": "text/x-python",
   "name": "python",
   "nbconvert_exporter": "python",
   "pygments_lexer": "ipython3",
   "version": "3.10.14"
  },
  "papermill": {
   "default_parameters": {},
   "duration": 8.630329,
   "end_time": "2024-05-15T14:47:03.646879",
   "environment_variables": {},
   "exception": null,
   "input_path": "C:\\Users\\JohnDeHart\\Documents\\GitHub\\Notebooks\\twc_interactions\\pull_vendor_api.ipynb",
   "output_path": "C:\\Users\\JohnDeHart\\Documents\\GitHub\\Notebooks\\twc_interactions\\pull_vendor_api.ipynb",
   "parameters": {},
   "start_time": "2024-05-15T14:46:55.016550",
   "version": "2.6.0"
  },
  "widgets": {
   "application/vnd.jupyter.widget-state+json": {
    "state": {
     "0dde9ecaa61c4dabadffd869fe8eb688": {
      "model_module": "@jupyter-widgets/controls",
      "model_module_version": "2.0.0",
      "model_name": "TextStyleModel",
      "state": {
       "_model_module": "@jupyter-widgets/controls",
       "_model_module_version": "2.0.0",
       "_model_name": "TextStyleModel",
       "_view_count": null,
       "_view_module": "@jupyter-widgets/base",
       "_view_module_version": "2.0.0",
       "_view_name": "StyleView",
       "background": null,
       "description_width": "",
       "font_size": null,
       "text_color": null
      }
     },
     "37fea2b7aca14845ab9d3d8bd01eb661": {
      "model_module": "@jupyter-widgets/controls",
      "model_module_version": "2.0.0",
      "model_name": "TextStyleModel",
      "state": {
       "_model_module": "@jupyter-widgets/controls",
       "_model_module_version": "2.0.0",
       "_model_name": "TextStyleModel",
       "_view_count": null,
       "_view_module": "@jupyter-widgets/base",
       "_view_module_version": "2.0.0",
       "_view_name": "StyleView",
       "background": null,
       "description_width": "",
       "font_size": null,
       "text_color": null
      }
     },
     "39c82891b98d481aaa2f1a9737427895": {
      "model_module": "@jupyter-widgets/controls",
      "model_module_version": "2.0.0",
      "model_name": "DescriptionStyleModel",
      "state": {
       "_model_module": "@jupyter-widgets/controls",
       "_model_module_version": "2.0.0",
       "_model_name": "DescriptionStyleModel",
       "_view_count": null,
       "_view_module": "@jupyter-widgets/base",
       "_view_module_version": "2.0.0",
       "_view_name": "StyleView",
       "description_width": ""
      }
     },
     "40bc2277fdcc47458272da8f7c49bc55": {
      "model_module": "@jupyter-widgets/controls",
      "model_module_version": "2.0.0",
      "model_name": "TextModel",
      "state": {
       "_dom_classes": [],
       "_model_module": "@jupyter-widgets/controls",
       "_model_module_version": "2.0.0",
       "_model_name": "TextModel",
       "_view_count": null,
       "_view_module": "@jupyter-widgets/controls",
       "_view_module_version": "2.0.0",
       "_view_name": "TextView",
       "continuous_update": true,
       "description": "length",
       "description_allow_html": false,
       "disabled": false,
       "layout": "IPY_MODEL_bb1f691ad9554e6ea5b3afee0433e76f",
       "placeholder": "​",
       "style": "IPY_MODEL_37fea2b7aca14845ab9d3d8bd01eb661",
       "tabbable": null,
       "tooltip": null,
       "value": "6.6"
      }
     },
     "52e217620ca04512996cfd2562b8ad47": {
      "model_module": "@jupyter-widgets/controls",
      "model_module_version": "2.0.0",
      "model_name": "DropdownModel",
      "state": {
       "_dom_classes": [],
       "_model_module": "@jupyter-widgets/controls",
       "_model_module_version": "2.0.0",
       "_model_name": "DropdownModel",
       "_options_labels": [
        "ADT_Projects",
        "Test_Projects",
        "Project_Templates",
        "Uncategorized"
       ],
       "_view_count": null,
       "_view_module": "@jupyter-widgets/controls",
       "_view_module_version": "2.0.0",
       "_view_name": "DropdownView",
       "description": "Workspaces:",
       "description_allow_html": false,
       "disabled": false,
       "index": 0,
       "layout": "IPY_MODEL_83453d0ea9c34c5594769d8850a9ec05",
       "style": "IPY_MODEL_8aab2bae9df34a9b9682028be2dd54e8",
       "tabbable": null,
       "tooltip": null
      }
     },
     "83453d0ea9c34c5594769d8850a9ec05": {
      "model_module": "@jupyter-widgets/base",
      "model_module_version": "2.0.0",
      "model_name": "LayoutModel",
      "state": {
       "_model_module": "@jupyter-widgets/base",
       "_model_module_version": "2.0.0",
       "_model_name": "LayoutModel",
       "_view_count": null,
       "_view_module": "@jupyter-widgets/base",
       "_view_module_version": "2.0.0",
       "_view_name": "LayoutView",
       "align_content": null,
       "align_items": null,
       "align_self": null,
       "border_bottom": null,
       "border_left": null,
       "border_right": null,
       "border_top": null,
       "bottom": null,
       "display": null,
       "flex": null,
       "flex_flow": null,
       "grid_area": null,
       "grid_auto_columns": null,
       "grid_auto_flow": null,
       "grid_auto_rows": null,
       "grid_column": null,
       "grid_gap": null,
       "grid_row": null,
       "grid_template_areas": null,
       "grid_template_columns": null,
       "grid_template_rows": null,
       "height": null,
       "justify_content": null,
       "justify_items": null,
       "left": null,
       "margin": null,
       "max_height": null,
       "max_width": null,
       "min_height": null,
       "min_width": null,
       "object_fit": null,
       "object_position": null,
       "order": null,
       "overflow": null,
       "padding": null,
       "right": null,
       "top": null,
       "visibility": null,
       "width": null
      }
     },
     "83995fbe8df248c4a185270707509253": {
      "model_module": "@jupyter-widgets/controls",
      "model_module_version": "2.0.0",
      "model_name": "TextStyleModel",
      "state": {
       "_model_module": "@jupyter-widgets/controls",
       "_model_module_version": "2.0.0",
       "_model_name": "TextStyleModel",
       "_view_count": null,
       "_view_module": "@jupyter-widgets/base",
       "_view_module_version": "2.0.0",
       "_view_name": "StyleView",
       "background": null,
       "description_width": "",
       "font_size": null,
       "text_color": null
      }
     },
     "8aab2bae9df34a9b9682028be2dd54e8": {
      "model_module": "@jupyter-widgets/controls",
      "model_module_version": "2.0.0",
      "model_name": "DescriptionStyleModel",
      "state": {
       "_model_module": "@jupyter-widgets/controls",
       "_model_module_version": "2.0.0",
       "_model_name": "DescriptionStyleModel",
       "_view_count": null,
       "_view_module": "@jupyter-widgets/base",
       "_view_module_version": "2.0.0",
       "_view_name": "StyleView",
       "description_width": ""
      }
     },
     "9163038333fc4752b8b3304ba83a4e38": {
      "model_module": "@jupyter-widgets/base",
      "model_module_version": "2.0.0",
      "model_name": "LayoutModel",
      "state": {
       "_model_module": "@jupyter-widgets/base",
       "_model_module_version": "2.0.0",
       "_model_name": "LayoutModel",
       "_view_count": null,
       "_view_module": "@jupyter-widgets/base",
       "_view_module_version": "2.0.0",
       "_view_name": "LayoutView",
       "align_content": null,
       "align_items": null,
       "align_self": null,
       "border_bottom": null,
       "border_left": null,
       "border_right": null,
       "border_top": null,
       "bottom": null,
       "display": null,
       "flex": null,
       "flex_flow": null,
       "grid_area": null,
       "grid_auto_columns": null,
       "grid_auto_flow": null,
       "grid_auto_rows": null,
       "grid_column": null,
       "grid_gap": null,
       "grid_row": null,
       "grid_template_areas": null,
       "grid_template_columns": null,
       "grid_template_rows": null,
       "height": null,
       "justify_content": null,
       "justify_items": null,
       "left": null,
       "margin": null,
       "max_height": null,
       "max_width": null,
       "min_height": null,
       "min_width": null,
       "object_fit": null,
       "object_position": null,
       "order": null,
       "overflow": null,
       "padding": null,
       "right": null,
       "top": null,
       "visibility": null,
       "width": null
      }
     },
     "ac7765d07faa4855ac15cb6151f2ca2a": {
      "model_module": "@jupyter-widgets/controls",
      "model_module_version": "2.0.0",
      "model_name": "TextStyleModel",
      "state": {
       "_model_module": "@jupyter-widgets/controls",
       "_model_module_version": "2.0.0",
       "_model_name": "TextStyleModel",
       "_view_count": null,
       "_view_module": "@jupyter-widgets/base",
       "_view_module_version": "2.0.0",
       "_view_name": "StyleView",
       "background": null,
       "description_width": "",
       "font_size": null,
       "text_color": null
      }
     },
     "b7585bc5a73b43b6bdcde63dc301cbb5": {
      "model_module": "@jupyter-widgets/base",
      "model_module_version": "2.0.0",
      "model_name": "LayoutModel",
      "state": {
       "_model_module": "@jupyter-widgets/base",
       "_model_module_version": "2.0.0",
       "_model_name": "LayoutModel",
       "_view_count": null,
       "_view_module": "@jupyter-widgets/base",
       "_view_module_version": "2.0.0",
       "_view_name": "LayoutView",
       "align_content": null,
       "align_items": null,
       "align_self": null,
       "border_bottom": null,
       "border_left": null,
       "border_right": null,
       "border_top": null,
       "bottom": null,
       "display": null,
       "flex": null,
       "flex_flow": null,
       "grid_area": null,
       "grid_auto_columns": null,
       "grid_auto_flow": null,
       "grid_auto_rows": null,
       "grid_column": null,
       "grid_gap": null,
       "grid_row": null,
       "grid_template_areas": null,
       "grid_template_columns": null,
       "grid_template_rows": null,
       "height": null,
       "justify_content": null,
       "justify_items": null,
       "left": null,
       "margin": null,
       "max_height": null,
       "max_width": null,
       "min_height": null,
       "min_width": null,
       "object_fit": null,
       "object_position": null,
       "order": null,
       "overflow": null,
       "padding": null,
       "right": null,
       "top": null,
       "visibility": null,
       "width": null
      }
     },
     "bb1f691ad9554e6ea5b3afee0433e76f": {
      "model_module": "@jupyter-widgets/base",
      "model_module_version": "2.0.0",
      "model_name": "LayoutModel",
      "state": {
       "_model_module": "@jupyter-widgets/base",
       "_model_module_version": "2.0.0",
       "_model_name": "LayoutModel",
       "_view_count": null,
       "_view_module": "@jupyter-widgets/base",
       "_view_module_version": "2.0.0",
       "_view_name": "LayoutView",
       "align_content": null,
       "align_items": null,
       "align_self": null,
       "border_bottom": null,
       "border_left": null,
       "border_right": null,
       "border_top": null,
       "bottom": null,
       "display": null,
       "flex": null,
       "flex_flow": null,
       "grid_area": null,
       "grid_auto_columns": null,
       "grid_auto_flow": null,
       "grid_auto_rows": null,
       "grid_column": null,
       "grid_gap": null,
       "grid_row": null,
       "grid_template_areas": null,
       "grid_template_columns": null,
       "grid_template_rows": null,
       "height": null,
       "justify_content": null,
       "justify_items": null,
       "left": null,
       "margin": null,
       "max_height": null,
       "max_width": null,
       "min_height": null,
       "min_width": null,
       "object_fit": null,
       "object_position": null,
       "order": null,
       "overflow": null,
       "padding": null,
       "right": null,
       "top": null,
       "visibility": null,
       "width": null
      }
     },
     "c22f4368c734435f92abc4d52a3099bc": {
      "model_module": "@jupyter-widgets/controls",
      "model_module_version": "2.0.0",
      "model_name": "TextModel",
      "state": {
       "_dom_classes": [],
       "_model_module": "@jupyter-widgets/controls",
       "_model_module_version": "2.0.0",
       "_model_name": "TextModel",
       "_view_count": null,
       "_view_module": "@jupyter-widgets/controls",
       "_view_module_version": "2.0.0",
       "_view_name": "TextView",
       "continuous_update": true,
       "description": "width",
       "description_allow_html": false,
       "disabled": false,
       "layout": "IPY_MODEL_9163038333fc4752b8b3304ba83a4e38",
       "placeholder": "​",
       "style": "IPY_MODEL_ac7765d07faa4855ac15cb6151f2ca2a",
       "tabbable": null,
       "tooltip": null,
       "value": "5.0"
      }
     },
     "c4c4a568f4434736bc52b6e630d4bce7": {
      "model_module": "@jupyter-widgets/base",
      "model_module_version": "2.0.0",
      "model_name": "LayoutModel",
      "state": {
       "_model_module": "@jupyter-widgets/base",
       "_model_module_version": "2.0.0",
       "_model_name": "LayoutModel",
       "_view_count": null,
       "_view_module": "@jupyter-widgets/base",
       "_view_module_version": "2.0.0",
       "_view_name": "LayoutView",
       "align_content": null,
       "align_items": null,
       "align_self": null,
       "border_bottom": null,
       "border_left": null,
       "border_right": null,
       "border_top": null,
       "bottom": null,
       "display": null,
       "flex": null,
       "flex_flow": null,
       "grid_area": null,
       "grid_auto_columns": null,
       "grid_auto_flow": null,
       "grid_auto_rows": null,
       "grid_column": null,
       "grid_gap": null,
       "grid_row": null,
       "grid_template_areas": null,
       "grid_template_columns": null,
       "grid_template_rows": null,
       "height": null,
       "justify_content": null,
       "justify_items": null,
       "left": null,
       "margin": null,
       "max_height": null,
       "max_width": null,
       "min_height": null,
       "min_width": null,
       "object_fit": null,
       "object_position": null,
       "order": null,
       "overflow": null,
       "padding": null,
       "right": null,
       "top": null,
       "visibility": null,
       "width": null
      }
     },
     "ca634de41ea04ed5932c178977b4c536": {
      "model_module": "@jupyter-widgets/controls",
      "model_module_version": "2.0.0",
      "model_name": "DropdownModel",
      "state": {
       "_dom_classes": [],
       "_model_module": "@jupyter-widgets/controls",
       "_model_module_version": "2.0.0",
       "_model_name": "DropdownModel",
       "_options_labels": [
        "ADT_Model2",
        "TestVerdictKind",
        "ADT_Model",
        "MacroEngine_Profile",
        "VendorA"
       ],
       "_view_count": null,
       "_view_module": "@jupyter-widgets/controls",
       "_view_module_version": "2.0.0",
       "_view_name": "DropdownView",
       "description": "Projects:",
       "description_allow_html": false,
       "disabled": false,
       "index": 0,
       "layout": "IPY_MODEL_c4c4a568f4434736bc52b6e630d4bce7",
       "style": "IPY_MODEL_39c82891b98d481aaa2f1a9737427895",
       "tabbable": null,
       "tooltip": null
      }
     },
     "cb74a784ae164182be3e6573d5300ca0": {
      "model_module": "@jupyter-widgets/controls",
      "model_module_version": "2.0.0",
      "model_name": "TextModel",
      "state": {
       "_dom_classes": [],
       "_model_module": "@jupyter-widgets/controls",
       "_model_module_version": "2.0.0",
       "_model_name": "TextModel",
       "_view_count": null,
       "_view_module": "@jupyter-widgets/controls",
       "_view_module_version": "2.0.0",
       "_view_name": "TextView",
       "continuous_update": true,
       "description": "dateTime",
       "description_allow_html": false,
       "disabled": false,
       "layout": "IPY_MODEL_fadd25985ff64bdfa7de9cd0a096912f",
       "placeholder": "​",
       "style": "IPY_MODEL_0dde9ecaa61c4dabadffd869fe8eb688",
       "tabbable": null,
       "tooltip": null,
       "value": "1.0"
      }
     },
     "d72f6375481e436a8439b95589e70a60": {
      "model_module": "@jupyter-widgets/controls",
      "model_module_version": "2.0.0",
      "model_name": "TextModel",
      "state": {
       "_dom_classes": [],
       "_model_module": "@jupyter-widgets/controls",
       "_model_module_version": "2.0.0",
       "_model_name": "TextModel",
       "_view_count": null,
       "_view_module": "@jupyter-widgets/controls",
       "_view_module_version": "2.0.0",
       "_view_name": "TextView",
       "continuous_update": true,
       "description": "height",
       "description_allow_html": false,
       "disabled": false,
       "layout": "IPY_MODEL_b7585bc5a73b43b6bdcde63dc301cbb5",
       "placeholder": "​",
       "style": "IPY_MODEL_83995fbe8df248c4a185270707509253",
       "tabbable": null,
       "tooltip": null,
       "value": "4.0"
      }
     },
     "fadd25985ff64bdfa7de9cd0a096912f": {
      "model_module": "@jupyter-widgets/base",
      "model_module_version": "2.0.0",
      "model_name": "LayoutModel",
      "state": {
       "_model_module": "@jupyter-widgets/base",
       "_model_module_version": "2.0.0",
       "_model_name": "LayoutModel",
       "_view_count": null,
       "_view_module": "@jupyter-widgets/base",
       "_view_module_version": "2.0.0",
       "_view_name": "LayoutView",
       "align_content": null,
       "align_items": null,
       "align_self": null,
       "border_bottom": null,
       "border_left": null,
       "border_right": null,
       "border_top": null,
       "bottom": null,
       "display": null,
       "flex": null,
       "flex_flow": null,
       "grid_area": null,
       "grid_auto_columns": null,
       "grid_auto_flow": null,
       "grid_auto_rows": null,
       "grid_column": null,
       "grid_gap": null,
       "grid_row": null,
       "grid_template_areas": null,
       "grid_template_columns": null,
       "grid_template_rows": null,
       "height": null,
       "justify_content": null,
       "justify_items": null,
       "left": null,
       "margin": null,
       "max_height": null,
       "max_width": null,
       "min_height": null,
       "min_width": null,
       "object_fit": null,
       "object_position": null,
       "order": null,
       "overflow": null,
       "padding": null,
       "right": null,
       "top": null,
       "visibility": null,
       "width": null
      }
     }
    },
    "version_major": 2,
    "version_minor": 0
   }
  }
 },
 "nbformat": 4,
 "nbformat_minor": 5
}