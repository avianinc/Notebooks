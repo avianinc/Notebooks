{
 "cells": [
  {
   "cell_type": "markdown",
   "id": "84c1130b-00ac-4bf5-adc2-6440992818c3",
   "metadata": {
    "papermill": {
     "duration": 0.007508,
     "end_time": "2024-05-13T19:50:37.208364",
     "exception": false,
     "start_time": "2024-05-13T19:50:37.200856",
     "status": "completed"
    },
    "tags": []
   },
   "source": [
    "## API Interaction - Pull Vendor Model\n",
    "In this example we log into a remote teamworkcloud instance and retrieve all literal reals descriptions and values.\n",
    "\n",
    "Steps:\n",
    "1. Login to the TWC API Server\n",
    "2. Retrieve a list of the workspaces (called categories in the TWC GUI)\n",
    "3. Select the workspace to retrieve a list of projects\n",
    "4. Retrieve a list project from the defined workspace\n",
    "5. Select a project to retrieve all elements (in memory json file)\n",
    "6. Loop though the json file and retrieve the index of any Literal Real (['ldp:DirectContainer', 'uml:LiteralReal'])\n",
    "7. Convert the list to a Description:Value dataframe\n",
    "8. Write the dataframe to a file"
   ]
  },
  {
   "cell_type": "code",
   "execution_count": 1,
   "id": "4af5975a-9e49-419c-9f74-98dd6dd7dea6",
   "metadata": {
    "execution": {
     "iopub.execute_input": "2024-05-13T19:50:37.226570Z",
     "iopub.status.busy": "2024-05-13T19:50:37.226570Z",
     "iopub.status.idle": "2024-05-13T19:50:37.858507Z",
     "shell.execute_reply": "2024-05-13T19:50:37.857498Z"
    },
    "papermill": {
     "duration": 0.645143,
     "end_time": "2024-05-13T19:50:37.858507",
     "exception": false,
     "start_time": "2024-05-13T19:50:37.213364",
     "status": "completed"
    },
    "tags": []
   },
   "outputs": [],
   "source": [
    "# A little set up\n",
    "import json\n",
    "import requests # performs the curl function in python\n",
    "import ipywidgets as widgets\n",
    "from ipywidgets import Dropdown\n",
    "from IPython.display import display\n",
    "import pandas as pd\n",
    "\n",
    "import warnings\n",
    "warnings.filterwarnings('ignore')\n",
    "\n",
    "import time\n",
    "from anytree import Node, RenderTree"
   ]
  },
  {
   "cell_type": "code",
   "execution_count": 2,
   "id": "0edc622a-953e-4400-aab7-686add9ef200",
   "metadata": {
    "execution": {
     "iopub.execute_input": "2024-05-13T19:50:37.874582Z",
     "iopub.status.busy": "2024-05-13T19:50:37.873576Z",
     "iopub.status.idle": "2024-05-13T19:50:38.403549Z",
     "shell.execute_reply": "2024-05-13T19:50:38.403549Z"
    },
    "papermill": {
     "duration": 0.540045,
     "end_time": "2024-05-13T19:50:38.403549",
     "exception": false,
     "start_time": "2024-05-13T19:50:37.863504",
     "status": "completed"
    },
    "tags": []
   },
   "outputs": [],
   "source": [
    "# Lets get a list of workspaces from the teamworkcloud server\n",
    "# API --> https://18.205.77.131:8111/osmc/swagger/?url=https%3A%2F%2F18.205.77.131%3A8111%2Fosmc%2Fmanual\n",
    "#serverIp = '18.205.77.131' # Avian server\n",
    "serverIp = '10.107.1.92' # ADT MA server\n",
    "serverPort = '8111'\n",
    "call = '/osmc/workspaces?includeBody=True'\n",
    "# authId = \"amRlaGFydDpqa2QyMjE0MDA=\" # avian id\n",
    "authId = \"amRlaGFydDpSemhlZ3hoQ1RoWmY=\" # ADT MA ID\n",
    "url = f'https://{serverIp}:{serverPort}{call}'\n",
    "headers={\"accept\":\"application/ld+json\",\"authorization\":f\"Basic {authId}\"}\n",
    "resp_ws = requests.get(url,headers=headers, verify=False) # turn of verification here since our server is not super secure\n",
    "workspaces = resp_ws.json() # Convert the response content to a json format\n",
    "#print(json.dumps(workspaces, indent=4))"
   ]
  },
  {
   "cell_type": "code",
   "execution_count": 3,
   "id": "987ff411-4b07-4894-b2a8-95e74dc71d1a",
   "metadata": {
    "execution": {
     "iopub.execute_input": "2024-05-13T19:50:38.424610Z",
     "iopub.status.busy": "2024-05-13T19:50:38.423606Z",
     "iopub.status.idle": "2024-05-13T19:50:38.434135Z",
     "shell.execute_reply": "2024-05-13T19:50:38.434135Z"
    },
    "papermill": {
     "duration": 0.02506,
     "end_time": "2024-05-13T19:50:38.434135",
     "exception": false,
     "start_time": "2024-05-13T19:50:38.409075",
     "status": "completed"
    },
    "tags": []
   },
   "outputs": [
    {
     "data": {
      "application/vnd.jupyter.widget-view+json": {
       "model_id": "5dd1ec24e1124c929561698e0ee0e53f",
       "version_major": 2,
       "version_minor": 0
      },
      "text/plain": [
       "Dropdown(description='Workspaces:', options=('ADT_Projects', 'Test_Projects', 'Project_Templates', 'Uncategori…"
      ]
     },
     "metadata": {},
     "output_type": "display_data"
    }
   ],
   "source": [
    "# lets create a combobox to list the avalible workspaces\n",
    "# Build arrays of the items\n",
    "workspaceIds = {}\n",
    "workspaceNames = {}\n",
    "\n",
    "# Lets build a list of workspaces for selection\n",
    "for i in range(len(workspaces[\"ldp:contains\"])):\n",
    "    workspaceIds[i] = workspaces[\"ldp:contains\"][i][0]['@id']\n",
    "    workspaceNames[i] = workspaces[\"ldp:contains\"][i][1][\"dcterms:title\"]\n",
    "\n",
    "# Fuction to monitor change of dropdown\n",
    "def dropdown_eventhandler(change):\n",
    "    print(change.new) # Write the selected item to the log\n",
    "\n",
    "# Now create a dropdown list of the avalible workspaces\n",
    "ws = widgets.Dropdown(options = workspaceNames.values(), description = 'Workspaces:')\n",
    "ws.observe(dropdown_eventhandler, names='value')\n",
    "\n",
    "# Displya the combobox\n",
    "display(ws)"
   ]
  },
  {
   "cell_type": "code",
   "execution_count": 4,
   "id": "4331c729-96fe-4b63-8d65-028a63adb28f",
   "metadata": {
    "execution": {
     "iopub.execute_input": "2024-05-13T19:50:38.452203Z",
     "iopub.status.busy": "2024-05-13T19:50:38.452203Z",
     "iopub.status.idle": "2024-05-13T19:50:38.466338Z",
     "shell.execute_reply": "2024-05-13T19:50:38.466338Z"
    },
    "papermill": {
     "duration": 0.025674,
     "end_time": "2024-05-13T19:50:38.466338",
     "exception": false,
     "start_time": "2024-05-13T19:50:38.440664",
     "status": "completed"
    },
    "tags": []
   },
   "outputs": [],
   "source": [
    "# Lets match up the id from the selected workspace (poor implementation)\n",
    "wsIndex = list(filter(lambda x: workspaceNames[x] == ws.value, range(len(workspaceNames))))\n",
    "workspaceId = workspaceIds[wsIndex[0]]\n",
    "workspaceId = \"a2bf1c2f-03fb-4cbe-bb3d-4edce160916f\" # hard set Test_Projects"
   ]
  },
  {
   "cell_type": "code",
   "execution_count": 5,
   "id": "1350666b-8109-4633-94e0-2fa7b38c5862",
   "metadata": {
    "execution": {
     "iopub.execute_input": "2024-05-13T19:50:38.483871Z",
     "iopub.status.busy": "2024-05-13T19:50:38.482871Z",
     "iopub.status.idle": "2024-05-13T19:50:39.013481Z",
     "shell.execute_reply": "2024-05-13T19:50:39.013481Z"
    },
    "papermill": {
     "duration": 0.54113,
     "end_time": "2024-05-13T19:50:39.013481",
     "exception": false,
     "start_time": "2024-05-13T19:50:38.472351",
     "status": "completed"
    },
    "tags": []
   },
   "outputs": [
    {
     "data": {
      "text/plain": [
       "[{'@id': '5cb74688-9804-44b1-badb-4f09c5cb861e'},\n",
       " {'@id': 'b5b69f4d-e1d0-4ddc-b514-d54b05d0a3b4'},\n",
       " {'@id': '4eb3de65-53f4-4d59-aca2-62de8351e81b'}]"
      ]
     },
     "execution_count": 5,
     "metadata": {},
     "output_type": "execute_result"
    }
   ],
   "source": [
    "# Now lets list the models that are withing the selected workspace and place them in a dropbox\n",
    "# Ok... lets continue and list all of the the projects by project UID in this workspace\n",
    "call = f'/osmc/workspaces/{workspaceId}/resources'\n",
    "url = f'https://{serverIp}:{serverPort}{call}'\n",
    "resp_projects = requests.get(url,headers=headers, verify=False) # turn of verification here since our server is not super secure\n",
    "projectsList = resp_projects.json()\n",
    "projectsUidList = projectsList[1]['kerml:resources'] # Let just extract the UIDs for each project\n",
    "projectsUidList"
   ]
  },
  {
   "cell_type": "markdown",
   "id": "cad3a9b1-e45e-4f36-a583-8ee1b7c2bf78",
   "metadata": {
    "papermill": {
     "duration": 0.006512,
     "end_time": "2024-05-13T19:50:39.026526",
     "exception": false,
     "start_time": "2024-05-13T19:50:39.020014",
     "status": "completed"
    },
    "tags": []
   },
   "source": [
    "## So now we can see all of the projects contained in the workspace"
   ]
  },
  {
   "cell_type": "code",
   "execution_count": 6,
   "id": "a6fe0c52-9982-4e2d-859e-cd9ddc7f4026",
   "metadata": {
    "execution": {
     "iopub.execute_input": "2024-05-13T19:50:39.049565Z",
     "iopub.status.busy": "2024-05-13T19:50:39.048569Z",
     "iopub.status.idle": "2024-05-13T19:50:40.581831Z",
     "shell.execute_reply": "2024-05-13T19:50:40.581831Z"
    },
    "papermill": {
     "duration": 1.547309,
     "end_time": "2024-05-13T19:50:40.582831",
     "exception": false,
     "start_time": "2024-05-13T19:50:39.035522",
     "status": "completed"
    },
    "tags": []
   },
   "outputs": [],
   "source": [
    "# Lets loop throug the projects and create a dictionary of the resource (or model) details\n",
    "projectsData = {}\n",
    "for i in range(len(projectsUidList)):\n",
    "    resourceId = projectsUidList[i]['@id'] # select the values for each id in the projectList\n",
    "    call = f'/osmc/workspaces/{workspaceId}/resources/{resourceId}'\n",
    "    url = f'https://{serverIp}:{serverPort}{call}'\n",
    "    resp_projects = requests.get(url,headers=headers, verify=False) # turn of verification here since our server is not super secure\n",
    "    #projectsData = json.dumps(resp_projects.json(), indent=4)\n",
    "    projectsData[i] = resp_projects.json()\n",
    "#print(json.dumps(projectsData, indent=4))"
   ]
  },
  {
   "cell_type": "code",
   "execution_count": 7,
   "id": "230ddde7-297f-47b6-a3bf-cac8be7b75fa",
   "metadata": {
    "execution": {
     "iopub.execute_input": "2024-05-13T19:50:40.608387Z",
     "iopub.status.busy": "2024-05-13T19:50:40.607383Z",
     "iopub.status.idle": "2024-05-13T19:50:40.629794Z",
     "shell.execute_reply": "2024-05-13T19:50:40.628795Z"
    },
    "papermill": {
     "duration": 0.036444,
     "end_time": "2024-05-13T19:50:40.629794",
     "exception": false,
     "start_time": "2024-05-13T19:50:40.593350",
     "status": "completed"
    },
    "tags": []
   },
   "outputs": [
    {
     "data": {
      "application/vnd.jupyter.widget-view+json": {
       "model_id": "b296b9ade5e340ab922c884e696183d1",
       "version_major": 2,
       "version_minor": 0
      },
      "text/plain": [
       "Dropdown(description='Projects:', options=('VendorA', 'ADT_Model', 'TestVerdictKind'), value='VendorA')"
      ]
     },
     "metadata": {},
     "output_type": "display_data"
    }
   ],
   "source": [
    "# lets create a combobox to list the avalible projects (models) in this workspace\n",
    "# Build arrays of the items\n",
    "projectIds = {}\n",
    "projectNames = {}\n",
    "\n",
    "# Lets build a list of workspaces for selection\n",
    "for i in range(len(projectsData)):\n",
    "    projectIds[i] = projectsData[i]['@base'].split(\"/\")[7]\n",
    "    projectNames[i] = projectsData[i]['metadata']['name'].split(\".\")[0]\n",
    "\n",
    "# Now create a dropdown list of the avalible projects\n",
    "prj = widgets.Dropdown(options = projectNames.values(), description = 'Projects:')\n",
    "prj.observe(dropdown_eventhandler, names='value')\n",
    "\n",
    "# Displya the combobox\n",
    "display(prj)"
   ]
  },
  {
   "cell_type": "code",
   "execution_count": 8,
   "id": "200a5f0d-5994-42ea-942e-05a0f8412633",
   "metadata": {
    "execution": {
     "iopub.execute_input": "2024-05-13T19:50:40.656234Z",
     "iopub.status.busy": "2024-05-13T19:50:40.655709Z",
     "iopub.status.idle": "2024-05-13T19:50:40.674532Z",
     "shell.execute_reply": "2024-05-13T19:50:40.674532Z"
    },
    "papermill": {
     "duration": 0.03523,
     "end_time": "2024-05-13T19:50:40.674532",
     "exception": false,
     "start_time": "2024-05-13T19:50:40.639302",
     "status": "completed"
    },
    "tags": []
   },
   "outputs": [],
   "source": [
    "# Lets match up the id from the selected workspace (poor implementation)\n",
    "prjIndex = list(filter(lambda x: projectNames[x] == prj.value, range(len(projectNames))))\n",
    "projectId = projectIds[prjIndex[0]]\n",
    "projectId = \"5cb74688-9804-44b1-badb-4f09c5cb861e\" # hard set VendorA"
   ]
  },
  {
   "cell_type": "code",
   "execution_count": 9,
   "id": "a2b00f38-1ed4-49ca-8d95-1274fea2398f",
   "metadata": {
    "execution": {
     "iopub.execute_input": "2024-05-13T19:50:40.695549Z",
     "iopub.status.busy": "2024-05-13T19:50:40.694550Z",
     "iopub.status.idle": "2024-05-13T19:50:41.252222Z",
     "shell.execute_reply": "2024-05-13T19:50:41.252222Z"
    },
    "papermill": {
     "duration": 0.570181,
     "end_time": "2024-05-13T19:50:41.252222",
     "exception": false,
     "start_time": "2024-05-13T19:50:40.682041",
     "status": "completed"
    },
    "tags": []
   },
   "outputs": [
    {
     "data": {
      "text/plain": [
       "5"
      ]
     },
     "execution_count": 9,
     "metadata": {},
     "output_type": "execute_result"
    }
   ],
   "source": [
    "# Ok so here is the wierd part... there is not direct way to extract the elements of a project (or model)\n",
    "# So we have to perform a 'diff' between the elements of the initial commit and the latest revision. \n",
    "\n",
    "# So lets get the latest revision number (or max revision number)\n",
    "# curl -X GET \"https://18.205.77.131:8111/osmc/workspaces/bb95d8f4-fae4-490c-b764-4f83e3bba4f5/resources/272e28f2-45b7-45cb-a016-800ba747e716/revisions\" -H \"accept: application/json\"\n",
    "call = f'/osmc/workspaces/{workspaceId}/resources/{projectId}/revisions'\n",
    "url = f'https://{serverIp}:{serverPort}{call}'\n",
    "resp_revList = requests.get(url,headers=headers, verify=False) # turn of verification here since our server is not super secure\n",
    "revisionList = resp_revList.json()\n",
    "latestRevision = max(revisionList)\n",
    "latestRevision"
   ]
  },
  {
   "cell_type": "code",
   "execution_count": 10,
   "id": "fbd61a9f-661a-43f6-8f4b-1cdf11214e4b",
   "metadata": {
    "execution": {
     "iopub.execute_input": "2024-05-13T19:50:41.270136Z",
     "iopub.status.busy": "2024-05-13T19:50:41.269137Z",
     "iopub.status.idle": "2024-05-13T19:50:41.828252Z",
     "shell.execute_reply": "2024-05-13T19:50:41.828252Z"
    },
    "papermill": {
     "duration": 0.569315,
     "end_time": "2024-05-13T19:50:41.828252",
     "exception": false,
     "start_time": "2024-05-13T19:50:41.258937",
     "status": "completed"
    },
    "tags": []
   },
   "outputs": [],
   "source": [
    "# Then to get the diff use the following to compair revision 1 to revision max... this is a little wierd... but it works\n",
    "# I tought there would be a 'get' for all elements of a resource??? No... we must ask for the differential between the initial resource and its current version???\n",
    "# curl -X GET \"https://18.205.77.131:8111/osmc/workspaces/bb95d8f4-fae4-490c-b764-4f83e3bba4f5/resources/272e28f2-45b7-45cb-a016-800ba747e716/revisiondiff?source=1&target=44\" -H \"accept: application/json\"\n",
    "sourceRevision = 1\n",
    "targetRevision = latestRevision\n",
    "call = f'/osmc/workspaces/{workspaceId}/resources/{projectId}/revisiondiff?source={sourceRevision}&target={targetRevision}'\n",
    "url = f'https://{serverIp}:{serverPort}{call}'\n",
    "resp_elementList = requests.get(url,headers=headers, verify=False) # turn of verification here since our server is not super secure\n",
    "elementList_json = resp_elementList.json()['added'] # just get the added (availibe items are removed, added, changed, and empty)\n",
    "elementList = json.dumps(elementList_json) # push to flat string\n",
    "elementList = elementList.replace('\"','').replace(\"[\",\"\").replace(\"]\",\"\").replace(\" \",\"\") # remove the sting junk\n",
    "#elementList_json\n",
    "#elementList"
   ]
  },
  {
   "cell_type": "code",
   "execution_count": 11,
   "id": "3a1ff0ab-be19-4c9e-a93b-bccde278f2e1",
   "metadata": {
    "execution": {
     "iopub.execute_input": "2024-05-13T19:50:41.849274Z",
     "iopub.status.busy": "2024-05-13T19:50:41.848270Z",
     "iopub.status.idle": "2024-05-13T19:50:42.688126Z",
     "shell.execute_reply": "2024-05-13T19:50:42.672072Z"
    },
    "papermill": {
     "duration": 0.854871,
     "end_time": "2024-05-13T19:50:42.689122",
     "exception": false,
     "start_time": "2024-05-13T19:50:41.834251",
     "status": "completed"
    },
    "tags": []
   },
   "outputs": [],
   "source": [
    "# OK great.. now we have a list of elements from the selected model\n",
    "# Lets no loop through these elements and build a json file of each elements specific information - This time we post :)\n",
    "# curl -X POST \"https://18.205.77.131:8111/osmc/resources/272e28f2-45b7-45cb-a016-800ba747e716/elements\" -H \"accept: application/ld+json\" -H \"Content-Type: text/plain\" -d \"aa4bdacf-c246-4865-bf50-cc9be2a16f16, 8a2153fc-ba11-4f9c-a2c0-2cb5114f2356 \"\n",
    "call = f'/osmc/resources/{projectId}/elements'\n",
    "url = f'https://{serverIp}:{serverPort}{call}'\n",
    "headers={\"accept\":\"application/ld+json\", \"Content-Type\":\"text/plain\", \"authorization\":f\"Basic {authId}\"}\n",
    "resp_elementListData = requests.post(url,headers=headers, verify=False, data = elementList) # turn of verification here since our server is not super secure\n",
    "elementListData = resp_elementListData.json() # just get the added (availibe items are removed, added, changed, and empty)\n",
    "#elementListData"
   ]
  },
  {
   "cell_type": "code",
   "execution_count": 12,
   "id": "7acc5d6c-590c-4827-b1eb-96bf18e73f79",
   "metadata": {
    "execution": {
     "iopub.execute_input": "2024-05-13T19:50:42.708887Z",
     "iopub.status.busy": "2024-05-13T19:50:42.707889Z",
     "iopub.status.idle": "2024-05-13T19:50:42.716431Z",
     "shell.execute_reply": "2024-05-13T19:50:42.716431Z"
    },
    "papermill": {
     "duration": 0.019779,
     "end_time": "2024-05-13T19:50:42.716431",
     "exception": false,
     "start_time": "2024-05-13T19:50:42.696652",
     "status": "completed"
    },
    "tags": []
   },
   "outputs": [
    {
     "data": {
      "text/plain": [
       "{11: 11, 24: 24, 25: 25, 31: 31}"
      ]
     },
     "execution_count": 12,
     "metadata": {},
     "output_type": "execute_result"
    }
   ],
   "source": [
    "# Lets loop throug the selected projects elemetns and find the index of all literal real values\n",
    "literalRealIndex = {}\n",
    "for i in range(len(elementList_json)): # Where i is the uuid of the element in this case\n",
    "    if elementListData[elementList_json[i]]['data'][0]['@type'] == ['ldp:DirectContainer', 'uml:LiteralReal']:\n",
    "        literalRealIndex[i] = i # Add any key to the index that is a literal real\n",
    "literalRealIndex\n",
    "#elementList_json[4]\n",
    "#elementListData['554e62c4-5bd6-46d5-97cc-900c35c46913']"
   ]
  },
  {
   "cell_type": "code",
   "execution_count": 13,
   "id": "8cc0963a-94bf-4b3c-865f-d619212fad8b",
   "metadata": {
    "execution": {
     "iopub.execute_input": "2024-05-13T19:50:42.742483Z",
     "iopub.status.busy": "2024-05-13T19:50:42.741489Z",
     "iopub.status.idle": "2024-05-13T19:50:42.747628Z",
     "shell.execute_reply": "2024-05-13T19:50:42.746629Z"
    },
    "papermill": {
     "duration": 0.024194,
     "end_time": "2024-05-13T19:50:42.747628",
     "exception": false,
     "start_time": "2024-05-13T19:50:42.723434",
     "status": "completed"
    },
    "tags": []
   },
   "outputs": [
    {
     "data": {
      "text/plain": [
       "{11: ('length', '1.0'),\n",
       " 24: ('height', '6.0'),\n",
       " 25: ('width', '1.0'),\n",
       " 31: ('dateTime', '1.0')}"
      ]
     },
     "execution_count": 13,
     "metadata": {},
     "output_type": "execute_result"
    }
   ],
   "source": [
    "# So this is getting invloved and about here is where recursion starts to rear its ugly head\n",
    "# Lets just get through this for now and we can build a better mouse trap the next round\n",
    "\n",
    "valueCells = {}\n",
    "values = {}\n",
    "elementIds = {}\n",
    "\n",
    "#print(\"Here we can modkify the vendor model values if we like.\")\n",
    "\n",
    "# We can loop through the matched elements and the build widgets to edit them\n",
    "for keys in literalRealIndex:\n",
    "    owenersId = elementListData[elementList_json[keys]]['data'][1]['kerml:owner']['@id']\n",
    "    ownersName = elementListData[owenersId]['data'][1]['kerml:name']\n",
    "    currentValue = elementListData[elementList_json[keys]]['data'][1][\"kerml:esiData\"][\"value\"]\n",
    "    elementIds[keys] = elementList_json[keys]\n",
    "    values[keys] = (ownersName, currentValue)\n",
    "    valueCells[keys] = widgets.Text(description=ownersName, value=currentValue); #display(valueCells[keys])\n",
    "    #print(elementListData[elementList_json[keys]]['data'][1]['kerml:owner']['@id'], elementListData[elementList_json[keys]]['data'][1][\"kerml:esiData\"][\"value\"])    \n",
    "\n",
    "# # Create a button to push for fun :)\n",
    "# btn = widgets.Button(description = \"Update Model Values\")\n",
    "# display(btn)\n",
    "\n",
    "# # This functuon is executed after pushing the button\n",
    "# def updateSystemModelVals(b):\n",
    "#     for cells in valueCells:\n",
    "#         # Create the payload\n",
    "#         dataValue = {\"kerml:esiData\":{\"value\":\"0.0\"}} # Build the data payload\n",
    "#         dataValue[\"kerml:esiData\"][\"value\"] = valueCells[cells].value # Update the json string\n",
    "        \n",
    "#         # Now build the api call\n",
    "#         call = f'/osmc/resources/{projectId}/elements/{elementIds[cells]}'\n",
    "#         url = f'https://{serverIp}:{serverPort}{call}'\n",
    "#         headers={\"accept\":\"application/ld+json\", \"authorization\":f\"Basic {authId}\", \"Content-Type\":\"application/ld+json\"}\n",
    "        \n",
    "#         # Have to add a new header of content type\n",
    "#         resp_value = requests.patch(url, headers = headers, verify = False, json = dataValue) # turn of verification here since our server is not super secure\n",
    "#         print(url)\n",
    "#         resp_value.status_code\n",
    "#         # print(dataValue)\n",
    "#         print(resp_value.content)\n",
    "        \n",
    "# # The button callback\n",
    "# btn.on_click(updateSystemModelVals)\n",
    "values"
   ]
  },
  {
   "cell_type": "code",
   "execution_count": 14,
   "id": "e255095d-9620-4e8e-914f-9803528554df",
   "metadata": {
    "execution": {
     "iopub.execute_input": "2024-05-13T19:50:42.766696Z",
     "iopub.status.busy": "2024-05-13T19:50:42.766696Z",
     "iopub.status.idle": "2024-05-13T19:50:42.778752Z",
     "shell.execute_reply": "2024-05-13T19:50:42.777751Z"
    },
    "papermill": {
     "duration": 0.024116,
     "end_time": "2024-05-13T19:50:42.778752",
     "exception": false,
     "start_time": "2024-05-13T19:50:42.754636",
     "status": "completed"
    },
    "tags": []
   },
   "outputs": [
    {
     "name": "stdout",
     "output_type": "stream",
     "text": [
      "  Description Value\n",
      "0      length   1.0\n",
      "1      height   6.0\n",
      "2       width   1.0\n",
      "3    dateTime   1.0\n"
     ]
    }
   ],
   "source": [
    "# Creating a list of dictionaries, each containing the description and value\n",
    "data = [{'Description': desc_value[0], 'Value': desc_value[1]} for desc_value in values.values()]\n",
    "\n",
    "# Creating a DataFrame from the list of dictionaries\n",
    "df = pd.DataFrame(data)\n",
    "\n",
    "# Display the DataFrame\n",
    "print(df)"
   ]
  },
  {
   "cell_type": "code",
   "execution_count": 15,
   "id": "89ff243c-ee9c-44c1-ac3d-6b0eb35662d4",
   "metadata": {
    "execution": {
     "iopub.execute_input": "2024-05-13T19:50:42.797367Z",
     "iopub.status.busy": "2024-05-13T19:50:42.796358Z",
     "iopub.status.idle": "2024-05-13T19:50:42.809910Z",
     "shell.execute_reply": "2024-05-13T19:50:42.809910Z"
    },
    "papermill": {
     "duration": 0.024159,
     "end_time": "2024-05-13T19:50:42.809910",
     "exception": false,
     "start_time": "2024-05-13T19:50:42.785751",
     "status": "completed"
    },
    "tags": []
   },
   "outputs": [
    {
     "name": "stdout",
     "output_type": "stream",
     "text": [
      "Value of width: 1.0\n"
     ]
    }
   ],
   "source": [
    "value_of_width = df[df['Description'] == 'width']['Value'].iloc[0]\n",
    "print(\"Value of width:\", value_of_width)"
   ]
  },
  {
   "cell_type": "code",
   "execution_count": 16,
   "id": "63906ed1-df56-4c92-8fa0-1ab28fc367e2",
   "metadata": {
    "execution": {
     "iopub.execute_input": "2024-05-13T19:50:42.828134Z",
     "iopub.status.busy": "2024-05-13T19:50:42.828134Z",
     "iopub.status.idle": "2024-05-13T19:50:42.841726Z",
     "shell.execute_reply": "2024-05-13T19:50:42.840724Z"
    },
    "papermill": {
     "duration": 0.024304,
     "end_time": "2024-05-13T19:50:42.841726",
     "exception": false,
     "start_time": "2024-05-13T19:50:42.817422",
     "status": "completed"
    },
    "tags": []
   },
   "outputs": [
    {
     "name": "stdout",
     "output_type": "stream",
     "text": [
      "length: 1.0\n",
      "height: 6.0\n",
      "width: 1.0\n",
      "dateTime: 1.0\n"
     ]
    }
   ],
   "source": [
    "for index, row in df.iterrows():\n",
    "    print(f\"{row['Description']}: {row['Value']}\")"
   ]
  },
  {
   "cell_type": "markdown",
   "id": "f08d1a0c-88a8-42a3-a73d-771419e75686",
   "metadata": {
    "papermill": {
     "duration": 0.006003,
     "end_time": "2024-05-13T19:50:42.854232",
     "exception": false,
     "start_time": "2024-05-13T19:50:42.848229",
     "status": "completed"
    },
    "tags": []
   },
   "source": [
    "## Notes:\n",
    "- We are not using FQNs and this is an artifact of SysMLV1.x (intrinsic in v2)\n",
    "- Here we have three  attributes of the VendorA model\n",
    "- Now lets push these to the ADT model and solve for the volume\n",
    "- In the next version we can pull/push from instances which again are not fun in V1.x due to the slots not haveing names just owners so we have to drill down a little further. I have this completed as a part of the Dassault model last year. "
   ]
  },
  {
   "cell_type": "code",
   "execution_count": 17,
   "id": "fa5e1c26-e850-4844-a147-cea88fae18e1",
   "metadata": {
    "execution": {
     "iopub.execute_input": "2024-05-13T19:50:42.877774Z",
     "iopub.status.busy": "2024-05-13T19:50:42.876830Z",
     "iopub.status.idle": "2024-05-13T19:50:42.888470Z",
     "shell.execute_reply": "2024-05-13T19:50:42.887470Z"
    },
    "papermill": {
     "duration": 0.024554,
     "end_time": "2024-05-13T19:50:42.888470",
     "exception": false,
     "start_time": "2024-05-13T19:50:42.863916",
     "status": "completed"
    },
    "tags": []
   },
   "outputs": [],
   "source": [
    "# Lets write the data to a file that will be used to update the ADT Model\n",
    "#df.to_json('vendorA.json', orient='records', lines=True)\n",
    "df.to_json('vendorA.json', orient='records')"
   ]
  }
 ],
 "metadata": {
  "kernelspec": {
   "display_name": "Python 3 (ipykernel)",
   "language": "python",
   "name": "python3"
  },
  "language_info": {
   "codemirror_mode": {
    "name": "ipython",
    "version": 3
   },
   "file_extension": ".py",
   "mimetype": "text/x-python",
   "name": "python",
   "nbconvert_exporter": "python",
   "pygments_lexer": "ipython3",
   "version": "3.10.14"
  },
  "papermill": {
   "default_parameters": {},
   "duration": 7.734403,
   "end_time": "2024-05-13T19:50:43.136691",
   "environment_variables": {},
   "exception": null,
   "input_path": "C:\\Users\\JohnDeHart\\Documents\\GitHub\\Notebooks\\twc_interactions\\pull_vendor_api.ipynb",
   "output_path": "C:\\Users\\JohnDeHart\\Documents\\GitHub\\Notebooks\\twc_interactions\\pull_vendor_api.ipynb",
   "parameters": {},
   "start_time": "2024-05-13T19:50:35.402288",
   "version": "2.6.0"
  },
  "widgets": {
   "application/vnd.jupyter.widget-state+json": {
    "state": {
     "19db20d67c72467d869b37f5e0853254": {
      "model_module": "@jupyter-widgets/controls",
      "model_module_version": "2.0.0",
      "model_name": "DescriptionStyleModel",
      "state": {
       "_model_module": "@jupyter-widgets/controls",
       "_model_module_version": "2.0.0",
       "_model_name": "DescriptionStyleModel",
       "_view_count": null,
       "_view_module": "@jupyter-widgets/base",
       "_view_module_version": "2.0.0",
       "_view_name": "StyleView",
       "description_width": ""
      }
     },
     "4bdcd46a7dcb46c6a26be170ff3ac9a8": {
      "model_module": "@jupyter-widgets/controls",
      "model_module_version": "2.0.0",
      "model_name": "TextModel",
      "state": {
       "_dom_classes": [],
       "_model_module": "@jupyter-widgets/controls",
       "_model_module_version": "2.0.0",
       "_model_name": "TextModel",
       "_view_count": null,
       "_view_module": "@jupyter-widgets/controls",
       "_view_module_version": "2.0.0",
       "_view_name": "TextView",
       "continuous_update": true,
       "description": "width",
       "description_allow_html": false,
       "disabled": false,
       "layout": "IPY_MODEL_edc72c9cc09a4a0789fa92d8c17459f1",
       "placeholder": "​",
       "style": "IPY_MODEL_fd2e12b45d1f48f4b8281a32307b224a",
       "tabbable": null,
       "tooltip": null,
       "value": "1.0"
      }
     },
     "5625e87cdaec4738b37c0131619a077a": {
      "model_module": "@jupyter-widgets/controls",
      "model_module_version": "2.0.0",
      "model_name": "TextModel",
      "state": {
       "_dom_classes": [],
       "_model_module": "@jupyter-widgets/controls",
       "_model_module_version": "2.0.0",
       "_model_name": "TextModel",
       "_view_count": null,
       "_view_module": "@jupyter-widgets/controls",
       "_view_module_version": "2.0.0",
       "_view_name": "TextView",
       "continuous_update": true,
       "description": "height",
       "description_allow_html": false,
       "disabled": false,
       "layout": "IPY_MODEL_8849dacf03f846238ae5d69fe5a5b5ad",
       "placeholder": "​",
       "style": "IPY_MODEL_fd8c08c404fa43cf952b16a2e4059035",
       "tabbable": null,
       "tooltip": null,
       "value": "6.0"
      }
     },
     "56719c9872fc45509492c25ff70a1417": {
      "model_module": "@jupyter-widgets/base",
      "model_module_version": "2.0.0",
      "model_name": "LayoutModel",
      "state": {
       "_model_module": "@jupyter-widgets/base",
       "_model_module_version": "2.0.0",
       "_model_name": "LayoutModel",
       "_view_count": null,
       "_view_module": "@jupyter-widgets/base",
       "_view_module_version": "2.0.0",
       "_view_name": "LayoutView",
       "align_content": null,
       "align_items": null,
       "align_self": null,
       "border_bottom": null,
       "border_left": null,
       "border_right": null,
       "border_top": null,
       "bottom": null,
       "display": null,
       "flex": null,
       "flex_flow": null,
       "grid_area": null,
       "grid_auto_columns": null,
       "grid_auto_flow": null,
       "grid_auto_rows": null,
       "grid_column": null,
       "grid_gap": null,
       "grid_row": null,
       "grid_template_areas": null,
       "grid_template_columns": null,
       "grid_template_rows": null,
       "height": null,
       "justify_content": null,
       "justify_items": null,
       "left": null,
       "margin": null,
       "max_height": null,
       "max_width": null,
       "min_height": null,
       "min_width": null,
       "object_fit": null,
       "object_position": null,
       "order": null,
       "overflow": null,
       "padding": null,
       "right": null,
       "top": null,
       "visibility": null,
       "width": null
      }
     },
     "5dd1ec24e1124c929561698e0ee0e53f": {
      "model_module": "@jupyter-widgets/controls",
      "model_module_version": "2.0.0",
      "model_name": "DropdownModel",
      "state": {
       "_dom_classes": [],
       "_model_module": "@jupyter-widgets/controls",
       "_model_module_version": "2.0.0",
       "_model_name": "DropdownModel",
       "_options_labels": [
        "ADT_Projects",
        "Test_Projects",
        "Project_Templates",
        "Uncategorized"
       ],
       "_view_count": null,
       "_view_module": "@jupyter-widgets/controls",
       "_view_module_version": "2.0.0",
       "_view_name": "DropdownView",
       "description": "Workspaces:",
       "description_allow_html": false,
       "disabled": false,
       "index": 0,
       "layout": "IPY_MODEL_56719c9872fc45509492c25ff70a1417",
       "style": "IPY_MODEL_68c407e15b354549a1ff676ee5a5fa1c",
       "tabbable": null,
       "tooltip": null
      }
     },
     "68c407e15b354549a1ff676ee5a5fa1c": {
      "model_module": "@jupyter-widgets/controls",
      "model_module_version": "2.0.0",
      "model_name": "DescriptionStyleModel",
      "state": {
       "_model_module": "@jupyter-widgets/controls",
       "_model_module_version": "2.0.0",
       "_model_name": "DescriptionStyleModel",
       "_view_count": null,
       "_view_module": "@jupyter-widgets/base",
       "_view_module_version": "2.0.0",
       "_view_name": "StyleView",
       "description_width": ""
      }
     },
     "695a1a799be54d23bcf93b5b35f6e7ee": {
      "model_module": "@jupyter-widgets/controls",
      "model_module_version": "2.0.0",
      "model_name": "TextModel",
      "state": {
       "_dom_classes": [],
       "_model_module": "@jupyter-widgets/controls",
       "_model_module_version": "2.0.0",
       "_model_name": "TextModel",
       "_view_count": null,
       "_view_module": "@jupyter-widgets/controls",
       "_view_module_version": "2.0.0",
       "_view_name": "TextView",
       "continuous_update": true,
       "description": "length",
       "description_allow_html": false,
       "disabled": false,
       "layout": "IPY_MODEL_eaf8e0178bcb4e9494071e645e6b2a46",
       "placeholder": "​",
       "style": "IPY_MODEL_94639269ce87476bb3066a471c917ca6",
       "tabbable": null,
       "tooltip": null,
       "value": "1.0"
      }
     },
     "7fbe12633da94862abc5168a5ca2c4df": {
      "model_module": "@jupyter-widgets/controls",
      "model_module_version": "2.0.0",
      "model_name": "TextModel",
      "state": {
       "_dom_classes": [],
       "_model_module": "@jupyter-widgets/controls",
       "_model_module_version": "2.0.0",
       "_model_name": "TextModel",
       "_view_count": null,
       "_view_module": "@jupyter-widgets/controls",
       "_view_module_version": "2.0.0",
       "_view_name": "TextView",
       "continuous_update": true,
       "description": "dateTime",
       "description_allow_html": false,
       "disabled": false,
       "layout": "IPY_MODEL_a583603444e24769b06641e9dca10173",
       "placeholder": "​",
       "style": "IPY_MODEL_91cd2881074749ee900c28c28548745e",
       "tabbable": null,
       "tooltip": null,
       "value": "1.0"
      }
     },
     "8849dacf03f846238ae5d69fe5a5b5ad": {
      "model_module": "@jupyter-widgets/base",
      "model_module_version": "2.0.0",
      "model_name": "LayoutModel",
      "state": {
       "_model_module": "@jupyter-widgets/base",
       "_model_module_version": "2.0.0",
       "_model_name": "LayoutModel",
       "_view_count": null,
       "_view_module": "@jupyter-widgets/base",
       "_view_module_version": "2.0.0",
       "_view_name": "LayoutView",
       "align_content": null,
       "align_items": null,
       "align_self": null,
       "border_bottom": null,
       "border_left": null,
       "border_right": null,
       "border_top": null,
       "bottom": null,
       "display": null,
       "flex": null,
       "flex_flow": null,
       "grid_area": null,
       "grid_auto_columns": null,
       "grid_auto_flow": null,
       "grid_auto_rows": null,
       "grid_column": null,
       "grid_gap": null,
       "grid_row": null,
       "grid_template_areas": null,
       "grid_template_columns": null,
       "grid_template_rows": null,
       "height": null,
       "justify_content": null,
       "justify_items": null,
       "left": null,
       "margin": null,
       "max_height": null,
       "max_width": null,
       "min_height": null,
       "min_width": null,
       "object_fit": null,
       "object_position": null,
       "order": null,
       "overflow": null,
       "padding": null,
       "right": null,
       "top": null,
       "visibility": null,
       "width": null
      }
     },
     "8fb9e80bf326435b8f59339f28817f43": {
      "model_module": "@jupyter-widgets/base",
      "model_module_version": "2.0.0",
      "model_name": "LayoutModel",
      "state": {
       "_model_module": "@jupyter-widgets/base",
       "_model_module_version": "2.0.0",
       "_model_name": "LayoutModel",
       "_view_count": null,
       "_view_module": "@jupyter-widgets/base",
       "_view_module_version": "2.0.0",
       "_view_name": "LayoutView",
       "align_content": null,
       "align_items": null,
       "align_self": null,
       "border_bottom": null,
       "border_left": null,
       "border_right": null,
       "border_top": null,
       "bottom": null,
       "display": null,
       "flex": null,
       "flex_flow": null,
       "grid_area": null,
       "grid_auto_columns": null,
       "grid_auto_flow": null,
       "grid_auto_rows": null,
       "grid_column": null,
       "grid_gap": null,
       "grid_row": null,
       "grid_template_areas": null,
       "grid_template_columns": null,
       "grid_template_rows": null,
       "height": null,
       "justify_content": null,
       "justify_items": null,
       "left": null,
       "margin": null,
       "max_height": null,
       "max_width": null,
       "min_height": null,
       "min_width": null,
       "object_fit": null,
       "object_position": null,
       "order": null,
       "overflow": null,
       "padding": null,
       "right": null,
       "top": null,
       "visibility": null,
       "width": null
      }
     },
     "91cd2881074749ee900c28c28548745e": {
      "model_module": "@jupyter-widgets/controls",
      "model_module_version": "2.0.0",
      "model_name": "TextStyleModel",
      "state": {
       "_model_module": "@jupyter-widgets/controls",
       "_model_module_version": "2.0.0",
       "_model_name": "TextStyleModel",
       "_view_count": null,
       "_view_module": "@jupyter-widgets/base",
       "_view_module_version": "2.0.0",
       "_view_name": "StyleView",
       "background": null,
       "description_width": "",
       "font_size": null,
       "text_color": null
      }
     },
     "94639269ce87476bb3066a471c917ca6": {
      "model_module": "@jupyter-widgets/controls",
      "model_module_version": "2.0.0",
      "model_name": "TextStyleModel",
      "state": {
       "_model_module": "@jupyter-widgets/controls",
       "_model_module_version": "2.0.0",
       "_model_name": "TextStyleModel",
       "_view_count": null,
       "_view_module": "@jupyter-widgets/base",
       "_view_module_version": "2.0.0",
       "_view_name": "StyleView",
       "background": null,
       "description_width": "",
       "font_size": null,
       "text_color": null
      }
     },
     "a583603444e24769b06641e9dca10173": {
      "model_module": "@jupyter-widgets/base",
      "model_module_version": "2.0.0",
      "model_name": "LayoutModel",
      "state": {
       "_model_module": "@jupyter-widgets/base",
       "_model_module_version": "2.0.0",
       "_model_name": "LayoutModel",
       "_view_count": null,
       "_view_module": "@jupyter-widgets/base",
       "_view_module_version": "2.0.0",
       "_view_name": "LayoutView",
       "align_content": null,
       "align_items": null,
       "align_self": null,
       "border_bottom": null,
       "border_left": null,
       "border_right": null,
       "border_top": null,
       "bottom": null,
       "display": null,
       "flex": null,
       "flex_flow": null,
       "grid_area": null,
       "grid_auto_columns": null,
       "grid_auto_flow": null,
       "grid_auto_rows": null,
       "grid_column": null,
       "grid_gap": null,
       "grid_row": null,
       "grid_template_areas": null,
       "grid_template_columns": null,
       "grid_template_rows": null,
       "height": null,
       "justify_content": null,
       "justify_items": null,
       "left": null,
       "margin": null,
       "max_height": null,
       "max_width": null,
       "min_height": null,
       "min_width": null,
       "object_fit": null,
       "object_position": null,
       "order": null,
       "overflow": null,
       "padding": null,
       "right": null,
       "top": null,
       "visibility": null,
       "width": null
      }
     },
     "b296b9ade5e340ab922c884e696183d1": {
      "model_module": "@jupyter-widgets/controls",
      "model_module_version": "2.0.0",
      "model_name": "DropdownModel",
      "state": {
       "_dom_classes": [],
       "_model_module": "@jupyter-widgets/controls",
       "_model_module_version": "2.0.0",
       "_model_name": "DropdownModel",
       "_options_labels": [
        "VendorA",
        "ADT_Model",
        "TestVerdictKind"
       ],
       "_view_count": null,
       "_view_module": "@jupyter-widgets/controls",
       "_view_module_version": "2.0.0",
       "_view_name": "DropdownView",
       "description": "Projects:",
       "description_allow_html": false,
       "disabled": false,
       "index": 0,
       "layout": "IPY_MODEL_8fb9e80bf326435b8f59339f28817f43",
       "style": "IPY_MODEL_19db20d67c72467d869b37f5e0853254",
       "tabbable": null,
       "tooltip": null
      }
     },
     "eaf8e0178bcb4e9494071e645e6b2a46": {
      "model_module": "@jupyter-widgets/base",
      "model_module_version": "2.0.0",
      "model_name": "LayoutModel",
      "state": {
       "_model_module": "@jupyter-widgets/base",
       "_model_module_version": "2.0.0",
       "_model_name": "LayoutModel",
       "_view_count": null,
       "_view_module": "@jupyter-widgets/base",
       "_view_module_version": "2.0.0",
       "_view_name": "LayoutView",
       "align_content": null,
       "align_items": null,
       "align_self": null,
       "border_bottom": null,
       "border_left": null,
       "border_right": null,
       "border_top": null,
       "bottom": null,
       "display": null,
       "flex": null,
       "flex_flow": null,
       "grid_area": null,
       "grid_auto_columns": null,
       "grid_auto_flow": null,
       "grid_auto_rows": null,
       "grid_column": null,
       "grid_gap": null,
       "grid_row": null,
       "grid_template_areas": null,
       "grid_template_columns": null,
       "grid_template_rows": null,
       "height": null,
       "justify_content": null,
       "justify_items": null,
       "left": null,
       "margin": null,
       "max_height": null,
       "max_width": null,
       "min_height": null,
       "min_width": null,
       "object_fit": null,
       "object_position": null,
       "order": null,
       "overflow": null,
       "padding": null,
       "right": null,
       "top": null,
       "visibility": null,
       "width": null
      }
     },
     "edc72c9cc09a4a0789fa92d8c17459f1": {
      "model_module": "@jupyter-widgets/base",
      "model_module_version": "2.0.0",
      "model_name": "LayoutModel",
      "state": {
       "_model_module": "@jupyter-widgets/base",
       "_model_module_version": "2.0.0",
       "_model_name": "LayoutModel",
       "_view_count": null,
       "_view_module": "@jupyter-widgets/base",
       "_view_module_version": "2.0.0",
       "_view_name": "LayoutView",
       "align_content": null,
       "align_items": null,
       "align_self": null,
       "border_bottom": null,
       "border_left": null,
       "border_right": null,
       "border_top": null,
       "bottom": null,
       "display": null,
       "flex": null,
       "flex_flow": null,
       "grid_area": null,
       "grid_auto_columns": null,
       "grid_auto_flow": null,
       "grid_auto_rows": null,
       "grid_column": null,
       "grid_gap": null,
       "grid_row": null,
       "grid_template_areas": null,
       "grid_template_columns": null,
       "grid_template_rows": null,
       "height": null,
       "justify_content": null,
       "justify_items": null,
       "left": null,
       "margin": null,
       "max_height": null,
       "max_width": null,
       "min_height": null,
       "min_width": null,
       "object_fit": null,
       "object_position": null,
       "order": null,
       "overflow": null,
       "padding": null,
       "right": null,
       "top": null,
       "visibility": null,
       "width": null
      }
     },
     "fd2e12b45d1f48f4b8281a32307b224a": {
      "model_module": "@jupyter-widgets/controls",
      "model_module_version": "2.0.0",
      "model_name": "TextStyleModel",
      "state": {
       "_model_module": "@jupyter-widgets/controls",
       "_model_module_version": "2.0.0",
       "_model_name": "TextStyleModel",
       "_view_count": null,
       "_view_module": "@jupyter-widgets/base",
       "_view_module_version": "2.0.0",
       "_view_name": "StyleView",
       "background": null,
       "description_width": "",
       "font_size": null,
       "text_color": null
      }
     },
     "fd8c08c404fa43cf952b16a2e4059035": {
      "model_module": "@jupyter-widgets/controls",
      "model_module_version": "2.0.0",
      "model_name": "TextStyleModel",
      "state": {
       "_model_module": "@jupyter-widgets/controls",
       "_model_module_version": "2.0.0",
       "_model_name": "TextStyleModel",
       "_view_count": null,
       "_view_module": "@jupyter-widgets/base",
       "_view_module_version": "2.0.0",
       "_view_name": "StyleView",
       "background": null,
       "description_width": "",
       "font_size": null,
       "text_color": null
      }
     }
    },
    "version_major": 2,
    "version_minor": 0
   }
  }
 },
 "nbformat": 4,
 "nbformat_minor": 5
}