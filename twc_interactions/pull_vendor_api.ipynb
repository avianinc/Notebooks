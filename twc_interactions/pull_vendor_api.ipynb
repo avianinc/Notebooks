{
 "cells": [
  {
   "cell_type": "markdown",
   "id": "84c1130b-00ac-4bf5-adc2-6440992818c3",
   "metadata": {
    "papermill": {
     "duration": 0.003988,
     "end_time": "2024-05-14T19:36:55.531220",
     "exception": false,
     "start_time": "2024-05-14T19:36:55.527232",
     "status": "completed"
    },
    "tags": []
   },
   "source": [
    "## API Interaction - Pull Vendor Model\n",
    "In this example we log into a remote teamworkcloud instance and retrieve all literal reals descriptions and values.\n",
    "\n",
    "Steps:\n",
    "1. Login to the TWC API Server\n",
    "2. Retrieve a list of the workspaces (called categories in the TWC GUI)\n",
    "3. Select the workspace to retrieve a list of projects\n",
    "4. Retrieve a list project from the defined workspace\n",
    "5. Select a project to retrieve all elements (in memory json file)\n",
    "6. Loop though the json file and retrieve the index of any Literal Real (['ldp:DirectContainer', 'uml:LiteralReal'])\n",
    "7. Convert the list to a Description:Value dataframe\n",
    "8. Write the dataframe to a file"
   ]
  },
  {
   "cell_type": "code",
   "execution_count": 1,
   "id": "4af5975a-9e49-419c-9f74-98dd6dd7dea6",
   "metadata": {
    "execution": {
     "iopub.execute_input": "2024-05-14T19:36:55.548709Z",
     "iopub.status.busy": "2024-05-14T19:36:55.548709Z",
     "iopub.status.idle": "2024-05-14T19:36:56.136109Z",
     "shell.execute_reply": "2024-05-14T19:36:56.136109Z"
    },
    "papermill": {
     "duration": 0.601801,
     "end_time": "2024-05-14T19:36:56.137115",
     "exception": false,
     "start_time": "2024-05-14T19:36:55.535314",
     "status": "completed"
    },
    "tags": []
   },
   "outputs": [],
   "source": [
    "# A little set up\n",
    "import json\n",
    "import requests # performs the curl function in python\n",
    "import ipywidgets as widgets\n",
    "from ipywidgets import Dropdown\n",
    "from IPython.display import display\n",
    "import pandas as pd\n",
    "\n",
    "import warnings\n",
    "warnings.filterwarnings('ignore')\n",
    "\n",
    "import time\n",
    "from anytree import Node, RenderTree"
   ]
  },
  {
   "cell_type": "code",
   "execution_count": 2,
   "id": "0edc622a-953e-4400-aab7-686add9ef200",
   "metadata": {
    "execution": {
     "iopub.execute_input": "2024-05-14T19:36:56.149647Z",
     "iopub.status.busy": "2024-05-14T19:36:56.149647Z",
     "iopub.status.idle": "2024-05-14T19:36:56.695975Z",
     "shell.execute_reply": "2024-05-14T19:36:56.695975Z"
    },
    "papermill": {
     "duration": 0.555948,
     "end_time": "2024-05-14T19:36:56.697056",
     "exception": false,
     "start_time": "2024-05-14T19:36:56.141108",
     "status": "completed"
    },
    "tags": []
   },
   "outputs": [],
   "source": [
    "# Lets get a list of workspaces from the teamworkcloud server\n",
    "# API --> https://18.205.77.131:8111/osmc/swagger/?url=https%3A%2F%2F18.205.77.131%3A8111%2Fosmc%2Fmanual\n",
    "#serverIp = '18.205.77.131' # Avian server\n",
    "serverIp = '10.107.1.92' # ADT MA server\n",
    "serverPort = '8111'\n",
    "call = '/osmc/workspaces?includeBody=True'\n",
    "# authId = \"amRlaGFydDpqa2QyMjE0MDA=\" # avian id\n",
    "authId = \"amRlaGFydDpSemhlZ3hoQ1RoWmY=\" # ADT MA ID\n",
    "url = f'https://{serverIp}:{serverPort}{call}'\n",
    "headers={\"accept\":\"application/ld+json\",\"authorization\":f\"Basic {authId}\"}\n",
    "resp_ws = requests.get(url,headers=headers, verify=False) # turn of verification here since our server is not super secure\n",
    "workspaces = resp_ws.json() # Convert the response content to a json format\n",
    "#print(json.dumps(workspaces, indent=4))"
   ]
  },
  {
   "cell_type": "code",
   "execution_count": 3,
   "id": "987ff411-4b07-4894-b2a8-95e74dc71d1a",
   "metadata": {
    "execution": {
     "iopub.execute_input": "2024-05-14T19:36:56.715492Z",
     "iopub.status.busy": "2024-05-14T19:36:56.714492Z",
     "iopub.status.idle": "2024-05-14T19:36:56.735610Z",
     "shell.execute_reply": "2024-05-14T19:36:56.735610Z"
    },
    "papermill": {
     "duration": 0.033628,
     "end_time": "2024-05-14T19:36:56.735610",
     "exception": false,
     "start_time": "2024-05-14T19:36:56.701982",
     "status": "completed"
    },
    "tags": []
   },
   "outputs": [
    {
     "data": {
      "application/vnd.jupyter.widget-view+json": {
       "model_id": "7477a69fab134271b9e535a9ce67a94e",
       "version_major": 2,
       "version_minor": 0
      },
      "text/plain": [
       "Dropdown(description='Workspaces:', options=('ADT_Projects', 'Test_Projects', 'Project_Templates', 'Uncategori…"
      ]
     },
     "metadata": {},
     "output_type": "display_data"
    }
   ],
   "source": [
    "# lets create a combobox to list the avalible workspaces\n",
    "# Build arrays of the items\n",
    "workspaceIds = {}\n",
    "workspaceNames = {}\n",
    "\n",
    "# Lets build a list of workspaces for selection\n",
    "for i in range(len(workspaces[\"ldp:contains\"])):\n",
    "    workspaceIds[i] = workspaces[\"ldp:contains\"][i][0]['@id']\n",
    "    workspaceNames[i] = workspaces[\"ldp:contains\"][i][1][\"dcterms:title\"]\n",
    "\n",
    "# Fuction to monitor change of dropdown\n",
    "def dropdown_eventhandler(change):\n",
    "    print(change.new) # Write the selected item to the log\n",
    "\n",
    "# Now create a dropdown list of the avalible workspaces\n",
    "ws = widgets.Dropdown(options = workspaceNames.values(), description = 'Workspaces:')\n",
    "ws.observe(dropdown_eventhandler, names='value')\n",
    "\n",
    "# Displya the combobox\n",
    "display(ws)"
   ]
  },
  {
   "cell_type": "code",
   "execution_count": 4,
   "id": "4331c729-96fe-4b63-8d65-028a63adb28f",
   "metadata": {
    "execution": {
     "iopub.execute_input": "2024-05-14T19:36:56.748131Z",
     "iopub.status.busy": "2024-05-14T19:36:56.748131Z",
     "iopub.status.idle": "2024-05-14T19:36:56.766043Z",
     "shell.execute_reply": "2024-05-14T19:36:56.766043Z"
    },
    "papermill": {
     "duration": 0.026442,
     "end_time": "2024-05-14T19:36:56.766043",
     "exception": false,
     "start_time": "2024-05-14T19:36:56.739601",
     "status": "completed"
    },
    "tags": []
   },
   "outputs": [],
   "source": [
    "# Lets match up the id from the selected workspace (poor implementation)\n",
    "wsIndex = list(filter(lambda x: workspaceNames[x] == ws.value, range(len(workspaceNames))))\n",
    "workspaceId = workspaceIds[wsIndex[0]]\n",
    "workspaceId = \"a2bf1c2f-03fb-4cbe-bb3d-4edce160916f\" # hard set Test_Projects"
   ]
  },
  {
   "cell_type": "code",
   "execution_count": 5,
   "id": "1350666b-8109-4633-94e0-2fa7b38c5862",
   "metadata": {
    "execution": {
     "iopub.execute_input": "2024-05-14T19:36:56.779591Z",
     "iopub.status.busy": "2024-05-14T19:36:56.777577Z",
     "iopub.status.idle": "2024-05-14T19:36:57.296310Z",
     "shell.execute_reply": "2024-05-14T19:36:57.296310Z"
    },
    "papermill": {
     "duration": 0.52626,
     "end_time": "2024-05-14T19:36:57.296310",
     "exception": false,
     "start_time": "2024-05-14T19:36:56.770050",
     "status": "completed"
    },
    "tags": []
   },
   "outputs": [
    {
     "data": {
      "text/plain": [
       "[{'@id': '4eb3de65-53f4-4d59-aca2-62de8351e81b'},\n",
       " {'@id': '050dbf5b-f690-4494-81ee-18740b88d86c'},\n",
       " {'@id': '5cb74688-9804-44b1-badb-4f09c5cb861e'},\n",
       " {'@id': 'b5b69f4d-e1d0-4ddc-b514-d54b05d0a3b4'},\n",
       " {'@id': 'ef9e7f30-2fc1-4677-a170-ec7035ed6b0e'}]"
      ]
     },
     "execution_count": 5,
     "metadata": {},
     "output_type": "execute_result"
    }
   ],
   "source": [
    "# Now lets list the models that are withing the selected workspace and place them in a dropbox\n",
    "# Ok... lets continue and list all of the the projects by project UID in this workspace\n",
    "call = f'/osmc/workspaces/{workspaceId}/resources'\n",
    "url = f'https://{serverIp}:{serverPort}{call}'\n",
    "resp_projects = requests.get(url,headers=headers, verify=False) # turn of verification here since our server is not super secure\n",
    "projectsList = resp_projects.json()\n",
    "projectsUidList = projectsList[1]['kerml:resources'] # Let just extract the UIDs for each project\n",
    "projectsUidList"
   ]
  },
  {
   "cell_type": "markdown",
   "id": "cad3a9b1-e45e-4f36-a583-8ee1b7c2bf78",
   "metadata": {
    "papermill": {
     "duration": 0.00453,
     "end_time": "2024-05-14T19:36:57.304837",
     "exception": false,
     "start_time": "2024-05-14T19:36:57.300307",
     "status": "completed"
    },
    "tags": []
   },
   "source": [
    "## So now we can see all of the projects contained in the workspace"
   ]
  },
  {
   "cell_type": "code",
   "execution_count": 6,
   "id": "a6fe0c52-9982-4e2d-859e-cd9ddc7f4026",
   "metadata": {
    "execution": {
     "iopub.execute_input": "2024-05-14T19:36:57.319369Z",
     "iopub.status.busy": "2024-05-14T19:36:57.318370Z",
     "iopub.status.idle": "2024-05-14T19:36:59.878344Z",
     "shell.execute_reply": "2024-05-14T19:36:59.878344Z"
    },
    "papermill": {
     "duration": 2.571491,
     "end_time": "2024-05-14T19:36:59.879327",
     "exception": false,
     "start_time": "2024-05-14T19:36:57.307836",
     "status": "completed"
    },
    "tags": []
   },
   "outputs": [],
   "source": [
    "# Lets loop throug the projects and create a dictionary of the resource (or model) details\n",
    "projectsData = {}\n",
    "for i in range(len(projectsUidList)):\n",
    "    resourceId = projectsUidList[i]['@id'] # select the values for each id in the projectList\n",
    "    call = f'/osmc/workspaces/{workspaceId}/resources/{resourceId}'\n",
    "    url = f'https://{serverIp}:{serverPort}{call}'\n",
    "    resp_projects = requests.get(url,headers=headers, verify=False) # turn of verification here since our server is not super secure\n",
    "    #projectsData = json.dumps(resp_projects.json(), indent=4)\n",
    "    projectsData[i] = resp_projects.json()\n",
    "#print(json.dumps(projectsData, indent=4))"
   ]
  },
  {
   "cell_type": "code",
   "execution_count": 7,
   "id": "230ddde7-297f-47b6-a3bf-cac8be7b75fa",
   "metadata": {
    "execution": {
     "iopub.execute_input": "2024-05-14T19:36:59.893361Z",
     "iopub.status.busy": "2024-05-14T19:36:59.893361Z",
     "iopub.status.idle": "2024-05-14T19:36:59.907978Z",
     "shell.execute_reply": "2024-05-14T19:36:59.907978Z"
    },
    "papermill": {
     "duration": 0.025157,
     "end_time": "2024-05-14T19:36:59.907978",
     "exception": false,
     "start_time": "2024-05-14T19:36:59.882821",
     "status": "completed"
    },
    "tags": []
   },
   "outputs": [
    {
     "data": {
      "application/vnd.jupyter.widget-view+json": {
       "model_id": "c4dfaa718c74452385bda2c2e450445d",
       "version_major": 2,
       "version_minor": 0
      },
      "text/plain": [
       "Dropdown(description='Projects:', options=('TestVerdictKind', 'ADT_Model2', 'VendorA', 'ADT_Model', 'MacroEngi…"
      ]
     },
     "metadata": {},
     "output_type": "display_data"
    }
   ],
   "source": [
    "# lets create a combobox to list the avalible projects (models) in this workspace\n",
    "# Build arrays of the items\n",
    "projectIds = {}\n",
    "projectNames = {}\n",
    "\n",
    "# Lets build a list of workspaces for selection\n",
    "for i in range(len(projectsData)):\n",
    "    projectIds[i] = projectsData[i]['@base'].split(\"/\")[7]\n",
    "    projectNames[i] = projectsData[i]['metadata']['name'].split(\".\")[0]\n",
    "\n",
    "# Now create a dropdown list of the avalible projects\n",
    "prj = widgets.Dropdown(options = projectNames.values(), description = 'Projects:')\n",
    "prj.observe(dropdown_eventhandler, names='value')\n",
    "\n",
    "# Displya the combobox\n",
    "display(prj)"
   ]
  },
  {
   "cell_type": "code",
   "execution_count": 8,
   "id": "200a5f0d-5994-42ea-942e-05a0f8412633",
   "metadata": {
    "execution": {
     "iopub.execute_input": "2024-05-14T19:36:59.920626Z",
     "iopub.status.busy": "2024-05-14T19:36:59.920626Z",
     "iopub.status.idle": "2024-05-14T19:36:59.925445Z",
     "shell.execute_reply": "2024-05-14T19:36:59.925221Z"
    },
    "papermill": {
     "duration": 0.01283,
     "end_time": "2024-05-14T19:36:59.925445",
     "exception": false,
     "start_time": "2024-05-14T19:36:59.912615",
     "status": "completed"
    },
    "tags": []
   },
   "outputs": [],
   "source": [
    "# Lets match up the id from the selected workspace (poor implementation)\n",
    "prjIndex = list(filter(lambda x: projectNames[x] == prj.value, range(len(projectNames))))\n",
    "projectId = projectIds[prjIndex[0]]\n",
    "projectId = \"5cb74688-9804-44b1-badb-4f09c5cb861e\" # hard set VendorA"
   ]
  },
  {
   "cell_type": "code",
   "execution_count": 9,
   "id": "a2b00f38-1ed4-49ca-8d95-1274fea2398f",
   "metadata": {
    "execution": {
     "iopub.execute_input": "2024-05-14T19:36:59.937960Z",
     "iopub.status.busy": "2024-05-14T19:36:59.937960Z",
     "iopub.status.idle": "2024-05-14T19:37:00.484081Z",
     "shell.execute_reply": "2024-05-14T19:37:00.484081Z"
    },
    "papermill": {
     "duration": 0.55463,
     "end_time": "2024-05-14T19:37:00.484081",
     "exception": false,
     "start_time": "2024-05-14T19:36:59.929451",
     "status": "completed"
    },
    "tags": []
   },
   "outputs": [
    {
     "data": {
      "text/plain": [
       "10"
      ]
     },
     "execution_count": 9,
     "metadata": {},
     "output_type": "execute_result"
    }
   ],
   "source": [
    "# Ok so here is the wierd part... there is not direct way to extract the elements of a project (or model)\n",
    "# So we have to perform a 'diff' between the elements of the initial commit and the latest revision. \n",
    "\n",
    "# So lets get the latest revision number (or max revision number)\n",
    "# curl -X GET \"https://18.205.77.131:8111/osmc/workspaces/bb95d8f4-fae4-490c-b764-4f83e3bba4f5/resources/272e28f2-45b7-45cb-a016-800ba747e716/revisions\" -H \"accept: application/json\"\n",
    "call = f'/osmc/workspaces/{workspaceId}/resources/{projectId}/revisions'\n",
    "url = f'https://{serverIp}:{serverPort}{call}'\n",
    "resp_revList = requests.get(url,headers=headers, verify=False) # turn of verification here since our server is not super secure\n",
    "revisionList = resp_revList.json()\n",
    "latestRevision = max(revisionList)\n",
    "latestRevision"
   ]
  },
  {
   "cell_type": "code",
   "execution_count": 10,
   "id": "fbd61a9f-661a-43f6-8f4b-1cdf11214e4b",
   "metadata": {
    "execution": {
     "iopub.execute_input": "2024-05-14T19:37:00.499497Z",
     "iopub.status.busy": "2024-05-14T19:37:00.499497Z",
     "iopub.status.idle": "2024-05-14T19:37:01.092054Z",
     "shell.execute_reply": "2024-05-14T19:37:01.092054Z"
    },
    "papermill": {
     "duration": 0.603352,
     "end_time": "2024-05-14T19:37:01.092647",
     "exception": false,
     "start_time": "2024-05-14T19:37:00.489295",
     "status": "completed"
    },
    "tags": []
   },
   "outputs": [],
   "source": [
    "# Then to get the diff use the following to compair revision 1 to revision max... this is a little wierd... but it works\n",
    "# I tought there would be a 'get' for all elements of a resource??? No... we must ask for the differential between the initial resource and its current version???\n",
    "# curl -X GET \"https://18.205.77.131:8111/osmc/workspaces/bb95d8f4-fae4-490c-b764-4f83e3bba4f5/resources/272e28f2-45b7-45cb-a016-800ba747e716/revisiondiff?source=1&target=44\" -H \"accept: application/json\"\n",
    "sourceRevision = 1\n",
    "targetRevision = latestRevision\n",
    "call = f'/osmc/workspaces/{workspaceId}/resources/{projectId}/revisiondiff?source={sourceRevision}&target={targetRevision}'\n",
    "url = f'https://{serverIp}:{serverPort}{call}'\n",
    "resp_elementList = requests.get(url,headers=headers, verify=False) # turn of verification here since our server is not super secure\n",
    "elementList_json = resp_elementList.json()['added'] # just get the added (availibe items are removed, added, changed, and empty)\n",
    "elementList = json.dumps(elementList_json) # push to flat string\n",
    "elementList = elementList.replace('\"','').replace(\"[\",\"\").replace(\"]\",\"\").replace(\" \",\"\") # remove the sting junk\n",
    "#elementList_json\n",
    "#elementList"
   ]
  },
  {
   "cell_type": "code",
   "execution_count": 11,
   "id": "3a1ff0ab-be19-4c9e-a93b-bccde278f2e1",
   "metadata": {
    "execution": {
     "iopub.execute_input": "2024-05-14T19:37:01.116890Z",
     "iopub.status.busy": "2024-05-14T19:37:01.116890Z",
     "iopub.status.idle": "2024-05-14T19:37:01.905943Z",
     "shell.execute_reply": "2024-05-14T19:37:01.905943Z"
    },
    "papermill": {
     "duration": 0.809209,
     "end_time": "2024-05-14T19:37:01.905943",
     "exception": false,
     "start_time": "2024-05-14T19:37:01.096734",
     "status": "completed"
    },
    "tags": []
   },
   "outputs": [],
   "source": [
    "# OK great.. now we have a list of elements from the selected model\n",
    "# Lets no loop through these elements and build a json file of each elements specific information - This time we post :)\n",
    "# curl -X POST \"https://18.205.77.131:8111/osmc/resources/272e28f2-45b7-45cb-a016-800ba747e716/elements\" -H \"accept: application/ld+json\" -H \"Content-Type: text/plain\" -d \"aa4bdacf-c246-4865-bf50-cc9be2a16f16, 8a2153fc-ba11-4f9c-a2c0-2cb5114f2356 \"\n",
    "call = f'/osmc/resources/{projectId}/elements'\n",
    "url = f'https://{serverIp}:{serverPort}{call}'\n",
    "headers={\"accept\":\"application/ld+json\", \"Content-Type\":\"text/plain\", \"authorization\":f\"Basic {authId}\"}\n",
    "resp_elementListData = requests.post(url,headers=headers, verify=False, data = elementList) # turn of verification here since our server is not super secure\n",
    "elementListData = resp_elementListData.json() # just get the added (availibe items are removed, added, changed, and empty)\n",
    "#elementListData"
   ]
  },
  {
   "cell_type": "code",
   "execution_count": 12,
   "id": "7acc5d6c-590c-4827-b1eb-96bf18e73f79",
   "metadata": {
    "execution": {
     "iopub.execute_input": "2024-05-14T19:37:01.920482Z",
     "iopub.status.busy": "2024-05-14T19:37:01.919484Z",
     "iopub.status.idle": "2024-05-14T19:37:01.936450Z",
     "shell.execute_reply": "2024-05-14T19:37:01.936450Z"
    },
    "papermill": {
     "duration": 0.026507,
     "end_time": "2024-05-14T19:37:01.936450",
     "exception": false,
     "start_time": "2024-05-14T19:37:01.909943",
     "status": "completed"
    },
    "tags": []
   },
   "outputs": [
    {
     "data": {
      "text/plain": [
       "{11: 11, 24: 24, 25: 25, 31: 31}"
      ]
     },
     "execution_count": 12,
     "metadata": {},
     "output_type": "execute_result"
    }
   ],
   "source": [
    "# Lets loop throug the selected projects elemetns and find the index of all literal real values\n",
    "literalRealIndex = {}\n",
    "for i in range(len(elementList_json)): # Where i is the uuid of the element in this case\n",
    "    if elementListData[elementList_json[i]]['data'][0]['@type'] == ['ldp:DirectContainer', 'uml:LiteralReal']:\n",
    "        literalRealIndex[i] = i # Add any key to the index that is a literal real\n",
    "literalRealIndex\n",
    "#elementList_json[4]\n",
    "#elementListData['554e62c4-5bd6-46d5-97cc-900c35c46913']"
   ]
  },
  {
   "cell_type": "code",
   "execution_count": 13,
   "id": "8cc0963a-94bf-4b3c-865f-d619212fad8b",
   "metadata": {
    "execution": {
     "iopub.execute_input": "2024-05-14T19:37:01.957484Z",
     "iopub.status.busy": "2024-05-14T19:37:01.956484Z",
     "iopub.status.idle": "2024-05-14T19:37:01.967009Z",
     "shell.execute_reply": "2024-05-14T19:37:01.968008Z"
    },
    "papermill": {
     "duration": 0.027564,
     "end_time": "2024-05-14T19:37:01.968008",
     "exception": false,
     "start_time": "2024-05-14T19:37:01.940444",
     "status": "completed"
    },
    "tags": []
   },
   "outputs": [
    {
     "data": {
      "text/plain": [
       "{11: ('length', '3.256'),\n",
       " 24: ('height', '14.2'),\n",
       " 25: ('width', '2.635'),\n",
       " 31: ('dateTime', '1.0')}"
      ]
     },
     "execution_count": 13,
     "metadata": {},
     "output_type": "execute_result"
    }
   ],
   "source": [
    "# So this is getting invloved and about here is where recursion starts to rear its ugly head\n",
    "# Lets just get through this for now and we can build a better mouse trap the next round\n",
    "\n",
    "valueCells = {}\n",
    "values = {}\n",
    "elementIds = {}\n",
    "\n",
    "#print(\"Here we can modkify the vendor model values if we like.\")\n",
    "\n",
    "# We can loop through the matched elements and the build widgets to edit them\n",
    "for keys in literalRealIndex:\n",
    "    owenersId = elementListData[elementList_json[keys]]['data'][1]['kerml:owner']['@id']\n",
    "    ownersName = elementListData[owenersId]['data'][1]['kerml:name']\n",
    "    currentValue = elementListData[elementList_json[keys]]['data'][1][\"kerml:esiData\"][\"value\"]\n",
    "    elementIds[keys] = elementList_json[keys]\n",
    "    values[keys] = (ownersName, currentValue)\n",
    "    valueCells[keys] = widgets.Text(description=ownersName, value=currentValue); #display(valueCells[keys])\n",
    "    #print(elementListData[elementList_json[keys]]['data'][1]['kerml:owner']['@id'], elementListData[elementList_json[keys]]['data'][1][\"kerml:esiData\"][\"value\"])    \n",
    "\n",
    "# # Create a button to push for fun :)\n",
    "# btn = widgets.Button(description = \"Update Model Values\")\n",
    "# display(btn)\n",
    "\n",
    "# # This functuon is executed after pushing the button\n",
    "# def updateSystemModelVals(b):\n",
    "#     for cells in valueCells:\n",
    "#         # Create the payload\n",
    "#         dataValue = {\"kerml:esiData\":{\"value\":\"0.0\"}} # Build the data payload\n",
    "#         dataValue[\"kerml:esiData\"][\"value\"] = valueCells[cells].value # Update the json string\n",
    "        \n",
    "#         # Now build the api call\n",
    "#         call = f'/osmc/resources/{projectId}/elements/{elementIds[cells]}'\n",
    "#         url = f'https://{serverIp}:{serverPort}{call}'\n",
    "#         headers={\"accept\":\"application/ld+json\", \"authorization\":f\"Basic {authId}\", \"Content-Type\":\"application/ld+json\"}\n",
    "        \n",
    "#         # Have to add a new header of content type\n",
    "#         resp_value = requests.patch(url, headers = headers, verify = False, json = dataValue) # turn of verification here since our server is not super secure\n",
    "#         print(url)\n",
    "#         resp_value.status_code\n",
    "#         # print(dataValue)\n",
    "#         print(resp_value.content)\n",
    "        \n",
    "# # The button callback\n",
    "# btn.on_click(updateSystemModelVals)\n",
    "values"
   ]
  },
  {
   "cell_type": "code",
   "execution_count": 14,
   "id": "e255095d-9620-4e8e-914f-9803528554df",
   "metadata": {
    "execution": {
     "iopub.execute_input": "2024-05-14T19:37:01.985033Z",
     "iopub.status.busy": "2024-05-14T19:37:01.985033Z",
     "iopub.status.idle": "2024-05-14T19:37:01.998080Z",
     "shell.execute_reply": "2024-05-14T19:37:01.998080Z"
    },
    "papermill": {
     "duration": 0.024561,
     "end_time": "2024-05-14T19:37:01.998080",
     "exception": false,
     "start_time": "2024-05-14T19:37:01.973519",
     "status": "completed"
    },
    "tags": []
   },
   "outputs": [
    {
     "name": "stdout",
     "output_type": "stream",
     "text": [
      "  Description  Value\n",
      "0      length  3.256\n",
      "1      height   14.2\n",
      "2       width  2.635\n",
      "3    dateTime    1.0\n"
     ]
    }
   ],
   "source": [
    "# Creating a list of dictionaries, each containing the description and value\n",
    "data = [{'Description': desc_value[0], 'Value': desc_value[1]} for desc_value in values.values()]\n",
    "\n",
    "# Creating a DataFrame from the list of dictionaries\n",
    "df = pd.DataFrame(data)\n",
    "\n",
    "# Display the DataFrame\n",
    "print(df)"
   ]
  },
  {
   "cell_type": "code",
   "execution_count": 15,
   "id": "89ff243c-ee9c-44c1-ac3d-6b0eb35662d4",
   "metadata": {
    "execution": {
     "iopub.execute_input": "2024-05-14T19:37:02.014141Z",
     "iopub.status.busy": "2024-05-14T19:37:02.014141Z",
     "iopub.status.idle": "2024-05-14T19:37:02.032166Z",
     "shell.execute_reply": "2024-05-14T19:37:02.030662Z"
    },
    "papermill": {
     "duration": 0.028538,
     "end_time": "2024-05-14T19:37:02.032166",
     "exception": false,
     "start_time": "2024-05-14T19:37:02.003628",
     "status": "completed"
    },
    "tags": []
   },
   "outputs": [
    {
     "name": "stdout",
     "output_type": "stream",
     "text": [
      "Value of width: 2.635\n"
     ]
    }
   ],
   "source": [
    "value_of_width = df[df['Description'] == 'width']['Value'].iloc[0]\n",
    "print(\"Value of width:\", value_of_width)"
   ]
  },
  {
   "cell_type": "code",
   "execution_count": 16,
   "id": "63906ed1-df56-4c92-8fa0-1ab28fc367e2",
   "metadata": {
    "execution": {
     "iopub.execute_input": "2024-05-14T19:37:02.050688Z",
     "iopub.status.busy": "2024-05-14T19:37:02.049692Z",
     "iopub.status.idle": "2024-05-14T19:37:02.062727Z",
     "shell.execute_reply": "2024-05-14T19:37:02.061220Z"
    },
    "papermill": {
     "duration": 0.025553,
     "end_time": "2024-05-14T19:37:02.062727",
     "exception": false,
     "start_time": "2024-05-14T19:37:02.037174",
     "status": "completed"
    },
    "tags": []
   },
   "outputs": [
    {
     "name": "stdout",
     "output_type": "stream",
     "text": [
      "length: 3.256\n",
      "height: 14.2\n",
      "width: 2.635\n",
      "dateTime: 1.0\n"
     ]
    }
   ],
   "source": [
    "for index, row in df.iterrows():\n",
    "    print(f\"{row['Description']}: {row['Value']}\")"
   ]
  },
  {
   "cell_type": "markdown",
   "id": "f08d1a0c-88a8-42a3-a73d-771419e75686",
   "metadata": {
    "papermill": {
     "duration": 0.006512,
     "end_time": "2024-05-14T19:37:02.075255",
     "exception": false,
     "start_time": "2024-05-14T19:37:02.068743",
     "status": "completed"
    },
    "tags": []
   },
   "source": [
    "## Notes:\n",
    "- We are not using FQNs and this is an artifact of SysMLV1.x (intrinsic in v2)\n",
    "- Here we have three  attributes of the VendorA model\n",
    "- Now lets push these to the ADT model and solve for the volume\n",
    "- In the next version we can pull/push from instances which again are not fun in V1.x due to the slots not haveing names just owners so we have to drill down a little further. I have this completed as a part of the Dassault model last year. "
   ]
  },
  {
   "cell_type": "code",
   "execution_count": 17,
   "id": "fa5e1c26-e850-4844-a147-cea88fae18e1",
   "metadata": {
    "execution": {
     "iopub.execute_input": "2024-05-14T19:37:02.094295Z",
     "iopub.status.busy": "2024-05-14T19:37:02.093296Z",
     "iopub.status.idle": "2024-05-14T19:37:02.107319Z",
     "shell.execute_reply": "2024-05-14T19:37:02.107319Z"
    },
    "papermill": {
     "duration": 0.024544,
     "end_time": "2024-05-14T19:37:02.108320",
     "exception": false,
     "start_time": "2024-05-14T19:37:02.083776",
     "status": "completed"
    },
    "tags": []
   },
   "outputs": [],
   "source": [
    "# Lets write the data to a file that will be used to update the ADT Model\n",
    "#df.to_json('vendorA.json', orient='records', lines=True)\n",
    "df.to_json('vendorA.json', orient='records')"
   ]
  }
 ],
 "metadata": {
  "kernelspec": {
   "display_name": "Python 3 (ipykernel)",
   "language": "python",
   "name": "python3"
  },
  "language_info": {
   "codemirror_mode": {
    "name": "ipython",
    "version": 3
   },
   "file_extension": ".py",
   "mimetype": "text/x-python",
   "name": "python",
   "nbconvert_exporter": "python",
   "pygments_lexer": "ipython3",
   "version": "3.10.14"
  },
  "papermill": {
   "default_parameters": {},
   "duration": 8.647721,
   "end_time": "2024-05-14T19:37:02.360294",
   "environment_variables": {},
   "exception": null,
   "input_path": "C:\\Users\\JohnDeHart\\Documents\\GitHub\\Notebooks\\twc_interactions\\pull_vendor_api.ipynb",
   "output_path": "C:\\Users\\JohnDeHart\\Documents\\GitHub\\Notebooks\\twc_interactions\\pull_vendor_api.ipynb",
   "parameters": {},
   "start_time": "2024-05-14T19:36:53.712573",
   "version": "2.6.0"
  },
  "widgets": {
   "application/vnd.jupyter.widget-state+json": {
    "state": {
     "008de3d22ba14012ac98cc3eb3c7f87b": {
      "model_module": "@jupyter-widgets/controls",
      "model_module_version": "2.0.0",
      "model_name": "DescriptionStyleModel",
      "state": {
       "_model_module": "@jupyter-widgets/controls",
       "_model_module_version": "2.0.0",
       "_model_name": "DescriptionStyleModel",
       "_view_count": null,
       "_view_module": "@jupyter-widgets/base",
       "_view_module_version": "2.0.0",
       "_view_name": "StyleView",
       "description_width": ""
      }
     },
     "0159297f4e404228a622397628ce72a0": {
      "model_module": "@jupyter-widgets/base",
      "model_module_version": "2.0.0",
      "model_name": "LayoutModel",
      "state": {
       "_model_module": "@jupyter-widgets/base",
       "_model_module_version": "2.0.0",
       "_model_name": "LayoutModel",
       "_view_count": null,
       "_view_module": "@jupyter-widgets/base",
       "_view_module_version": "2.0.0",
       "_view_name": "LayoutView",
       "align_content": null,
       "align_items": null,
       "align_self": null,
       "border_bottom": null,
       "border_left": null,
       "border_right": null,
       "border_top": null,
       "bottom": null,
       "display": null,
       "flex": null,
       "flex_flow": null,
       "grid_area": null,
       "grid_auto_columns": null,
       "grid_auto_flow": null,
       "grid_auto_rows": null,
       "grid_column": null,
       "grid_gap": null,
       "grid_row": null,
       "grid_template_areas": null,
       "grid_template_columns": null,
       "grid_template_rows": null,
       "height": null,
       "justify_content": null,
       "justify_items": null,
       "left": null,
       "margin": null,
       "max_height": null,
       "max_width": null,
       "min_height": null,
       "min_width": null,
       "object_fit": null,
       "object_position": null,
       "order": null,
       "overflow": null,
       "padding": null,
       "right": null,
       "top": null,
       "visibility": null,
       "width": null
      }
     },
     "09ad5492e2fa4e0b8653322145fd7469": {
      "model_module": "@jupyter-widgets/controls",
      "model_module_version": "2.0.0",
      "model_name": "TextStyleModel",
      "state": {
       "_model_module": "@jupyter-widgets/controls",
       "_model_module_version": "2.0.0",
       "_model_name": "TextStyleModel",
       "_view_count": null,
       "_view_module": "@jupyter-widgets/base",
       "_view_module_version": "2.0.0",
       "_view_name": "StyleView",
       "background": null,
       "description_width": "",
       "font_size": null,
       "text_color": null
      }
     },
     "2c3350d08204446e9938862971770ccd": {
      "model_module": "@jupyter-widgets/controls",
      "model_module_version": "2.0.0",
      "model_name": "DescriptionStyleModel",
      "state": {
       "_model_module": "@jupyter-widgets/controls",
       "_model_module_version": "2.0.0",
       "_model_name": "DescriptionStyleModel",
       "_view_count": null,
       "_view_module": "@jupyter-widgets/base",
       "_view_module_version": "2.0.0",
       "_view_name": "StyleView",
       "description_width": ""
      }
     },
     "3c0cb4302a9d48cf9dea6dfd15103065": {
      "model_module": "@jupyter-widgets/base",
      "model_module_version": "2.0.0",
      "model_name": "LayoutModel",
      "state": {
       "_model_module": "@jupyter-widgets/base",
       "_model_module_version": "2.0.0",
       "_model_name": "LayoutModel",
       "_view_count": null,
       "_view_module": "@jupyter-widgets/base",
       "_view_module_version": "2.0.0",
       "_view_name": "LayoutView",
       "align_content": null,
       "align_items": null,
       "align_self": null,
       "border_bottom": null,
       "border_left": null,
       "border_right": null,
       "border_top": null,
       "bottom": null,
       "display": null,
       "flex": null,
       "flex_flow": null,
       "grid_area": null,
       "grid_auto_columns": null,
       "grid_auto_flow": null,
       "grid_auto_rows": null,
       "grid_column": null,
       "grid_gap": null,
       "grid_row": null,
       "grid_template_areas": null,
       "grid_template_columns": null,
       "grid_template_rows": null,
       "height": null,
       "justify_content": null,
       "justify_items": null,
       "left": null,
       "margin": null,
       "max_height": null,
       "max_width": null,
       "min_height": null,
       "min_width": null,
       "object_fit": null,
       "object_position": null,
       "order": null,
       "overflow": null,
       "padding": null,
       "right": null,
       "top": null,
       "visibility": null,
       "width": null
      }
     },
     "55eaaddc3e794ccd8e22f79f64ed0b63": {
      "model_module": "@jupyter-widgets/base",
      "model_module_version": "2.0.0",
      "model_name": "LayoutModel",
      "state": {
       "_model_module": "@jupyter-widgets/base",
       "_model_module_version": "2.0.0",
       "_model_name": "LayoutModel",
       "_view_count": null,
       "_view_module": "@jupyter-widgets/base",
       "_view_module_version": "2.0.0",
       "_view_name": "LayoutView",
       "align_content": null,
       "align_items": null,
       "align_self": null,
       "border_bottom": null,
       "border_left": null,
       "border_right": null,
       "border_top": null,
       "bottom": null,
       "display": null,
       "flex": null,
       "flex_flow": null,
       "grid_area": null,
       "grid_auto_columns": null,
       "grid_auto_flow": null,
       "grid_auto_rows": null,
       "grid_column": null,
       "grid_gap": null,
       "grid_row": null,
       "grid_template_areas": null,
       "grid_template_columns": null,
       "grid_template_rows": null,
       "height": null,
       "justify_content": null,
       "justify_items": null,
       "left": null,
       "margin": null,
       "max_height": null,
       "max_width": null,
       "min_height": null,
       "min_width": null,
       "object_fit": null,
       "object_position": null,
       "order": null,
       "overflow": null,
       "padding": null,
       "right": null,
       "top": null,
       "visibility": null,
       "width": null
      }
     },
     "5ce02027876a405ebd859f3465191f22": {
      "model_module": "@jupyter-widgets/controls",
      "model_module_version": "2.0.0",
      "model_name": "TextStyleModel",
      "state": {
       "_model_module": "@jupyter-widgets/controls",
       "_model_module_version": "2.0.0",
       "_model_name": "TextStyleModel",
       "_view_count": null,
       "_view_module": "@jupyter-widgets/base",
       "_view_module_version": "2.0.0",
       "_view_name": "StyleView",
       "background": null,
       "description_width": "",
       "font_size": null,
       "text_color": null
      }
     },
     "6ef5b6306bd44b9d925f8a262e819405": {
      "model_module": "@jupyter-widgets/controls",
      "model_module_version": "2.0.0",
      "model_name": "TextStyleModel",
      "state": {
       "_model_module": "@jupyter-widgets/controls",
       "_model_module_version": "2.0.0",
       "_model_name": "TextStyleModel",
       "_view_count": null,
       "_view_module": "@jupyter-widgets/base",
       "_view_module_version": "2.0.0",
       "_view_name": "StyleView",
       "background": null,
       "description_width": "",
       "font_size": null,
       "text_color": null
      }
     },
     "71cfe278580e4d2cb56735a8c91f2e90": {
      "model_module": "@jupyter-widgets/controls",
      "model_module_version": "2.0.0",
      "model_name": "TextModel",
      "state": {
       "_dom_classes": [],
       "_model_module": "@jupyter-widgets/controls",
       "_model_module_version": "2.0.0",
       "_model_name": "TextModel",
       "_view_count": null,
       "_view_module": "@jupyter-widgets/controls",
       "_view_module_version": "2.0.0",
       "_view_name": "TextView",
       "continuous_update": true,
       "description": "dateTime",
       "description_allow_html": false,
       "disabled": false,
       "layout": "IPY_MODEL_a7da0d19c3414993a0e823c0bd7f13b9",
       "placeholder": "​",
       "style": "IPY_MODEL_fabe696bef704d69ac1165bd71285273",
       "tabbable": null,
       "tooltip": null,
       "value": "1.0"
      }
     },
     "7477a69fab134271b9e535a9ce67a94e": {
      "model_module": "@jupyter-widgets/controls",
      "model_module_version": "2.0.0",
      "model_name": "DropdownModel",
      "state": {
       "_dom_classes": [],
       "_model_module": "@jupyter-widgets/controls",
       "_model_module_version": "2.0.0",
       "_model_name": "DropdownModel",
       "_options_labels": [
        "ADT_Projects",
        "Test_Projects",
        "Project_Templates",
        "Uncategorized"
       ],
       "_view_count": null,
       "_view_module": "@jupyter-widgets/controls",
       "_view_module_version": "2.0.0",
       "_view_name": "DropdownView",
       "description": "Workspaces:",
       "description_allow_html": false,
       "disabled": false,
       "index": 0,
       "layout": "IPY_MODEL_55eaaddc3e794ccd8e22f79f64ed0b63",
       "style": "IPY_MODEL_2c3350d08204446e9938862971770ccd",
       "tabbable": null,
       "tooltip": null
      }
     },
     "a7da0d19c3414993a0e823c0bd7f13b9": {
      "model_module": "@jupyter-widgets/base",
      "model_module_version": "2.0.0",
      "model_name": "LayoutModel",
      "state": {
       "_model_module": "@jupyter-widgets/base",
       "_model_module_version": "2.0.0",
       "_model_name": "LayoutModel",
       "_view_count": null,
       "_view_module": "@jupyter-widgets/base",
       "_view_module_version": "2.0.0",
       "_view_name": "LayoutView",
       "align_content": null,
       "align_items": null,
       "align_self": null,
       "border_bottom": null,
       "border_left": null,
       "border_right": null,
       "border_top": null,
       "bottom": null,
       "display": null,
       "flex": null,
       "flex_flow": null,
       "grid_area": null,
       "grid_auto_columns": null,
       "grid_auto_flow": null,
       "grid_auto_rows": null,
       "grid_column": null,
       "grid_gap": null,
       "grid_row": null,
       "grid_template_areas": null,
       "grid_template_columns": null,
       "grid_template_rows": null,
       "height": null,
       "justify_content": null,
       "justify_items": null,
       "left": null,
       "margin": null,
       "max_height": null,
       "max_width": null,
       "min_height": null,
       "min_width": null,
       "object_fit": null,
       "object_position": null,
       "order": null,
       "overflow": null,
       "padding": null,
       "right": null,
       "top": null,
       "visibility": null,
       "width": null
      }
     },
     "bc3cd11841c848c08f7166515a005dee": {
      "model_module": "@jupyter-widgets/controls",
      "model_module_version": "2.0.0",
      "model_name": "TextModel",
      "state": {
       "_dom_classes": [],
       "_model_module": "@jupyter-widgets/controls",
       "_model_module_version": "2.0.0",
       "_model_name": "TextModel",
       "_view_count": null,
       "_view_module": "@jupyter-widgets/controls",
       "_view_module_version": "2.0.0",
       "_view_name": "TextView",
       "continuous_update": true,
       "description": "length",
       "description_allow_html": false,
       "disabled": false,
       "layout": "IPY_MODEL_3c0cb4302a9d48cf9dea6dfd15103065",
       "placeholder": "​",
       "style": "IPY_MODEL_6ef5b6306bd44b9d925f8a262e819405",
       "tabbable": null,
       "tooltip": null,
       "value": "3.256"
      }
     },
     "c4dfaa718c74452385bda2c2e450445d": {
      "model_module": "@jupyter-widgets/controls",
      "model_module_version": "2.0.0",
      "model_name": "DropdownModel",
      "state": {
       "_dom_classes": [],
       "_model_module": "@jupyter-widgets/controls",
       "_model_module_version": "2.0.0",
       "_model_name": "DropdownModel",
       "_options_labels": [
        "TestVerdictKind",
        "ADT_Model2",
        "VendorA",
        "ADT_Model",
        "MacroEngine_Profile"
       ],
       "_view_count": null,
       "_view_module": "@jupyter-widgets/controls",
       "_view_module_version": "2.0.0",
       "_view_name": "DropdownView",
       "description": "Projects:",
       "description_allow_html": false,
       "disabled": false,
       "index": 0,
       "layout": "IPY_MODEL_e197c32bb6a545e3beb953ac4632df92",
       "style": "IPY_MODEL_008de3d22ba14012ac98cc3eb3c7f87b",
       "tabbable": null,
       "tooltip": null
      }
     },
     "e14e6038c4f54ed9b8918698de468346": {
      "model_module": "@jupyter-widgets/base",
      "model_module_version": "2.0.0",
      "model_name": "LayoutModel",
      "state": {
       "_model_module": "@jupyter-widgets/base",
       "_model_module_version": "2.0.0",
       "_model_name": "LayoutModel",
       "_view_count": null,
       "_view_module": "@jupyter-widgets/base",
       "_view_module_version": "2.0.0",
       "_view_name": "LayoutView",
       "align_content": null,
       "align_items": null,
       "align_self": null,
       "border_bottom": null,
       "border_left": null,
       "border_right": null,
       "border_top": null,
       "bottom": null,
       "display": null,
       "flex": null,
       "flex_flow": null,
       "grid_area": null,
       "grid_auto_columns": null,
       "grid_auto_flow": null,
       "grid_auto_rows": null,
       "grid_column": null,
       "grid_gap": null,
       "grid_row": null,
       "grid_template_areas": null,
       "grid_template_columns": null,
       "grid_template_rows": null,
       "height": null,
       "justify_content": null,
       "justify_items": null,
       "left": null,
       "margin": null,
       "max_height": null,
       "max_width": null,
       "min_height": null,
       "min_width": null,
       "object_fit": null,
       "object_position": null,
       "order": null,
       "overflow": null,
       "padding": null,
       "right": null,
       "top": null,
       "visibility": null,
       "width": null
      }
     },
     "e197c32bb6a545e3beb953ac4632df92": {
      "model_module": "@jupyter-widgets/base",
      "model_module_version": "2.0.0",
      "model_name": "LayoutModel",
      "state": {
       "_model_module": "@jupyter-widgets/base",
       "_model_module_version": "2.0.0",
       "_model_name": "LayoutModel",
       "_view_count": null,
       "_view_module": "@jupyter-widgets/base",
       "_view_module_version": "2.0.0",
       "_view_name": "LayoutView",
       "align_content": null,
       "align_items": null,
       "align_self": null,
       "border_bottom": null,
       "border_left": null,
       "border_right": null,
       "border_top": null,
       "bottom": null,
       "display": null,
       "flex": null,
       "flex_flow": null,
       "grid_area": null,
       "grid_auto_columns": null,
       "grid_auto_flow": null,
       "grid_auto_rows": null,
       "grid_column": null,
       "grid_gap": null,
       "grid_row": null,
       "grid_template_areas": null,
       "grid_template_columns": null,
       "grid_template_rows": null,
       "height": null,
       "justify_content": null,
       "justify_items": null,
       "left": null,
       "margin": null,
       "max_height": null,
       "max_width": null,
       "min_height": null,
       "min_width": null,
       "object_fit": null,
       "object_position": null,
       "order": null,
       "overflow": null,
       "padding": null,
       "right": null,
       "top": null,
       "visibility": null,
       "width": null
      }
     },
     "e2c90200ee8443b69094c82f5f90d855": {
      "model_module": "@jupyter-widgets/controls",
      "model_module_version": "2.0.0",
      "model_name": "TextModel",
      "state": {
       "_dom_classes": [],
       "_model_module": "@jupyter-widgets/controls",
       "_model_module_version": "2.0.0",
       "_model_name": "TextModel",
       "_view_count": null,
       "_view_module": "@jupyter-widgets/controls",
       "_view_module_version": "2.0.0",
       "_view_name": "TextView",
       "continuous_update": true,
       "description": "height",
       "description_allow_html": false,
       "disabled": false,
       "layout": "IPY_MODEL_e14e6038c4f54ed9b8918698de468346",
       "placeholder": "​",
       "style": "IPY_MODEL_5ce02027876a405ebd859f3465191f22",
       "tabbable": null,
       "tooltip": null,
       "value": "14.2"
      }
     },
     "fa548921d5ef4d5ea237081745dab06b": {
      "model_module": "@jupyter-widgets/controls",
      "model_module_version": "2.0.0",
      "model_name": "TextModel",
      "state": {
       "_dom_classes": [],
       "_model_module": "@jupyter-widgets/controls",
       "_model_module_version": "2.0.0",
       "_model_name": "TextModel",
       "_view_count": null,
       "_view_module": "@jupyter-widgets/controls",
       "_view_module_version": "2.0.0",
       "_view_name": "TextView",
       "continuous_update": true,
       "description": "width",
       "description_allow_html": false,
       "disabled": false,
       "layout": "IPY_MODEL_0159297f4e404228a622397628ce72a0",
       "placeholder": "​",
       "style": "IPY_MODEL_09ad5492e2fa4e0b8653322145fd7469",
       "tabbable": null,
       "tooltip": null,
       "value": "2.635"
      }
     },
     "fabe696bef704d69ac1165bd71285273": {
      "model_module": "@jupyter-widgets/controls",
      "model_module_version": "2.0.0",
      "model_name": "TextStyleModel",
      "state": {
       "_model_module": "@jupyter-widgets/controls",
       "_model_module_version": "2.0.0",
       "_model_name": "TextStyleModel",
       "_view_count": null,
       "_view_module": "@jupyter-widgets/base",
       "_view_module_version": "2.0.0",
       "_view_name": "StyleView",
       "background": null,
       "description_width": "",
       "font_size": null,
       "text_color": null
      }
     }
    },
    "version_major": 2,
    "version_minor": 0
   }
  }
 },
 "nbformat": 4,
 "nbformat_minor": 5
}