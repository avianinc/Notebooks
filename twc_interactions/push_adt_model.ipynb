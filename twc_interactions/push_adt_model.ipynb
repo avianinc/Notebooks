{
 "cells": [
  {
   "cell_type": "markdown",
   "id": "84c1130b-00ac-4bf5-adc2-6440992818c3",
   "metadata": {},
   "source": [
    "## API Interaction - Push Dataframe to ADT Project\n",
    "In this example we log into a remote teamworkcloud instance and update a model with data from a local json file.\n",
    "\n",
    "Steps:\n",
    "1. Read in the Vendor data json\n",
    "2. Login to the TWC API Server\n",
    "3. Retrieve a list of the workspaces (called categories in the TWC GUI)\n",
    "4. Select the workspace to retrieve a list of projects\n",
    "5. Retrieve a list project from the defined workspace\n",
    "6. Select an ADT project to retrieve all elements (in memory json file)\n",
    "7. Retrieve Literal Reals with Names\n",
    "8. Match the ADT Values with the Vendor Values\n",
    "9. Update the ADT Model (just block for now) \n"
   ]
  },
  {
   "cell_type": "code",
   "execution_count": 1,
   "id": "4af5975a-9e49-419c-9f74-98dd6dd7dea6",
   "metadata": {},
   "outputs": [],
   "source": [
    "# A little set up\n",
    "import json\n",
    "import requests # performs the curl function in python\n",
    "import ipywidgets as widgets\n",
    "from ipywidgets import Dropdown\n",
    "from IPython.display import display\n",
    "import pandas as pd\n",
    "\n",
    "import warnings\n",
    "warnings.filterwarnings('ignore')\n",
    "\n",
    "import time\n",
    "from anytree import Node, RenderTree"
   ]
  },
  {
   "cell_type": "code",
   "execution_count": 2,
   "id": "eedcf80b-f265-49d2-be93-9138f67c5493",
   "metadata": {
    "tags": []
   },
   "outputs": [],
   "source": [
    "# Load the model dataframe\n",
    "# Reading from a JSON array\n",
    "df_input = pd.read_json('vendorA.json')"
   ]
  },
  {
   "cell_type": "code",
   "execution_count": 3,
   "id": "0edc622a-953e-4400-aab7-686add9ef200",
   "metadata": {},
   "outputs": [],
   "source": [
    "# Lets get a list of workspaces from the teamworkcloud server\n",
    "# API --> https://18.205.77.131:8111/osmc/swagger/?url=https%3A%2F%2F18.205.77.131%3A8111%2Fosmc%2Fmanual\n",
    "#serverIp = '18.205.77.131' # Avian server\n",
    "serverIp = '10.107.1.92' # ADT MA server\n",
    "serverPort = '8111'\n",
    "call = '/osmc/workspaces?includeBody=True'\n",
    "# authId = \"amRlaGFydDpqa2QyMjE0MDA=\" # avian id\n",
    "authId = \"amRlaGFydDpSemhlZ3hoQ1RoWmY=\" # ADT MA ID\n",
    "url = f'https://{serverIp}:{serverPort}{call}'\n",
    "headers={\"accept\":\"application/ld+json\",\"authorization\":f\"Basic {authId}\"}\n",
    "resp_ws = requests.get(url,headers=headers, verify=False) # turn of verification here since our server is not super secure\n",
    "workspaces = resp_ws.json() # Convert the response content to a json format\n",
    "#print(json.dumps(workspaces, indent=4))"
   ]
  },
  {
   "cell_type": "code",
   "execution_count": 4,
   "id": "987ff411-4b07-4894-b2a8-95e74dc71d1a",
   "metadata": {},
   "outputs": [
    {
     "data": {
      "application/vnd.jupyter.widget-view+json": {
       "model_id": "c4a018f8ef1f4f84b36a76cdbbf84555",
       "version_major": 2,
       "version_minor": 0
      },
      "text/plain": [
       "Dropdown(description='Workspaces:', options=('ADT_Projects', 'Test_Projects', 'Project_Templates', 'Uncategori…"
      ]
     },
     "metadata": {},
     "output_type": "display_data"
    }
   ],
   "source": [
    "# lets create a combobox to list the avalible workspaces\n",
    "# Build arrays of the items\n",
    "workspaceIds = {}\n",
    "workspaceNames = {}\n",
    "\n",
    "# Lets build a list of workspaces for selection\n",
    "for i in range(len(workspaces[\"ldp:contains\"])):\n",
    "    workspaceIds[i] = workspaces[\"ldp:contains\"][i][0]['@id']\n",
    "    workspaceNames[i] = workspaces[\"ldp:contains\"][i][1][\"dcterms:title\"]\n",
    "\n",
    "# Fuction to monitor change of dropdown\n",
    "def dropdown_eventhandler(change):\n",
    "    print(change.new) # Write the selected item to the log\n",
    "\n",
    "# Now create a dropdown list of the avalible workspaces\n",
    "ws = widgets.Dropdown(options = workspaceNames.values(), description = 'Workspaces:')\n",
    "ws.observe(dropdown_eventhandler, names='value')\n",
    "\n",
    "# Displya the combobox\n",
    "display(ws)"
   ]
  },
  {
   "cell_type": "code",
   "execution_count": 5,
   "id": "4331c729-96fe-4b63-8d65-028a63adb28f",
   "metadata": {},
   "outputs": [],
   "source": [
    "# Lets match up the id from the selected workspace (poor implementation)\n",
    "wsIndex = list(filter(lambda x: workspaceNames[x] == ws.value, range(len(workspaceNames))))\n",
    "workspaceId = workspaceIds[wsIndex[0]]\n",
    "workspaceId = 'a2bf1c2f-03fb-4cbe-bb3d-4edce160916f'"
   ]
  },
  {
   "cell_type": "code",
   "execution_count": 6,
   "id": "1350666b-8109-4633-94e0-2fa7b38c5862",
   "metadata": {},
   "outputs": [
    {
     "data": {
      "text/plain": [
       "[{'@id': '4eb3de65-53f4-4d59-aca2-62de8351e81b'},\n",
       " {'@id': 'b5b69f4d-e1d0-4ddc-b514-d54b05d0a3b4'},\n",
       " {'@id': '5cb74688-9804-44b1-badb-4f09c5cb861e'}]"
      ]
     },
     "execution_count": 6,
     "metadata": {},
     "output_type": "execute_result"
    }
   ],
   "source": [
    "# Now lets list the models that are withing the selected workspace and place them in a dropbox\n",
    "# Ok... lets continue and list all of the the projects by project UID in this workspace\n",
    "call = f'/osmc/workspaces/{workspaceId}/resources'\n",
    "url = f'https://{serverIp}:{serverPort}{call}'\n",
    "resp_projects = requests.get(url,headers=headers, verify=False) # turn of verification here since our server is not super secure\n",
    "projectsList = resp_projects.json()\n",
    "projectsUidList = projectsList[1]['kerml:resources'] # Let just extract the UIDs for each project\n",
    "projectsUidList"
   ]
  },
  {
   "cell_type": "markdown",
   "id": "cad3a9b1-e45e-4f36-a583-8ee1b7c2bf78",
   "metadata": {},
   "source": [
    "## So you can see we show the ADT model uuid"
   ]
  },
  {
   "cell_type": "code",
   "execution_count": 7,
   "id": "a6fe0c52-9982-4e2d-859e-cd9ddc7f4026",
   "metadata": {},
   "outputs": [],
   "source": [
    "# Lets loop throug the projects and create a dictionary of the resource (or model) details\n",
    "projectsData = {}\n",
    "for i in range(len(projectsUidList)):\n",
    "    resourceId = projectsUidList[i]['@id'] # select the values for each id in the projectList\n",
    "    call = f'/osmc/workspaces/{workspaceId}/resources/{resourceId}'\n",
    "    url = f'https://{serverIp}:{serverPort}{call}'\n",
    "    resp_projects = requests.get(url,headers=headers, verify=False) # turn of verification here since our server is not super secure\n",
    "    #projectsData = json.dumps(resp_projects.json(), indent=4)\n",
    "    projectsData[i] = resp_projects.json()\n",
    "#print(json.dumps(projectsData, indent=4))"
   ]
  },
  {
   "cell_type": "code",
   "execution_count": 8,
   "id": "230ddde7-297f-47b6-a3bf-cac8be7b75fa",
   "metadata": {},
   "outputs": [
    {
     "data": {
      "application/vnd.jupyter.widget-view+json": {
       "model_id": "ba58783b07f140d7b6f6ee0a272dace6",
       "version_major": 2,
       "version_minor": 0
      },
      "text/plain": [
       "Dropdown(description='Projects:', options=('TestVerdictKind', 'ADT_Model', 'VendorA'), value='TestVerdictKind'…"
      ]
     },
     "metadata": {},
     "output_type": "display_data"
    }
   ],
   "source": [
    "# lets create a combobox to list the avalible projects (models) in this workspace\n",
    "# Build arrays of the items\n",
    "projectIds = {}\n",
    "projectNames = {}\n",
    "\n",
    "# Lets build a list of workspaces for selection\n",
    "for i in range(len(projectsData)):\n",
    "    projectIds[i] = projectsData[i]['@base'].split(\"/\")[7]\n",
    "    projectNames[i] = projectsData[i]['metadata']['name'].split(\".\")[0]\n",
    "\n",
    "# Now create a dropdown list of the avalible projects\n",
    "prj = widgets.Dropdown(options = projectNames.values(), description = 'Projects:')\n",
    "prj.observe(dropdown_eventhandler, names='value')\n",
    "\n",
    "# Displya the combobox\n",
    "display(prj)"
   ]
  },
  {
   "cell_type": "code",
   "execution_count": 9,
   "id": "200a5f0d-5994-42ea-942e-05a0f8412633",
   "metadata": {},
   "outputs": [],
   "source": [
    "# Lets match up the id from the selected workspace (poor implementation)\n",
    "prjIndex = list(filter(lambda x: projectNames[x] == prj.value, range(len(projectNames))))\n",
    "projectId = projectIds[prjIndex[0]]\n",
    "projectId = 'b5b69f4d-e1d0-4ddc-b514-d54b05d0a3b4'"
   ]
  },
  {
   "cell_type": "code",
   "execution_count": 10,
   "id": "a2b00f38-1ed4-49ca-8d95-1274fea2398f",
   "metadata": {},
   "outputs": [
    {
     "data": {
      "text/plain": [
       "61"
      ]
     },
     "execution_count": 10,
     "metadata": {},
     "output_type": "execute_result"
    }
   ],
   "source": [
    "# Ok so here is the wierd part... there is not direct way to extract the elements of a project (or model)\n",
    "# So we have to perform a 'diff' between the elements of the initial commit and the latest revision. \n",
    "\n",
    "# So lets get the latest revision number (or max revision number)\n",
    "# curl -X GET \"https://18.205.77.131:8111/osmc/workspaces/bb95d8f4-fae4-490c-b764-4f83e3bba4f5/resources/272e28f2-45b7-45cb-a016-800ba747e716/revisions\" -H \"accept: application/json\"\n",
    "call = f'/osmc/workspaces/{workspaceId}/resources/{projectId}/revisions'\n",
    "url = f'https://{serverIp}:{serverPort}{call}'\n",
    "resp_revList = requests.get(url,headers=headers, verify=False) # turn of verification here since our server is not super secure\n",
    "revisionList = resp_revList.json()\n",
    "latestRevision = max(revisionList)\n",
    "latestRevision"
   ]
  },
  {
   "cell_type": "code",
   "execution_count": 11,
   "id": "fbd61a9f-661a-43f6-8f4b-1cdf11214e4b",
   "metadata": {},
   "outputs": [],
   "source": [
    "# Then to get the diff use the following to compair revision 1 to revision max... this is a little wierd... but it works\n",
    "# I tought there would be a 'get' for all elements of a resource??? No... we must ask for the differential between the initial resource and its current version???\n",
    "# curl -X GET \"https://18.205.77.131:8111/osmc/workspaces/bb95d8f4-fae4-490c-b764-4f83e3bba4f5/resources/272e28f2-45b7-45cb-a016-800ba747e716/revisiondiff?source=1&target=44\" -H \"accept: application/json\"\n",
    "sourceRevision = 1\n",
    "targetRevision = latestRevision\n",
    "call = f'/osmc/workspaces/{workspaceId}/resources/{projectId}/revisiondiff?source={sourceRevision}&target={targetRevision}'\n",
    "url = f'https://{serverIp}:{serverPort}{call}'\n",
    "resp_elementList = requests.get(url,headers=headers, verify=False) # turn of verification here since our server is not super secure\n",
    "elementList_json = resp_elementList.json()['added'] # just get the added (availibe items are removed, added, changed, and empty)\n",
    "elementList = json.dumps(elementList_json) # push to flat string\n",
    "elementList = elementList.replace('\"','').replace(\"[\",\"\").replace(\"]\",\"\").replace(\" \",\"\") # remove the sting junk\n",
    "#elementList_json\n",
    "#elementList"
   ]
  },
  {
   "cell_type": "code",
   "execution_count": 12,
   "id": "3a1ff0ab-be19-4c9e-a93b-bccde278f2e1",
   "metadata": {},
   "outputs": [],
   "source": [
    "# OK great.. now we have a list of elements from the selected model\n",
    "# Lets no loop through these elements and build a json file of each elements specific information - This time we post :)\n",
    "# curl -X POST \"https://18.205.77.131:8111/osmc/resources/272e28f2-45b7-45cb-a016-800ba747e716/elements\" -H \"accept: application/ld+json\" -H \"Content-Type: text/plain\" -d \"aa4bdacf-c246-4865-bf50-cc9be2a16f16, 8a2153fc-ba11-4f9c-a2c0-2cb5114f2356 \"\n",
    "call = f'/osmc/resources/{projectId}/elements'\n",
    "url = f'https://{serverIp}:{serverPort}{call}'\n",
    "headers={\"accept\":\"application/ld+json\", \"Content-Type\":\"text/plain\", \"authorization\":f\"Basic {authId}\"}\n",
    "resp_elementListData = requests.post(url,headers=headers, verify=False, data = elementList) # turn of verification here since our server is not super secure\n",
    "elementListData = resp_elementListData.json() # just get the added (availibe items are removed, added, changed, and empty)\n",
    "#elementListData"
   ]
  },
  {
   "cell_type": "code",
   "execution_count": 13,
   "id": "7acc5d6c-590c-4827-b1eb-96bf18e73f79",
   "metadata": {},
   "outputs": [
    {
     "data": {
      "text/plain": [
       "{25: 25,\n",
       " 62: 62,\n",
       " 162: 162,\n",
       " 474: 474,\n",
       " 808: 808,\n",
       " 933: 933,\n",
       " 936: 936,\n",
       " 1144: 1144,\n",
       " 1616: 1616,\n",
       " 1705: 1705,\n",
       " 1744: 1744,\n",
       " 1966: 1966,\n",
       " 2086: 2086,\n",
       " 2154: 2154,\n",
       " 2176: 2176,\n",
       " 2466: 2466,\n",
       " 2599: 2599}"
      ]
     },
     "execution_count": 13,
     "metadata": {},
     "output_type": "execute_result"
    }
   ],
   "source": [
    "# Lets loop throug the selected projects elemetns and find the index of all literal real values\n",
    "literalRealIndex = {}\n",
    "for i in range(len(elementList_json)): # Where i is the uuid of the element in this case\n",
    "    if elementListData[elementList_json[i]]['data'][0]['@type'] == ['ldp:DirectContainer', 'uml:LiteralReal']:\n",
    "        literalRealIndex[i] = i # Add any key to the index that is a literal real\n",
    "literalRealIndex\n",
    "#elementList_json[4]\n",
    "#elementListData['554e62c4-5bd6-46d5-97cc-900c35c46913']"
   ]
  },
  {
   "cell_type": "code",
   "execution_count": null,
   "id": "704dcd66-59a3-4ebf-a19f-d3ca7ee7430d",
   "metadata": {},
   "outputs": [],
   "source": []
  },
  {
   "cell_type": "code",
   "execution_count": 14,
   "id": "8cc0963a-94bf-4b3c-865f-d619212fad8b",
   "metadata": {},
   "outputs": [
    {
     "data": {
      "text/plain": [
       "{474: Text(value='666.0', description='adt_length'),\n",
       " 933: Text(value='3.0', description='adt_height'),\n",
       " 936: Text(value='0.0', description='calculatedVolume'),\n",
       " 1144: Text(value='0.0', description='cadVolume'),\n",
       " 1966: Text(value='2.0', description='adt_width')}"
      ]
     },
     "execution_count": 14,
     "metadata": {},
     "output_type": "execute_result"
    }
   ],
   "source": [
    "# So this is getting invloved and about here is where recursion starts to rear its ugly head\n",
    "# Lets just get through this for now and we can build a better mouse trap the next round\n",
    "\n",
    "valueCells = {}\n",
    "values = {}\n",
    "elementIds = {}\n",
    "\n",
    "#print(\"Here we can modkify the vendor model values if we like.\")\n",
    "\n",
    "# We can loop through the matched elements and the build widgets to edit them\n",
    "for keys in literalRealIndex:\n",
    "    try:\n",
    "        owenersId = elementListData[elementList_json[keys]]['data'][1]['kerml:owner']['@id']\n",
    "        ownersName = elementListData[owenersId]['data'][1]['kerml:name']\n",
    "        currentValue = elementListData[elementList_json[keys]]['data'][1][\"kerml:esiData\"][\"value\"]\n",
    "        elementIds[keys] = elementList_json[keys]\n",
    "        values[keys] = (ownersName, currentValue)\n",
    "        valueCells[keys] = widgets.Text(description=ownersName, value=currentValue); #display(valueCells[keys])\n",
    "        #print(elementListData[elementList_json[keys]]['data'][1]['kerml:owner']['@id'], elementListData[elementList_json[keys]]['data'][1][\"kerml:esiData\"][\"value\"])    \n",
    "    except:\n",
    "        pass\n",
    "valueCells"
   ]
  },
  {
   "cell_type": "code",
   "execution_count": 15,
   "id": "25803d2b-3ef5-4c8a-93f8-782e316ffbe7",
   "metadata": {
    "tags": []
   },
   "outputs": [
    {
     "data": {
      "application/vnd.jupyter.widget-view+json": {
       "model_id": "a33a096c6d7140a39d0049c7146a7b9c",
       "version_major": 2,
       "version_minor": 0
      },
      "text/plain": [
       "Text(value='666.0', description='adt_length')"
      ]
     },
     "metadata": {},
     "output_type": "display_data"
    },
    {
     "data": {
      "application/vnd.jupyter.widget-view+json": {
       "model_id": "121fada5a0fd467abeedf616e777d4b5",
       "version_major": 2,
       "version_minor": 0
      },
      "text/plain": [
       "Text(value='3.0', description='adt_height')"
      ]
     },
     "metadata": {},
     "output_type": "display_data"
    },
    {
     "data": {
      "application/vnd.jupyter.widget-view+json": {
       "model_id": "4f20c2c03eaf4f7f81eb0f0cc69e63aa",
       "version_major": 2,
       "version_minor": 0
      },
      "text/plain": [
       "Text(value='0.0', description='calculatedVolume')"
      ]
     },
     "metadata": {},
     "output_type": "display_data"
    },
    {
     "data": {
      "application/vnd.jupyter.widget-view+json": {
       "model_id": "65536336c57c40eca42d80f76220c350",
       "version_major": 2,
       "version_minor": 0
      },
      "text/plain": [
       "Text(value='0.0', description='cadVolume')"
      ]
     },
     "metadata": {},
     "output_type": "display_data"
    },
    {
     "data": {
      "application/vnd.jupyter.widget-view+json": {
       "model_id": "0e574fb0017442b6be9f5f4d436fa51a",
       "version_major": 2,
       "version_minor": 0
      },
      "text/plain": [
       "Text(value='2.0', description='adt_width')"
      ]
     },
     "metadata": {},
     "output_type": "display_data"
    },
    {
     "data": {
      "application/vnd.jupyter.widget-view+json": {
       "model_id": "a9287c900dff4441bedcad261f8f9a4d",
       "version_major": 2,
       "version_minor": 0
      },
      "text/plain": [
       "Button(description='Update Model Values', style=ButtonStyle())"
      ]
     },
     "metadata": {},
     "output_type": "display_data"
    },
    {
     "name": "stdout",
     "output_type": "stream",
     "text": [
      "https://10.107.1.92:8111/osmc/resources/b5b69f4d-e1d0-4ddc-b514-d54b05d0a3b4/elements/7d9e6305-3cf8-4dd8-9505-aa210a03c05c\n",
      "b'[{\"ldp:membershipResource\":{\"@id\":\"#7d9e6305-3cf8-4dd8-9505-aa210a03c05c\"},\"@type\":[\"ldp:DirectContainer\",\"uml:LiteralReal\"],\"ldp:contains\":[],\"ldp:hasMemberRelation\":\"kerml:ownedElement\",\"@id\":\"\",\"@context\":\"https://10.107.1.92:8111/osmc/schemas/umlElementContainer\"},{\"kerml:name\":\"\",\"@base\":\"https://10.107.1.92:8111/osmc/resources/b5b69f4d-e1d0-4ddc-b514-d54b05d0a3b4/elements\",\"kerml:nsURI\":\"http://www.nomagic.com/magicdraw/UML/2.5.1\",\"@type\":\"uml:LiteralReal\",\"kerml:owner\":{\"@id\":\"5af330d6-faa3-487d-9d91-ea57dec42651\"},\"kerml:revision\":\"https://10.107.1.92:8111/osmc/resources/b5b69f4d-e1d0-4ddc-b514-d54b05d0a3b4/revisions/62\",\"@context\":{\"kerml\":\"https://10.107.1.92:8111/osmc/schema/kerml/20140325\",\"uml:LiteralReal\":\"https://10.107.1.92:8111/osmc/schema/uml/2014345/LiteralReal\"},\"kerml:ownedElement\":[],\"kerml:modifiedTime\":\"20240503190441UTC\",\"kerml:esiData\":{\"owningConstraint\":null,\"_activityEdgeOfWeight\":null,\"_directedRelationshipOfSource\":[],\"_classifierOfInheritedMember\":[],\"_representationText\":null,\"_intervalOfMax\":[],\"_messageOfArgument\":null,\"_considerIgnoreFragmentOfMessage\":[],\"type\":null,\"_interactionConstraintOfMinint\":null,\"_elementOfSyncElement\":[],\"_durationOfExpr\":null,\"owningInstanceSpec\":null,\"_namespaceOfMember\":[],\"_interactionConstraintOfMaxint\":null,\"ID\":\"_19_0_3_144303c8_1714754745573_342585_30\",\"_relationshipOfRelatedElement\":[],\"nameExpression\":null,\"owningTemplateParameter\":null,\"_manifestationOfUtilizedElement\":[],\"_interactionUseOfArgument\":null,\"_durationObservationOfEvent\":[],\"visibility\":\"public\",\"_joinNodeOfJoinSpec\":null,\"_objectNodeOfUpperBound\":null,\"_messageOfSignature\":[],\"_templateParameterSubstitutionOfOwnedActual\":null,\"_componentOfPackagedElement\":null,\"_constraintOfConstrainedElement\":[],\"_namespaceOfImportedMember\":[],\"clientDependency\":[],\"_changeEventOfChangeExpression\":null,\"_diagramOfContext\":[],\"_messageOfTarget\":null,\"name\":\"\",\"_directedRelationshipOfTarget\":[],\"_commentOfAnnotatedElement\":[],\"supplierDependency\":[],\"_informationFlowOfInformationTarget\":[],\"ownedComment\":[],\"owningUpper\":null,\"_timeObservationOfEvent\":[],\"_lifelineOfSelector\":null,\"_informationFlowOfInformationSource\":[],\"owningParameter\":null,\"_templateParameterOfOwnedDefault\":null,\"templateParameter\":null,\"_timeExpressionOfExpr\":null,\"value\":\"666.0\",\"_templateParameterOfDefault\":[],\"_valuePinOfValue\":null,\"owner\":[{\"@id\":\"5af330d6-faa3-487d-9d91-ea57dec42651\"}],\"owningLower\":null,\"_interactionUseOfReturnValue\":null,\"ownedElement\":[],\"visibility__from_PackageableElement\":\"public\",\"expression\":null,\"owningSlot\":null,\"owningProperty\":{\"@id\":\"5af330d6-faa3-487d-9d91-ea57dec42651\"},\"_valueSpecificationActionOfValue\":null,\"syncElement\":null,\"_activityPartitionOfRepresents\":[],\"_elementValueOfElement\":[],\"owningPackage\":null,\"_activityEdgeOfGuard\":null,\"_intervalOfMin\":[],\"namespace\":[],\"mdExtensions\":[],\"appliedStereotypeInstance\":null,\"_templateParameterSubstitutionOfActual\":[],\"_elementImportOfImportedElement\":[]},\"kerml:resource\":\"https://10.107.1.92:8111/osmc/resources/b5b69f4d-e1d0-4ddc-b514-d54b05d0a3b4\",\"kerml:esiID\":\"7d9e6305-3cf8-4dd8-9505-aa210a03c05c\",\"@id\":\"#7d9e6305-3cf8-4dd8-9505-aa210a03c05c\"}]'\n",
      "https://10.107.1.92:8111/osmc/resources/b5b69f4d-e1d0-4ddc-b514-d54b05d0a3b4/elements/5b86479d-b2db-4182-b116-d82095ba2617\n",
      "b'[{\"ldp:membershipResource\":{\"@id\":\"#5b86479d-b2db-4182-b116-d82095ba2617\"},\"@type\":[\"ldp:DirectContainer\",\"uml:LiteralReal\"],\"ldp:contains\":[],\"ldp:hasMemberRelation\":\"kerml:ownedElement\",\"@id\":\"\",\"@context\":\"https://10.107.1.92:8111/osmc/schemas/umlElementContainer\"},{\"kerml:name\":\"\",\"@base\":\"https://10.107.1.92:8111/osmc/resources/b5b69f4d-e1d0-4ddc-b514-d54b05d0a3b4/elements\",\"kerml:nsURI\":\"http://www.nomagic.com/magicdraw/UML/2.5.1\",\"@type\":\"uml:LiteralReal\",\"kerml:owner\":{\"@id\":\"35ea390c-9bc4-42d2-addc-c49740d84ef6\"},\"kerml:revision\":\"https://10.107.1.92:8111/osmc/resources/b5b69f4d-e1d0-4ddc-b514-d54b05d0a3b4/revisions/63\",\"@context\":{\"kerml\":\"https://10.107.1.92:8111/osmc/schema/kerml/20140325\",\"uml:LiteralReal\":\"https://10.107.1.92:8111/osmc/schema/uml/2014345/LiteralReal\"},\"kerml:ownedElement\":[],\"kerml:modifiedTime\":\"20240503190442UTC\",\"kerml:esiData\":{\"owningConstraint\":null,\"_activityEdgeOfWeight\":null,\"_directedRelationshipOfSource\":[],\"_classifierOfInheritedMember\":[],\"_representationText\":null,\"_intervalOfMax\":[],\"_messageOfArgument\":null,\"_considerIgnoreFragmentOfMessage\":[],\"type\":null,\"_interactionConstraintOfMinint\":null,\"_elementOfSyncElement\":[],\"_durationOfExpr\":null,\"owningInstanceSpec\":null,\"_namespaceOfMember\":[],\"_interactionConstraintOfMaxint\":null,\"ID\":\"_19_0_3_144303c8_1714754745564_217067_26\",\"_relationshipOfRelatedElement\":[],\"nameExpression\":null,\"owningTemplateParameter\":null,\"_manifestationOfUtilizedElement\":[],\"_interactionUseOfArgument\":null,\"_durationObservationOfEvent\":[],\"visibility\":\"public\",\"_joinNodeOfJoinSpec\":null,\"_objectNodeOfUpperBound\":null,\"_messageOfSignature\":[],\"_templateParameterSubstitutionOfOwnedActual\":null,\"_componentOfPackagedElement\":null,\"_constraintOfConstrainedElement\":[],\"_namespaceOfImportedMember\":[],\"clientDependency\":[],\"_changeEventOfChangeExpression\":null,\"_diagramOfContext\":[],\"_messageOfTarget\":null,\"name\":\"\",\"_directedRelationshipOfTarget\":[],\"_commentOfAnnotatedElement\":[],\"supplierDependency\":[],\"_informationFlowOfInformationTarget\":[],\"ownedComment\":[],\"owningUpper\":null,\"_timeObservationOfEvent\":[],\"_lifelineOfSelector\":null,\"_informationFlowOfInformationSource\":[],\"owningParameter\":null,\"_templateParameterOfOwnedDefault\":null,\"templateParameter\":null,\"_timeExpressionOfExpr\":null,\"value\":\"3.0\",\"_templateParameterOfDefault\":[],\"_valuePinOfValue\":null,\"owner\":[{\"@id\":\"35ea390c-9bc4-42d2-addc-c49740d84ef6\"}],\"owningLower\":null,\"_interactionUseOfReturnValue\":null,\"ownedElement\":[],\"visibility__from_PackageableElement\":\"public\",\"expression\":null,\"owningSlot\":null,\"owningProperty\":{\"@id\":\"35ea390c-9bc4-42d2-addc-c49740d84ef6\"},\"_valueSpecificationActionOfValue\":null,\"syncElement\":null,\"_activityPartitionOfRepresents\":[],\"_elementValueOfElement\":[],\"owningPackage\":null,\"_activityEdgeOfGuard\":null,\"_intervalOfMin\":[],\"namespace\":[],\"mdExtensions\":[],\"appliedStereotypeInstance\":null,\"_templateParameterSubstitutionOfActual\":[],\"_elementImportOfImportedElement\":[]},\"kerml:resource\":\"https://10.107.1.92:8111/osmc/resources/b5b69f4d-e1d0-4ddc-b514-d54b05d0a3b4\",\"kerml:esiID\":\"5b86479d-b2db-4182-b116-d82095ba2617\",\"@id\":\"#5b86479d-b2db-4182-b116-d82095ba2617\"}]'\n",
      "https://10.107.1.92:8111/osmc/resources/b5b69f4d-e1d0-4ddc-b514-d54b05d0a3b4/elements/5ebd395f-7ad7-4abb-bb78-187550df9315\n",
      "b'[{\"ldp:membershipResource\":{\"@id\":\"#5ebd395f-7ad7-4abb-bb78-187550df9315\"},\"@type\":[\"ldp:DirectContainer\",\"uml:LiteralReal\"],\"ldp:contains\":[],\"ldp:hasMemberRelation\":\"kerml:ownedElement\",\"@id\":\"\",\"@context\":\"https://10.107.1.92:8111/osmc/schemas/umlElementContainer\"},{\"kerml:name\":\"\",\"@base\":\"https://10.107.1.92:8111/osmc/resources/b5b69f4d-e1d0-4ddc-b514-d54b05d0a3b4/elements\",\"kerml:nsURI\":\"http://www.nomagic.com/magicdraw/UML/2.5.1\",\"@type\":\"uml:LiteralReal\",\"kerml:owner\":{\"@id\":\"2312a234-0675-47ab-9cdf-e1d157959fc2\"},\"kerml:revision\":\"https://10.107.1.92:8111/osmc/resources/b5b69f4d-e1d0-4ddc-b514-d54b05d0a3b4/revisions/64\",\"@context\":{\"kerml\":\"https://10.107.1.92:8111/osmc/schema/kerml/20140325\",\"uml:LiteralReal\":\"https://10.107.1.92:8111/osmc/schema/uml/2014345/LiteralReal\"},\"kerml:ownedElement\":[],\"kerml:modifiedTime\":\"20240503190443UTC\",\"kerml:esiData\":{\"owningConstraint\":null,\"_activityEdgeOfWeight\":null,\"_directedRelationshipOfSource\":[],\"_classifierOfInheritedMember\":[],\"_representationText\":null,\"_intervalOfMax\":[],\"_messageOfArgument\":null,\"_considerIgnoreFragmentOfMessage\":[],\"type\":null,\"_interactionConstraintOfMinint\":null,\"_elementOfSyncElement\":[],\"_durationOfExpr\":null,\"owningInstanceSpec\":null,\"_namespaceOfMember\":[],\"_interactionConstraintOfMaxint\":null,\"ID\":\"_19_0_3_144303c8_1714754745572_971447_29\",\"_relationshipOfRelatedElement\":[],\"nameExpression\":null,\"owningTemplateParameter\":null,\"_manifestationOfUtilizedElement\":[],\"_interactionUseOfArgument\":null,\"_durationObservationOfEvent\":[],\"visibility\":\"public\",\"_joinNodeOfJoinSpec\":null,\"_objectNodeOfUpperBound\":null,\"_messageOfSignature\":[],\"_templateParameterSubstitutionOfOwnedActual\":null,\"_componentOfPackagedElement\":null,\"_constraintOfConstrainedElement\":[],\"_namespaceOfImportedMember\":[],\"clientDependency\":[],\"_changeEventOfChangeExpression\":null,\"_diagramOfContext\":[],\"_messageOfTarget\":null,\"name\":\"\",\"_directedRelationshipOfTarget\":[],\"_commentOfAnnotatedElement\":[],\"supplierDependency\":[],\"_informationFlowOfInformationTarget\":[],\"ownedComment\":[],\"owningUpper\":null,\"_timeObservationOfEvent\":[],\"_lifelineOfSelector\":null,\"_informationFlowOfInformationSource\":[],\"owningParameter\":null,\"_templateParameterOfOwnedDefault\":null,\"templateParameter\":null,\"_timeExpressionOfExpr\":null,\"value\":\"0.0\",\"_templateParameterOfDefault\":[],\"_valuePinOfValue\":null,\"owner\":[{\"@id\":\"2312a234-0675-47ab-9cdf-e1d157959fc2\"}],\"owningLower\":null,\"_interactionUseOfReturnValue\":null,\"ownedElement\":[],\"visibility__from_PackageableElement\":\"public\",\"expression\":null,\"owningSlot\":null,\"owningProperty\":{\"@id\":\"2312a234-0675-47ab-9cdf-e1d157959fc2\"},\"_valueSpecificationActionOfValue\":null,\"syncElement\":null,\"_activityPartitionOfRepresents\":[],\"_elementValueOfElement\":[],\"owningPackage\":null,\"_activityEdgeOfGuard\":null,\"_intervalOfMin\":[],\"namespace\":[],\"mdExtensions\":[],\"appliedStereotypeInstance\":null,\"_templateParameterSubstitutionOfActual\":[],\"_elementImportOfImportedElement\":[]},\"kerml:resource\":\"https://10.107.1.92:8111/osmc/resources/b5b69f4d-e1d0-4ddc-b514-d54b05d0a3b4\",\"kerml:esiID\":\"5ebd395f-7ad7-4abb-bb78-187550df9315\",\"@id\":\"#5ebd395f-7ad7-4abb-bb78-187550df9315\"}]'\n",
      "https://10.107.1.92:8111/osmc/resources/b5b69f4d-e1d0-4ddc-b514-d54b05d0a3b4/elements/de83bcbd-7cd6-4c3e-a637-1c2dcaa3a283\n",
      "b'[{\"ldp:membershipResource\":{\"@id\":\"#de83bcbd-7cd6-4c3e-a637-1c2dcaa3a283\"},\"@type\":[\"ldp:DirectContainer\",\"uml:LiteralReal\"],\"ldp:contains\":[],\"ldp:hasMemberRelation\":\"kerml:ownedElement\",\"@id\":\"\",\"@context\":\"https://10.107.1.92:8111/osmc/schemas/umlElementContainer\"},{\"kerml:name\":\"\",\"@base\":\"https://10.107.1.92:8111/osmc/resources/b5b69f4d-e1d0-4ddc-b514-d54b05d0a3b4/elements\",\"kerml:nsURI\":\"http://www.nomagic.com/magicdraw/UML/2.5.1\",\"@type\":\"uml:LiteralReal\",\"kerml:owner\":{\"@id\":\"e3b666f7-7484-4bce-b35b-5dc783b9c095\"},\"kerml:revision\":\"https://10.107.1.92:8111/osmc/resources/b5b69f4d-e1d0-4ddc-b514-d54b05d0a3b4/revisions/65\",\"@context\":{\"kerml\":\"https://10.107.1.92:8111/osmc/schema/kerml/20140325\",\"uml:LiteralReal\":\"https://10.107.1.92:8111/osmc/schema/uml/2014345/LiteralReal\"},\"kerml:ownedElement\":[],\"kerml:modifiedTime\":\"20240503190444UTC\",\"kerml:esiData\":{\"owningConstraint\":null,\"_activityEdgeOfWeight\":null,\"_directedRelationshipOfSource\":[],\"_classifierOfInheritedMember\":[],\"_representationText\":null,\"_intervalOfMax\":[],\"_messageOfArgument\":null,\"_considerIgnoreFragmentOfMessage\":[],\"type\":null,\"_interactionConstraintOfMinint\":null,\"_elementOfSyncElement\":[],\"_durationOfExpr\":null,\"owningInstanceSpec\":null,\"_namespaceOfMember\":[],\"_interactionConstraintOfMaxint\":null,\"ID\":\"_19_0_3_144303c8_1714754745568_70882_27\",\"_relationshipOfRelatedElement\":[],\"nameExpression\":null,\"owningTemplateParameter\":null,\"_manifestationOfUtilizedElement\":[],\"_interactionUseOfArgument\":null,\"_durationObservationOfEvent\":[],\"visibility\":\"public\",\"_joinNodeOfJoinSpec\":null,\"_objectNodeOfUpperBound\":null,\"_messageOfSignature\":[],\"_templateParameterSubstitutionOfOwnedActual\":null,\"_componentOfPackagedElement\":null,\"_constraintOfConstrainedElement\":[],\"_namespaceOfImportedMember\":[],\"clientDependency\":[],\"_changeEventOfChangeExpression\":null,\"_diagramOfContext\":[],\"_messageOfTarget\":null,\"name\":\"\",\"_directedRelationshipOfTarget\":[],\"_commentOfAnnotatedElement\":[],\"supplierDependency\":[],\"_informationFlowOfInformationTarget\":[],\"ownedComment\":[],\"owningUpper\":null,\"_timeObservationOfEvent\":[],\"_lifelineOfSelector\":null,\"_informationFlowOfInformationSource\":[],\"owningParameter\":null,\"_templateParameterOfOwnedDefault\":null,\"templateParameter\":null,\"_timeExpressionOfExpr\":null,\"value\":\"0.0\",\"_templateParameterOfDefault\":[],\"_valuePinOfValue\":null,\"owner\":[{\"@id\":\"e3b666f7-7484-4bce-b35b-5dc783b9c095\"}],\"owningLower\":null,\"_interactionUseOfReturnValue\":null,\"ownedElement\":[],\"visibility__from_PackageableElement\":\"public\",\"expression\":null,\"owningSlot\":null,\"owningProperty\":{\"@id\":\"e3b666f7-7484-4bce-b35b-5dc783b9c095\"},\"_valueSpecificationActionOfValue\":null,\"syncElement\":null,\"_activityPartitionOfRepresents\":[],\"_elementValueOfElement\":[],\"owningPackage\":null,\"_activityEdgeOfGuard\":null,\"_intervalOfMin\":[],\"namespace\":[],\"mdExtensions\":[],\"appliedStereotypeInstance\":null,\"_templateParameterSubstitutionOfActual\":[],\"_elementImportOfImportedElement\":[]},\"kerml:resource\":\"https://10.107.1.92:8111/osmc/resources/b5b69f4d-e1d0-4ddc-b514-d54b05d0a3b4\",\"kerml:esiID\":\"de83bcbd-7cd6-4c3e-a637-1c2dcaa3a283\",\"@id\":\"#de83bcbd-7cd6-4c3e-a637-1c2dcaa3a283\"}]'\n",
      "https://10.107.1.92:8111/osmc/resources/b5b69f4d-e1d0-4ddc-b514-d54b05d0a3b4/elements/84f3b08d-89d5-4da0-b6d8-734cf9fcb54a\n",
      "b'[{\"ldp:membershipResource\":{\"@id\":\"#84f3b08d-89d5-4da0-b6d8-734cf9fcb54a\"},\"@type\":[\"ldp:DirectContainer\",\"uml:LiteralReal\"],\"ldp:contains\":[],\"ldp:hasMemberRelation\":\"kerml:ownedElement\",\"@id\":\"\",\"@context\":\"https://10.107.1.92:8111/osmc/schemas/umlElementContainer\"},{\"kerml:name\":\"\",\"@base\":\"https://10.107.1.92:8111/osmc/resources/b5b69f4d-e1d0-4ddc-b514-d54b05d0a3b4/elements\",\"kerml:nsURI\":\"http://www.nomagic.com/magicdraw/UML/2.5.1\",\"@type\":\"uml:LiteralReal\",\"kerml:owner\":{\"@id\":\"867db4f1-5548-44bf-92a6-b07d813dcd62\"},\"kerml:revision\":\"https://10.107.1.92:8111/osmc/resources/b5b69f4d-e1d0-4ddc-b514-d54b05d0a3b4/revisions/66\",\"@context\":{\"kerml\":\"https://10.107.1.92:8111/osmc/schema/kerml/20140325\",\"uml:LiteralReal\":\"https://10.107.1.92:8111/osmc/schema/uml/2014345/LiteralReal\"},\"kerml:ownedElement\":[],\"kerml:modifiedTime\":\"20240503190446UTC\",\"kerml:esiData\":{\"owningConstraint\":null,\"_activityEdgeOfWeight\":null,\"_directedRelationshipOfSource\":[],\"_classifierOfInheritedMember\":[],\"_representationText\":null,\"_intervalOfMax\":[],\"_messageOfArgument\":null,\"_considerIgnoreFragmentOfMessage\":[],\"type\":null,\"_interactionConstraintOfMinint\":null,\"_elementOfSyncElement\":[],\"_durationOfExpr\":null,\"owningInstanceSpec\":null,\"_namespaceOfMember\":[],\"_interactionConstraintOfMaxint\":null,\"ID\":\"_19_0_3_144303c8_1714754745570_550463_28\",\"_relationshipOfRelatedElement\":[],\"nameExpression\":null,\"owningTemplateParameter\":null,\"_manifestationOfUtilizedElement\":[],\"_interactionUseOfArgument\":null,\"_durationObservationOfEvent\":[],\"visibility\":\"public\",\"_joinNodeOfJoinSpec\":null,\"_objectNodeOfUpperBound\":null,\"_messageOfSignature\":[],\"_templateParameterSubstitutionOfOwnedActual\":null,\"_componentOfPackagedElement\":null,\"_constraintOfConstrainedElement\":[],\"_namespaceOfImportedMember\":[],\"clientDependency\":[],\"_changeEventOfChangeExpression\":null,\"_diagramOfContext\":[],\"_messageOfTarget\":null,\"name\":\"\",\"_directedRelationshipOfTarget\":[],\"_commentOfAnnotatedElement\":[],\"supplierDependency\":[],\"_informationFlowOfInformationTarget\":[],\"ownedComment\":[],\"owningUpper\":null,\"_timeObservationOfEvent\":[],\"_lifelineOfSelector\":null,\"_informationFlowOfInformationSource\":[],\"owningParameter\":null,\"_templateParameterOfOwnedDefault\":null,\"templateParameter\":null,\"_timeExpressionOfExpr\":null,\"value\":\"2.0\",\"_templateParameterOfDefault\":[],\"_valuePinOfValue\":null,\"owner\":[{\"@id\":\"867db4f1-5548-44bf-92a6-b07d813dcd62\"}],\"owningLower\":null,\"_interactionUseOfReturnValue\":null,\"ownedElement\":[],\"visibility__from_PackageableElement\":\"public\",\"expression\":null,\"owningSlot\":null,\"owningProperty\":{\"@id\":\"867db4f1-5548-44bf-92a6-b07d813dcd62\"},\"_valueSpecificationActionOfValue\":null,\"syncElement\":null,\"_activityPartitionOfRepresents\":[],\"_elementValueOfElement\":[],\"owningPackage\":null,\"_activityEdgeOfGuard\":null,\"_intervalOfMin\":[],\"namespace\":[],\"mdExtensions\":[],\"appliedStereotypeInstance\":null,\"_templateParameterSubstitutionOfActual\":[],\"_elementImportOfImportedElement\":[]},\"kerml:resource\":\"https://10.107.1.92:8111/osmc/resources/b5b69f4d-e1d0-4ddc-b514-d54b05d0a3b4\",\"kerml:esiID\":\"84f3b08d-89d5-4da0-b6d8-734cf9fcb54a\",\"@id\":\"#84f3b08d-89d5-4da0-b6d8-734cf9fcb54a\"}]'\n"
     ]
    }
   ],
   "source": [
    "# This functuon is executed after pushing the button\n",
    "def updateSystemModelVals():\n",
    "    for cells in valueCells:\n",
    "        # Create the payload\n",
    "        dataValue = {\"kerml:esiData\":{\"value\":\"0.0\"}} # Build the data payload\n",
    "        dataValue[\"kerml:esiData\"][\"value\"] = valueCells[cells].value # Update the json string\n",
    "        \n",
    "        # Now build the api call\n",
    "        call = f'/osmc/resources/{projectId}/elements/{elementIds[cells]}'\n",
    "        url = f'https://{serverIp}:{serverPort}{call}'\n",
    "        headers={\"accept\":\"application/ld+json\", \"authorization\":f\"Basic {authId}\", \"Content-Type\":\"application/ld+json\"}\n",
    "        \n",
    "        # Have to add a new header of content type\n",
    "        resp_value = requests.patch(url, headers = headers, verify = False, json = dataValue) # turn of verification here since our server is not super secure\n",
    "        print(url)\n",
    "        resp_value.status_code\n",
    "        # print(dataValue)\n",
    "        print(resp_value.content)\n",
    "        \n",
    "# Update the values in valueCells based on df_input\n",
    "for key, widget in valueCells.items():\n",
    "    # Extract the part of the description following 'adt_' to match with df_input\n",
    "    description_suffix = widget.description[4:]  # Remove the 'adt_' prefix\n",
    "    # Find the row in df_input where the description matches description_suffix\n",
    "    match = df_input[df_input['Description'] == description_suffix]\n",
    "    if not match.empty:\n",
    "        # Update the widget's value with the corresponding value from df_input\n",
    "        new_value = str(float(match['Value'].iloc[0]))  # Convert to float then to string\n",
    "        widget.value = new_value\n",
    "\n",
    "# Display the updated widgets\n",
    "for widget in valueCells.values():\n",
    "    display(widget)\n",
    "    \n",
    "# Create a button to push for fun :)\n",
    "btn = widgets.Button(description = \"Update Model Values\")\n",
    "display(btn)\n",
    "        \n",
    "# The button callback\n",
    "#btn.on_click(updateSystemModelVals)\n",
    "updateSystemModelVals()"
   ]
  },
  {
   "cell_type": "markdown",
   "id": "760a8ec5-501a-4fac-bf1c-909f03090aa1",
   "metadata": {
    "tags": []
   },
   "source": [
    "# I cant force the update of the block volume attribute at this time.\n",
    "\n",
    "A couple of notes:\n",
    "1. This can fully automated and you should be able to see that we can use complex methods in between the pull and push\n",
    "2. I cant execute the volume update with this setup (we dont want to update blocks but instances...)\n",
    "3. Matching the ADT value to the Vendor value can be performed by looking up an ICD \n",
    "3. I'll build out an instance updater tommorow :)"
   ]
  }
 ],
 "metadata": {
  "kernelspec": {
   "display_name": "Python 3 (ipykernel)",
   "language": "python",
   "name": "python3"
  },
  "language_info": {
   "codemirror_mode": {
    "name": "ipython",
    "version": 3
   },
   "file_extension": ".py",
   "mimetype": "text/x-python",
   "name": "python",
   "nbconvert_exporter": "python",
   "pygments_lexer": "ipython3",
   "version": "3.10.14"
  }
 },
 "nbformat": 4,
 "nbformat_minor": 5
}
