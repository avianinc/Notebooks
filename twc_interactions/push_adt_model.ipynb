{
 "cells": [
  {
   "cell_type": "markdown",
   "id": "84c1130b-00ac-4bf5-adc2-6440992818c3",
   "metadata": {
    "papermill": {
     "duration": 0.006002,
     "end_time": "2024-05-14T19:11:57.851628",
     "exception": false,
     "start_time": "2024-05-14T19:11:57.845626",
     "status": "completed"
    },
    "tags": []
   },
   "source": [
    "## API Interaction - Push Dataframe to ADT Project\n",
    "In this example we log into a remote teamworkcloud instance and update a model with data from a local json file.\n",
    "\n",
    "Steps:\n",
    "1. Read in the Vendor data json\n",
    "2. Login to the TWC API Server\n",
    "3. Retrieve a list of the workspaces (called categories in the TWC GUI)\n",
    "4. Select the workspace to retrieve a list of projects\n",
    "5. Retrieve a list project from the defined workspace\n",
    "6. Select an ADT project to retrieve all elements (in memory json file)\n",
    "7. Retrieve Literal Reals with Names\n",
    "8. Match the ADT Values with the Vendor Values\n",
    "9. Update the ADT Model (just block for now) \n"
   ]
  },
  {
   "cell_type": "code",
   "execution_count": 1,
   "id": "4af5975a-9e49-419c-9f74-98dd6dd7dea6",
   "metadata": {
    "execution": {
     "iopub.execute_input": "2024-05-14T19:11:57.870095Z",
     "iopub.status.busy": "2024-05-14T19:11:57.870095Z",
     "iopub.status.idle": "2024-05-14T19:11:58.458796Z",
     "shell.execute_reply": "2024-05-14T19:11:58.457796Z"
    },
    "papermill": {
     "duration": 0.601146,
     "end_time": "2024-05-14T19:11:58.458796",
     "exception": false,
     "start_time": "2024-05-14T19:11:57.857650",
     "status": "completed"
    },
    "tags": []
   },
   "outputs": [],
   "source": [
    "# A little set up\n",
    "import json\n",
    "import requests # performs the curl function in python\n",
    "import ipywidgets as widgets\n",
    "from ipywidgets import Dropdown\n",
    "from IPython.display import display\n",
    "import pandas as pd\n",
    "\n",
    "import warnings\n",
    "warnings.filterwarnings('ignore')\n",
    "\n",
    "import time\n",
    "from anytree import Node, RenderTree"
   ]
  },
  {
   "cell_type": "code",
   "execution_count": 2,
   "id": "eedcf80b-f265-49d2-be93-9138f67c5493",
   "metadata": {
    "execution": {
     "iopub.execute_input": "2024-05-14T19:11:58.475058Z",
     "iopub.status.busy": "2024-05-14T19:11:58.474042Z",
     "iopub.status.idle": "2024-05-14T19:11:58.505067Z",
     "shell.execute_reply": "2024-05-14T19:11:58.505067Z"
    },
    "papermill": {
     "duration": 0.041563,
     "end_time": "2024-05-14T19:11:58.506065",
     "exception": false,
     "start_time": "2024-05-14T19:11:58.464502",
     "status": "completed"
    },
    "tags": []
   },
   "outputs": [
    {
     "data": {
      "text/html": [
       "<div>\n",
       "<style scoped>\n",
       "    .dataframe tbody tr th:only-of-type {\n",
       "        vertical-align: middle;\n",
       "    }\n",
       "\n",
       "    .dataframe tbody tr th {\n",
       "        vertical-align: top;\n",
       "    }\n",
       "\n",
       "    .dataframe thead th {\n",
       "        text-align: right;\n",
       "    }\n",
       "</style>\n",
       "<table border=\"1\" class=\"dataframe\">\n",
       "  <thead>\n",
       "    <tr style=\"text-align: right;\">\n",
       "      <th></th>\n",
       "      <th>Description</th>\n",
       "      <th>Value</th>\n",
       "    </tr>\n",
       "  </thead>\n",
       "  <tbody>\n",
       "    <tr>\n",
       "      <th>0</th>\n",
       "      <td>length</td>\n",
       "      <td>3.256000</td>\n",
       "    </tr>\n",
       "    <tr>\n",
       "      <th>1</th>\n",
       "      <td>height</td>\n",
       "      <td>1.010000</td>\n",
       "    </tr>\n",
       "    <tr>\n",
       "      <th>2</th>\n",
       "      <td>width</td>\n",
       "      <td>2.635000</td>\n",
       "    </tr>\n",
       "    <tr>\n",
       "      <th>3</th>\n",
       "      <td>dateTime</td>\n",
       "      <td>1.000000</td>\n",
       "    </tr>\n",
       "    <tr>\n",
       "      <th>4</th>\n",
       "      <td>cadVolume</td>\n",
       "      <td>8.665356</td>\n",
       "    </tr>\n",
       "  </tbody>\n",
       "</table>\n",
       "</div>"
      ],
      "text/plain": [
       "  Description     Value\n",
       "0      length  3.256000\n",
       "1      height  1.010000\n",
       "2       width  2.635000\n",
       "3    dateTime  1.000000\n",
       "4   cadVolume  8.665356"
      ]
     },
     "execution_count": 2,
     "metadata": {},
     "output_type": "execute_result"
    }
   ],
   "source": [
    "# Load the model dataframe\n",
    "# Reading from a JSON array\n",
    "df_input = pd.read_json('vendorA.json')\n",
    "df_input"
   ]
  },
  {
   "cell_type": "code",
   "execution_count": 3,
   "id": "0edc622a-953e-4400-aab7-686add9ef200",
   "metadata": {
    "execution": {
     "iopub.execute_input": "2024-05-14T19:11:58.522576Z",
     "iopub.status.busy": "2024-05-14T19:11:58.521691Z",
     "iopub.status.idle": "2024-05-14T19:11:59.053675Z",
     "shell.execute_reply": "2024-05-14T19:11:59.052661Z"
    },
    "papermill": {
     "duration": 0.541611,
     "end_time": "2024-05-14T19:11:59.053675",
     "exception": false,
     "start_time": "2024-05-14T19:11:58.512064",
     "status": "completed"
    },
    "tags": []
   },
   "outputs": [],
   "source": [
    "# Lets get a list of workspaces from the teamworkcloud server\n",
    "# API --> https://18.205.77.131:8111/osmc/swagger/?url=https%3A%2F%2F18.205.77.131%3A8111%2Fosmc%2Fmanual\n",
    "#serverIp = '18.205.77.131' # Avian server\n",
    "serverIp = '10.107.1.92' # ADT MA server\n",
    "serverPort = '8111'\n",
    "call = '/osmc/workspaces?includeBody=True'\n",
    "# authId = \"amRlaGFydDpqa2QyMjE0MDA=\" # avian id\n",
    "authId = \"amRlaGFydDpSemhlZ3hoQ1RoWmY=\" # ADT MA ID\n",
    "url = f'https://{serverIp}:{serverPort}{call}'\n",
    "headers={\"accept\":\"application/ld+json\",\"authorization\":f\"Basic {authId}\"}\n",
    "resp_ws = requests.get(url,headers=headers, verify=False) # turn of verification here since our server is not super secure\n",
    "workspaces = resp_ws.json() # Convert the response content to a json format\n",
    "#print(json.dumps(workspaces, indent=4))"
   ]
  },
  {
   "cell_type": "code",
   "execution_count": 4,
   "id": "987ff411-4b07-4894-b2a8-95e74dc71d1a",
   "metadata": {
    "execution": {
     "iopub.execute_input": "2024-05-14T19:11:59.073710Z",
     "iopub.status.busy": "2024-05-14T19:11:59.073710Z",
     "iopub.status.idle": "2024-05-14T19:11:59.085053Z",
     "shell.execute_reply": "2024-05-14T19:11:59.084054Z"
    },
    "papermill": {
     "duration": 0.02538,
     "end_time": "2024-05-14T19:11:59.085053",
     "exception": false,
     "start_time": "2024-05-14T19:11:59.059673",
     "status": "completed"
    },
    "tags": []
   },
   "outputs": [
    {
     "data": {
      "application/vnd.jupyter.widget-view+json": {
       "model_id": "570bdc904387423ab0a982df88280b68",
       "version_major": 2,
       "version_minor": 0
      },
      "text/plain": [
       "Dropdown(description='Workspaces:', options=('ADT_Projects', 'Test_Projects', 'Project_Templates', 'Uncategori…"
      ]
     },
     "metadata": {},
     "output_type": "display_data"
    }
   ],
   "source": [
    "# lets create a combobox to list the avalible workspaces\n",
    "# Build arrays of the items\n",
    "workspaceIds = {}\n",
    "workspaceNames = {}\n",
    "\n",
    "# Lets build a list of workspaces for selection\n",
    "for i in range(len(workspaces[\"ldp:contains\"])):\n",
    "    workspaceIds[i] = workspaces[\"ldp:contains\"][i][0]['@id']\n",
    "    workspaceNames[i] = workspaces[\"ldp:contains\"][i][1][\"dcterms:title\"]\n",
    "\n",
    "# Fuction to monitor change of dropdown\n",
    "def dropdown_eventhandler(change):\n",
    "    print(change.new) # Write the selected item to the log\n",
    "\n",
    "# Now create a dropdown list of the avalible workspaces\n",
    "ws = widgets.Dropdown(options = workspaceNames.values(), description = 'Workspaces:')\n",
    "ws.observe(dropdown_eventhandler, names='value')\n",
    "\n",
    "# Displya the combobox\n",
    "display(ws)"
   ]
  },
  {
   "cell_type": "code",
   "execution_count": 5,
   "id": "4331c729-96fe-4b63-8d65-028a63adb28f",
   "metadata": {
    "execution": {
     "iopub.execute_input": "2024-05-14T19:11:59.111101Z",
     "iopub.status.busy": "2024-05-14T19:11:59.111101Z",
     "iopub.status.idle": "2024-05-14T19:11:59.118239Z",
     "shell.execute_reply": "2024-05-14T19:11:59.117240Z"
    },
    "papermill": {
     "duration": 0.027179,
     "end_time": "2024-05-14T19:11:59.118239",
     "exception": false,
     "start_time": "2024-05-14T19:11:59.091060",
     "status": "completed"
    },
    "tags": []
   },
   "outputs": [],
   "source": [
    "# Lets match up the id from the selected workspace (poor implementation)\n",
    "wsIndex = list(filter(lambda x: workspaceNames[x] == ws.value, range(len(workspaceNames))))\n",
    "workspaceId = workspaceIds[wsIndex[0]]\n",
    "workspaceId = 'a2bf1c2f-03fb-4cbe-bb3d-4edce160916f' # hard set to Test_Projects"
   ]
  },
  {
   "cell_type": "code",
   "execution_count": 6,
   "id": "1350666b-8109-4633-94e0-2fa7b38c5862",
   "metadata": {
    "execution": {
     "iopub.execute_input": "2024-05-14T19:11:59.136796Z",
     "iopub.status.busy": "2024-05-14T19:11:59.136796Z",
     "iopub.status.idle": "2024-05-14T19:11:59.663623Z",
     "shell.execute_reply": "2024-05-14T19:11:59.662679Z"
    },
    "papermill": {
     "duration": 0.539879,
     "end_time": "2024-05-14T19:11:59.663623",
     "exception": false,
     "start_time": "2024-05-14T19:11:59.123744",
     "status": "completed"
    },
    "tags": []
   },
   "outputs": [
    {
     "data": {
      "text/plain": [
       "[{'@id': '050dbf5b-f690-4494-81ee-18740b88d86c'},\n",
       " {'@id': '5cb74688-9804-44b1-badb-4f09c5cb861e'},\n",
       " {'@id': 'ef9e7f30-2fc1-4677-a170-ec7035ed6b0e'},\n",
       " {'@id': 'b5b69f4d-e1d0-4ddc-b514-d54b05d0a3b4'},\n",
       " {'@id': '4eb3de65-53f4-4d59-aca2-62de8351e81b'}]"
      ]
     },
     "execution_count": 6,
     "metadata": {},
     "output_type": "execute_result"
    }
   ],
   "source": [
    "# Now lets list the models that are withing the selected workspace and place them in a dropbox\n",
    "# Ok... lets continue and list all of the the projects by project UID in this workspace\n",
    "call = f'/osmc/workspaces/{workspaceId}/resources'\n",
    "url = f'https://{serverIp}:{serverPort}{call}'\n",
    "resp_projects = requests.get(url,headers=headers, verify=False) # turn of verification here since our server is not super secure\n",
    "projectsList = resp_projects.json()\n",
    "projectsUidList = projectsList[1]['kerml:resources'] # Let just extract the UIDs for each project\n",
    "projectsUidList"
   ]
  },
  {
   "cell_type": "markdown",
   "id": "cad3a9b1-e45e-4f36-a583-8ee1b7c2bf78",
   "metadata": {
    "papermill": {
     "duration": 0.006544,
     "end_time": "2024-05-14T19:11:59.676167",
     "exception": false,
     "start_time": "2024-05-14T19:11:59.669623",
     "status": "completed"
    },
    "tags": []
   },
   "source": [
    "## So you can see we show the ADT model uuid"
   ]
  },
  {
   "cell_type": "code",
   "execution_count": 7,
   "id": "a6fe0c52-9982-4e2d-859e-cd9ddc7f4026",
   "metadata": {
    "execution": {
     "iopub.execute_input": "2024-05-14T19:11:59.694203Z",
     "iopub.status.busy": "2024-05-14T19:11:59.694203Z",
     "iopub.status.idle": "2024-05-14T19:12:02.283374Z",
     "shell.execute_reply": "2024-05-14T19:12:02.282776Z"
    },
    "papermill": {
     "duration": 2.600692,
     "end_time": "2024-05-14T19:12:02.283374",
     "exception": false,
     "start_time": "2024-05-14T19:11:59.682682",
     "status": "completed"
    },
    "tags": []
   },
   "outputs": [],
   "source": [
    "# Lets loop throug the projects and create a dictionary of the resource (or model) details\n",
    "projectsData = {}\n",
    "for i in range(len(projectsUidList)):\n",
    "    resourceId = projectsUidList[i]['@id'] # select the values for each id in the projectList\n",
    "    call = f'/osmc/workspaces/{workspaceId}/resources/{resourceId}'\n",
    "    url = f'https://{serverIp}:{serverPort}{call}'\n",
    "    resp_projects = requests.get(url,headers=headers, verify=False) # turn of verification here since our server is not super secure\n",
    "    #projectsData = json.dumps(resp_projects.json(), indent=4)\n",
    "    projectsData[i] = resp_projects.json()\n",
    "#print(json.dumps(projectsData, indent=4))"
   ]
  },
  {
   "cell_type": "code",
   "execution_count": 8,
   "id": "230ddde7-297f-47b6-a3bf-cac8be7b75fa",
   "metadata": {
    "execution": {
     "iopub.execute_input": "2024-05-14T19:12:02.306593Z",
     "iopub.status.busy": "2024-05-14T19:12:02.305606Z",
     "iopub.status.idle": "2024-05-14T19:12:02.314114Z",
     "shell.execute_reply": "2024-05-14T19:12:02.312595Z"
    },
    "papermill": {
     "duration": 0.022642,
     "end_time": "2024-05-14T19:12:02.314114",
     "exception": false,
     "start_time": "2024-05-14T19:12:02.291472",
     "status": "completed"
    },
    "tags": []
   },
   "outputs": [
    {
     "data": {
      "application/vnd.jupyter.widget-view+json": {
       "model_id": "2508e765ece94e8b92094f79d5060c37",
       "version_major": 2,
       "version_minor": 0
      },
      "text/plain": [
       "Dropdown(description='Projects:', options=('ADT_Model2', 'VendorA', 'MacroEngine_Profile', 'ADT_Model', 'TestV…"
      ]
     },
     "metadata": {},
     "output_type": "display_data"
    }
   ],
   "source": [
    "# lets create a combobox to list the avalible projects (models) in this workspace\n",
    "# Build arrays of the items\n",
    "projectIds = {}\n",
    "projectNames = {}\n",
    "\n",
    "# Lets build a list of workspaces for selection\n",
    "for i in range(len(projectsData)):\n",
    "    projectIds[i] = projectsData[i]['@base'].split(\"/\")[7]\n",
    "    projectNames[i] = projectsData[i]['metadata']['name'].split(\".\")[0]\n",
    "\n",
    "# Now create a dropdown list of the avalible projects\n",
    "prj = widgets.Dropdown(options = projectNames.values(), description = 'Projects:')\n",
    "prj.observe(dropdown_eventhandler, names='value')\n",
    "\n",
    "# Displya the combobox\n",
    "display(prj)"
   ]
  },
  {
   "cell_type": "code",
   "execution_count": 9,
   "id": "200a5f0d-5994-42ea-942e-05a0f8412633",
   "metadata": {
    "execution": {
     "iopub.execute_input": "2024-05-14T19:12:02.333994Z",
     "iopub.status.busy": "2024-05-14T19:12:02.333994Z",
     "iopub.status.idle": "2024-05-14T19:12:02.343127Z",
     "shell.execute_reply": "2024-05-14T19:12:02.343127Z"
    },
    "papermill": {
     "duration": 0.022014,
     "end_time": "2024-05-14T19:12:02.343127",
     "exception": false,
     "start_time": "2024-05-14T19:12:02.321113",
     "status": "completed"
    },
    "tags": []
   },
   "outputs": [],
   "source": [
    "# Lets match up the id from the selected workspace (poor implementation)\n",
    "prjIndex = list(filter(lambda x: projectNames[x] == prj.value, range(len(projectNames))))\n",
    "projectId = projectIds[prjIndex[0]]\n",
    "projectId = 'b5b69f4d-e1d0-4ddc-b514-d54b05d0a3b4' # hard set ADT_Model"
   ]
  },
  {
   "cell_type": "code",
   "execution_count": 10,
   "id": "a2b00f38-1ed4-49ca-8d95-1274fea2398f",
   "metadata": {
    "execution": {
     "iopub.execute_input": "2024-05-14T19:12:02.362628Z",
     "iopub.status.busy": "2024-05-14T19:12:02.362628Z",
     "iopub.status.idle": "2024-05-14T19:12:02.926089Z",
     "shell.execute_reply": "2024-05-14T19:12:02.925069Z"
    },
    "papermill": {
     "duration": 0.5755,
     "end_time": "2024-05-14T19:12:02.926089",
     "exception": false,
     "start_time": "2024-05-14T19:12:02.350589",
     "status": "completed"
    },
    "tags": []
   },
   "outputs": [
    {
     "data": {
      "text/plain": [
       "117"
      ]
     },
     "execution_count": 10,
     "metadata": {},
     "output_type": "execute_result"
    }
   ],
   "source": [
    "# Ok so here is the wierd part... there is not direct way to extract the elements of a project (or model)\n",
    "# So we have to perform a 'diff' between the elements of the initial commit and the latest revision. \n",
    "\n",
    "# So lets get the latest revision number (or max revision number)\n",
    "# curl -X GET \"https://18.205.77.131:8111/osmc/workspaces/bb95d8f4-fae4-490c-b764-4f83e3bba4f5/resources/272e28f2-45b7-45cb-a016-800ba747e716/revisions\" -H \"accept: application/json\"\n",
    "call = f'/osmc/workspaces/{workspaceId}/resources/{projectId}/revisions'\n",
    "url = f'https://{serverIp}:{serverPort}{call}'\n",
    "resp_revList = requests.get(url,headers=headers, verify=False) # turn of verification here since our server is not super secure\n",
    "revisionList = resp_revList.json()\n",
    "latestRevision = max(revisionList)\n",
    "latestRevision"
   ]
  },
  {
   "cell_type": "code",
   "execution_count": 11,
   "id": "fbd61a9f-661a-43f6-8f4b-1cdf11214e4b",
   "metadata": {
    "execution": {
     "iopub.execute_input": "2024-05-14T19:12:02.943962Z",
     "iopub.status.busy": "2024-05-14T19:12:02.943015Z",
     "iopub.status.idle": "2024-05-14T19:12:03.828792Z",
     "shell.execute_reply": "2024-05-14T19:12:03.828792Z"
    },
    "papermill": {
     "duration": 0.896102,
     "end_time": "2024-05-14T19:12:03.828792",
     "exception": false,
     "start_time": "2024-05-14T19:12:02.932690",
     "status": "completed"
    },
    "tags": []
   },
   "outputs": [],
   "source": [
    "# Then to get the diff use the following to compair revision 1 to revision max... this is a little wierd... but it works\n",
    "# I tought there would be a 'get' for all elements of a resource??? No... we must ask for the differential between the initial resource and its current version???\n",
    "# curl -X GET \"https://18.205.77.131:8111/osmc/workspaces/bb95d8f4-fae4-490c-b764-4f83e3bba4f5/resources/272e28f2-45b7-45cb-a016-800ba747e716/revisiondiff?source=1&target=44\" -H \"accept: application/json\"\n",
    "sourceRevision = 1\n",
    "targetRevision = latestRevision\n",
    "call = f'/osmc/workspaces/{workspaceId}/resources/{projectId}/revisiondiff?source={sourceRevision}&target={targetRevision}'\n",
    "url = f'https://{serverIp}:{serverPort}{call}'\n",
    "resp_elementList = requests.get(url,headers=headers, verify=False) # turn of verification here since our server is not super secure\n",
    "elementList_json = resp_elementList.json()['added'] # just get the added (availibe items are removed, added, changed, and empty)\n",
    "elementList = json.dumps(elementList_json) # push to flat string\n",
    "elementList = elementList.replace('\"','').replace(\"[\",\"\").replace(\"]\",\"\").replace(\" \",\"\") # remove the sting junk\n",
    "#elementList_json\n",
    "#elementList"
   ]
  },
  {
   "cell_type": "code",
   "execution_count": 12,
   "id": "3a1ff0ab-be19-4c9e-a93b-bccde278f2e1",
   "metadata": {
    "execution": {
     "iopub.execute_input": "2024-05-14T19:12:03.847907Z",
     "iopub.status.busy": "2024-05-14T19:12:03.847907Z",
     "iopub.status.idle": "2024-05-14T19:12:08.010624Z",
     "shell.execute_reply": "2024-05-14T19:12:08.010624Z"
    },
    "papermill": {
     "duration": 4.175289,
     "end_time": "2024-05-14T19:12:08.011637",
     "exception": false,
     "start_time": "2024-05-14T19:12:03.836348",
     "status": "completed"
    },
    "tags": []
   },
   "outputs": [],
   "source": [
    "# OK great.. now we have a list of elements from the selected model\n",
    "# Lets no loop through these elements and build a json file of each elements specific information - This time we post :)\n",
    "# curl -X POST \"https://18.205.77.131:8111/osmc/resources/272e28f2-45b7-45cb-a016-800ba747e716/elements\" -H \"accept: application/ld+json\" -H \"Content-Type: text/plain\" -d \"aa4bdacf-c246-4865-bf50-cc9be2a16f16, 8a2153fc-ba11-4f9c-a2c0-2cb5114f2356 \"\n",
    "call = f'/osmc/resources/{projectId}/elements'\n",
    "url = f'https://{serverIp}:{serverPort}{call}'\n",
    "headers={\"accept\":\"application/ld+json\", \"Content-Type\":\"text/plain\", \"authorization\":f\"Basic {authId}\"}\n",
    "resp_elementListData = requests.post(url,headers=headers, verify=False, data = elementList) # turn of verification here since our server is not super secure\n",
    "elementListData = resp_elementListData.json() # just get the added (availibe items are removed, added, changed, and empty)\n",
    "#elementListData"
   ]
  },
  {
   "cell_type": "code",
   "execution_count": 13,
   "id": "7acc5d6c-590c-4827-b1eb-96bf18e73f79",
   "metadata": {
    "execution": {
     "iopub.execute_input": "2024-05-14T19:12:08.037133Z",
     "iopub.status.busy": "2024-05-14T19:12:08.037133Z",
     "iopub.status.idle": "2024-05-14T19:12:08.056716Z",
     "shell.execute_reply": "2024-05-14T19:12:08.055705Z"
    },
    "papermill": {
     "duration": 0.037654,
     "end_time": "2024-05-14T19:12:08.056716",
     "exception": false,
     "start_time": "2024-05-14T19:12:08.019062",
     "status": "completed"
    },
    "tags": []
   },
   "outputs": [
    {
     "data": {
      "text/plain": [
       "{85: 85,\n",
       " 136: 136,\n",
       " 154: 154,\n",
       " 233: 233,\n",
       " 316: 316,\n",
       " 377: 377,\n",
       " 397: 397,\n",
       " 402: 402,\n",
       " 504: 504,\n",
       " 620: 620,\n",
       " 656: 656,\n",
       " 825: 825,\n",
       " 841: 841,\n",
       " 907: 907,\n",
       " 924: 924,\n",
       " 939: 939,\n",
       " 1005: 1005,\n",
       " 1236: 1236,\n",
       " 1240: 1240,\n",
       " 1266: 1266,\n",
       " 1281: 1281,\n",
       " 1293: 1293,\n",
       " 1365: 1365,\n",
       " 1376: 1376,\n",
       " 1456: 1456,\n",
       " 1484: 1484,\n",
       " 1486: 1486,\n",
       " 1487: 1487,\n",
       " 1497: 1497,\n",
       " 1541: 1541,\n",
       " 1576: 1576,\n",
       " 1589: 1589,\n",
       " 1593: 1593,\n",
       " 1605: 1605,\n",
       " 1614: 1614,\n",
       " 1692: 1692,\n",
       " 1730: 1730,\n",
       " 1944: 1944,\n",
       " 1981: 1981,\n",
       " 1997: 1997,\n",
       " 2036: 2036,\n",
       " 2219: 2219,\n",
       " 2268: 2268,\n",
       " 2402: 2402,\n",
       " 2491: 2491,\n",
       " 2592: 2592,\n",
       " 2621: 2621,\n",
       " 2645: 2645,\n",
       " 2784: 2784,\n",
       " 2919: 2919,\n",
       " 2920: 2920,\n",
       " 3174: 3174,\n",
       " 3224: 3224,\n",
       " 3277: 3277,\n",
       " 3301: 3301,\n",
       " 3357: 3357,\n",
       " 3448: 3448,\n",
       " 3459: 3459,\n",
       " 3570: 3570,\n",
       " 3713: 3713,\n",
       " 3782: 3782,\n",
       " 3867: 3867,\n",
       " 3882: 3882,\n",
       " 4009: 4009,\n",
       " 4047: 4047,\n",
       " 4121: 4121,\n",
       " 4145: 4145,\n",
       " 4152: 4152}"
      ]
     },
     "execution_count": 13,
     "metadata": {},
     "output_type": "execute_result"
    }
   ],
   "source": [
    "# Lets loop throug the selected projects elemetns and find the index of all literal real values\n",
    "literalRealIndex = {}\n",
    "for i in range(len(elementList_json)): # Where i is the uuid of the element in this case\n",
    "    if elementListData[elementList_json[i]]['data'][0]['@type'] == ['ldp:DirectContainer', 'uml:LiteralReal']:\n",
    "        literalRealIndex[i] = i # Add any key to the index that is a literal real\n",
    "literalRealIndex\n",
    "#elementList_json[4]\n",
    "#elementListData['554e62c4-5bd6-46d5-97cc-900c35c46913']"
   ]
  },
  {
   "cell_type": "code",
   "execution_count": 14,
   "id": "8cc0963a-94bf-4b3c-865f-d619212fad8b",
   "metadata": {
    "execution": {
     "iopub.execute_input": "2024-05-14T19:12:08.083301Z",
     "iopub.status.busy": "2024-05-14T19:12:08.083301Z",
     "iopub.status.idle": "2024-05-14T19:12:08.102849Z",
     "shell.execute_reply": "2024-05-14T19:12:08.102849Z"
    },
    "papermill": {
     "duration": 0.039128,
     "end_time": "2024-05-14T19:12:08.103368",
     "exception": false,
     "start_time": "2024-05-14T19:12:08.064240",
     "status": "completed"
    },
    "tags": []
   },
   "outputs": [
    {
     "data": {
      "text/plain": [
       "{620: Text(value='3.256', description='adt_length'),\n",
       " 1236: Text(value='4.965', description='adt_height'),\n",
       " 1240: Text(value='0.0', description='calculatedVolume'),\n",
       " 1541: Text(value='42.59751539999999', description='adt_cadVolume'),\n",
       " 2621: Text(value='2.635', description='adt_width')}"
      ]
     },
     "execution_count": 14,
     "metadata": {},
     "output_type": "execute_result"
    }
   ],
   "source": [
    "# So this is getting invloved and about here is where recursion starts to rear its ugly head\n",
    "# Lets just get through this for now and we can build a better mouse trap the next round\n",
    "\n",
    "valueCells = {}\n",
    "values = {}\n",
    "elementIds = {}\n",
    "\n",
    "#print(\"Here we can modkify the vendor model values if we like.\")\n",
    "\n",
    "# We can loop through the matched elements and the build widgets to edit them\n",
    "for keys in literalRealIndex:\n",
    "    try:\n",
    "        owenersId = elementListData[elementList_json[keys]]['data'][1]['kerml:owner']['@id']\n",
    "        ownersName = elementListData[owenersId]['data'][1]['kerml:name']\n",
    "        currentValue = elementListData[elementList_json[keys]]['data'][1][\"kerml:esiData\"][\"value\"]\n",
    "        elementIds[keys] = elementList_json[keys]\n",
    "        values[keys] = (ownersName, currentValue)\n",
    "        valueCells[keys] = widgets.Text(description=ownersName, value=currentValue); #display(valueCells[keys])\n",
    "        #print(elementListData[elementList_json[keys]]['data'][1]['kerml:owner']['@id'], elementListData[elementList_json[keys]]['data'][1][\"kerml:esiData\"][\"value\"])    \n",
    "    except:\n",
    "        pass\n",
    "valueCells"
   ]
  },
  {
   "cell_type": "code",
   "execution_count": 15,
   "id": "25803d2b-3ef5-4c8a-93f8-782e316ffbe7",
   "metadata": {
    "execution": {
     "iopub.execute_input": "2024-05-14T19:12:08.126929Z",
     "iopub.status.busy": "2024-05-14T19:12:08.125929Z",
     "iopub.status.idle": "2024-05-14T19:12:13.667612Z",
     "shell.execute_reply": "2024-05-14T19:12:13.667612Z"
    },
    "papermill": {
     "duration": 5.557234,
     "end_time": "2024-05-14T19:12:13.667612",
     "exception": false,
     "start_time": "2024-05-14T19:12:08.110378",
     "status": "completed"
    },
    "tags": []
   },
   "outputs": [
    {
     "data": {
      "application/vnd.jupyter.widget-view+json": {
       "model_id": "c1a0265f56684540adb38004708752ed",
       "version_major": 2,
       "version_minor": 0
      },
      "text/plain": [
       "Text(value='3.256', description='adt_length')"
      ]
     },
     "metadata": {},
     "output_type": "display_data"
    },
    {
     "data": {
      "application/vnd.jupyter.widget-view+json": {
       "model_id": "3b6a962a4ee94ca6b7a3e20c369be073",
       "version_major": 2,
       "version_minor": 0
      },
      "text/plain": [
       "Text(value='1.01', description='adt_height')"
      ]
     },
     "metadata": {},
     "output_type": "display_data"
    },
    {
     "data": {
      "application/vnd.jupyter.widget-view+json": {
       "model_id": "64c8b6efee0342c8997cdffb01b438d8",
       "version_major": 2,
       "version_minor": 0
      },
      "text/plain": [
       "Text(value='0.0', description='calculatedVolume')"
      ]
     },
     "metadata": {},
     "output_type": "display_data"
    },
    {
     "data": {
      "application/vnd.jupyter.widget-view+json": {
       "model_id": "2e9e3534741a407dbf383c22809ca123",
       "version_major": 2,
       "version_minor": 0
      },
      "text/plain": [
       "Text(value='8.665355599999998', description='adt_cadVolume')"
      ]
     },
     "metadata": {},
     "output_type": "display_data"
    },
    {
     "data": {
      "application/vnd.jupyter.widget-view+json": {
       "model_id": "76246055d7a44ccf829f82f0548bb456",
       "version_major": 2,
       "version_minor": 0
      },
      "text/plain": [
       "Text(value='2.635', description='adt_width')"
      ]
     },
     "metadata": {},
     "output_type": "display_data"
    },
    {
     "data": {
      "application/vnd.jupyter.widget-view+json": {
       "model_id": "be8ac4e1e73348d1b2ac8f97e512ee1a",
       "version_major": 2,
       "version_minor": 0
      },
      "text/plain": [
       "Button(description='Update Model Values', style=ButtonStyle())"
      ]
     },
     "metadata": {},
     "output_type": "display_data"
    },
    {
     "name": "stdout",
     "output_type": "stream",
     "text": [
      "https://10.107.1.92:8111/osmc/resources/b5b69f4d-e1d0-4ddc-b514-d54b05d0a3b4/elements/7d9e6305-3cf8-4dd8-9505-aa210a03c05c\n",
      "b'[{\"ldp:membershipResource\":{\"@id\":\"#7d9e6305-3cf8-4dd8-9505-aa210a03c05c\"},\"@type\":[\"ldp:DirectContainer\",\"uml:LiteralReal\"],\"ldp:contains\":[],\"ldp:hasMemberRelation\":\"kerml:ownedElement\",\"@id\":\"\",\"@context\":\"https://10.107.1.92:8111/osmc/schemas/umlElementContainer\"},{\"kerml:name\":\"\",\"@base\":\"https://10.107.1.92:8111/osmc/resources/b5b69f4d-e1d0-4ddc-b514-d54b05d0a3b4/elements\",\"kerml:nsURI\":\"http://www.nomagic.com/magicdraw/UML/2.5.1\",\"@type\":\"uml:LiteralReal\",\"kerml:owner\":{\"@id\":\"5af330d6-faa3-487d-9d91-ea57dec42651\"},\"kerml:revision\":\"https://10.107.1.92:8111/osmc/resources/b5b69f4d-e1d0-4ddc-b514-d54b05d0a3b4/revisions/118\",\"@context\":{\"kerml\":\"https://10.107.1.92:8111/osmc/schema/kerml/20140325\",\"uml:LiteralReal\":\"https://10.107.1.92:8111/osmc/schema/uml/2014345/LiteralReal\"},\"kerml:ownedElement\":[],\"kerml:modifiedTime\":\"20240514191241UTC\",\"kerml:esiData\":{\"owningConstraint\":null,\"_activityEdgeOfWeight\":null,\"_directedRelationshipOfSource\":[],\"_classifierOfInheritedMember\":[],\"_representationText\":null,\"_intervalOfMax\":[],\"_messageOfArgument\":null,\"_considerIgnoreFragmentOfMessage\":[],\"type\":null,\"_interactionConstraintOfMinint\":null,\"_elementOfSyncElement\":[],\"_durationOfExpr\":null,\"owningInstanceSpec\":null,\"_namespaceOfMember\":[],\"_interactionConstraintOfMaxint\":null,\"ID\":\"_19_0_3_144303c8_1714754745573_342585_30\",\"_relationshipOfRelatedElement\":[],\"nameExpression\":null,\"owningTemplateParameter\":null,\"_manifestationOfUtilizedElement\":[],\"_interactionUseOfArgument\":null,\"_durationObservationOfEvent\":[],\"visibility\":\"public\",\"_joinNodeOfJoinSpec\":null,\"_objectNodeOfUpperBound\":null,\"_messageOfSignature\":[],\"_templateParameterSubstitutionOfOwnedActual\":null,\"_componentOfPackagedElement\":null,\"_constraintOfConstrainedElement\":[],\"_namespaceOfImportedMember\":[],\"clientDependency\":[],\"_changeEventOfChangeExpression\":null,\"_diagramOfContext\":[],\"_messageOfTarget\":null,\"name\":\"\",\"_directedRelationshipOfTarget\":[],\"_commentOfAnnotatedElement\":[],\"supplierDependency\":[],\"_informationFlowOfInformationTarget\":[],\"ownedComment\":[],\"owningUpper\":null,\"_timeObservationOfEvent\":[],\"_lifelineOfSelector\":null,\"_informationFlowOfInformationSource\":[],\"owningParameter\":null,\"_templateParameterOfOwnedDefault\":null,\"templateParameter\":null,\"_timeExpressionOfExpr\":null,\"value\":\"3.256\",\"_templateParameterOfDefault\":[],\"_valuePinOfValue\":null,\"owner\":[{\"@id\":\"5af330d6-faa3-487d-9d91-ea57dec42651\"}],\"owningLower\":null,\"_interactionUseOfReturnValue\":null,\"ownedElement\":[],\"visibility__from_PackageableElement\":\"public\",\"expression\":null,\"owningSlot\":null,\"owningProperty\":{\"@id\":\"5af330d6-faa3-487d-9d91-ea57dec42651\"},\"_valueSpecificationActionOfValue\":null,\"syncElement\":null,\"_activityPartitionOfRepresents\":[],\"_elementValueOfElement\":[],\"owningPackage\":null,\"_activityEdgeOfGuard\":null,\"_intervalOfMin\":[],\"namespace\":[],\"mdExtensions\":[],\"appliedStereotypeInstance\":null,\"_templateParameterSubstitutionOfActual\":[],\"_elementImportOfImportedElement\":[]},\"kerml:resource\":\"https://10.107.1.92:8111/osmc/resources/b5b69f4d-e1d0-4ddc-b514-d54b05d0a3b4\",\"kerml:esiID\":\"7d9e6305-3cf8-4dd8-9505-aa210a03c05c\",\"@id\":\"#7d9e6305-3cf8-4dd8-9505-aa210a03c05c\"}]'\n"
     ]
    },
    {
     "name": "stdout",
     "output_type": "stream",
     "text": [
      "https://10.107.1.92:8111/osmc/resources/b5b69f4d-e1d0-4ddc-b514-d54b05d0a3b4/elements/5b86479d-b2db-4182-b116-d82095ba2617\n",
      "b'[{\"ldp:membershipResource\":{\"@id\":\"#5b86479d-b2db-4182-b116-d82095ba2617\"},\"@type\":[\"ldp:DirectContainer\",\"uml:LiteralReal\"],\"ldp:contains\":[],\"ldp:hasMemberRelation\":\"kerml:ownedElement\",\"@id\":\"\",\"@context\":\"https://10.107.1.92:8111/osmc/schemas/umlElementContainer\"},{\"kerml:name\":\"\",\"@base\":\"https://10.107.1.92:8111/osmc/resources/b5b69f4d-e1d0-4ddc-b514-d54b05d0a3b4/elements\",\"kerml:nsURI\":\"http://www.nomagic.com/magicdraw/UML/2.5.1\",\"@type\":\"uml:LiteralReal\",\"kerml:owner\":{\"@id\":\"35ea390c-9bc4-42d2-addc-c49740d84ef6\"},\"kerml:revision\":\"https://10.107.1.92:8111/osmc/resources/b5b69f4d-e1d0-4ddc-b514-d54b05d0a3b4/revisions/119\",\"@context\":{\"kerml\":\"https://10.107.1.92:8111/osmc/schema/kerml/20140325\",\"uml:LiteralReal\":\"https://10.107.1.92:8111/osmc/schema/uml/2014345/LiteralReal\"},\"kerml:ownedElement\":[],\"kerml:modifiedTime\":\"20240514191242UTC\",\"kerml:esiData\":{\"owningConstraint\":null,\"_activityEdgeOfWeight\":null,\"_directedRelationshipOfSource\":[],\"_classifierOfInheritedMember\":[],\"_representationText\":null,\"_intervalOfMax\":[],\"_messageOfArgument\":null,\"_considerIgnoreFragmentOfMessage\":[],\"type\":null,\"_interactionConstraintOfMinint\":null,\"_elementOfSyncElement\":[],\"_durationOfExpr\":null,\"owningInstanceSpec\":null,\"_namespaceOfMember\":[],\"_interactionConstraintOfMaxint\":null,\"ID\":\"_19_0_3_144303c8_1714754745564_217067_26\",\"_relationshipOfRelatedElement\":[],\"nameExpression\":null,\"owningTemplateParameter\":null,\"_manifestationOfUtilizedElement\":[],\"_interactionUseOfArgument\":null,\"_durationObservationOfEvent\":[],\"visibility\":\"public\",\"_joinNodeOfJoinSpec\":null,\"_objectNodeOfUpperBound\":null,\"_messageOfSignature\":[],\"_templateParameterSubstitutionOfOwnedActual\":null,\"_componentOfPackagedElement\":null,\"_constraintOfConstrainedElement\":[],\"_namespaceOfImportedMember\":[],\"clientDependency\":[],\"_changeEventOfChangeExpression\":null,\"_diagramOfContext\":[],\"_messageOfTarget\":null,\"name\":\"\",\"_directedRelationshipOfTarget\":[],\"_commentOfAnnotatedElement\":[],\"supplierDependency\":[],\"_informationFlowOfInformationTarget\":[],\"ownedComment\":[],\"owningUpper\":null,\"_timeObservationOfEvent\":[],\"_lifelineOfSelector\":null,\"_informationFlowOfInformationSource\":[],\"owningParameter\":null,\"_templateParameterOfOwnedDefault\":null,\"templateParameter\":null,\"_timeExpressionOfExpr\":null,\"value\":\"1.01\",\"_templateParameterOfDefault\":[],\"_valuePinOfValue\":null,\"owner\":[{\"@id\":\"35ea390c-9bc4-42d2-addc-c49740d84ef6\"}],\"owningLower\":null,\"_interactionUseOfReturnValue\":null,\"ownedElement\":[],\"visibility__from_PackageableElement\":\"public\",\"expression\":null,\"owningSlot\":null,\"owningProperty\":{\"@id\":\"35ea390c-9bc4-42d2-addc-c49740d84ef6\"},\"_valueSpecificationActionOfValue\":null,\"syncElement\":null,\"_activityPartitionOfRepresents\":[],\"_elementValueOfElement\":[],\"owningPackage\":null,\"_activityEdgeOfGuard\":null,\"_intervalOfMin\":[],\"namespace\":[],\"mdExtensions\":[],\"appliedStereotypeInstance\":null,\"_templateParameterSubstitutionOfActual\":[],\"_elementImportOfImportedElement\":[]},\"kerml:resource\":\"https://10.107.1.92:8111/osmc/resources/b5b69f4d-e1d0-4ddc-b514-d54b05d0a3b4\",\"kerml:esiID\":\"5b86479d-b2db-4182-b116-d82095ba2617\",\"@id\":\"#5b86479d-b2db-4182-b116-d82095ba2617\"}]'\n"
     ]
    },
    {
     "name": "stdout",
     "output_type": "stream",
     "text": [
      "https://10.107.1.92:8111/osmc/resources/b5b69f4d-e1d0-4ddc-b514-d54b05d0a3b4/elements/5ebd395f-7ad7-4abb-bb78-187550df9315\n",
      "b'[{\"ldp:membershipResource\":{\"@id\":\"#5ebd395f-7ad7-4abb-bb78-187550df9315\"},\"@type\":[\"ldp:DirectContainer\",\"uml:LiteralReal\"],\"ldp:contains\":[],\"ldp:hasMemberRelation\":\"kerml:ownedElement\",\"@id\":\"\",\"@context\":\"https://10.107.1.92:8111/osmc/schemas/umlElementContainer\"},{\"kerml:name\":\"\",\"@base\":\"https://10.107.1.92:8111/osmc/resources/b5b69f4d-e1d0-4ddc-b514-d54b05d0a3b4/elements\",\"kerml:nsURI\":\"http://www.nomagic.com/magicdraw/UML/2.5.1\",\"@type\":\"uml:LiteralReal\",\"kerml:owner\":{\"@id\":\"2312a234-0675-47ab-9cdf-e1d157959fc2\"},\"kerml:revision\":\"https://10.107.1.92:8111/osmc/resources/b5b69f4d-e1d0-4ddc-b514-d54b05d0a3b4/revisions/120\",\"@context\":{\"kerml\":\"https://10.107.1.92:8111/osmc/schema/kerml/20140325\",\"uml:LiteralReal\":\"https://10.107.1.92:8111/osmc/schema/uml/2014345/LiteralReal\"},\"kerml:ownedElement\":[],\"kerml:modifiedTime\":\"20240514191243UTC\",\"kerml:esiData\":{\"owningConstraint\":null,\"_activityEdgeOfWeight\":null,\"_directedRelationshipOfSource\":[],\"_classifierOfInheritedMember\":[],\"_representationText\":null,\"_intervalOfMax\":[],\"_messageOfArgument\":null,\"_considerIgnoreFragmentOfMessage\":[],\"type\":null,\"_interactionConstraintOfMinint\":null,\"_elementOfSyncElement\":[],\"_durationOfExpr\":null,\"owningInstanceSpec\":null,\"_namespaceOfMember\":[],\"_interactionConstraintOfMaxint\":null,\"ID\":\"_19_0_3_144303c8_1714754745572_971447_29\",\"_relationshipOfRelatedElement\":[],\"nameExpression\":null,\"owningTemplateParameter\":null,\"_manifestationOfUtilizedElement\":[],\"_interactionUseOfArgument\":null,\"_durationObservationOfEvent\":[],\"visibility\":\"public\",\"_joinNodeOfJoinSpec\":null,\"_objectNodeOfUpperBound\":null,\"_messageOfSignature\":[],\"_templateParameterSubstitutionOfOwnedActual\":null,\"_componentOfPackagedElement\":null,\"_constraintOfConstrainedElement\":[],\"_namespaceOfImportedMember\":[],\"clientDependency\":[],\"_changeEventOfChangeExpression\":null,\"_diagramOfContext\":[],\"_messageOfTarget\":null,\"name\":\"\",\"_directedRelationshipOfTarget\":[],\"_commentOfAnnotatedElement\":[],\"supplierDependency\":[],\"_informationFlowOfInformationTarget\":[],\"ownedComment\":[],\"owningUpper\":null,\"_timeObservationOfEvent\":[],\"_lifelineOfSelector\":null,\"_informationFlowOfInformationSource\":[],\"owningParameter\":null,\"_templateParameterOfOwnedDefault\":null,\"templateParameter\":null,\"_timeExpressionOfExpr\":null,\"value\":\"0.0\",\"_templateParameterOfDefault\":[],\"_valuePinOfValue\":null,\"owner\":[{\"@id\":\"2312a234-0675-47ab-9cdf-e1d157959fc2\"}],\"owningLower\":null,\"_interactionUseOfReturnValue\":null,\"ownedElement\":[],\"visibility__from_PackageableElement\":\"public\",\"expression\":null,\"owningSlot\":null,\"owningProperty\":{\"@id\":\"2312a234-0675-47ab-9cdf-e1d157959fc2\"},\"_valueSpecificationActionOfValue\":null,\"syncElement\":null,\"_activityPartitionOfRepresents\":[],\"_elementValueOfElement\":[],\"owningPackage\":null,\"_activityEdgeOfGuard\":null,\"_intervalOfMin\":[],\"namespace\":[],\"mdExtensions\":[],\"appliedStereotypeInstance\":null,\"_templateParameterSubstitutionOfActual\":[],\"_elementImportOfImportedElement\":[]},\"kerml:resource\":\"https://10.107.1.92:8111/osmc/resources/b5b69f4d-e1d0-4ddc-b514-d54b05d0a3b4\",\"kerml:esiID\":\"5ebd395f-7ad7-4abb-bb78-187550df9315\",\"@id\":\"#5ebd395f-7ad7-4abb-bb78-187550df9315\"}]'\n"
     ]
    },
    {
     "name": "stdout",
     "output_type": "stream",
     "text": [
      "https://10.107.1.92:8111/osmc/resources/b5b69f4d-e1d0-4ddc-b514-d54b05d0a3b4/elements/de83bcbd-7cd6-4c3e-a637-1c2dcaa3a283\n",
      "b'[{\"ldp:membershipResource\":{\"@id\":\"#de83bcbd-7cd6-4c3e-a637-1c2dcaa3a283\"},\"@type\":[\"ldp:DirectContainer\",\"uml:LiteralReal\"],\"ldp:contains\":[],\"ldp:hasMemberRelation\":\"kerml:ownedElement\",\"@id\":\"\",\"@context\":\"https://10.107.1.92:8111/osmc/schemas/umlElementContainer\"},{\"kerml:name\":\"\",\"@base\":\"https://10.107.1.92:8111/osmc/resources/b5b69f4d-e1d0-4ddc-b514-d54b05d0a3b4/elements\",\"kerml:nsURI\":\"http://www.nomagic.com/magicdraw/UML/2.5.1\",\"@type\":\"uml:LiteralReal\",\"kerml:owner\":{\"@id\":\"e3b666f7-7484-4bce-b35b-5dc783b9c095\"},\"kerml:revision\":\"https://10.107.1.92:8111/osmc/resources/b5b69f4d-e1d0-4ddc-b514-d54b05d0a3b4/revisions/121\",\"@context\":{\"kerml\":\"https://10.107.1.92:8111/osmc/schema/kerml/20140325\",\"uml:LiteralReal\":\"https://10.107.1.92:8111/osmc/schema/uml/2014345/LiteralReal\"},\"kerml:ownedElement\":[],\"kerml:modifiedTime\":\"20240514191245UTC\",\"kerml:esiData\":{\"owningConstraint\":null,\"_activityEdgeOfWeight\":null,\"_directedRelationshipOfSource\":[],\"_classifierOfInheritedMember\":[],\"_representationText\":null,\"_intervalOfMax\":[],\"_messageOfArgument\":null,\"_considerIgnoreFragmentOfMessage\":[],\"type\":null,\"_interactionConstraintOfMinint\":null,\"_elementOfSyncElement\":[],\"_durationOfExpr\":null,\"owningInstanceSpec\":null,\"_namespaceOfMember\":[],\"_interactionConstraintOfMaxint\":null,\"ID\":\"_19_0_3_144303c8_1714754745568_70882_27\",\"_relationshipOfRelatedElement\":[],\"nameExpression\":null,\"owningTemplateParameter\":null,\"_manifestationOfUtilizedElement\":[],\"_interactionUseOfArgument\":null,\"_durationObservationOfEvent\":[],\"visibility\":\"public\",\"_joinNodeOfJoinSpec\":null,\"_objectNodeOfUpperBound\":null,\"_messageOfSignature\":[],\"_templateParameterSubstitutionOfOwnedActual\":null,\"_componentOfPackagedElement\":null,\"_constraintOfConstrainedElement\":[],\"_namespaceOfImportedMember\":[],\"clientDependency\":[],\"_changeEventOfChangeExpression\":null,\"_diagramOfContext\":[],\"_messageOfTarget\":null,\"name\":\"\",\"_directedRelationshipOfTarget\":[],\"_commentOfAnnotatedElement\":[],\"supplierDependency\":[],\"_informationFlowOfInformationTarget\":[],\"ownedComment\":[],\"owningUpper\":null,\"_timeObservationOfEvent\":[],\"_lifelineOfSelector\":null,\"_informationFlowOfInformationSource\":[],\"owningParameter\":null,\"_templateParameterOfOwnedDefault\":null,\"templateParameter\":null,\"_timeExpressionOfExpr\":null,\"value\":\"8.665355599999998\",\"_templateParameterOfDefault\":[],\"_valuePinOfValue\":null,\"owner\":[{\"@id\":\"e3b666f7-7484-4bce-b35b-5dc783b9c095\"}],\"owningLower\":null,\"_interactionUseOfReturnValue\":null,\"ownedElement\":[],\"visibility__from_PackageableElement\":\"public\",\"expression\":null,\"owningSlot\":null,\"owningProperty\":{\"@id\":\"e3b666f7-7484-4bce-b35b-5dc783b9c095\"},\"_valueSpecificationActionOfValue\":null,\"syncElement\":null,\"_activityPartitionOfRepresents\":[],\"_elementValueOfElement\":[],\"owningPackage\":null,\"_activityEdgeOfGuard\":null,\"_intervalOfMin\":[],\"namespace\":[],\"mdExtensions\":[],\"appliedStereotypeInstance\":null,\"_templateParameterSubstitutionOfActual\":[],\"_elementImportOfImportedElement\":[]},\"kerml:resource\":\"https://10.107.1.92:8111/osmc/resources/b5b69f4d-e1d0-4ddc-b514-d54b05d0a3b4\",\"kerml:esiID\":\"de83bcbd-7cd6-4c3e-a637-1c2dcaa3a283\",\"@id\":\"#de83bcbd-7cd6-4c3e-a637-1c2dcaa3a283\"}]'\n"
     ]
    },
    {
     "name": "stdout",
     "output_type": "stream",
     "text": [
      "https://10.107.1.92:8111/osmc/resources/b5b69f4d-e1d0-4ddc-b514-d54b05d0a3b4/elements/84f3b08d-89d5-4da0-b6d8-734cf9fcb54a\n",
      "b'[{\"ldp:membershipResource\":{\"@id\":\"#84f3b08d-89d5-4da0-b6d8-734cf9fcb54a\"},\"@type\":[\"ldp:DirectContainer\",\"uml:LiteralReal\"],\"ldp:contains\":[],\"ldp:hasMemberRelation\":\"kerml:ownedElement\",\"@id\":\"\",\"@context\":\"https://10.107.1.92:8111/osmc/schemas/umlElementContainer\"},{\"kerml:name\":\"\",\"@base\":\"https://10.107.1.92:8111/osmc/resources/b5b69f4d-e1d0-4ddc-b514-d54b05d0a3b4/elements\",\"kerml:nsURI\":\"http://www.nomagic.com/magicdraw/UML/2.5.1\",\"@type\":\"uml:LiteralReal\",\"kerml:owner\":{\"@id\":\"867db4f1-5548-44bf-92a6-b07d813dcd62\"},\"kerml:revision\":\"https://10.107.1.92:8111/osmc/resources/b5b69f4d-e1d0-4ddc-b514-d54b05d0a3b4/revisions/122\",\"@context\":{\"kerml\":\"https://10.107.1.92:8111/osmc/schema/kerml/20140325\",\"uml:LiteralReal\":\"https://10.107.1.92:8111/osmc/schema/uml/2014345/LiteralReal\"},\"kerml:ownedElement\":[],\"kerml:modifiedTime\":\"20240514191246UTC\",\"kerml:esiData\":{\"owningConstraint\":null,\"_activityEdgeOfWeight\":null,\"_directedRelationshipOfSource\":[],\"_classifierOfInheritedMember\":[],\"_representationText\":null,\"_intervalOfMax\":[],\"_messageOfArgument\":null,\"_considerIgnoreFragmentOfMessage\":[],\"type\":null,\"_interactionConstraintOfMinint\":null,\"_elementOfSyncElement\":[],\"_durationOfExpr\":null,\"owningInstanceSpec\":null,\"_namespaceOfMember\":[],\"_interactionConstraintOfMaxint\":null,\"ID\":\"_19_0_3_144303c8_1714754745570_550463_28\",\"_relationshipOfRelatedElement\":[],\"nameExpression\":null,\"owningTemplateParameter\":null,\"_manifestationOfUtilizedElement\":[],\"_interactionUseOfArgument\":null,\"_durationObservationOfEvent\":[],\"visibility\":\"public\",\"_joinNodeOfJoinSpec\":null,\"_objectNodeOfUpperBound\":null,\"_messageOfSignature\":[],\"_templateParameterSubstitutionOfOwnedActual\":null,\"_componentOfPackagedElement\":null,\"_constraintOfConstrainedElement\":[],\"_namespaceOfImportedMember\":[],\"clientDependency\":[],\"_changeEventOfChangeExpression\":null,\"_diagramOfContext\":[],\"_messageOfTarget\":null,\"name\":\"\",\"_directedRelationshipOfTarget\":[],\"_commentOfAnnotatedElement\":[],\"supplierDependency\":[],\"_informationFlowOfInformationTarget\":[],\"ownedComment\":[],\"owningUpper\":null,\"_timeObservationOfEvent\":[],\"_lifelineOfSelector\":null,\"_informationFlowOfInformationSource\":[],\"owningParameter\":null,\"_templateParameterOfOwnedDefault\":null,\"templateParameter\":null,\"_timeExpressionOfExpr\":null,\"value\":\"2.635\",\"_templateParameterOfDefault\":[],\"_valuePinOfValue\":null,\"owner\":[{\"@id\":\"867db4f1-5548-44bf-92a6-b07d813dcd62\"}],\"owningLower\":null,\"_interactionUseOfReturnValue\":null,\"ownedElement\":[],\"visibility__from_PackageableElement\":\"public\",\"expression\":null,\"owningSlot\":null,\"owningProperty\":{\"@id\":\"867db4f1-5548-44bf-92a6-b07d813dcd62\"},\"_valueSpecificationActionOfValue\":null,\"syncElement\":null,\"_activityPartitionOfRepresents\":[],\"_elementValueOfElement\":[],\"owningPackage\":null,\"_activityEdgeOfGuard\":null,\"_intervalOfMin\":[],\"namespace\":[],\"mdExtensions\":[],\"appliedStereotypeInstance\":null,\"_templateParameterSubstitutionOfActual\":[],\"_elementImportOfImportedElement\":[]},\"kerml:resource\":\"https://10.107.1.92:8111/osmc/resources/b5b69f4d-e1d0-4ddc-b514-d54b05d0a3b4\",\"kerml:esiID\":\"84f3b08d-89d5-4da0-b6d8-734cf9fcb54a\",\"@id\":\"#84f3b08d-89d5-4da0-b6d8-734cf9fcb54a\"}]'\n"
     ]
    }
   ],
   "source": [
    "# This functuon is executed after pushing the button\n",
    "def updateSystemModelVals():\n",
    "    for cells in valueCells:\n",
    "        # Create the payload\n",
    "        dataValue = {\"kerml:esiData\":{\"value\":\"0.0\"}} # Build the data payload\n",
    "        dataValue[\"kerml:esiData\"][\"value\"] = valueCells[cells].value # Update the json string\n",
    "        \n",
    "        # Now build the api call\n",
    "        call = f'/osmc/resources/{projectId}/elements/{elementIds[cells]}'\n",
    "        url = f'https://{serverIp}:{serverPort}{call}'\n",
    "        headers={\"accept\":\"application/ld+json\", \"authorization\":f\"Basic {authId}\", \"Content-Type\":\"application/ld+json\"}\n",
    "        \n",
    "        # Have to add a new header of content type\n",
    "        resp_value = requests.patch(url, headers = headers, verify = False, json = dataValue) # turn of verification here since our server is not super secure\n",
    "        print(url)\n",
    "        resp_value.status_code\n",
    "        # print(dataValue)\n",
    "        print(resp_value.content)\n",
    "        \n",
    "# Update the values in valueCells based on df_input\n",
    "for key, widget in valueCells.items():\n",
    "    # Extract the part of the description following 'adt_' to match with df_input\n",
    "    description_suffix = widget.description[4:]  # Remove the 'adt_' prefix\n",
    "    # Find the row in df_input where the description matches description_suffix\n",
    "    match = df_input[df_input['Description'] == description_suffix]\n",
    "    #print(match)\n",
    "    if not match.empty:\n",
    "        # Update the widget's value with the corresponding value from df_input\n",
    "        new_value = str(float(match['Value'].iloc[0]))  # Convert to float then to string\n",
    "        widget.value = new_value\n",
    "\n",
    "# Display the updated widgets\n",
    "for widget in valueCells.values():\n",
    "    display(widget)\n",
    "    \n",
    "# Create a button to push for fun :)\n",
    "btn = widgets.Button(description = \"Update Model Values\")\n",
    "display(btn)\n",
    "        \n",
    "# The button callback\n",
    "#btn.on_click(updateSystemModelVals)\n",
    "updateSystemModelVals()"
   ]
  },
  {
   "cell_type": "markdown",
   "id": "760a8ec5-501a-4fac-bf1c-909f03090aa1",
   "metadata": {
    "papermill": {
     "duration": 0.007744,
     "end_time": "2024-05-14T19:12:13.683995",
     "exception": false,
     "start_time": "2024-05-14T19:12:13.676251",
     "status": "completed"
    },
    "tags": []
   },
   "source": [
    "# I cant force the update of the block volume attribute at this time.\n",
    "\n",
    "A couple of notes:\n",
    "1. This can fully automated and you should be able to see that we can use complex methods in between the pull and push\n",
    "2. I cant execute the volume update with this setup (we dont want to update blocks but instances...)\n",
    "3. Matching the ADT value to the Vendor value can be performed by looking up an ICD \n",
    "3. I'll build out an instance updater tommorow :)"
   ]
  }
 ],
 "metadata": {
  "kernelspec": {
   "display_name": "Python 3 (ipykernel)",
   "language": "python",
   "name": "python3"
  },
  "language_info": {
   "codemirror_mode": {
    "name": "ipython",
    "version": 3
   },
   "file_extension": ".py",
   "mimetype": "text/x-python",
   "name": "python",
   "nbconvert_exporter": "python",
   "pygments_lexer": "ipython3",
   "version": "3.10.14"
  },
  "papermill": {
   "default_parameters": {},
   "duration": 17.517161,
   "end_time": "2024-05-14T19:12:14.025469",
   "environment_variables": {},
   "exception": null,
   "input_path": "C:\\Users\\JohnDeHart\\Documents\\GitHub\\Notebooks\\twc_interactions\\push_adt_model.ipynb",
   "output_path": "C:\\Users\\JohnDeHart\\Documents\\GitHub\\Notebooks\\twc_interactions\\push_adt_model.ipynb",
   "parameters": {},
   "start_time": "2024-05-14T19:11:56.508308",
   "version": "2.6.0"
  },
  "widgets": {
   "application/vnd.jupyter.widget-state+json": {
    "state": {
     "12e9cdd49e774dbdbeee55bcfc7d1ed1": {
      "model_module": "@jupyter-widgets/base",
      "model_module_version": "2.0.0",
      "model_name": "LayoutModel",
      "state": {
       "_model_module": "@jupyter-widgets/base",
       "_model_module_version": "2.0.0",
       "_model_name": "LayoutModel",
       "_view_count": null,
       "_view_module": "@jupyter-widgets/base",
       "_view_module_version": "2.0.0",
       "_view_name": "LayoutView",
       "align_content": null,
       "align_items": null,
       "align_self": null,
       "border_bottom": null,
       "border_left": null,
       "border_right": null,
       "border_top": null,
       "bottom": null,
       "display": null,
       "flex": null,
       "flex_flow": null,
       "grid_area": null,
       "grid_auto_columns": null,
       "grid_auto_flow": null,
       "grid_auto_rows": null,
       "grid_column": null,
       "grid_gap": null,
       "grid_row": null,
       "grid_template_areas": null,
       "grid_template_columns": null,
       "grid_template_rows": null,
       "height": null,
       "justify_content": null,
       "justify_items": null,
       "left": null,
       "margin": null,
       "max_height": null,
       "max_width": null,
       "min_height": null,
       "min_width": null,
       "object_fit": null,
       "object_position": null,
       "order": null,
       "overflow": null,
       "padding": null,
       "right": null,
       "top": null,
       "visibility": null,
       "width": null
      }
     },
     "226991a117bd4a19b907b4e426817eea": {
      "model_module": "@jupyter-widgets/base",
      "model_module_version": "2.0.0",
      "model_name": "LayoutModel",
      "state": {
       "_model_module": "@jupyter-widgets/base",
       "_model_module_version": "2.0.0",
       "_model_name": "LayoutModel",
       "_view_count": null,
       "_view_module": "@jupyter-widgets/base",
       "_view_module_version": "2.0.0",
       "_view_name": "LayoutView",
       "align_content": null,
       "align_items": null,
       "align_self": null,
       "border_bottom": null,
       "border_left": null,
       "border_right": null,
       "border_top": null,
       "bottom": null,
       "display": null,
       "flex": null,
       "flex_flow": null,
       "grid_area": null,
       "grid_auto_columns": null,
       "grid_auto_flow": null,
       "grid_auto_rows": null,
       "grid_column": null,
       "grid_gap": null,
       "grid_row": null,
       "grid_template_areas": null,
       "grid_template_columns": null,
       "grid_template_rows": null,
       "height": null,
       "justify_content": null,
       "justify_items": null,
       "left": null,
       "margin": null,
       "max_height": null,
       "max_width": null,
       "min_height": null,
       "min_width": null,
       "object_fit": null,
       "object_position": null,
       "order": null,
       "overflow": null,
       "padding": null,
       "right": null,
       "top": null,
       "visibility": null,
       "width": null
      }
     },
     "2508e765ece94e8b92094f79d5060c37": {
      "model_module": "@jupyter-widgets/controls",
      "model_module_version": "2.0.0",
      "model_name": "DropdownModel",
      "state": {
       "_dom_classes": [],
       "_model_module": "@jupyter-widgets/controls",
       "_model_module_version": "2.0.0",
       "_model_name": "DropdownModel",
       "_options_labels": [
        "ADT_Model2",
        "VendorA",
        "MacroEngine_Profile",
        "ADT_Model",
        "TestVerdictKind"
       ],
       "_view_count": null,
       "_view_module": "@jupyter-widgets/controls",
       "_view_module_version": "2.0.0",
       "_view_name": "DropdownView",
       "description": "Projects:",
       "description_allow_html": false,
       "disabled": false,
       "index": 0,
       "layout": "IPY_MODEL_3a20b9e05cd14a2aaf016b0d4045e789",
       "style": "IPY_MODEL_e15320fff1844df8a200efc551ec572b",
       "tabbable": null,
       "tooltip": null
      }
     },
     "29af86d1793e4ecea9d1af3d37015053": {
      "model_module": "@jupyter-widgets/controls",
      "model_module_version": "2.0.0",
      "model_name": "ButtonStyleModel",
      "state": {
       "_model_module": "@jupyter-widgets/controls",
       "_model_module_version": "2.0.0",
       "_model_name": "ButtonStyleModel",
       "_view_count": null,
       "_view_module": "@jupyter-widgets/base",
       "_view_module_version": "2.0.0",
       "_view_name": "StyleView",
       "button_color": null,
       "font_family": null,
       "font_size": null,
       "font_style": null,
       "font_variant": null,
       "font_weight": null,
       "text_color": null,
       "text_decoration": null
      }
     },
     "2e9e3534741a407dbf383c22809ca123": {
      "model_module": "@jupyter-widgets/controls",
      "model_module_version": "2.0.0",
      "model_name": "TextModel",
      "state": {
       "_dom_classes": [],
       "_model_module": "@jupyter-widgets/controls",
       "_model_module_version": "2.0.0",
       "_model_name": "TextModel",
       "_view_count": null,
       "_view_module": "@jupyter-widgets/controls",
       "_view_module_version": "2.0.0",
       "_view_name": "TextView",
       "continuous_update": true,
       "description": "adt_cadVolume",
       "description_allow_html": false,
       "disabled": false,
       "layout": "IPY_MODEL_619d780ed4454cfa8736cf7416346d68",
       "placeholder": "​",
       "style": "IPY_MODEL_a3c61fee4a794cd7867f2c02d129079b",
       "tabbable": null,
       "tooltip": null,
       "value": "8.665355599999998"
      }
     },
     "399f18d9bf684ecf932bfcd944d7177c": {
      "model_module": "@jupyter-widgets/controls",
      "model_module_version": "2.0.0",
      "model_name": "TextStyleModel",
      "state": {
       "_model_module": "@jupyter-widgets/controls",
       "_model_module_version": "2.0.0",
       "_model_name": "TextStyleModel",
       "_view_count": null,
       "_view_module": "@jupyter-widgets/base",
       "_view_module_version": "2.0.0",
       "_view_name": "StyleView",
       "background": null,
       "description_width": "",
       "font_size": null,
       "text_color": null
      }
     },
     "3a20b9e05cd14a2aaf016b0d4045e789": {
      "model_module": "@jupyter-widgets/base",
      "model_module_version": "2.0.0",
      "model_name": "LayoutModel",
      "state": {
       "_model_module": "@jupyter-widgets/base",
       "_model_module_version": "2.0.0",
       "_model_name": "LayoutModel",
       "_view_count": null,
       "_view_module": "@jupyter-widgets/base",
       "_view_module_version": "2.0.0",
       "_view_name": "LayoutView",
       "align_content": null,
       "align_items": null,
       "align_self": null,
       "border_bottom": null,
       "border_left": null,
       "border_right": null,
       "border_top": null,
       "bottom": null,
       "display": null,
       "flex": null,
       "flex_flow": null,
       "grid_area": null,
       "grid_auto_columns": null,
       "grid_auto_flow": null,
       "grid_auto_rows": null,
       "grid_column": null,
       "grid_gap": null,
       "grid_row": null,
       "grid_template_areas": null,
       "grid_template_columns": null,
       "grid_template_rows": null,
       "height": null,
       "justify_content": null,
       "justify_items": null,
       "left": null,
       "margin": null,
       "max_height": null,
       "max_width": null,
       "min_height": null,
       "min_width": null,
       "object_fit": null,
       "object_position": null,
       "order": null,
       "overflow": null,
       "padding": null,
       "right": null,
       "top": null,
       "visibility": null,
       "width": null
      }
     },
     "3b6a962a4ee94ca6b7a3e20c369be073": {
      "model_module": "@jupyter-widgets/controls",
      "model_module_version": "2.0.0",
      "model_name": "TextModel",
      "state": {
       "_dom_classes": [],
       "_model_module": "@jupyter-widgets/controls",
       "_model_module_version": "2.0.0",
       "_model_name": "TextModel",
       "_view_count": null,
       "_view_module": "@jupyter-widgets/controls",
       "_view_module_version": "2.0.0",
       "_view_name": "TextView",
       "continuous_update": true,
       "description": "adt_height",
       "description_allow_html": false,
       "disabled": false,
       "layout": "IPY_MODEL_226991a117bd4a19b907b4e426817eea",
       "placeholder": "​",
       "style": "IPY_MODEL_68eabfdc87d7437fb8d6a3b0c0d87858",
       "tabbable": null,
       "tooltip": null,
       "value": "1.01"
      }
     },
     "534dacffa016439f8ab8b3a983eabbca": {
      "model_module": "@jupyter-widgets/controls",
      "model_module_version": "2.0.0",
      "model_name": "TextStyleModel",
      "state": {
       "_model_module": "@jupyter-widgets/controls",
       "_model_module_version": "2.0.0",
       "_model_name": "TextStyleModel",
       "_view_count": null,
       "_view_module": "@jupyter-widgets/base",
       "_view_module_version": "2.0.0",
       "_view_name": "StyleView",
       "background": null,
       "description_width": "",
       "font_size": null,
       "text_color": null
      }
     },
     "570bdc904387423ab0a982df88280b68": {
      "model_module": "@jupyter-widgets/controls",
      "model_module_version": "2.0.0",
      "model_name": "DropdownModel",
      "state": {
       "_dom_classes": [],
       "_model_module": "@jupyter-widgets/controls",
       "_model_module_version": "2.0.0",
       "_model_name": "DropdownModel",
       "_options_labels": [
        "ADT_Projects",
        "Test_Projects",
        "Project_Templates",
        "Uncategorized"
       ],
       "_view_count": null,
       "_view_module": "@jupyter-widgets/controls",
       "_view_module_version": "2.0.0",
       "_view_name": "DropdownView",
       "description": "Workspaces:",
       "description_allow_html": false,
       "disabled": false,
       "index": 0,
       "layout": "IPY_MODEL_12e9cdd49e774dbdbeee55bcfc7d1ed1",
       "style": "IPY_MODEL_8f8b74396dbb4501b4c650222eddacb8",
       "tabbable": null,
       "tooltip": null
      }
     },
     "5ae2188d67514c73b2480be61a7afe63": {
      "model_module": "@jupyter-widgets/controls",
      "model_module_version": "2.0.0",
      "model_name": "TextStyleModel",
      "state": {
       "_model_module": "@jupyter-widgets/controls",
       "_model_module_version": "2.0.0",
       "_model_name": "TextStyleModel",
       "_view_count": null,
       "_view_module": "@jupyter-widgets/base",
       "_view_module_version": "2.0.0",
       "_view_name": "StyleView",
       "background": null,
       "description_width": "",
       "font_size": null,
       "text_color": null
      }
     },
     "609d97b095844547a108fb4f43b28e2d": {
      "model_module": "@jupyter-widgets/base",
      "model_module_version": "2.0.0",
      "model_name": "LayoutModel",
      "state": {
       "_model_module": "@jupyter-widgets/base",
       "_model_module_version": "2.0.0",
       "_model_name": "LayoutModel",
       "_view_count": null,
       "_view_module": "@jupyter-widgets/base",
       "_view_module_version": "2.0.0",
       "_view_name": "LayoutView",
       "align_content": null,
       "align_items": null,
       "align_self": null,
       "border_bottom": null,
       "border_left": null,
       "border_right": null,
       "border_top": null,
       "bottom": null,
       "display": null,
       "flex": null,
       "flex_flow": null,
       "grid_area": null,
       "grid_auto_columns": null,
       "grid_auto_flow": null,
       "grid_auto_rows": null,
       "grid_column": null,
       "grid_gap": null,
       "grid_row": null,
       "grid_template_areas": null,
       "grid_template_columns": null,
       "grid_template_rows": null,
       "height": null,
       "justify_content": null,
       "justify_items": null,
       "left": null,
       "margin": null,
       "max_height": null,
       "max_width": null,
       "min_height": null,
       "min_width": null,
       "object_fit": null,
       "object_position": null,
       "order": null,
       "overflow": null,
       "padding": null,
       "right": null,
       "top": null,
       "visibility": null,
       "width": null
      }
     },
     "619d780ed4454cfa8736cf7416346d68": {
      "model_module": "@jupyter-widgets/base",
      "model_module_version": "2.0.0",
      "model_name": "LayoutModel",
      "state": {
       "_model_module": "@jupyter-widgets/base",
       "_model_module_version": "2.0.0",
       "_model_name": "LayoutModel",
       "_view_count": null,
       "_view_module": "@jupyter-widgets/base",
       "_view_module_version": "2.0.0",
       "_view_name": "LayoutView",
       "align_content": null,
       "align_items": null,
       "align_self": null,
       "border_bottom": null,
       "border_left": null,
       "border_right": null,
       "border_top": null,
       "bottom": null,
       "display": null,
       "flex": null,
       "flex_flow": null,
       "grid_area": null,
       "grid_auto_columns": null,
       "grid_auto_flow": null,
       "grid_auto_rows": null,
       "grid_column": null,
       "grid_gap": null,
       "grid_row": null,
       "grid_template_areas": null,
       "grid_template_columns": null,
       "grid_template_rows": null,
       "height": null,
       "justify_content": null,
       "justify_items": null,
       "left": null,
       "margin": null,
       "max_height": null,
       "max_width": null,
       "min_height": null,
       "min_width": null,
       "object_fit": null,
       "object_position": null,
       "order": null,
       "overflow": null,
       "padding": null,
       "right": null,
       "top": null,
       "visibility": null,
       "width": null
      }
     },
     "64c8b6efee0342c8997cdffb01b438d8": {
      "model_module": "@jupyter-widgets/controls",
      "model_module_version": "2.0.0",
      "model_name": "TextModel",
      "state": {
       "_dom_classes": [],
       "_model_module": "@jupyter-widgets/controls",
       "_model_module_version": "2.0.0",
       "_model_name": "TextModel",
       "_view_count": null,
       "_view_module": "@jupyter-widgets/controls",
       "_view_module_version": "2.0.0",
       "_view_name": "TextView",
       "continuous_update": true,
       "description": "calculatedVolume",
       "description_allow_html": false,
       "disabled": false,
       "layout": "IPY_MODEL_8689e83377224f4da3fca946fed90172",
       "placeholder": "​",
       "style": "IPY_MODEL_5ae2188d67514c73b2480be61a7afe63",
       "tabbable": null,
       "tooltip": null,
       "value": "0.0"
      }
     },
     "68eabfdc87d7437fb8d6a3b0c0d87858": {
      "model_module": "@jupyter-widgets/controls",
      "model_module_version": "2.0.0",
      "model_name": "TextStyleModel",
      "state": {
       "_model_module": "@jupyter-widgets/controls",
       "_model_module_version": "2.0.0",
       "_model_name": "TextStyleModel",
       "_view_count": null,
       "_view_module": "@jupyter-widgets/base",
       "_view_module_version": "2.0.0",
       "_view_name": "StyleView",
       "background": null,
       "description_width": "",
       "font_size": null,
       "text_color": null
      }
     },
     "6968647b29e04e7a937f7adfad5f8760": {
      "model_module": "@jupyter-widgets/base",
      "model_module_version": "2.0.0",
      "model_name": "LayoutModel",
      "state": {
       "_model_module": "@jupyter-widgets/base",
       "_model_module_version": "2.0.0",
       "_model_name": "LayoutModel",
       "_view_count": null,
       "_view_module": "@jupyter-widgets/base",
       "_view_module_version": "2.0.0",
       "_view_name": "LayoutView",
       "align_content": null,
       "align_items": null,
       "align_self": null,
       "border_bottom": null,
       "border_left": null,
       "border_right": null,
       "border_top": null,
       "bottom": null,
       "display": null,
       "flex": null,
       "flex_flow": null,
       "grid_area": null,
       "grid_auto_columns": null,
       "grid_auto_flow": null,
       "grid_auto_rows": null,
       "grid_column": null,
       "grid_gap": null,
       "grid_row": null,
       "grid_template_areas": null,
       "grid_template_columns": null,
       "grid_template_rows": null,
       "height": null,
       "justify_content": null,
       "justify_items": null,
       "left": null,
       "margin": null,
       "max_height": null,
       "max_width": null,
       "min_height": null,
       "min_width": null,
       "object_fit": null,
       "object_position": null,
       "order": null,
       "overflow": null,
       "padding": null,
       "right": null,
       "top": null,
       "visibility": null,
       "width": null
      }
     },
     "76246055d7a44ccf829f82f0548bb456": {
      "model_module": "@jupyter-widgets/controls",
      "model_module_version": "2.0.0",
      "model_name": "TextModel",
      "state": {
       "_dom_classes": [],
       "_model_module": "@jupyter-widgets/controls",
       "_model_module_version": "2.0.0",
       "_model_name": "TextModel",
       "_view_count": null,
       "_view_module": "@jupyter-widgets/controls",
       "_view_module_version": "2.0.0",
       "_view_name": "TextView",
       "continuous_update": true,
       "description": "adt_width",
       "description_allow_html": false,
       "disabled": false,
       "layout": "IPY_MODEL_9bcfdaabdf7b4ad5b855376ace8aa58c",
       "placeholder": "​",
       "style": "IPY_MODEL_399f18d9bf684ecf932bfcd944d7177c",
       "tabbable": null,
       "tooltip": null,
       "value": "2.635"
      }
     },
     "8689e83377224f4da3fca946fed90172": {
      "model_module": "@jupyter-widgets/base",
      "model_module_version": "2.0.0",
      "model_name": "LayoutModel",
      "state": {
       "_model_module": "@jupyter-widgets/base",
       "_model_module_version": "2.0.0",
       "_model_name": "LayoutModel",
       "_view_count": null,
       "_view_module": "@jupyter-widgets/base",
       "_view_module_version": "2.0.0",
       "_view_name": "LayoutView",
       "align_content": null,
       "align_items": null,
       "align_self": null,
       "border_bottom": null,
       "border_left": null,
       "border_right": null,
       "border_top": null,
       "bottom": null,
       "display": null,
       "flex": null,
       "flex_flow": null,
       "grid_area": null,
       "grid_auto_columns": null,
       "grid_auto_flow": null,
       "grid_auto_rows": null,
       "grid_column": null,
       "grid_gap": null,
       "grid_row": null,
       "grid_template_areas": null,
       "grid_template_columns": null,
       "grid_template_rows": null,
       "height": null,
       "justify_content": null,
       "justify_items": null,
       "left": null,
       "margin": null,
       "max_height": null,
       "max_width": null,
       "min_height": null,
       "min_width": null,
       "object_fit": null,
       "object_position": null,
       "order": null,
       "overflow": null,
       "padding": null,
       "right": null,
       "top": null,
       "visibility": null,
       "width": null
      }
     },
     "8f8b74396dbb4501b4c650222eddacb8": {
      "model_module": "@jupyter-widgets/controls",
      "model_module_version": "2.0.0",
      "model_name": "DescriptionStyleModel",
      "state": {
       "_model_module": "@jupyter-widgets/controls",
       "_model_module_version": "2.0.0",
       "_model_name": "DescriptionStyleModel",
       "_view_count": null,
       "_view_module": "@jupyter-widgets/base",
       "_view_module_version": "2.0.0",
       "_view_name": "StyleView",
       "description_width": ""
      }
     },
     "9bcfdaabdf7b4ad5b855376ace8aa58c": {
      "model_module": "@jupyter-widgets/base",
      "model_module_version": "2.0.0",
      "model_name": "LayoutModel",
      "state": {
       "_model_module": "@jupyter-widgets/base",
       "_model_module_version": "2.0.0",
       "_model_name": "LayoutModel",
       "_view_count": null,
       "_view_module": "@jupyter-widgets/base",
       "_view_module_version": "2.0.0",
       "_view_name": "LayoutView",
       "align_content": null,
       "align_items": null,
       "align_self": null,
       "border_bottom": null,
       "border_left": null,
       "border_right": null,
       "border_top": null,
       "bottom": null,
       "display": null,
       "flex": null,
       "flex_flow": null,
       "grid_area": null,
       "grid_auto_columns": null,
       "grid_auto_flow": null,
       "grid_auto_rows": null,
       "grid_column": null,
       "grid_gap": null,
       "grid_row": null,
       "grid_template_areas": null,
       "grid_template_columns": null,
       "grid_template_rows": null,
       "height": null,
       "justify_content": null,
       "justify_items": null,
       "left": null,
       "margin": null,
       "max_height": null,
       "max_width": null,
       "min_height": null,
       "min_width": null,
       "object_fit": null,
       "object_position": null,
       "order": null,
       "overflow": null,
       "padding": null,
       "right": null,
       "top": null,
       "visibility": null,
       "width": null
      }
     },
     "a3c61fee4a794cd7867f2c02d129079b": {
      "model_module": "@jupyter-widgets/controls",
      "model_module_version": "2.0.0",
      "model_name": "TextStyleModel",
      "state": {
       "_model_module": "@jupyter-widgets/controls",
       "_model_module_version": "2.0.0",
       "_model_name": "TextStyleModel",
       "_view_count": null,
       "_view_module": "@jupyter-widgets/base",
       "_view_module_version": "2.0.0",
       "_view_name": "StyleView",
       "background": null,
       "description_width": "",
       "font_size": null,
       "text_color": null
      }
     },
     "be8ac4e1e73348d1b2ac8f97e512ee1a": {
      "model_module": "@jupyter-widgets/controls",
      "model_module_version": "2.0.0",
      "model_name": "ButtonModel",
      "state": {
       "_dom_classes": [],
       "_model_module": "@jupyter-widgets/controls",
       "_model_module_version": "2.0.0",
       "_model_name": "ButtonModel",
       "_view_count": null,
       "_view_module": "@jupyter-widgets/controls",
       "_view_module_version": "2.0.0",
       "_view_name": "ButtonView",
       "button_style": "",
       "description": "Update Model Values",
       "disabled": false,
       "icon": "",
       "layout": "IPY_MODEL_6968647b29e04e7a937f7adfad5f8760",
       "style": "IPY_MODEL_29af86d1793e4ecea9d1af3d37015053",
       "tabbable": null,
       "tooltip": null
      }
     },
     "c1a0265f56684540adb38004708752ed": {
      "model_module": "@jupyter-widgets/controls",
      "model_module_version": "2.0.0",
      "model_name": "TextModel",
      "state": {
       "_dom_classes": [],
       "_model_module": "@jupyter-widgets/controls",
       "_model_module_version": "2.0.0",
       "_model_name": "TextModel",
       "_view_count": null,
       "_view_module": "@jupyter-widgets/controls",
       "_view_module_version": "2.0.0",
       "_view_name": "TextView",
       "continuous_update": true,
       "description": "adt_length",
       "description_allow_html": false,
       "disabled": false,
       "layout": "IPY_MODEL_609d97b095844547a108fb4f43b28e2d",
       "placeholder": "​",
       "style": "IPY_MODEL_534dacffa016439f8ab8b3a983eabbca",
       "tabbable": null,
       "tooltip": null,
       "value": "3.256"
      }
     },
     "e15320fff1844df8a200efc551ec572b": {
      "model_module": "@jupyter-widgets/controls",
      "model_module_version": "2.0.0",
      "model_name": "DescriptionStyleModel",
      "state": {
       "_model_module": "@jupyter-widgets/controls",
       "_model_module_version": "2.0.0",
       "_model_name": "DescriptionStyleModel",
       "_view_count": null,
       "_view_module": "@jupyter-widgets/base",
       "_view_module_version": "2.0.0",
       "_view_name": "StyleView",
       "description_width": ""
      }
     }
    },
    "version_major": 2,
    "version_minor": 0
   }
  }
 },
 "nbformat": 4,
 "nbformat_minor": 5
}