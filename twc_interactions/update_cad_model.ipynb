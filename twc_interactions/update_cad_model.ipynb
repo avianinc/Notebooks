{
 "cells": [
  {
   "cell_type": "markdown",
   "id": "78b3d922-3803-45eb-bccc-ee3d256c3e2a",
   "metadata": {
    "papermill": {
     "duration": 0.06332,
     "end_time": "2024-05-13T18:10:04.648487",
     "exception": false,
     "start_time": "2024-05-13T18:10:04.585167",
     "status": "completed"
    },
    "tags": []
   },
   "source": [
    "# Updated a cad model and export the stl file"
   ]
  },
  {
   "cell_type": "code",
   "execution_count": 1,
   "id": "6d1d668c-ef02-45ba-bbba-0b26c559ed81",
   "metadata": {
    "execution": {
     "iopub.execute_input": "2024-05-13T18:10:04.681058Z",
     "iopub.status.busy": "2024-05-13T18:10:04.681058Z",
     "iopub.status.idle": "2024-05-13T18:10:06.623652Z",
     "shell.execute_reply": "2024-05-13T18:10:06.622631Z"
    },
    "papermill": {
     "duration": 1.94859,
     "end_time": "2024-05-13T18:10:06.625647",
     "exception": false,
     "start_time": "2024-05-13T18:10:04.677057",
     "status": "completed"
    },
    "tags": []
   },
   "outputs": [],
   "source": [
    "import cadquery as cq\n",
    "import pandas as pd\n",
    "import json"
   ]
  },
  {
   "cell_type": "code",
   "execution_count": 2,
   "id": "bb93cfbb-874d-47bc-aa5b-4d4305f60bdc",
   "metadata": {
    "execution": {
     "iopub.execute_input": "2024-05-13T18:10:06.630637Z",
     "iopub.status.busy": "2024-05-13T18:10:06.630637Z",
     "iopub.status.idle": "2024-05-13T18:10:06.653753Z",
     "shell.execute_reply": "2024-05-13T18:10:06.652813Z"
    },
    "papermill": {
     "duration": 0.028115,
     "end_time": "2024-05-13T18:10:06.655751",
     "exception": false,
     "start_time": "2024-05-13T18:10:06.627636",
     "status": "completed"
    },
    "tags": []
   },
   "outputs": [],
   "source": [
    "# Load the model dataframe\n",
    "# Reading from a JSON array\n",
    "df = pd.read_json('vendorA.json')"
   ]
  },
  {
   "cell_type": "code",
   "execution_count": 3,
   "id": "cb68382a-1a22-4c0e-addc-a3dd2f4c717e",
   "metadata": {
    "execution": {
     "iopub.execute_input": "2024-05-13T18:10:06.662749Z",
     "iopub.status.busy": "2024-05-13T18:10:06.662749Z",
     "iopub.status.idle": "2024-05-13T18:10:06.684720Z",
     "shell.execute_reply": "2024-05-13T18:10:06.683722Z"
    },
    "papermill": {
     "duration": 0.027972,
     "end_time": "2024-05-13T18:10:06.685722",
     "exception": false,
     "start_time": "2024-05-13T18:10:06.657750",
     "status": "completed"
    },
    "tags": []
   },
   "outputs": [
    {
     "name": "stdout",
     "output_type": "stream",
     "text": [
      "The volume is: 6\n"
     ]
    }
   ],
   "source": [
    "# Extract values for width, height, and length\n",
    "width = df.loc[df['Description'] == 'width', 'Value'].values[0]\n",
    "height = df.loc[df['Description'] == 'height', 'Value'].values[0]\n",
    "length = df.loc[df['Description'] == 'length', 'Value'].values[0]\n",
    "\n",
    "# Calculate the volume\n",
    "volume = width * height * length\n",
    "\n",
    "print(\"The volume is:\", volume)"
   ]
  },
  {
   "cell_type": "code",
   "execution_count": 4,
   "id": "ca5870eb-29b7-4cff-9a82-cc5f88f6335a",
   "metadata": {
    "execution": {
     "iopub.execute_input": "2024-05-13T18:10:06.691245Z",
     "iopub.status.busy": "2024-05-13T18:10:06.691245Z",
     "iopub.status.idle": "2024-05-13T18:10:06.699774Z",
     "shell.execute_reply": "2024-05-13T18:10:06.699044Z"
    },
    "papermill": {
     "duration": 0.013528,
     "end_time": "2024-05-13T18:10:06.701779",
     "exception": false,
     "start_time": "2024-05-13T18:10:06.688251",
     "status": "completed"
    },
    "tags": []
   },
   "outputs": [
    {
     "name": "stdout",
     "output_type": "stream",
     "text": [
      "The volume has been written to 'volume_data.json'\n"
     ]
    }
   ],
   "source": [
    "# Create a dictionary to be written into JSON\n",
    "volume_data = {'volume': volume}\n",
    "\n",
    "# Write the result to a JSON file\n",
    "with open('volume_data.json', 'w') as json_file:\n",
    "    json.dump(volume_data, json_file, default=str)\n",
    "\n",
    "print(\"The volume has been written to 'volume_data.json'\")"
   ]
  },
  {
   "cell_type": "code",
   "execution_count": 5,
   "id": "520cc4b3-6587-404b-8c1e-a3e92d3f4a77",
   "metadata": {
    "execution": {
     "iopub.execute_input": "2024-05-13T18:10:06.707309Z",
     "iopub.status.busy": "2024-05-13T18:10:06.707309Z",
     "iopub.status.idle": "2024-05-13T18:10:06.732404Z",
     "shell.execute_reply": "2024-05-13T18:10:06.730900Z"
    },
    "papermill": {
     "duration": 0.029115,
     "end_time": "2024-05-13T18:10:06.733419",
     "exception": false,
     "start_time": "2024-05-13T18:10:06.704304",
     "status": "completed"
    },
    "tags": []
   },
   "outputs": [
    {
     "data": {
      "application/javascript": [
       "\n",
       "\n",
       "function render(data, parent_element, ratio){\n",
       "    \n",
       "    // Initial setup\n",
       "    const renderWindow = vtk.Rendering.Core.vtkRenderWindow.newInstance();\n",
       "    const renderer = vtk.Rendering.Core.vtkRenderer.newInstance({ background: [1, 1, 1 ] });\n",
       "    renderWindow.addRenderer(renderer);\n",
       "        \n",
       "    // iterate over all children children\n",
       "    for (var el of data){ \n",
       "        var trans = el.position;\n",
       "        var rot = el.orientation;\n",
       "        var rgba = el.color;\n",
       "        var shape = el.shape;\n",
       "        \n",
       "        // load the inline data\n",
       "        var reader = vtk.IO.XML.vtkXMLPolyDataReader.newInstance();\n",
       "        const textEncoder = new TextEncoder();\n",
       "        reader.parseAsArrayBuffer(textEncoder.encode(shape));\n",
       "\n",
       "        // setup actor,mapper and add\n",
       "        const mapper = vtk.Rendering.Core.vtkMapper.newInstance();\n",
       "        mapper.setInputConnection(reader.getOutputPort());\n",
       "        mapper.setResolveCoincidentTopologyToPolygonOffset();\n",
       "        mapper.setResolveCoincidentTopologyPolygonOffsetParameters(0.9,20);\n",
       "\n",
       "        const actor = vtk.Rendering.Core.vtkActor.newInstance();\n",
       "        actor.setMapper(mapper);\n",
       "\n",
       "        // set color and position\n",
       "        actor.getProperty().setColor(rgba.slice(0,3));\n",
       "        actor.getProperty().setOpacity(rgba[3]);\n",
       "        \n",
       "        actor.rotateZ(rot[2]*180/Math.PI);\n",
       "        actor.rotateY(rot[1]*180/Math.PI);\n",
       "        actor.rotateX(rot[0]*180/Math.PI);\n",
       "        \n",
       "        actor.setPosition(trans);\n",
       "\n",
       "        renderer.addActor(actor);\n",
       "\n",
       "    };\n",
       "    \n",
       "    renderer.resetCamera();\n",
       "    \n",
       "    const openglRenderWindow = vtk.Rendering.OpenGL.vtkRenderWindow.newInstance();\n",
       "    renderWindow.addView(openglRenderWindow);\n",
       "\n",
       "    // Add output to the \"parent element\"\n",
       "    var container;\n",
       "    var dims;\n",
       "    \n",
       "    if(typeof(parent_element.appendChild) !== \"undefined\"){\n",
       "        container = document.createElement(\"div\");\n",
       "        parent_element.appendChild(container);\n",
       "        dims = parent_element.getBoundingClientRect();\n",
       "    }else{\n",
       "        container = parent_element.append(\"<div/>\").children(\"div:last-child\").get(0);\n",
       "        dims = parent_element.get(0).getBoundingClientRect();\n",
       "    };\n",
       "\n",
       "    openglRenderWindow.setContainer(container);\n",
       "    \n",
       "    // handle size\n",
       "    if (ratio){\n",
       "        openglRenderWindow.setSize(dims.width, dims.width*ratio);\n",
       "    }else{\n",
       "        openglRenderWindow.setSize(dims.width, dims.height);\n",
       "    };\n",
       "    \n",
       "    // Interaction setup\n",
       "    const interact_style = vtk.Interaction.Style.vtkInteractorStyleManipulator.newInstance();\n",
       "\n",
       "    const manips = {\n",
       "        rot: vtk.Interaction.Manipulators.vtkMouseCameraTrackballRotateManipulator.newInstance(),\n",
       "        pan: vtk.Interaction.Manipulators.vtkMouseCameraTrackballPanManipulator.newInstance(),\n",
       "        zoom1: vtk.Interaction.Manipulators.vtkMouseCameraTrackballZoomManipulator.newInstance(),\n",
       "        zoom2: vtk.Interaction.Manipulators.vtkMouseCameraTrackballZoomManipulator.newInstance(),\n",
       "        roll: vtk.Interaction.Manipulators.vtkMouseCameraTrackballRollManipulator.newInstance(),\n",
       "    };\n",
       "\n",
       "    manips.zoom1.setControl(true);\n",
       "    manips.zoom2.setScrollEnabled(true);\n",
       "    manips.roll.setShift(true);\n",
       "    manips.pan.setButton(2);\n",
       "\n",
       "    for (var k in manips){\n",
       "        interact_style.addMouseManipulator(manips[k]);\n",
       "    };\n",
       "\n",
       "    const interactor = vtk.Rendering.Core.vtkRenderWindowInteractor.newInstance();\n",
       "    interactor.setView(openglRenderWindow);\n",
       "    interactor.initialize();\n",
       "    interactor.bindEvents(container);\n",
       "    interactor.setInteractorStyle(interact_style);\n",
       "\n",
       "    // Orientation marker\n",
       "\n",
       "    const axes = vtk.Rendering.Core.vtkAnnotatedCubeActor.newInstance();\n",
       "    axes.setXPlusFaceProperty({text: '+X'});\n",
       "    axes.setXMinusFaceProperty({text: '-X'});\n",
       "    axes.setYPlusFaceProperty({text: '+Y'});\n",
       "    axes.setYMinusFaceProperty({text: '-Y'});\n",
       "    axes.setZPlusFaceProperty({text: '+Z'});\n",
       "    axes.setZMinusFaceProperty({text: '-Z'});\n",
       "\n",
       "    const orientationWidget = vtk.Interaction.Widgets.vtkOrientationMarkerWidget.newInstance({\n",
       "        actor: axes,\n",
       "        interactor: interactor });\n",
       "    orientationWidget.setEnabled(true);\n",
       "    orientationWidget.setViewportCorner(vtk.Interaction.Widgets.vtkOrientationMarkerWidget.Corners.BOTTOM_LEFT);\n",
       "    orientationWidget.setViewportSize(0.2);\n",
       "\n",
       "};\n",
       "\n",
       "\n",
       "new Promise(\n",
       "  function(resolve, reject)\n",
       "  {\n",
       "    if (typeof(require) !== \"undefined\" ){\n",
       "        require.config({\n",
       "         \"paths\": {\"vtk\": \"https://unpkg.com/vtk\"},\n",
       "        });\n",
       "        require([\"vtk\"], resolve, reject);\n",
       "    } else if ( typeof(vtk) === \"undefined\" ){\n",
       "        var script = document.createElement(\"script\");\n",
       "    \tscript.onload = resolve;\n",
       "    \tscript.onerror = reject;\n",
       "    \tscript.src = \"https://unpkg.com/vtk.js\";\n",
       "    \tdocument.head.appendChild(script);\n",
       "    } else { resolve() };\n",
       " }\n",
       ").then(() => {\n",
       "    var parent_element = element;\n",
       "    var data = [{\"shape\": \"<?xml version=\\\"1.0\\\"?>\\n<VTKFile type=\\\"PolyData\\\" version=\\\"0.1\\\" byte_order=\\\"LittleEndian\\\" header_type=\\\"UInt32\\\" compressor=\\\"vtkZLibDataCompressor\\\">\\n  <PolyData>\\n    <Piece NumberOfPoints=\\\"104\\\"                  NumberOfVerts=\\\"8\\\"                    NumberOfLines=\\\"36\\\"                   NumberOfStrips=\\\"0\\\"                    NumberOfPolys=\\\"12\\\"                  >\\n      <PointData Normals=\\\"Normals\\\">\\n        <DataArray type=\\\"Float32\\\" Name=\\\"Normals\\\" NumberOfComponents=\\\"3\\\" format=\\\"appended\\\" RangeMin=\\\"0\\\"                    RangeMax=\\\"1\\\"                    offset=\\\"0\\\"                   />\\n      </PointData>\\n      <CellData Normals=\\\"Normals\\\">\\n        <DataArray type=\\\"Int64\\\" IdType=\\\"1\\\" Name=\\\"SUBSHAPE_IDS\\\" format=\\\"appended\\\" RangeMin=\\\"4\\\"                    RangeMax=\\\"34\\\"                   offset=\\\"60\\\"                  />\\n        <DataArray type=\\\"Int64\\\" IdType=\\\"1\\\" Name=\\\"MESH_TYPES\\\" format=\\\"appended\\\" RangeMin=\\\"2\\\"                    RangeMax=\\\"7\\\"                    offset=\\\"184\\\"                 />\\n        <DataArray type=\\\"Float32\\\" Name=\\\"Normals\\\" NumberOfComponents=\\\"3\\\" format=\\\"appended\\\" RangeMin=\\\"1\\\"                    RangeMax=\\\"1\\\"                    offset=\\\"240\\\"                 />\\n      </CellData>\\n      <Points>\\n        <DataArray type=\\\"Float32\\\" Name=\\\"Points\\\" NumberOfComponents=\\\"3\\\" format=\\\"appended\\\" RangeMin=\\\"1.8708286934\\\"         RangeMax=\\\"1.8708286934\\\"         offset=\\\"320\\\"                 />\\n      </Points>\\n      <Verts>\\n        <DataArray type=\\\"Int64\\\" Name=\\\"connectivity\\\" format=\\\"appended\\\" RangeMin=\\\"\\\"                     RangeMax=\\\"\\\"                     offset=\\\"524\\\"                 />\\n        <DataArray type=\\\"Int64\\\" Name=\\\"offsets\\\" format=\\\"appended\\\" RangeMin=\\\"\\\"                     RangeMax=\\\"\\\"                     offset=\\\"588\\\"                 />\\n      </Verts>\\n      <Lines>\\n        <DataArray type=\\\"Int64\\\" Name=\\\"connectivity\\\" format=\\\"appended\\\" RangeMin=\\\"\\\"                     RangeMax=\\\"\\\"                     offset=\\\"652\\\"                 />\\n        <DataArray type=\\\"Int64\\\" Name=\\\"offsets\\\" format=\\\"appended\\\" RangeMin=\\\"\\\"                     RangeMax=\\\"\\\"                     offset=\\\"852\\\"                 />\\n      </Lines>\\n      <Strips>\\n        <DataArray type=\\\"Int64\\\" Name=\\\"connectivity\\\" format=\\\"appended\\\" RangeMin=\\\"\\\"                     RangeMax=\\\"\\\"                     offset=\\\"988\\\"                 />\\n        <DataArray type=\\\"Int64\\\" Name=\\\"offsets\\\" format=\\\"appended\\\" RangeMin=\\\"\\\"                     RangeMax=\\\"\\\"                     offset=\\\"1004\\\"                />\\n      </Strips>\\n      <Polys>\\n        <DataArray type=\\\"Int64\\\" Name=\\\"connectivity\\\" format=\\\"appended\\\" RangeMin=\\\"\\\"                     RangeMax=\\\"\\\"                     offset=\\\"1020\\\"                />\\n        <DataArray type=\\\"Int64\\\" Name=\\\"offsets\\\" format=\\\"appended\\\" RangeMin=\\\"\\\"                     RangeMax=\\\"\\\"                     offset=\\\"1144\\\"                />\\n      </Polys>\\n    </Piece>\\n  </PolyData>\\n  <AppendedData encoding=\\\"base64\\\">\\n   _AQAAAACAAADgBAAAGwAAAA==eJxjYBgFo2AUDF3QsJ9Etj1p7KFtBwD8OxfpAQAAAACAAADAAQAASQAAAA==eJyFzrsOQEAABVGFeBOPtSsI4v8/UmH6uc0p75TZvwob7HDCGQNGLLDGFnscccEVE+544IU35uIgbuIpPuIrWq/12N8Hem0Eiw==AQAAAACAAADAAQAAFgAAAA==eJxjYoAAJjJp1lEaL81OYxoA2KABGQ==AQAAAACAAACgAgAAKAAAAA==eJxjYGiwZ4CDUfYou2E/GrsBgrGqb8ChB1ldA5oefPZguAsAH38vSQ==AQAAAACAAADgBAAAhQAAAA==eJzdkcEJwDAMA72ZVutm7mjtI1CjyjKhvz4CwQhLOkdERhz3OxHPP9cfZY41R9Gj6FH0KHreyV4wXjznbCkycDaYbDznLpwfTReILmoPZ1C9/sKn83XcOg6KZ5fTcd7h5nx3OEx3VPzVXb5wYy91F8dz6sV5FDd3F8V/4qwYvrhdbm8c2A==AQAAAACAAABAAAAAHgAAAA==eJxjYIAARijNBKWZoTQLlGaF0mxQmh1KAwAC4AAdAQAAAACAAABAAAAAHgAAAA==eJxjZIAAJijNDKVZoDQrlGaD0uxQmgNKAwAEAAAlAQAAAACAAABAAgAAgwAAAA==eJwtxcdCAQAAAFBHIwmRERIZZZYdpYyU0f//jYP3Li8YuAg57IivHPW1Y75x3AknfeuU075zxlnnnPe9Cy665AeX/eiKq35yzXU33PSzX9xy2x133XPfr37zwEOPPPbEU8/87rkX/vCnl/7yt1dee+Otf7zzr/+898FHn/zvMyt2DD0=AQAAAACAAAAgAQAAUgAAAA==eJwtxdEGgwAAAMDJJJNJkkkyM0kyk8kkk0n6/y/qobuXC06Hs0NHvjj21YlTZ859c+HSle9++OnajVt3fvnt3h8P/nr05J9n/7149eYdEH4FNQ==AAAAAACAAAAAAAAAAAAAAACAAAAAAAAAAQAAAACAAAAgAQAASgAAAA==eJxdybkVgDAMBFFKRFwGAzbmcv8dEDBKVsl/mrXmvw5bNOxlH3HASbr/AVeccZEeZc+44ybd/4QXHlikn7JXfPCW7v+LHyMhDN8=AQAAAACAAABgAAAAKAAAAA==eJxjZoAANijNCaV5oDQ/lBaC0qJQWgJKS0NpOSitCKVVoDQAIoAA6w==\\n  </AppendedData>\\n</VTKFile>\\n\", \"color\": [1, 0.8, 0, 1], \"position\": [0, 0, 0], \"orientation\": [0, 0, 0]}];\n",
       "    render(data, parent_element, 0.5);\n",
       "});\n"
      ],
      "text/plain": [
       "<cadquery.cq.Workplane at 0x224b4dea8f0>"
      ]
     },
     "execution_count": 5,
     "metadata": {},
     "output_type": "execute_result"
    }
   ],
   "source": [
    "# Create a block using the dimensions\n",
    "block = cq.Workplane(\"XY\").box(length, width, height)\n",
    "\n",
    "# Show the block\n",
    "block"
   ]
  },
  {
   "cell_type": "code",
   "execution_count": 6,
   "id": "730c10d0-cf02-4094-840f-3cc76082b002",
   "metadata": {
    "execution": {
     "iopub.execute_input": "2024-05-13T18:10:06.739422Z",
     "iopub.status.busy": "2024-05-13T18:10:06.739422Z",
     "iopub.status.idle": "2024-05-13T18:10:06.764096Z",
     "shell.execute_reply": "2024-05-13T18:10:06.761817Z"
    },
    "papermill": {
     "duration": 0.031691,
     "end_time": "2024-05-13T18:10:06.767107",
     "exception": false,
     "start_time": "2024-05-13T18:10:06.735416",
     "status": "completed"
    },
    "tags": []
   },
   "outputs": [
    {
     "name": "stdout",
     "output_type": "stream",
     "text": [
      "The block has been exported as an STL file to models/cad/VendorA.stl\n"
     ]
    }
   ],
   "source": [
    "# Define the file path and name for the STL\n",
    "stl_file_path = 'models/cad/VendorA.stl'\n",
    "\n",
    "# Export the block as an STL file\n",
    "block.val().exportStl(stl_file_path)\n",
    "\n",
    "print(f\"The block has been exported as an STL file to {stl_file_path}\")"
   ]
  }
 ],
 "metadata": {
  "kernelspec": {
   "display_name": "Cadquery",
   "language": "python",
   "name": "cadquery"
  },
  "language_info": {
   "codemirror_mode": {
    "name": "ipython",
    "version": 3
   },
   "file_extension": ".py",
   "mimetype": "text/x-python",
   "name": "python",
   "nbconvert_exporter": "python",
   "pygments_lexer": "ipython3",
   "version": "3.10.14"
  },
  "papermill": {
   "default_parameters": {},
   "duration": 4.653592,
   "end_time": "2024-05-13T18:10:07.437571",
   "environment_variables": {},
   "exception": null,
   "input_path": "C:\\Users\\JohnDeHart\\Documents\\GitHub\\Notebooks\\twc_interactions\\update_cad_model.ipynb",
   "output_path": "C:\\Users\\JohnDeHart\\Documents\\GitHub\\Notebooks\\twc_interactions\\update_cad_model.ipynb",
   "parameters": {},
   "start_time": "2024-05-13T18:10:02.783979",
   "version": "2.6.0"
  }
 },
 "nbformat": 4,
 "nbformat_minor": 5
}