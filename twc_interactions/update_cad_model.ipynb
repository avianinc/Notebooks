{
 "cells": [
  {
   "cell_type": "markdown",
   "id": "78b3d922-3803-45eb-bccc-ee3d256c3e2a",
   "metadata": {
    "papermill": {
     "duration": 0.004032,
     "end_time": "2024-05-14T21:51:16.380801",
     "exception": false,
     "start_time": "2024-05-14T21:51:16.376769",
     "status": "completed"
    },
    "tags": []
   },
   "source": [
    "# Updated a cad model and export the stl file"
   ]
  },
  {
   "cell_type": "code",
   "execution_count": 1,
   "id": "6d1d668c-ef02-45ba-bbba-0b26c559ed81",
   "metadata": {
    "execution": {
     "iopub.execute_input": "2024-05-14T21:51:16.388693Z",
     "iopub.status.busy": "2024-05-14T21:51:16.388693Z",
     "iopub.status.idle": "2024-05-14T21:51:17.912960Z",
     "shell.execute_reply": "2024-05-14T21:51:17.911954Z"
    },
    "papermill": {
     "duration": 1.530401,
     "end_time": "2024-05-14T21:51:17.914962",
     "exception": false,
     "start_time": "2024-05-14T21:51:16.384561",
     "status": "completed"
    },
    "tags": []
   },
   "outputs": [],
   "source": [
    "import cadquery as cq\n",
    "import pandas as pd\n",
    "import json"
   ]
  },
  {
   "cell_type": "code",
   "execution_count": 2,
   "id": "bb93cfbb-874d-47bc-aa5b-4d4305f60bdc",
   "metadata": {
    "execution": {
     "iopub.execute_input": "2024-05-14T21:51:17.922966Z",
     "iopub.status.busy": "2024-05-14T21:51:17.922966Z",
     "iopub.status.idle": "2024-05-14T21:51:17.944955Z",
     "shell.execute_reply": "2024-05-14T21:51:17.943959Z"
    },
    "papermill": {
     "duration": 0.028993,
     "end_time": "2024-05-14T21:51:17.946955",
     "exception": false,
     "start_time": "2024-05-14T21:51:17.917962",
     "status": "completed"
    },
    "tags": []
   },
   "outputs": [],
   "source": [
    "# Load the model dataframe\n",
    "# Reading from a JSON array\n",
    "df = pd.read_json('vendorA.json')"
   ]
  },
  {
   "cell_type": "code",
   "execution_count": 3,
   "id": "cb68382a-1a22-4c0e-addc-a3dd2f4c717e",
   "metadata": {
    "execution": {
     "iopub.execute_input": "2024-05-14T21:51:17.954961Z",
     "iopub.status.busy": "2024-05-14T21:51:17.953961Z",
     "iopub.status.idle": "2024-05-14T21:51:17.976493Z",
     "shell.execute_reply": "2024-05-14T21:51:17.975489Z"
    },
    "papermill": {
     "duration": 0.028532,
     "end_time": "2024-05-14T21:51:17.978492",
     "exception": false,
     "start_time": "2024-05-14T21:51:17.949960",
     "status": "completed"
    },
    "tags": []
   },
   "outputs": [
    {
     "name": "stdout",
     "output_type": "stream",
     "text": [
      "The volume is: 61.331999999999994\n"
     ]
    }
   ],
   "source": [
    "# Extract values for width, height, and length\n",
    "width = df.loc[df['Description'] == 'width', 'Value'].values[0]\n",
    "height = df.loc[df['Description'] == 'height', 'Value'].values[0]\n",
    "length = df.loc[df['Description'] == 'length', 'Value'].values[0]\n",
    "\n",
    "# Calculate the volume\n",
    "volume = width * height * length\n",
    "\n",
    "print(\"The volume is:\", volume)"
   ]
  },
  {
   "cell_type": "code",
   "execution_count": 4,
   "id": "ca5870eb-29b7-4cff-9a82-cc5f88f6335a",
   "metadata": {
    "execution": {
     "iopub.execute_input": "2024-05-14T21:51:17.986490Z",
     "iopub.status.busy": "2024-05-14T21:51:17.985490Z",
     "iopub.status.idle": "2024-05-14T21:51:18.006492Z",
     "shell.execute_reply": "2024-05-14T21:51:18.005496Z"
    },
    "papermill": {
     "duration": 0.027999,
     "end_time": "2024-05-14T21:51:18.009492",
     "exception": false,
     "start_time": "2024-05-14T21:51:17.981493",
     "status": "completed"
    },
    "tags": []
   },
   "outputs": [
    {
     "name": "stdout",
     "output_type": "stream",
     "text": [
      "The volume has been written to 'volume_data.json'\n"
     ]
    }
   ],
   "source": [
    "# Create a dictionary to be written into JSON\n",
    "volume_data = {'volume': volume}\n",
    "\n",
    "# Write the result to a JSON file\n",
    "with open('volume_data.json', 'w') as json_file:\n",
    "    json.dump(volume_data, json_file, default=str)\n",
    "\n",
    "print(\"The volume has been written to 'volume_data.json'\")"
   ]
  },
  {
   "cell_type": "code",
   "execution_count": 5,
   "id": "520cc4b3-6587-404b-8c1e-a3e92d3f4a77",
   "metadata": {
    "execution": {
     "iopub.execute_input": "2024-05-14T21:51:18.018489Z",
     "iopub.status.busy": "2024-05-14T21:51:18.018489Z",
     "iopub.status.idle": "2024-05-14T21:51:18.038492Z",
     "shell.execute_reply": "2024-05-14T21:51:18.037490Z"
    },
    "papermill": {
     "duration": 0.028004,
     "end_time": "2024-05-14T21:51:18.041493",
     "exception": false,
     "start_time": "2024-05-14T21:51:18.013489",
     "status": "completed"
    },
    "tags": []
   },
   "outputs": [
    {
     "data": {
      "application/javascript": [
       "\n",
       "\n",
       "function render(data, parent_element, ratio){\n",
       "    \n",
       "    // Initial setup\n",
       "    const renderWindow = vtk.Rendering.Core.vtkRenderWindow.newInstance();\n",
       "    const renderer = vtk.Rendering.Core.vtkRenderer.newInstance({ background: [1, 1, 1 ] });\n",
       "    renderWindow.addRenderer(renderer);\n",
       "        \n",
       "    // iterate over all children children\n",
       "    for (var el of data){ \n",
       "        var trans = el.position;\n",
       "        var rot = el.orientation;\n",
       "        var rgba = el.color;\n",
       "        var shape = el.shape;\n",
       "        \n",
       "        // load the inline data\n",
       "        var reader = vtk.IO.XML.vtkXMLPolyDataReader.newInstance();\n",
       "        const textEncoder = new TextEncoder();\n",
       "        reader.parseAsArrayBuffer(textEncoder.encode(shape));\n",
       "\n",
       "        // setup actor,mapper and add\n",
       "        const mapper = vtk.Rendering.Core.vtkMapper.newInstance();\n",
       "        mapper.setInputConnection(reader.getOutputPort());\n",
       "        mapper.setResolveCoincidentTopologyToPolygonOffset();\n",
       "        mapper.setResolveCoincidentTopologyPolygonOffsetParameters(0.9,20);\n",
       "\n",
       "        const actor = vtk.Rendering.Core.vtkActor.newInstance();\n",
       "        actor.setMapper(mapper);\n",
       "\n",
       "        // set color and position\n",
       "        actor.getProperty().setColor(rgba.slice(0,3));\n",
       "        actor.getProperty().setOpacity(rgba[3]);\n",
       "        \n",
       "        actor.rotateZ(rot[2]*180/Math.PI);\n",
       "        actor.rotateY(rot[1]*180/Math.PI);\n",
       "        actor.rotateX(rot[0]*180/Math.PI);\n",
       "        \n",
       "        actor.setPosition(trans);\n",
       "\n",
       "        renderer.addActor(actor);\n",
       "\n",
       "    };\n",
       "    \n",
       "    renderer.resetCamera();\n",
       "    \n",
       "    const openglRenderWindow = vtk.Rendering.OpenGL.vtkRenderWindow.newInstance();\n",
       "    renderWindow.addView(openglRenderWindow);\n",
       "\n",
       "    // Add output to the \"parent element\"\n",
       "    var container;\n",
       "    var dims;\n",
       "    \n",
       "    if(typeof(parent_element.appendChild) !== \"undefined\"){\n",
       "        container = document.createElement(\"div\");\n",
       "        parent_element.appendChild(container);\n",
       "        dims = parent_element.getBoundingClientRect();\n",
       "    }else{\n",
       "        container = parent_element.append(\"<div/>\").children(\"div:last-child\").get(0);\n",
       "        dims = parent_element.get(0).getBoundingClientRect();\n",
       "    };\n",
       "\n",
       "    openglRenderWindow.setContainer(container);\n",
       "    \n",
       "    // handle size\n",
       "    if (ratio){\n",
       "        openglRenderWindow.setSize(dims.width, dims.width*ratio);\n",
       "    }else{\n",
       "        openglRenderWindow.setSize(dims.width, dims.height);\n",
       "    };\n",
       "    \n",
       "    // Interaction setup\n",
       "    const interact_style = vtk.Interaction.Style.vtkInteractorStyleManipulator.newInstance();\n",
       "\n",
       "    const manips = {\n",
       "        rot: vtk.Interaction.Manipulators.vtkMouseCameraTrackballRotateManipulator.newInstance(),\n",
       "        pan: vtk.Interaction.Manipulators.vtkMouseCameraTrackballPanManipulator.newInstance(),\n",
       "        zoom1: vtk.Interaction.Manipulators.vtkMouseCameraTrackballZoomManipulator.newInstance(),\n",
       "        zoom2: vtk.Interaction.Manipulators.vtkMouseCameraTrackballZoomManipulator.newInstance(),\n",
       "        roll: vtk.Interaction.Manipulators.vtkMouseCameraTrackballRollManipulator.newInstance(),\n",
       "    };\n",
       "\n",
       "    manips.zoom1.setControl(true);\n",
       "    manips.zoom2.setScrollEnabled(true);\n",
       "    manips.roll.setShift(true);\n",
       "    manips.pan.setButton(2);\n",
       "\n",
       "    for (var k in manips){\n",
       "        interact_style.addMouseManipulator(manips[k]);\n",
       "    };\n",
       "\n",
       "    const interactor = vtk.Rendering.Core.vtkRenderWindowInteractor.newInstance();\n",
       "    interactor.setView(openglRenderWindow);\n",
       "    interactor.initialize();\n",
       "    interactor.bindEvents(container);\n",
       "    interactor.setInteractorStyle(interact_style);\n",
       "\n",
       "    // Orientation marker\n",
       "\n",
       "    const axes = vtk.Rendering.Core.vtkAnnotatedCubeActor.newInstance();\n",
       "    axes.setXPlusFaceProperty({text: '+X'});\n",
       "    axes.setXMinusFaceProperty({text: '-X'});\n",
       "    axes.setYPlusFaceProperty({text: '+Y'});\n",
       "    axes.setYMinusFaceProperty({text: '-Y'});\n",
       "    axes.setZPlusFaceProperty({text: '+Z'});\n",
       "    axes.setZMinusFaceProperty({text: '-Z'});\n",
       "\n",
       "    const orientationWidget = vtk.Interaction.Widgets.vtkOrientationMarkerWidget.newInstance({\n",
       "        actor: axes,\n",
       "        interactor: interactor });\n",
       "    orientationWidget.setEnabled(true);\n",
       "    orientationWidget.setViewportCorner(vtk.Interaction.Widgets.vtkOrientationMarkerWidget.Corners.BOTTOM_LEFT);\n",
       "    orientationWidget.setViewportSize(0.2);\n",
       "\n",
       "};\n",
       "\n",
       "\n",
       "new Promise(\n",
       "  function(resolve, reject)\n",
       "  {\n",
       "    if (typeof(require) !== \"undefined\" ){\n",
       "        require.config({\n",
       "         \"paths\": {\"vtk\": \"https://unpkg.com/vtk\"},\n",
       "        });\n",
       "        require([\"vtk\"], resolve, reject);\n",
       "    } else if ( typeof(vtk) === \"undefined\" ){\n",
       "        var script = document.createElement(\"script\");\n",
       "    \tscript.onload = resolve;\n",
       "    \tscript.onerror = reject;\n",
       "    \tscript.src = \"https://unpkg.com/vtk.js\";\n",
       "    \tdocument.head.appendChild(script);\n",
       "    } else { resolve() };\n",
       " }\n",
       ").then(() => {\n",
       "    var parent_element = element;\n",
       "    var data = [{\"shape\": \"<?xml version=\\\"1.0\\\"?>\\n<VTKFile type=\\\"PolyData\\\" version=\\\"0.1\\\" byte_order=\\\"LittleEndian\\\" header_type=\\\"UInt32\\\" compressor=\\\"vtkZLibDataCompressor\\\">\\n  <PolyData>\\n    <Piece NumberOfPoints=\\\"104\\\"                  NumberOfVerts=\\\"8\\\"                    NumberOfLines=\\\"36\\\"                   NumberOfStrips=\\\"0\\\"                    NumberOfPolys=\\\"12\\\"                  >\\n      <PointData Normals=\\\"Normals\\\">\\n        <DataArray type=\\\"Float32\\\" Name=\\\"Normals\\\" NumberOfComponents=\\\"3\\\" format=\\\"appended\\\" RangeMin=\\\"0\\\"                    RangeMax=\\\"1\\\"                    offset=\\\"0\\\"                   />\\n      </PointData>\\n      <CellData Normals=\\\"Normals\\\">\\n        <DataArray type=\\\"Int64\\\" IdType=\\\"1\\\" Name=\\\"SUBSHAPE_IDS\\\" format=\\\"appended\\\" RangeMin=\\\"4\\\"                    RangeMax=\\\"34\\\"                   offset=\\\"60\\\"                  />\\n        <DataArray type=\\\"Int64\\\" IdType=\\\"1\\\" Name=\\\"MESH_TYPES\\\" format=\\\"appended\\\" RangeMin=\\\"2\\\"                    RangeMax=\\\"7\\\"                    offset=\\\"184\\\"                 />\\n        <DataArray type=\\\"Float32\\\" Name=\\\"Normals\\\" NumberOfComponents=\\\"3\\\" format=\\\"appended\\\" RangeMin=\\\"1\\\"                    RangeMax=\\\"1\\\"                    offset=\\\"240\\\"                 />\\n      </CellData>\\n      <Points>\\n        <DataArray type=\\\"Float32\\\" Name=\\\"Points\\\" NumberOfComponents=\\\"3\\\" format=\\\"appended\\\" RangeMin=\\\"5.419623753\\\"          RangeMax=\\\"5.419623753\\\"          offset=\\\"308\\\"                 />\\n      </Points>\\n      <Verts>\\n        <DataArray type=\\\"Int64\\\" Name=\\\"connectivity\\\" format=\\\"appended\\\" RangeMin=\\\"\\\"                     RangeMax=\\\"\\\"                     offset=\\\"512\\\"                 />\\n        <DataArray type=\\\"Int64\\\" Name=\\\"offsets\\\" format=\\\"appended\\\" RangeMin=\\\"\\\"                     RangeMax=\\\"\\\"                     offset=\\\"576\\\"                 />\\n      </Verts>\\n      <Lines>\\n        <DataArray type=\\\"Int64\\\" Name=\\\"connectivity\\\" format=\\\"appended\\\" RangeMin=\\\"\\\"                     RangeMax=\\\"\\\"                     offset=\\\"640\\\"                 />\\n        <DataArray type=\\\"Int64\\\" Name=\\\"offsets\\\" format=\\\"appended\\\" RangeMin=\\\"\\\"                     RangeMax=\\\"\\\"                     offset=\\\"840\\\"                 />\\n      </Lines>\\n      <Strips>\\n        <DataArray type=\\\"Int64\\\" Name=\\\"connectivity\\\" format=\\\"appended\\\" RangeMin=\\\"\\\"                     RangeMax=\\\"\\\"                     offset=\\\"976\\\"                 />\\n        <DataArray type=\\\"Int64\\\" Name=\\\"offsets\\\" format=\\\"appended\\\" RangeMin=\\\"\\\"                     RangeMax=\\\"\\\"                     offset=\\\"992\\\"                 />\\n      </Strips>\\n      <Polys>\\n        <DataArray type=\\\"Int64\\\" Name=\\\"connectivity\\\" format=\\\"appended\\\" RangeMin=\\\"\\\"                     RangeMax=\\\"\\\"                     offset=\\\"1008\\\"                />\\n        <DataArray type=\\\"Int64\\\" Name=\\\"offsets\\\" format=\\\"appended\\\" RangeMin=\\\"\\\"                     RangeMax=\\\"\\\"                     offset=\\\"1132\\\"                />\\n      </Polys>\\n    </Piece>\\n  </PolyData>\\n  <AppendedData encoding=\\\"base64\\\">\\n   _AQAAAACAAADgBAAAGwAAAA==eJxjYBgFo2AUDF3QsJ9Etj1p7KFtBwD8OxfpAQAAAACAAADAAQAASQAAAA==eJyFzrsOQEAABVGFeBOPtSsI4v8/UmH6uc0p75TZvwob7HDCGQNGLLDGFnscccEVE+544IU35uIgbuIpPuIrWq/12N8Hem0Eiw==AQAAAACAAADAAQAAFgAAAA==eJxjYoAAJjJp1lEaL81OYxoA2KABGQ==AQAAAACAAACgAgAAIQAAAA==eJxjYGiwZ4CDUfYou2E/GrsBv3qsenDZ0UCqPQCscC5JAQAAAACAAADgBAAAhwAAAA==eJzdktENgEAIQ9msN4IjuYBTOMgxmj+XSGohpyZ++EcaQssDM+9ma1+2vdlZ+6gRdAwdoR+hH6EfoZ9nslcrvFjnbC4ycLZWZGOdd+H8SHaB2EXN4Qxqr7/wyXwrbhkHxTPLWXG+w63yffon6o6Kv7rLG27slf1DxvPL/5/lrBheuB06kblAAQAAAACAAABAAAAAHgAAAA==eJxjYIAARijNBKWZoTQLlGaF0mxQmh1KAwAC4AAdAQAAAACAAABAAAAAHgAAAA==eJxjZIAAJijNDKVZoDQrlGaD0uxQmgNKAwAEAAAlAQAAAACAAABAAgAAgwAAAA==eJwtxcdCAQAAAFBHIwmRERIZZZYdpYyU0f//jYP3Li8YuAg57IivHPW1Y75x3AknfeuU075zxlnnnPe9Cy665AeX/eiKq35yzXU33PSzX9xy2x133XPfr37zwEOPPPbEU8/87rkX/vCnl/7yt1dee+Otf7zzr/+898FHn/zvMyt2DD0=AQAAAACAAAAgAQAAUgAAAA==eJwtxdEGgwAAAMDJJJNJkkkyM0kyk8kkk0n6/y/qobuXC06Hs0NHvjj21YlTZ859c+HSle9++OnajVt3fvnt3h8P/nr05J9n/7149eYdEH4FNQ==AAAAAACAAAAAAAAAAAAAAACAAAAAAAAAAQAAAACAAAAgAQAASwAAAA==eJxdyrkVgDAMBFGXiBFgwFzm7L8DAo+SVfKfRrJQp8UGI5r0hB0O2Ev3vxlHnDDL3fuGKy64S/e/Cw8s0k+5f/jgLd33F38jaQzfAQAAAACAAABgAAAAKAAAAA==eJxjZoAANijNCaV5oDQ/lBaC0qJQWgJKS0NpOSitCKVVoDQAIoAA6w==\\n  </AppendedData>\\n</VTKFile>\\n\", \"color\": [1, 0.8, 0, 1], \"position\": [0, 0, 0], \"orientation\": [0, 0, 0]}];\n",
       "    render(data, parent_element, 0.5);\n",
       "});\n"
      ],
      "text/plain": [
       "<cadquery.cq.Workplane at 0x114709ea8f0>"
      ]
     },
     "execution_count": 5,
     "metadata": {},
     "output_type": "execute_result"
    }
   ],
   "source": [
    "# Create a block using the dimensions\n",
    "block = cq.Workplane(\"XY\").box(length, width, height)\n",
    "\n",
    "# Show the block\n",
    "block"
   ]
  },
  {
   "cell_type": "code",
   "execution_count": 6,
   "id": "730c10d0-cf02-4094-840f-3cc76082b002",
   "metadata": {
    "execution": {
     "iopub.execute_input": "2024-05-14T21:51:18.054599Z",
     "iopub.status.busy": "2024-05-14T21:51:18.053497Z",
     "iopub.status.idle": "2024-05-14T21:51:18.070028Z",
     "shell.execute_reply": "2024-05-14T21:51:18.069034Z"
    },
    "papermill": {
     "duration": 0.023536,
     "end_time": "2024-05-14T21:51:18.071028",
     "exception": false,
     "start_time": "2024-05-14T21:51:18.047492",
     "status": "completed"
    },
    "tags": []
   },
   "outputs": [
    {
     "name": "stdout",
     "output_type": "stream",
     "text": [
      "The block has been exported as an STL file to models/cad/VendorA.stl\n"
     ]
    }
   ],
   "source": [
    "# Define the file path and name for the STL\n",
    "stl_file_path = 'models/cad/VendorA.stl'\n",
    "\n",
    "# Export the block as an STL file\n",
    "block.val().exportStl(stl_file_path)\n",
    "\n",
    "print(f\"The block has been exported as an STL file to {stl_file_path}\")"
   ]
  },
  {
   "cell_type": "code",
   "execution_count": 7,
   "id": "4c5776f2-41ee-4430-bcbb-83d3c88b0051",
   "metadata": {
    "execution": {
     "iopub.execute_input": "2024-05-14T21:51:18.079036Z",
     "iopub.status.busy": "2024-05-14T21:51:18.078028Z",
     "iopub.status.idle": "2024-05-14T21:51:18.086029Z",
     "shell.execute_reply": "2024-05-14T21:51:18.085034Z"
    },
    "papermill": {
     "duration": 0.012995,
     "end_time": "2024-05-14T21:51:18.087029",
     "exception": false,
     "start_time": "2024-05-14T21:51:18.074034",
     "status": "completed"
    },
    "tags": []
   },
   "outputs": [
    {
     "data": {
      "text/plain": [
       "61.331999999999994"
      ]
     },
     "execution_count": 7,
     "metadata": {},
     "output_type": "execute_result"
    }
   ],
   "source": [
    "# Output calculated volume (cadVolume)\n",
    "cadVolume = block.val().Volume()\n",
    "cadVolume"
   ]
  },
  {
   "cell_type": "code",
   "execution_count": 8,
   "id": "f842f5da-e83c-482a-a7cb-ce9d2ce9f51e",
   "metadata": {
    "execution": {
     "iopub.execute_input": "2024-05-14T21:51:18.095036Z",
     "iopub.status.busy": "2024-05-14T21:51:18.095036Z",
     "iopub.status.idle": "2024-05-14T21:51:18.102043Z",
     "shell.execute_reply": "2024-05-14T21:51:18.101034Z"
    },
    "papermill": {
     "duration": 0.012012,
     "end_time": "2024-05-14T21:51:18.103038",
     "exception": false,
     "start_time": "2024-05-14T21:51:18.091026",
     "status": "completed"
    },
    "tags": []
   },
   "outputs": [],
   "source": [
    "# Read JSON from the file\n",
    "file_path = 'VendorA.json'  # Adjust the path if necessary\n",
    "with open(file_path, 'r') as file:\n",
    "    json_data = json.load(file)"
   ]
  },
  {
   "cell_type": "code",
   "execution_count": 9,
   "id": "ca4c8973-1cae-4b58-a1d9-9d2bf75fa562",
   "metadata": {
    "execution": {
     "iopub.execute_input": "2024-05-14T21:51:18.110027Z",
     "iopub.status.busy": "2024-05-14T21:51:18.110027Z",
     "iopub.status.idle": "2024-05-14T21:51:18.118028Z",
     "shell.execute_reply": "2024-05-14T21:51:18.117027Z"
    },
    "papermill": {
     "duration": 0.014001,
     "end_time": "2024-05-14T21:51:18.120035",
     "exception": false,
     "start_time": "2024-05-14T21:51:18.106034",
     "status": "completed"
    },
    "tags": []
   },
   "outputs": [
    {
     "data": {
      "text/plain": [
       "[{'Description': 'length', 'Value': '3.0'},\n",
       " {'Description': 'height', 'Value': '10.222'},\n",
       " {'Description': 'width', 'Value': '2.0'},\n",
       " {'Description': 'dateTime', 'Value': '1.0'}]"
      ]
     },
     "execution_count": 9,
     "metadata": {},
     "output_type": "execute_result"
    }
   ],
   "source": [
    "json_data"
   ]
  },
  {
   "cell_type": "code",
   "execution_count": 10,
   "id": "0eff4f7e-1375-40d0-969a-068fdf6cbac3",
   "metadata": {
    "execution": {
     "iopub.execute_input": "2024-05-14T21:51:18.129039Z",
     "iopub.status.busy": "2024-05-14T21:51:18.128027Z",
     "iopub.status.idle": "2024-05-14T21:51:18.134028Z",
     "shell.execute_reply": "2024-05-14T21:51:18.133038Z"
    },
    "papermill": {
     "duration": 0.011994,
     "end_time": "2024-05-14T21:51:18.135028",
     "exception": false,
     "start_time": "2024-05-14T21:51:18.123034",
     "status": "completed"
    },
    "tags": []
   },
   "outputs": [],
   "source": [
    "# Add the volume to the JSON data\n",
    "json_data.append({\"Description\": \"cadVolume\", \"Value\": str(volume)})"
   ]
  },
  {
   "cell_type": "code",
   "execution_count": 11,
   "id": "c7274330-0d5d-426d-baa8-59bf4b028854",
   "metadata": {
    "execution": {
     "iopub.execute_input": "2024-05-14T21:51:18.143028Z",
     "iopub.status.busy": "2024-05-14T21:51:18.143028Z",
     "iopub.status.idle": "2024-05-14T21:51:18.150036Z",
     "shell.execute_reply": "2024-05-14T21:51:18.149033Z"
    },
    "papermill": {
     "duration": 0.01201,
     "end_time": "2024-05-14T21:51:18.151044",
     "exception": false,
     "start_time": "2024-05-14T21:51:18.139034",
     "status": "completed"
    },
    "tags": []
   },
   "outputs": [
    {
     "data": {
      "text/plain": [
       "[{'Description': 'length', 'Value': '3.0'},\n",
       " {'Description': 'height', 'Value': '10.222'},\n",
       " {'Description': 'width', 'Value': '2.0'},\n",
       " {'Description': 'dateTime', 'Value': '1.0'},\n",
       " {'Description': 'cadVolume', 'Value': '61.331999999999994'}]"
      ]
     },
     "execution_count": 11,
     "metadata": {},
     "output_type": "execute_result"
    }
   ],
   "source": [
    "json_data"
   ]
  },
  {
   "cell_type": "code",
   "execution_count": 12,
   "id": "b77cc64c-ddfd-4d4a-89bb-d0f4ed7d38d7",
   "metadata": {
    "execution": {
     "iopub.execute_input": "2024-05-14T21:51:18.160038Z",
     "iopub.status.busy": "2024-05-14T21:51:18.160038Z",
     "iopub.status.idle": "2024-05-14T21:51:18.180375Z",
     "shell.execute_reply": "2024-05-14T21:51:18.179363Z"
    },
    "papermill": {
     "duration": 0.027328,
     "end_time": "2024-05-14T21:51:18.182368",
     "exception": false,
     "start_time": "2024-05-14T21:51:18.155040",
     "status": "completed"
    },
    "tags": []
   },
   "outputs": [],
   "source": [
    "# Write the updated JSON data back to the file\n",
    "file_path = 'VendorA.json'  # Adjust the path as necessary\n",
    "with open(file_path, 'w') as file:\n",
    "    json.dump(json_data, file, indent=4)"
   ]
  }
 ],
 "metadata": {
  "kernelspec": {
   "display_name": "Cadquery",
   "language": "python",
   "name": "cadquery"
  },
  "language_info": {
   "codemirror_mode": {
    "name": "ipython",
    "version": 3
   },
   "file_extension": ".py",
   "mimetype": "text/x-python",
   "name": "python",
   "nbconvert_exporter": "python",
   "pygments_lexer": "ipython3",
   "version": "3.10.14"
  },
  "papermill": {
   "default_parameters": {},
   "duration": 3.646089,
   "end_time": "2024-05-14T21:51:18.734687",
   "environment_variables": {},
   "exception": null,
   "input_path": "C:\\Users\\JohnDeHart\\Documents\\GitHub\\Notebooks\\twc_interactions\\update_cad_model.ipynb",
   "output_path": "C:\\Users\\JohnDeHart\\Documents\\GitHub\\Notebooks\\twc_interactions\\update_cad_model.ipynb",
   "parameters": {},
   "start_time": "2024-05-14T21:51:15.088598",
   "version": "2.6.0"
  }
 },
 "nbformat": 4,
 "nbformat_minor": 5
}